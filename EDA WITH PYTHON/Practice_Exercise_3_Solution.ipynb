{
 "cells": [
  {
   "cell_type": "code",
   "execution_count": 1,
   "id": "df75d618",
   "metadata": {},
   "outputs": [],
   "source": [
    "import pandas as pd\n",
    "import numpy as np\n",
    "import matplotlib.pyplot as plt\n",
    "import seaborn as sns"
   ]
  },
  {
   "cell_type": "code",
   "execution_count": 2,
   "id": "1fc6f5c7",
   "metadata": {},
   "outputs": [
    {
     "data": {
      "text/html": [
       "<div>\n",
       "<style scoped>\n",
       "    .dataframe tbody tr th:only-of-type {\n",
       "        vertical-align: middle;\n",
       "    }\n",
       "\n",
       "    .dataframe tbody tr th {\n",
       "        vertical-align: top;\n",
       "    }\n",
       "\n",
       "    .dataframe thead th {\n",
       "        text-align: right;\n",
       "    }\n",
       "</style>\n",
       "<table border=\"1\" class=\"dataframe\">\n",
       "  <thead>\n",
       "    <tr style=\"text-align: right;\">\n",
       "      <th></th>\n",
       "      <th>Poster_Link</th>\n",
       "      <th>Series_Title</th>\n",
       "      <th>Released_Year</th>\n",
       "      <th>Certificate</th>\n",
       "      <th>Runtime</th>\n",
       "      <th>Genre</th>\n",
       "      <th>IMDB_Rating</th>\n",
       "      <th>Overview</th>\n",
       "      <th>Meta_score</th>\n",
       "      <th>Director</th>\n",
       "      <th>Star1</th>\n",
       "      <th>Star2</th>\n",
       "      <th>Star3</th>\n",
       "      <th>Star4</th>\n",
       "      <th>No_of_Votes</th>\n",
       "      <th>Gross</th>\n",
       "    </tr>\n",
       "  </thead>\n",
       "  <tbody>\n",
       "    <tr>\n",
       "      <th>0</th>\n",
       "      <td>https://m.media-amazon.com/images/M/MV5BMDFkYT...</td>\n",
       "      <td>The Shawshank Redemption</td>\n",
       "      <td>1994</td>\n",
       "      <td>A</td>\n",
       "      <td>142 min</td>\n",
       "      <td>Drama</td>\n",
       "      <td>9.3</td>\n",
       "      <td>Two imprisoned men bond over a number of years...</td>\n",
       "      <td>80.0</td>\n",
       "      <td>Frank Darabont</td>\n",
       "      <td>Tim Robbins</td>\n",
       "      <td>Morgan Freeman</td>\n",
       "      <td>Bob Gunton</td>\n",
       "      <td>William Sadler</td>\n",
       "      <td>2343110</td>\n",
       "      <td>28,341,469</td>\n",
       "    </tr>\n",
       "    <tr>\n",
       "      <th>1</th>\n",
       "      <td>https://m.media-amazon.com/images/M/MV5BM2MyNj...</td>\n",
       "      <td>The Godfather</td>\n",
       "      <td>1972</td>\n",
       "      <td>A</td>\n",
       "      <td>175 min</td>\n",
       "      <td>Crime, Drama</td>\n",
       "      <td>9.2</td>\n",
       "      <td>An organized crime dynasty's aging patriarch t...</td>\n",
       "      <td>100.0</td>\n",
       "      <td>Francis Ford Coppola</td>\n",
       "      <td>Marlon Brando</td>\n",
       "      <td>Al Pacino</td>\n",
       "      <td>James Caan</td>\n",
       "      <td>Diane Keaton</td>\n",
       "      <td>1620367</td>\n",
       "      <td>134,966,411</td>\n",
       "    </tr>\n",
       "    <tr>\n",
       "      <th>2</th>\n",
       "      <td>https://m.media-amazon.com/images/M/MV5BMTMxNT...</td>\n",
       "      <td>The Dark Knight</td>\n",
       "      <td>2008</td>\n",
       "      <td>UA</td>\n",
       "      <td>152 min</td>\n",
       "      <td>Action, Crime, Drama</td>\n",
       "      <td>9.0</td>\n",
       "      <td>When the menace known as the Joker wreaks havo...</td>\n",
       "      <td>84.0</td>\n",
       "      <td>Christopher Nolan</td>\n",
       "      <td>Christian Bale</td>\n",
       "      <td>Heath Ledger</td>\n",
       "      <td>Aaron Eckhart</td>\n",
       "      <td>Michael Caine</td>\n",
       "      <td>2303232</td>\n",
       "      <td>534,858,444</td>\n",
       "    </tr>\n",
       "    <tr>\n",
       "      <th>3</th>\n",
       "      <td>https://m.media-amazon.com/images/M/MV5BMWMwMG...</td>\n",
       "      <td>The Godfather: Part II</td>\n",
       "      <td>1974</td>\n",
       "      <td>A</td>\n",
       "      <td>202 min</td>\n",
       "      <td>Crime, Drama</td>\n",
       "      <td>9.0</td>\n",
       "      <td>The early life and career of Vito Corleone in ...</td>\n",
       "      <td>90.0</td>\n",
       "      <td>Francis Ford Coppola</td>\n",
       "      <td>Al Pacino</td>\n",
       "      <td>Robert De Niro</td>\n",
       "      <td>Robert Duvall</td>\n",
       "      <td>Diane Keaton</td>\n",
       "      <td>1129952</td>\n",
       "      <td>57,300,000</td>\n",
       "    </tr>\n",
       "    <tr>\n",
       "      <th>4</th>\n",
       "      <td>https://m.media-amazon.com/images/M/MV5BMWU4N2...</td>\n",
       "      <td>12 Angry Men</td>\n",
       "      <td>1957</td>\n",
       "      <td>U</td>\n",
       "      <td>96 min</td>\n",
       "      <td>Crime, Drama</td>\n",
       "      <td>9.0</td>\n",
       "      <td>A jury holdout attempts to prevent a miscarria...</td>\n",
       "      <td>96.0</td>\n",
       "      <td>Sidney Lumet</td>\n",
       "      <td>Henry Fonda</td>\n",
       "      <td>Lee J. Cobb</td>\n",
       "      <td>Martin Balsam</td>\n",
       "      <td>John Fiedler</td>\n",
       "      <td>689845</td>\n",
       "      <td>4,360,000</td>\n",
       "    </tr>\n",
       "  </tbody>\n",
       "</table>\n",
       "</div>"
      ],
      "text/plain": [
       "                                         Poster_Link  \\\n",
       "0  https://m.media-amazon.com/images/M/MV5BMDFkYT...   \n",
       "1  https://m.media-amazon.com/images/M/MV5BM2MyNj...   \n",
       "2  https://m.media-amazon.com/images/M/MV5BMTMxNT...   \n",
       "3  https://m.media-amazon.com/images/M/MV5BMWMwMG...   \n",
       "4  https://m.media-amazon.com/images/M/MV5BMWU4N2...   \n",
       "\n",
       "               Series_Title Released_Year Certificate  Runtime  \\\n",
       "0  The Shawshank Redemption          1994           A  142 min   \n",
       "1             The Godfather          1972           A  175 min   \n",
       "2           The Dark Knight          2008          UA  152 min   \n",
       "3    The Godfather: Part II          1974           A  202 min   \n",
       "4              12 Angry Men          1957           U   96 min   \n",
       "\n",
       "                  Genre  IMDB_Rating  \\\n",
       "0                 Drama          9.3   \n",
       "1          Crime, Drama          9.2   \n",
       "2  Action, Crime, Drama          9.0   \n",
       "3          Crime, Drama          9.0   \n",
       "4          Crime, Drama          9.0   \n",
       "\n",
       "                                            Overview  Meta_score  \\\n",
       "0  Two imprisoned men bond over a number of years...        80.0   \n",
       "1  An organized crime dynasty's aging patriarch t...       100.0   \n",
       "2  When the menace known as the Joker wreaks havo...        84.0   \n",
       "3  The early life and career of Vito Corleone in ...        90.0   \n",
       "4  A jury holdout attempts to prevent a miscarria...        96.0   \n",
       "\n",
       "               Director           Star1           Star2          Star3  \\\n",
       "0        Frank Darabont     Tim Robbins  Morgan Freeman     Bob Gunton   \n",
       "1  Francis Ford Coppola   Marlon Brando       Al Pacino     James Caan   \n",
       "2     Christopher Nolan  Christian Bale    Heath Ledger  Aaron Eckhart   \n",
       "3  Francis Ford Coppola       Al Pacino  Robert De Niro  Robert Duvall   \n",
       "4          Sidney Lumet     Henry Fonda     Lee J. Cobb  Martin Balsam   \n",
       "\n",
       "            Star4  No_of_Votes        Gross  \n",
       "0  William Sadler      2343110   28,341,469  \n",
       "1    Diane Keaton      1620367  134,966,411  \n",
       "2   Michael Caine      2303232  534,858,444  \n",
       "3    Diane Keaton      1129952   57,300,000  \n",
       "4    John Fiedler       689845    4,360,000  "
      ]
     },
     "execution_count": 2,
     "metadata": {},
     "output_type": "execute_result"
    }
   ],
   "source": [
    "df = pd.read_csv(\"imdb_top_1000.csv\")\n",
    "df.head()"
   ]
  },
  {
   "cell_type": "markdown",
   "id": "667da1c6",
   "metadata": {},
   "source": [
    "1. How many movies directed by Hayao Miyazaki the meta score of which lies between 85 and 100 have occupied this list?"
   ]
  },
  {
   "cell_type": "code",
   "execution_count": 3,
   "id": "deefcf7f",
   "metadata": {},
   "outputs": [
    {
     "data": {
      "text/plain": [
       "4"
      ]
     },
     "execution_count": 3,
     "metadata": {},
     "output_type": "execute_result"
    }
   ],
   "source": [
    "hay_df = df[(df[\"Director\"]==\"Hayao Miyazaki\") & (df[\"Meta_score\"]).between(85,100)]\n",
    "hay_df.shape[0]"
   ]
  },
  {
   "cell_type": "markdown",
   "id": "f9ff588b",
   "metadata": {},
   "source": [
    "2. What is the average rating of movies that have been PG-13 certified?"
   ]
  },
  {
   "cell_type": "code",
   "execution_count": 4,
   "id": "c482f498",
   "metadata": {},
   "outputs": [
    {
     "data": {
      "text/html": [
       "<div>\n",
       "<style scoped>\n",
       "    .dataframe tbody tr th:only-of-type {\n",
       "        vertical-align: middle;\n",
       "    }\n",
       "\n",
       "    .dataframe tbody tr th {\n",
       "        vertical-align: top;\n",
       "    }\n",
       "\n",
       "    .dataframe thead th {\n",
       "        text-align: right;\n",
       "    }\n",
       "</style>\n",
       "<table border=\"1\" class=\"dataframe\">\n",
       "  <thead>\n",
       "    <tr style=\"text-align: right;\">\n",
       "      <th></th>\n",
       "      <th>Poster_Link</th>\n",
       "      <th>Series_Title</th>\n",
       "      <th>Released_Year</th>\n",
       "      <th>Certificate</th>\n",
       "      <th>Runtime</th>\n",
       "      <th>Genre</th>\n",
       "      <th>IMDB_Rating</th>\n",
       "      <th>Overview</th>\n",
       "      <th>Meta_score</th>\n",
       "      <th>Director</th>\n",
       "      <th>Star1</th>\n",
       "      <th>Star2</th>\n",
       "      <th>Star3</th>\n",
       "      <th>Star4</th>\n",
       "      <th>No_of_Votes</th>\n",
       "      <th>Gross</th>\n",
       "    </tr>\n",
       "  </thead>\n",
       "  <tbody>\n",
       "    <tr>\n",
       "      <th>18</th>\n",
       "      <td>https://m.media-amazon.com/images/M/MV5BNjViNW...</td>\n",
       "      <td>Hamilton</td>\n",
       "      <td>2020</td>\n",
       "      <td>PG-13</td>\n",
       "      <td>160 min</td>\n",
       "      <td>Biography, Drama, History</td>\n",
       "      <td>8.6</td>\n",
       "      <td>The real life of one of America's foremost fou...</td>\n",
       "      <td>90.0</td>\n",
       "      <td>Thomas Kail</td>\n",
       "      <td>Lin-Manuel Miranda</td>\n",
       "      <td>Phillipa Soo</td>\n",
       "      <td>Leslie Odom Jr.</td>\n",
       "      <td>Renée Elise Goldsberry</td>\n",
       "      <td>55291</td>\n",
       "      <td>NaN</td>\n",
       "    </tr>\n",
       "    <tr>\n",
       "      <th>89</th>\n",
       "      <td>https://m.media-amazon.com/images/M/MV5BN2JmMj...</td>\n",
       "      <td>Jodaeiye Nader az Simin</td>\n",
       "      <td>2011</td>\n",
       "      <td>PG-13</td>\n",
       "      <td>123 min</td>\n",
       "      <td>Drama</td>\n",
       "      <td>8.3</td>\n",
       "      <td>A married couple are faced with a difficult de...</td>\n",
       "      <td>95.0</td>\n",
       "      <td>Asghar Farhadi</td>\n",
       "      <td>Payman Maadi</td>\n",
       "      <td>Leila Hatami</td>\n",
       "      <td>Sareh Bayat</td>\n",
       "      <td>Shahab Hosseini</td>\n",
       "      <td>220002</td>\n",
       "      <td>7,098,492</td>\n",
       "    </tr>\n",
       "    <tr>\n",
       "      <th>227</th>\n",
       "      <td>https://m.media-amazon.com/images/M/MV5BMTUzOT...</td>\n",
       "      <td>Okuribito</td>\n",
       "      <td>2008</td>\n",
       "      <td>PG-13</td>\n",
       "      <td>130 min</td>\n",
       "      <td>Drama, Music</td>\n",
       "      <td>8.1</td>\n",
       "      <td>A newly unemployed cellist takes a job prepari...</td>\n",
       "      <td>68.0</td>\n",
       "      <td>Yôjirô Takita</td>\n",
       "      <td>Masahiro Motoki</td>\n",
       "      <td>Ryôko Hirosue</td>\n",
       "      <td>Tsutomu Yamazaki</td>\n",
       "      <td>Kazuko Yoshiyuki</td>\n",
       "      <td>48582</td>\n",
       "      <td>1,498,210</td>\n",
       "    </tr>\n",
       "    <tr>\n",
       "      <th>235</th>\n",
       "      <td>https://m.media-amazon.com/images/M/MV5BZGJjYm...</td>\n",
       "      <td>Hotel Rwanda</td>\n",
       "      <td>2004</td>\n",
       "      <td>PG-13</td>\n",
       "      <td>121 min</td>\n",
       "      <td>Biography, Drama, History</td>\n",
       "      <td>8.1</td>\n",
       "      <td>Paul Rusesabagina, a hotel manager, houses ove...</td>\n",
       "      <td>79.0</td>\n",
       "      <td>Terry George</td>\n",
       "      <td>Don Cheadle</td>\n",
       "      <td>Sophie Okonedo</td>\n",
       "      <td>Joaquin Phoenix</td>\n",
       "      <td>Xolani Mali</td>\n",
       "      <td>334320</td>\n",
       "      <td>23,530,892</td>\n",
       "    </tr>\n",
       "    <tr>\n",
       "      <th>358</th>\n",
       "      <td>https://m.media-amazon.com/images/M/MV5BMGRkZT...</td>\n",
       "      <td>Persepolis</td>\n",
       "      <td>2007</td>\n",
       "      <td>PG-13</td>\n",
       "      <td>96 min</td>\n",
       "      <td>Animation, Biography, Drama</td>\n",
       "      <td>8.0</td>\n",
       "      <td>A precocious and outspoken Iranian girl grows ...</td>\n",
       "      <td>90.0</td>\n",
       "      <td>Vincent Paronnaud</td>\n",
       "      <td>Marjane Satrapi</td>\n",
       "      <td>Chiara Mastroianni</td>\n",
       "      <td>Catherine Deneuve</td>\n",
       "      <td>Gena Rowlands</td>\n",
       "      <td>88656</td>\n",
       "      <td>4,445,756</td>\n",
       "    </tr>\n",
       "  </tbody>\n",
       "</table>\n",
       "</div>"
      ],
      "text/plain": [
       "                                           Poster_Link  \\\n",
       "18   https://m.media-amazon.com/images/M/MV5BNjViNW...   \n",
       "89   https://m.media-amazon.com/images/M/MV5BN2JmMj...   \n",
       "227  https://m.media-amazon.com/images/M/MV5BMTUzOT...   \n",
       "235  https://m.media-amazon.com/images/M/MV5BZGJjYm...   \n",
       "358  https://m.media-amazon.com/images/M/MV5BMGRkZT...   \n",
       "\n",
       "                Series_Title Released_Year Certificate  Runtime  \\\n",
       "18                  Hamilton          2020       PG-13  160 min   \n",
       "89   Jodaeiye Nader az Simin          2011       PG-13  123 min   \n",
       "227                Okuribito          2008       PG-13  130 min   \n",
       "235             Hotel Rwanda          2004       PG-13  121 min   \n",
       "358               Persepolis          2007       PG-13   96 min   \n",
       "\n",
       "                           Genre  IMDB_Rating  \\\n",
       "18     Biography, Drama, History          8.6   \n",
       "89                         Drama          8.3   \n",
       "227                 Drama, Music          8.1   \n",
       "235    Biography, Drama, History          8.1   \n",
       "358  Animation, Biography, Drama          8.0   \n",
       "\n",
       "                                              Overview  Meta_score  \\\n",
       "18   The real life of one of America's foremost fou...        90.0   \n",
       "89   A married couple are faced with a difficult de...        95.0   \n",
       "227  A newly unemployed cellist takes a job prepari...        68.0   \n",
       "235  Paul Rusesabagina, a hotel manager, houses ove...        79.0   \n",
       "358  A precocious and outspoken Iranian girl grows ...        90.0   \n",
       "\n",
       "              Director               Star1               Star2  \\\n",
       "18         Thomas Kail  Lin-Manuel Miranda        Phillipa Soo   \n",
       "89      Asghar Farhadi        Payman Maadi        Leila Hatami   \n",
       "227      Yôjirô Takita     Masahiro Motoki       Ryôko Hirosue   \n",
       "235       Terry George         Don Cheadle      Sophie Okonedo   \n",
       "358  Vincent Paronnaud     Marjane Satrapi  Chiara Mastroianni   \n",
       "\n",
       "                 Star3                   Star4  No_of_Votes       Gross  \n",
       "18     Leslie Odom Jr.  Renée Elise Goldsberry        55291         NaN  \n",
       "89         Sareh Bayat         Shahab Hosseini       220002   7,098,492  \n",
       "227   Tsutomu Yamazaki        Kazuko Yoshiyuki        48582   1,498,210  \n",
       "235    Joaquin Phoenix             Xolani Mali       334320  23,530,892  \n",
       "358  Catherine Deneuve           Gena Rowlands        88656   4,445,756  "
      ]
     },
     "execution_count": 4,
     "metadata": {},
     "output_type": "execute_result"
    }
   ],
   "source": [
    "pg13 = df[df[\"Certificate\"]==\"PG-13\"]\n",
    "pg13.head()"
   ]
  },
  {
   "cell_type": "code",
   "execution_count": 5,
   "id": "ac13f342",
   "metadata": {},
   "outputs": [
    {
     "data": {
      "text/plain": [
       "7.797674418604656"
      ]
     },
     "execution_count": 5,
     "metadata": {},
     "output_type": "execute_result"
    }
   ],
   "source": [
    "pg13[\"IMDB_Rating\"].mean()"
   ]
  },
  {
   "cell_type": "markdown",
   "id": "e8e0dccb",
   "metadata": {},
   "source": [
    "3. Create a pivot table citing the median scores of A certified movies released post 2015."
   ]
  },
  {
   "cell_type": "code",
   "execution_count": 6,
   "id": "a1b2812e",
   "metadata": {},
   "outputs": [
    {
     "data": {
      "text/plain": [
       "(15, 16)"
      ]
     },
     "execution_count": 6,
     "metadata": {},
     "output_type": "execute_result"
    }
   ],
   "source": [
    "a_cert = df[(df[\"Certificate\"]==\"A\") & (df[\"Released_Year\"]>\"2015\")]\n",
    "a_cert.shape"
   ]
  },
  {
   "cell_type": "code",
   "execution_count": 7,
   "id": "d7cbdfd0",
   "metadata": {},
   "outputs": [
    {
     "data": {
      "text/html": [
       "<div>\n",
       "<style scoped>\n",
       "    .dataframe tbody tr th:only-of-type {\n",
       "        vertical-align: middle;\n",
       "    }\n",
       "\n",
       "    .dataframe tbody tr th {\n",
       "        vertical-align: top;\n",
       "    }\n",
       "\n",
       "    .dataframe thead tr th {\n",
       "        text-align: left;\n",
       "    }\n",
       "\n",
       "    .dataframe thead tr:last-of-type th {\n",
       "        text-align: right;\n",
       "    }\n",
       "</style>\n",
       "<table border=\"1\" class=\"dataframe\">\n",
       "  <thead>\n",
       "    <tr>\n",
       "      <th></th>\n",
       "      <th colspan=\"4\" halign=\"left\">Meta_score</th>\n",
       "    </tr>\n",
       "    <tr>\n",
       "      <th>Released_Year</th>\n",
       "      <th>2016</th>\n",
       "      <th>2017</th>\n",
       "      <th>2018</th>\n",
       "      <th>2019</th>\n",
       "    </tr>\n",
       "    <tr>\n",
       "      <th>Certificate</th>\n",
       "      <th></th>\n",
       "      <th></th>\n",
       "      <th></th>\n",
       "      <th></th>\n",
       "    </tr>\n",
       "  </thead>\n",
       "  <tbody>\n",
       "    <tr>\n",
       "      <th>A</th>\n",
       "      <td>84.0</td>\n",
       "      <td>88.0</td>\n",
       "      <td>84.0</td>\n",
       "      <td>68.0</td>\n",
       "    </tr>\n",
       "  </tbody>\n",
       "</table>\n",
       "</div>"
      ],
      "text/plain": [
       "              Meta_score                  \n",
       "Released_Year       2016  2017  2018  2019\n",
       "Certificate                               \n",
       "A                   84.0  88.0  84.0  68.0"
      ]
     },
     "execution_count": 7,
     "metadata": {},
     "output_type": "execute_result"
    }
   ],
   "source": [
    "a_cert.pivot_table(index=[\"Certificate\"], columns=[\"Released_Year\"], values=[\"Meta_score\"], aggfunc=\"median\")"
   ]
  },
  {
   "cell_type": "markdown",
   "id": "e5bc3dfd",
   "metadata": {},
   "source": [
    "4. Determine the least rating given for Francis Ford Coppola movies."
   ]
  },
  {
   "cell_type": "code",
   "execution_count": 8,
   "id": "7e348e41",
   "metadata": {},
   "outputs": [
    {
     "data": {
      "text/plain": [
       "7.6"
      ]
     },
     "execution_count": 8,
     "metadata": {},
     "output_type": "execute_result"
    }
   ],
   "source": [
    "coppola_mov = df[df[\"Director\"]==\"Francis Ford Coppola\"]\n",
    "min(coppola_mov[\"IMDB_Rating\"])"
   ]
  },
  {
   "cell_type": "markdown",
   "id": "cf73ac16",
   "metadata": {},
   "source": [
    "5. How many movies with actors Al Pacino and Robert De Niro as the first and second leads are present in the data?"
   ]
  },
  {
   "cell_type": "code",
   "execution_count": 9,
   "id": "e04c3596",
   "metadata": {},
   "outputs": [
    {
     "data": {
      "text/plain": [
       "2"
      ]
     },
     "execution_count": 9,
     "metadata": {},
     "output_type": "execute_result"
    }
   ],
   "source": [
    "df2 = df[(df[\"Star1\"]==\"Al Pacino\") & (df[\"Star2\"]==\"Robert De Niro\")]\n",
    "df2.shape[0]"
   ]
  }
 ],
 "metadata": {
  "kernelspec": {
   "display_name": "Python 3 (ipykernel)",
   "language": "python",
   "name": "python3"
  },
  "language_info": {
   "codemirror_mode": {
    "name": "ipython",
    "version": 3
   },
   "file_extension": ".py",
   "mimetype": "text/x-python",
   "name": "python",
   "nbconvert_exporter": "python",
   "pygments_lexer": "ipython3",
   "version": "3.9.7"
  }
 },
 "nbformat": 4,
 "nbformat_minor": 5
}
