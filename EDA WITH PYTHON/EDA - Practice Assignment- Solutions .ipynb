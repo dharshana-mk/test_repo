{
 "cells": [
  {
   "cell_type": "markdown",
   "metadata": {},
   "source": [
    "## Practice Assignment "
   ]
  },
  {
   "cell_type": "markdown",
   "metadata": {
    "id": "kUP6vBrmEdqx"
   },
   "source": [
    "##  Table of Content\n",
    "\n",
    "1. **[Missing Values Detection](#msv)**\n",
    "2. **[Handling Missing Values](#hmsv)**\n",
    "3. **[Outlier Detection Techniques](#out)**\n",
    "4. **[Treatment of Outliers](#odt)**\n",
    "\n"
   ]
  },
  {
   "cell_type": "markdown",
   "metadata": {
    "id": "j2_mMR3TEdqx"
   },
   "source": [
    "### About the data set (Detected Cases of Ebola)\n",
    "\n",
    "This dataset consists of data for countries with an active Ebola outbreak.\n",
    "<br>\n",
    "\n",
    "Attribute Information:\n",
    "\n",
    "**Cases_Guinea**: Number of cases of ebola reported from Guinea\n",
    "\n",
    "**Cases_Liberia**: Number of cases of ebola reported from Liberia\n",
    "\n",
    "**Cases_SierraLeone**: Number of cases of ebola reported from Sierra Leone\n",
    "\n",
    "**Cases_Nigeria**: Number of cases of ebola reported from Nigeria\n",
    "\n",
    "**Cases_Senegal**: Number of cases of ebola reported from Senegal\n",
    "\n",
    "**Cases_UnitedStates**: Number of cases of ebola reported from the United States of America\n",
    "\n",
    "**Cases_Spain**: Number of cases of ebola reported from Spain\n",
    "\n",
    "**Cases_Mali**: Number of cases of ebola reported from Mali\n",
    "\n",
    "**Deaths_Guinea**: Number of deaths reported out of the detected cases of ebola from Guinea\n",
    "\n",
    "**Deaths_Liberia**: Number of deaths reported out of the detected cases of ebola from Liberia\n",
    "\n",
    "**Deaths_SierraLeone**: Number of deaths reported out of the detected cases of ebola from Sierra Leone\n",
    "\n",
    "**Deaths_Nigeria**: Number of deaths reported out of the detected cases of ebola from Nigeria\n",
    "\n",
    "**Deaths_Senegal**: Number of deaths reported out of the detected cases of ebola from Senegal\n",
    "\n",
    "**Deaths_UnitedStates**: Number of deaths reported out of the detected cases of ebola from the United States of America\n",
    "\n",
    "**Deaths_Spain**: Number of deaths reported out of the detected cases of ebola from Spain\n",
    "\n",
    "**Deaths_Mali**: Number of deaths reported out of the detected cases of ebola from Mali"
   ]
  },
  {
   "cell_type": "markdown",
   "metadata": {
    "id": "g9zoLrG0Edqy"
   },
   "source": [
    "**Import the required libraries**"
   ]
  },
  {
   "cell_type": "code",
   "execution_count": 1,
   "metadata": {
    "id": "wtRslyIbEdqy"
   },
   "outputs": [],
   "source": [
    "# import pandas\n",
    "import pandas as pd\n",
    "\n",
    "# import numpy\n",
    "import numpy as np\n",
    "\n",
    "\n",
    "# import seaborn \n",
    "import seaborn as sns\n",
    "\n"
   ]
  },
  {
   "cell_type": "markdown",
   "metadata": {
    "id": "77nEHLEbEdq1"
   },
   "source": [
    "#### Load the ebola dataset and display the first five records "
   ]
  },
  {
   "cell_type": "code",
   "execution_count": 2,
   "metadata": {
    "id": "KDppHjpgEdq2",
    "outputId": "617e2c01-5b1a-408c-c128-b9700057ed7b"
   },
   "outputs": [
    {
     "data": {
      "text/html": [
       "<div>\n",
       "<style scoped>\n",
       "    .dataframe tbody tr th:only-of-type {\n",
       "        vertical-align: middle;\n",
       "    }\n",
       "\n",
       "    .dataframe tbody tr th {\n",
       "        vertical-align: top;\n",
       "    }\n",
       "\n",
       "    .dataframe thead th {\n",
       "        text-align: right;\n",
       "    }\n",
       "</style>\n",
       "<table border=\"1\" class=\"dataframe\">\n",
       "  <thead>\n",
       "    <tr style=\"text-align: right;\">\n",
       "      <th></th>\n",
       "      <th>Cases_Guinea</th>\n",
       "      <th>Cases_Liberia</th>\n",
       "      <th>Cases_SierraLeone</th>\n",
       "      <th>Cases_Nigeria</th>\n",
       "      <th>Cases_Senegal</th>\n",
       "      <th>Cases_UnitedStates</th>\n",
       "      <th>Cases_Spain</th>\n",
       "      <th>Cases_Mali</th>\n",
       "      <th>Deaths_Guinea</th>\n",
       "      <th>Deaths_Liberia</th>\n",
       "      <th>Deaths_SierraLeone</th>\n",
       "      <th>Deaths_Nigeria</th>\n",
       "      <th>Deaths_Senegal</th>\n",
       "      <th>Deaths_UnitedStates</th>\n",
       "      <th>Deaths_Spain</th>\n",
       "      <th>Deaths_Mali</th>\n",
       "    </tr>\n",
       "  </thead>\n",
       "  <tbody>\n",
       "    <tr>\n",
       "      <th>0</th>\n",
       "      <td>2776.0</td>\n",
       "      <td>NaN</td>\n",
       "      <td>10030.0</td>\n",
       "      <td>NaN</td>\n",
       "      <td>NaN</td>\n",
       "      <td>NaN</td>\n",
       "      <td>NaN</td>\n",
       "      <td>NaN</td>\n",
       "      <td>1786.0</td>\n",
       "      <td>NaN</td>\n",
       "      <td>2977.0</td>\n",
       "      <td>NaN</td>\n",
       "      <td>NaN</td>\n",
       "      <td>NaN</td>\n",
       "      <td>NaN</td>\n",
       "      <td>NaN</td>\n",
       "    </tr>\n",
       "    <tr>\n",
       "      <th>1</th>\n",
       "      <td>2775.0</td>\n",
       "      <td>NaN</td>\n",
       "      <td>9780.0</td>\n",
       "      <td>NaN</td>\n",
       "      <td>NaN</td>\n",
       "      <td>NaN</td>\n",
       "      <td>NaN</td>\n",
       "      <td>NaN</td>\n",
       "      <td>1781.0</td>\n",
       "      <td>NaN</td>\n",
       "      <td>2943.0</td>\n",
       "      <td>NaN</td>\n",
       "      <td>NaN</td>\n",
       "      <td>NaN</td>\n",
       "      <td>NaN</td>\n",
       "      <td>NaN</td>\n",
       "    </tr>\n",
       "    <tr>\n",
       "      <th>2</th>\n",
       "      <td>2769.0</td>\n",
       "      <td>8166.0</td>\n",
       "      <td>9722.0</td>\n",
       "      <td>NaN</td>\n",
       "      <td>NaN</td>\n",
       "      <td>20.0</td>\n",
       "      <td>NaN</td>\n",
       "      <td>NaN</td>\n",
       "      <td>1767.0</td>\n",
       "      <td>3496.0</td>\n",
       "      <td>2915.0</td>\n",
       "      <td>NaN</td>\n",
       "      <td>NaN</td>\n",
       "      <td>3.0</td>\n",
       "      <td>NaN</td>\n",
       "      <td>NaN</td>\n",
       "    </tr>\n",
       "    <tr>\n",
       "      <th>3</th>\n",
       "      <td>NaN</td>\n",
       "      <td>8157.0</td>\n",
       "      <td>NaN</td>\n",
       "      <td>NaN</td>\n",
       "      <td>NaN</td>\n",
       "      <td>10.0</td>\n",
       "      <td>NaN</td>\n",
       "      <td>NaN</td>\n",
       "      <td>NaN</td>\n",
       "      <td>3496.0</td>\n",
       "      <td>NaN</td>\n",
       "      <td>NaN</td>\n",
       "      <td>NaN</td>\n",
       "      <td>8.0</td>\n",
       "      <td>NaN</td>\n",
       "      <td>NaN</td>\n",
       "    </tr>\n",
       "    <tr>\n",
       "      <th>4</th>\n",
       "      <td>NaN</td>\n",
       "      <td>NaN</td>\n",
       "      <td>NaN</td>\n",
       "      <td>NaN</td>\n",
       "      <td>NaN</td>\n",
       "      <td>NaN</td>\n",
       "      <td>NaN</td>\n",
       "      <td>NaN</td>\n",
       "      <td>NaN</td>\n",
       "      <td>NaN</td>\n",
       "      <td>NaN</td>\n",
       "      <td>NaN</td>\n",
       "      <td>NaN</td>\n",
       "      <td>NaN</td>\n",
       "      <td>NaN</td>\n",
       "      <td>NaN</td>\n",
       "    </tr>\n",
       "  </tbody>\n",
       "</table>\n",
       "</div>"
      ],
      "text/plain": [
       "   Cases_Guinea  Cases_Liberia  Cases_SierraLeone  Cases_Nigeria  \\\n",
       "0        2776.0            NaN            10030.0            NaN   \n",
       "1        2775.0            NaN             9780.0            NaN   \n",
       "2        2769.0         8166.0             9722.0            NaN   \n",
       "3           NaN         8157.0                NaN            NaN   \n",
       "4           NaN            NaN                NaN            NaN   \n",
       "\n",
       "   Cases_Senegal  Cases_UnitedStates  Cases_Spain  Cases_Mali  Deaths_Guinea  \\\n",
       "0            NaN                 NaN          NaN         NaN         1786.0   \n",
       "1            NaN                 NaN          NaN         NaN         1781.0   \n",
       "2            NaN                20.0          NaN         NaN         1767.0   \n",
       "3            NaN                10.0          NaN         NaN            NaN   \n",
       "4            NaN                 NaN          NaN         NaN            NaN   \n",
       "\n",
       "   Deaths_Liberia  Deaths_SierraLeone  Deaths_Nigeria  Deaths_Senegal  \\\n",
       "0             NaN              2977.0             NaN             NaN   \n",
       "1             NaN              2943.0             NaN             NaN   \n",
       "2          3496.0              2915.0             NaN             NaN   \n",
       "3          3496.0                 NaN             NaN             NaN   \n",
       "4             NaN                 NaN             NaN             NaN   \n",
       "\n",
       "   Deaths_UnitedStates  Deaths_Spain  Deaths_Mali  \n",
       "0                  NaN           NaN          NaN  \n",
       "1                  NaN           NaN          NaN  \n",
       "2                  3.0           NaN          NaN  \n",
       "3                  8.0           NaN          NaN  \n",
       "4                  NaN           NaN          NaN  "
      ]
     },
     "execution_count": 2,
     "metadata": {},
     "output_type": "execute_result"
    }
   ],
   "source": [
    "# load the csv file\n",
    "df_ebola = pd.read_csv('ebola.csv')\n",
    "\n",
    "# display the first five observations\n",
    "df_ebola.head()"
   ]
  },
  {
   "cell_type": "markdown",
   "metadata": {
    "id": "o7o0ALsTEdq5"
   },
   "source": [
    "### Let's begin with some hands-on practice exercises"
   ]
  },
  {
   "cell_type": "markdown",
   "metadata": {
    "id": "4RYLe-WZEdq6"
   },
   "source": [
    "<a id=\"msv\"> </a>\n",
    "## 1. Missing Values Detection"
   ]
  },
  {
   "cell_type": "markdown",
   "metadata": {
    "collapsed": true,
    "id": "8rPa99JJEdq6"
   },
   "source": [
    "\n",
    "<b>Q.1. Display the column names having no data ?</b>\n",
    "               "
   ]
  },
  {
   "cell_type": "code",
   "execution_count": 3,
   "metadata": {},
   "outputs": [
    {
     "data": {
      "text/plain": [
       "Cases_Guinea           True\n",
       "Cases_Liberia          True\n",
       "Cases_SierraLeone      True\n",
       "Cases_Nigeria          True\n",
       "Cases_Senegal          True\n",
       "Cases_UnitedStates     True\n",
       "Cases_Spain            True\n",
       "Cases_Mali             True\n",
       "Deaths_Guinea          True\n",
       "Deaths_Liberia         True\n",
       "Deaths_SierraLeone     True\n",
       "Deaths_Nigeria         True\n",
       "Deaths_Senegal         True\n",
       "Deaths_UnitedStates    True\n",
       "Deaths_Spain           True\n",
       "Deaths_Mali            True\n",
       "dtype: bool"
      ]
     },
     "execution_count": 3,
     "metadata": {},
     "output_type": "execute_result"
    }
   ],
   "source": [
    "df_ebola.isna().any()"
   ]
  },
  {
   "cell_type": "markdown",
   "metadata": {},
   "source": [
    "#### Reference question with solution  \n",
    "#### Display index value of rows whose all columns have no data."
   ]
  },
  {
   "cell_type": "code",
   "execution_count": 4,
   "metadata": {},
   "outputs": [
    {
     "name": "stdout",
     "output_type": "stream",
     "text": [
      "Int64Index([4, 21, 39, 99], dtype='int64')\n"
     ]
    }
   ],
   "source": [
    "i = df_ebola.index[df_ebola.isna().all(axis=1)]\n",
    "print (i)"
   ]
  },
  {
   "cell_type": "markdown",
   "metadata": {
    "id": "zzUgidsKEdq9"
   },
   "source": [
    "We can use the final obtained list of indices to eliminate the empty records from the data. "
   ]
  },
  {
   "cell_type": "markdown",
   "metadata": {},
   "source": [
    "<b>2. Find a list of all the columns which have more than 60% of their values missing.</b>\n",
    "               "
   ]
  },
  {
   "cell_type": "code",
   "execution_count": 5,
   "metadata": {},
   "outputs": [
    {
     "data": {
      "text/plain": [
       "Cases_Guinea            34\n",
       "Cases_Liberia           44\n",
       "Cases_SierraLeone       40\n",
       "Cases_Nigeria           89\n",
       "Cases_Senegal          102\n",
       "Cases_UnitedStates      54\n",
       "Cases_Spain            111\n",
       "Cases_Mali             115\n",
       "Deaths_Guinea           35\n",
       "Deaths_Liberia          46\n",
       "Deaths_SierraLeone      40\n",
       "Deaths_Nigeria          89\n",
       "Deaths_Senegal         105\n",
       "Deaths_UnitedStates     70\n",
       "Deaths_Spain           111\n",
       "Deaths_Mali            115\n",
       "dtype: int64"
      ]
     },
     "execution_count": 5,
     "metadata": {},
     "output_type": "execute_result"
    }
   ],
   "source": [
    "null_values = df_ebola.isnull().sum()\n",
    "null_values"
   ]
  },
  {
   "cell_type": "code",
   "execution_count": 6,
   "metadata": {
    "id": "tTTGVDWuEdq-",
    "outputId": "410d217b-b3fa-4d80-f9ab-241b4bc492b6",
    "scrolled": false
   },
   "outputs": [
    {
     "name": "stdout",
     "output_type": "stream",
     "text": [
      "76.2\n"
     ]
    },
    {
     "data": {
      "text/plain": [
       "['Cases_Nigeria',\n",
       " 'Cases_Senegal',\n",
       " 'Cases_Spain',\n",
       " 'Cases_Mali',\n",
       " 'Deaths_Nigeria',\n",
       " 'Deaths_Senegal',\n",
       " 'Deaths_Spain',\n",
       " 'Deaths_Mali']"
      ]
     },
     "execution_count": 6,
     "metadata": {},
     "output_type": "execute_result"
    }
   ],
   "source": [
    "# set the threshold value to filter the columns\n",
    "# shape[0] returns number of rows for a dataframe\n",
    "threshold = 0.6*df_ebola.shape[0]\n",
    "print(threshold)\n",
    "\n",
    "# isnull() returns the boolean output as to whether the value is 'null' or not\n",
    "# sum() returns the total number of missing values\n",
    "null_values = df_ebola.isnull().sum()\n",
    "\n",
    "# print the list of columns that exceed the threshold\n",
    "col_list = list(null_values.index[null_values > threshold])\n",
    "col_list"
   ]
  },
  {
   "cell_type": "markdown",
   "metadata": {
    "id": "dR0HRYYMEdrA"
   },
   "source": [
    "Since the isnull().sum() returns a pandas series we use index function to obtain a list of column names.\n",
    "All the columns that exceed the threshold should ideally be eliminated from the data unless the columns are mentioned to be of significant importance."
   ]
  },
  {
   "cell_type": "markdown",
   "metadata": {
    "id": "GM5HaSYDEdrJ"
   },
   "source": [
    "<a id=\"hmsv\"> </a>\n",
    "## 2. Handling Missing Values"
   ]
  },
  {
   "cell_type": "markdown",
   "metadata": {
    "collapsed": true,
    "id": "Yfkc7TFEEdrK"
   },
   "source": [
    " <b>3. Eliminate all the records where no more than two observations have been recorded.</b>\n",
    "               "
   ]
  },
  {
   "cell_type": "code",
   "execution_count": 7,
   "metadata": {
    "id": "gN3zsh4kEdrK",
    "outputId": "4b631de3-09c5-440f-b62f-1da47c0a2565"
   },
   "outputs": [
    {
     "name": "stdout",
     "output_type": "stream",
     "text": [
      "Shape of the data before elimination: (127, 16)\n",
      "Shape of the data after elimination: (110, 16)\n"
     ]
    }
   ],
   "source": [
    "# check the shape of the dataframe\n",
    "print(\"Shape of the data before elimination:\", df_ebola.shape)\n",
    "\n",
    "# use the dropna() to remove the rows \n",
    "df_ebola_updated = df_ebola.dropna(thresh = 3) \n",
    "\n",
    "# check the shape of the dataframe\n",
    "print(\"Shape of the data after elimination:\", df_ebola_updated.shape)"
   ]
  },
  {
   "cell_type": "markdown",
   "metadata": {
    "id": "qCJ_UtzMEdrN"
   },
   "source": [
    "The threshold attribute is used to specify the number of least observations required to retain a record. "
   ]
  },
  {
   "cell_type": "markdown",
   "metadata": {
    "id": "CxO9e70_EdrR"
   },
   "source": [
    "Here 60% is assumed to be the threshold value  for eliminating a column."
   ]
  },
  {
   "cell_type": "markdown",
   "metadata": {
    "collapsed": true,
    "id": "Yy-cVViqEdrS"
   },
   "source": [
    "\n",
    "<b>4. How would you treat the missing values of the reported cases from Liberia?</b>\n",
    "               "
   ]
  },
  {
   "cell_type": "code",
   "execution_count": 8,
   "metadata": {},
   "outputs": [
    {
     "name": "stdout",
     "output_type": "stream",
     "text": [
      "Null values before treatment: 44\n"
     ]
    }
   ],
   "source": [
    "# check the number of null values in the column 'Cases_Liberia'\n",
    "print(\"Null values before treatment:\", df_ebola['Cases_Liberia'].isnull().sum())\n"
   ]
  },
  {
   "cell_type": "markdown",
   "metadata": {},
   "source": [
    "<b> 5)Plot a histogram for 'Cases_Liberia' column?</b>"
   ]
  },
  {
   "cell_type": "code",
   "execution_count": 9,
   "metadata": {},
   "outputs": [
    {
     "data": {
      "image/png": "[encoded data removed]",
      "text/plain": [
       "<Figure size 640x480 with 1 Axes>"
      ]
     },
     "metadata": {},
     "output_type": "display_data"
    }
   ],
   "source": [
    "sns.histplot(data=df_ebola,x=df_ebola.Cases_Liberia);"
   ]
  },
  {
   "cell_type": "markdown",
   "metadata": {},
   "source": [
    "<b>6)Imputing with median value for 'Cases_Liberia' column ?</b>"
   ]
  },
  {
   "cell_type": "code",
   "execution_count": 11,
   "metadata": {},
   "outputs": [],
   "source": [
    "# imputing with median value \n",
    "df_ebola['Cases_Liberia'] = df_ebola['Cases_Liberia'].fillna(df_ebola['Cases_Liberia'].median())\n"
   ]
  },
  {
   "cell_type": "markdown",
   "metadata": {},
   "source": [
    "<b>7) Check the null values after imputation?</b>"
   ]
  },
  {
   "cell_type": "code",
   "execution_count": 12,
   "metadata": {},
   "outputs": [
    {
     "name": "stdout",
     "output_type": "stream",
     "text": [
      "Null values after treatment: 0\n"
     ]
    }
   ],
   "source": [
    "#d)# check the null values after imputation\n",
    "print(\"Null values after treatment:\", df_ebola['Cases_Liberia'].isnull().sum())"
   ]
  },
  {
   "cell_type": "markdown",
   "metadata": {
    "id": "qOieP_qGEdrV"
   },
   "source": [
    "Since initially, the values in the column 'Cases_Liberia' are imbalanced we can use the median value of the column to impute the missing observations."
   ]
  },
  {
   "cell_type": "markdown",
   "metadata": {
    "collapsed": true,
    "id": "uU66CO9NEdrV"
   },
   "source": [
    "<b>8. How would you treat the missing values from the reported cases of ebola from the United States of America?</b>\n",
    "               "
   ]
  },
  {
   "cell_type": "code",
   "execution_count": 13,
   "metadata": {},
   "outputs": [],
   "source": [
    "# 8.check number of null values in column"
   ]
  },
  {
   "cell_type": "code",
   "execution_count": 14,
   "metadata": {},
   "outputs": [
    {
     "name": "stdout",
     "output_type": "stream",
     "text": [
      "null values before treatment: 54\n"
     ]
    }
   ],
   "source": [
    "print(\"null values before treatment:\", df_ebola['Cases_UnitedStates'].isnull().sum())\n"
   ]
  },
  {
   "cell_type": "markdown",
   "metadata": {},
   "source": [
    "<b> 9.Plot a histogram for 'Cases_UnitedStates' column? </b>"
   ]
  },
  {
   "cell_type": "code",
   "execution_count": 16,
   "metadata": {},
   "outputs": [
    {
     "data": {
      "image/png": "[encoded data removed]",
      "text/plain": [
       "<Figure size 640x480 with 1 Axes>"
      ]
     },
     "metadata": {},
     "output_type": "display_data"
    }
   ],
   "source": [
    "sns.histplot(data=df_ebola,x=df_ebola.Cases_UnitedStates);"
   ]
  },
  {
   "cell_type": "markdown",
   "metadata": {},
   "source": [
    "<b> 10.Imputing with mean value for Cases_UnitedStates? </b>"
   ]
  },
  {
   "cell_type": "code",
   "execution_count": 18,
   "metadata": {},
   "outputs": [],
   "source": [
    "df_ebola['Cases_UnitedStates'] = df_ebola['Cases_UnitedStates'].fillna(df_ebola['Cases_UnitedStates'].mean())\n"
   ]
  },
  {
   "cell_type": "markdown",
   "metadata": {},
   "source": [
    "<b> 11. Display the result and check for null values for Cases_UnitedStates column? </b>"
   ]
  },
  {
   "cell_type": "code",
   "execution_count": 20,
   "metadata": {},
   "outputs": [
    {
     "name": "stdout",
     "output_type": "stream",
     "text": [
      "null values after treatment: 0\n"
     ]
    }
   ],
   "source": [
    "print(\"null values after treatment:\",df_ebola['Cases_UnitedStates'].isnull().sum())"
   ]
  },
  {
   "cell_type": "markdown",
   "metadata": {
    "id": "rSbgTfBAEdrY"
   },
   "source": [
    "Since initially, the values in the column 'Cases_UnitedStates' are balanced we can use the mean value of the column to impute the missing observations."
   ]
  },
  {
   "cell_type": "markdown",
   "metadata": {
    "id": "pUHOcl3iEdrf"
   },
   "source": [
    "If  the data is imbalanced we have used the median as a strategy for imputation."
   ]
  },
  {
   "cell_type": "markdown",
   "metadata": {
    "id": "dd9651sdEdsW"
   },
   "source": [
    "## For questions hereon, we shall consider the following dataset."
   ]
  },
  {
   "cell_type": "markdown",
   "metadata": {
    "id": "WMObGpZVEdsX"
   },
   "source": [
    "### About the dataset (House Prices in Melbourne)\n",
    "\n",
    "The dataset contains different attributes that contribute to the price of the houses in Melbourne.  \n",
    "\n",
    "Attribute Information:\n",
    "\n",
    "**Rooms**: Number of rooms\n",
    "\n",
    "**Type**: h - house,cottage,villa, semi,terrace; u - unit, duplex; t - townhouse; dev site - development site; o res - other residential.\n",
    "\n",
    "**Price**: Price in dollars\n",
    "\n",
    "**Method**: S - property sold; SP - property sold prior; PI - property passed in; PN - sold prior not disclosed; SN - sold not disclosed; NB - no bid; VB - vendor bid; W - withdrawn before auction; SA - sold after auction; SS - sold after auction price not disclosed. N/A - price or highest bid not available.\n",
    "\n",
    "**Regionname**:  General Region (West, North West, North, Northeast,...)\n",
    "\n",
    "**Bathroom**: Number of Bathrooms\n",
    "\n",
    "**Car**: Number of car spots\n",
    "\n",
    "**Landsize**: Land Size of a house\n",
    "\n",
    "**Distance**: Distance from CBD (City Centre)\n",
    "\n",
    "**Bedroom**: Number of Bedrooms"
   ]
  },
  {
   "cell_type": "markdown",
   "metadata": {
    "id": "AHqY4x2JEdsX"
   },
   "source": [
    "#### Load the house dataset and display the first five records (Use for section 6 to 9)"
   ]
  },
  {
   "cell_type": "code",
   "execution_count": 21,
   "metadata": {
    "id": "bkmk2iT3EdsY",
    "outputId": "b48ce887-ff09-4a03-9218-fea849eddd3c"
   },
   "outputs": [
    {
     "data": {
      "text/html": [
       "<div>\n",
       "<style scoped>\n",
       "    .dataframe tbody tr th:only-of-type {\n",
       "        vertical-align: middle;\n",
       "    }\n",
       "\n",
       "    .dataframe tbody tr th {\n",
       "        vertical-align: top;\n",
       "    }\n",
       "\n",
       "    .dataframe thead th {\n",
       "        text-align: right;\n",
       "    }\n",
       "</style>\n",
       "<table border=\"1\" class=\"dataframe\">\n",
       "  <thead>\n",
       "    <tr style=\"text-align: right;\">\n",
       "      <th></th>\n",
       "      <th>Rooms</th>\n",
       "      <th>Type</th>\n",
       "      <th>Price</th>\n",
       "      <th>Method</th>\n",
       "      <th>Regionname</th>\n",
       "      <th>Bathroom</th>\n",
       "      <th>Car</th>\n",
       "      <th>Landsize</th>\n",
       "      <th>Distance</th>\n",
       "      <th>Bedroom</th>\n",
       "    </tr>\n",
       "  </thead>\n",
       "  <tbody>\n",
       "    <tr>\n",
       "      <th>0</th>\n",
       "      <td>3</td>\n",
       "      <td>h</td>\n",
       "      <td>1490000</td>\n",
       "      <td>S</td>\n",
       "      <td>Northern Metropolitan</td>\n",
       "      <td>1</td>\n",
       "      <td>1</td>\n",
       "      <td>126</td>\n",
       "      <td>25.2</td>\n",
       "      <td>2</td>\n",
       "    </tr>\n",
       "    <tr>\n",
       "      <th>1</th>\n",
       "      <td>3</td>\n",
       "      <td>h</td>\n",
       "      <td>1220000</td>\n",
       "      <td>S</td>\n",
       "      <td>Northern Metropolitan</td>\n",
       "      <td>1</td>\n",
       "      <td>1</td>\n",
       "      <td>202</td>\n",
       "      <td>21.8</td>\n",
       "      <td>2</td>\n",
       "    </tr>\n",
       "    <tr>\n",
       "      <th>2</th>\n",
       "      <td>3</td>\n",
       "      <td>h</td>\n",
       "      <td>1420000</td>\n",
       "      <td>S</td>\n",
       "      <td>Northern Metropolitan</td>\n",
       "      <td>1</td>\n",
       "      <td>0</td>\n",
       "      <td>156</td>\n",
       "      <td>21.7</td>\n",
       "      <td>2</td>\n",
       "    </tr>\n",
       "    <tr>\n",
       "      <th>3</th>\n",
       "      <td>3</td>\n",
       "      <td>h</td>\n",
       "      <td>1515000</td>\n",
       "      <td>S</td>\n",
       "      <td>Western Metropolitan</td>\n",
       "      <td>2</td>\n",
       "      <td>1</td>\n",
       "      <td>0</td>\n",
       "      <td>18.8</td>\n",
       "      <td>3</td>\n",
       "    </tr>\n",
       "    <tr>\n",
       "      <th>4</th>\n",
       "      <td>2</td>\n",
       "      <td>h</td>\n",
       "      <td>670000</td>\n",
       "      <td>S</td>\n",
       "      <td>Western Metropolitan</td>\n",
       "      <td>2</td>\n",
       "      <td>0</td>\n",
       "      <td>134</td>\n",
       "      <td>20.6</td>\n",
       "      <td>3</td>\n",
       "    </tr>\n",
       "  </tbody>\n",
       "</table>\n",
       "</div>"
      ],
      "text/plain": [
       "   Rooms Type    Price Method             Regionname  Bathroom  Car  Landsize  \\\n",
       "0      3    h  1490000      S  Northern Metropolitan         1    1       126   \n",
       "1      3    h  1220000      S  Northern Metropolitan         1    1       202   \n",
       "2      3    h  1420000      S  Northern Metropolitan         1    0       156   \n",
       "3      3    h  1515000      S   Western Metropolitan         2    1         0   \n",
       "4      2    h   670000      S   Western Metropolitan         2    0       134   \n",
       "\n",
       "   Distance  Bedroom  \n",
       "0      25.2        2  \n",
       "1      21.8        2  \n",
       "2      21.7        2  \n",
       "3      18.8        3  \n",
       "4      20.6        3  "
      ]
     },
     "execution_count": 21,
     "metadata": {},
     "output_type": "execute_result"
    }
   ],
   "source": [
    "# load the csv file\n",
    "df_house = pd.read_csv('house.csv')\n",
    "\n",
    "# display the first five observations\n",
    "df_house.head()"
   ]
  },
  {
   "cell_type": "markdown",
   "metadata": {
    "id": "WWT307fIEdsa"
   },
   "source": [
    "<a id=\"out\"> </a>\n",
    "## 6. Outlier Detection Techniques "
   ]
  },
  {
   "cell_type": "markdown",
   "metadata": {
    "collapsed": true,
    "id": "5UqqOQGEEdsa"
   },
   "source": [
    "<b> 12. Is there a feature in the dataset which could be exempted from outlier treatment?Hint:Plot a histogram on numerical variables ?</b>\n"
   ]
  },
  {
   "cell_type": "code",
   "execution_count": null,
   "metadata": {},
   "outputs": [],
   "source": [
    "sns.histplot(data=df_house)"
   ]
  },
  {
   "cell_type": "markdown",
   "metadata": {},
   "source": [
    "Or below code using Matplotlib "
   ]
  },
  {
   "cell_type": "code",
   "execution_count": null,
   "metadata": {
    "id": "JispjhdMEdsb",
    "outputId": "dd39a6c3-f21f-4a8a-970b-e444f149d5fe",
    "scrolled": false
   },
   "outputs": [],
   "source": [
    "# plot histogram of all numeric variables\n",
    "# set the number of bins to 20\n",
    "# set the figure size using 'figsize'\n",
    "df_house.hist(bins = 20, figsize = (15,8))\n",
    "\n",
    "# adjust the subplots\n",
    "plt.tight_layout()\n",
    "\n",
    "# display the plot\n",
    "plt.show()"
   ]
  },
  {
   "cell_type": "markdown",
   "metadata": {
    "id": "Kt4GcB4uEdsd"
   },
   "source": [
    "Since the values of 'Landsize' are concentrated around limited range of values we may overlook the variable when considering outlier treatment."
   ]
  },
  {
   "cell_type": "markdown",
   "metadata": {
    "collapsed": true,
    "id": "-x0HYo8yEdse"
   },
   "source": [
    "<b>13. How do we check the outlier values for the feature representing the number of car spots?</b>\n",
    "               "
   ]
  },
  {
   "cell_type": "code",
   "execution_count": null,
   "metadata": {},
   "outputs": [],
   "source": [
    "sns.boxplot(x=df_house['Car']);"
   ]
  },
  {
   "cell_type": "markdown",
   "metadata": {},
   "source": [
    "Or below code using Matplotlib "
   ]
  },
  {
   "cell_type": "code",
   "execution_count": null,
   "metadata": {
    "id": "R3nSJLklEdse",
    "outputId": "4d168c44-06c2-4db8-b6dc-d6c5f9a4910e"
   },
   "outputs": [],
   "source": [
    "# set the figure size\n",
    "plt.figure(figsize = (15,8))\n",
    "\n",
    "# plot the boxplot for 'Car' to visualize the outliers\n",
    "plt.boxplot(x = df_house['Car'])\n",
    "\n",
    "# assign plot and axes labels\n",
    "# set text size using 'fontsize'\n",
    "plt.title('Boxplot for Count of Car Spots', fontsize = 15)\n",
    "plt.ylabel('Number of Car Spots', fontsize = 15)\n",
    "\n",
    "# display the plot\n",
    "plt.show()"
   ]
  },
  {
   "cell_type": "markdown",
   "metadata": {
    "id": "xu4beQYCEdsh"
   },
   "source": [
    "Majority of the observations from records have count of car spots concentrated from 0 to 3. All the values outside the range will be considered as outliers."
   ]
  },
  {
   "cell_type": "markdown",
   "metadata": {
    "collapsed": true,
    "id": "nLqmIVYNEdsh"
   },
   "source": [
    "<b>14. Compare the outliers present in the price of real estates by their type ?\n",
    "</b>\n",
    "               "
   ]
  },
  {
   "cell_type": "code",
   "execution_count": null,
   "metadata": {
    "scrolled": true
   },
   "outputs": [],
   "source": [
    "sns.boxplot(x = df_house['Type'], y = df_house['Price'] , palette='pastel');\n"
   ]
  },
  {
   "cell_type": "markdown",
   "metadata": {
    "id": "dI37SS01Edsk"
   },
   "source": [
    "From the above plot, we can observe that cottages, villas have a huge range of price values because this type of real estate is usually subject to more customization and hence affects the price and has more outliers. "
   ]
  },
  {
   "cell_type": "markdown",
   "metadata": {
    "collapsed": true,
    "id": "TBlHHaTMEdsr"
   },
   "source": [
    "<b>15. Suggest a method to find the outlier values for the feature representing the number of bathrooms? Hint: Draw a distplot \n",
    " </b>\n",
    "               "
   ]
  },
  {
   "cell_type": "code",
   "execution_count": null,
   "metadata": {},
   "outputs": [],
   "source": [
    "\n",
    "sns.distplot( a=df_house['Bathroom']);\n"
   ]
  },
  {
   "cell_type": "markdown",
   "metadata": {},
   "source": [
    "Or below code using Matplotlib "
   ]
  },
  {
   "cell_type": "code",
   "execution_count": null,
   "metadata": {
    "id": "XA5o4-W9Edsr",
    "outputId": "52bdb783-e2b4-4c3b-da08-46d01d9f2291"
   },
   "outputs": [],
   "source": [
    "# set the figure size\n",
    "plt.figure(figsize = (15,8))\n",
    "\n",
    "# histogram of 'Bathroom' to visualize the outliers \n",
    "plt.hist(x = df_house['Bathroom'])\n",
    "\n",
    "# assign plot and axes labels\n",
    "# set text size using 'fontsize'\n",
    "plt.title('Histogram of Count of Bathrooms', fontsize = 15)\n",
    "plt.xlabel('No. of Bathrooms', fontsize = 15)\n",
    "plt.ylabel('Frequency', fontsize = 15)\n",
    "\n",
    "# display the plot\n",
    "plt.show()"
   ]
  },
  {
   "cell_type": "markdown",
   "metadata": {
    "id": "yxOZe5r7Edsv"
   },
   "source": [
    "From the plot we can see that the feature 'Bathroom' is skewed. "
   ]
  },
  {
   "cell_type": "markdown",
   "metadata": {
    "collapsed": true,
    "id": "btKW-kTYEdsv"
   },
   "source": [
    "<b>16. Draw a boxplot for the  feature representing the number of bedrooms?\n",
    "                    </b>\n",
    "               "
   ]
  },
  {
   "cell_type": "code",
   "execution_count": null,
   "metadata": {},
   "outputs": [],
   "source": [
    "sns.boxplot(x=df_house['Bedroom']);"
   ]
  },
  {
   "cell_type": "markdown",
   "metadata": {
    "id": "0KDzlC9zEdsx"
   },
   "source": [
    "The plot shows the presence of an extreme outlier. "
   ]
  },
  {
   "cell_type": "markdown",
   "metadata": {},
   "source": [
    "*****************************THE END********************************"
   ]
  }
 ],
 "metadata": {
  "colab": {
   "collapsed_sections": [],
   "name": "EDA - In-Class Lab Exercise (Session 2) - Solutions.ipynb",
   "provenance": []
  },
  "kernelspec": {
   "display_name": "Python 3 (ipykernel)",
   "language": "python",
   "name": "python3"
  },
  "language_info": {
   "codemirror_mode": {
    "name": "ipython",
    "version": 3
   },
   "file_extension": ".py",
   "mimetype": "text/x-python",
   "name": "python",
   "nbconvert_exporter": "python",
   "pygments_lexer": "ipython3",
   "version": "3.9.7"
  }
 },
 "nbformat": 4,
 "nbformat_minor": 1
}
