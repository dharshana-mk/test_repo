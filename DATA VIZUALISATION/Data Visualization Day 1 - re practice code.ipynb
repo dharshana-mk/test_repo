{
 "cells": [
  {
   "cell_type": "code",
   "execution_count": 2,
   "id": "229d7447",
   "metadata": {},
   "outputs": [
    {
     "name": "stdout",
     "output_type": "stream",
     "text": [
      "Defaulting to user installation because normal site-packages is not writeable\n",
      "Requirement already satisfied: matplotlib in c:\\programdata\\anaconda3\\lib\\site-packages (3.5.1)\n",
      "Requirement already satisfied: kiwisolver>=1.0.1 in c:\\programdata\\anaconda3\\lib\\site-packages (from matplotlib) (1.3.2)\n",
      "Requirement already satisfied: pillow>=6.2.0 in c:\\programdata\\anaconda3\\lib\\site-packages (from matplotlib) (9.0.1)\n",
      "Requirement already satisfied: pyparsing>=2.2.1 in c:\\programdata\\anaconda3\\lib\\site-packages (from matplotlib) (3.0.4)\n",
      "Requirement already satisfied: python-dateutil>=2.7 in c:\\programdata\\anaconda3\\lib\\site-packages (from matplotlib) (2.8.2)\n",
      "Requirement already satisfied: numpy>=1.17 in c:\\programdata\\anaconda3\\lib\\site-packages (from matplotlib) (1.21.5)\n",
      "Requirement already satisfied: packaging>=20.0 in c:\\programdata\\anaconda3\\lib\\site-packages (from matplotlib) (21.3)\n",
      "Requirement already satisfied: cycler>=0.10 in c:\\programdata\\anaconda3\\lib\\site-packages (from matplotlib) (0.11.0)\n",
      "Requirement already satisfied: fonttools>=4.22.0 in c:\\programdata\\anaconda3\\lib\\site-packages (from matplotlib) (4.25.0)\n",
      "Requirement already satisfied: six>=1.5 in c:\\programdata\\anaconda3\\lib\\site-packages (from python-dateutil>=2.7->matplotlib) (1.16.0)\n",
      "Note: you may need to restart the kernel to use updated packages.\n"
     ]
    }
   ],
   "source": [
    "pip install matplotlib"
   ]
  },
  {
   "cell_type": "code",
   "execution_count": 3,
   "id": "a224376a",
   "metadata": {},
   "outputs": [],
   "source": [
    "import matplotlib"
   ]
  },
  {
   "cell_type": "code",
   "execution_count": 4,
   "id": "6d40bb70",
   "metadata": {
    "scrolled": true
   },
   "outputs": [
    {
     "ename": "AttributeError",
     "evalue": "module 'matplotlib' has no attribute '_version_'",
     "output_type": "error",
     "traceback": [
      "\u001b[1;31m---------------------------------------------------------------------------\u001b[0m",
      "\u001b[1;31mAttributeError\u001b[0m                            Traceback (most recent call last)",
      "Input \u001b[1;32mIn [4]\u001b[0m, in \u001b[0;36m<cell line: 1>\u001b[1;34m()\u001b[0m\n\u001b[1;32m----> 1\u001b[0m \u001b[43mmatplotlib\u001b[49m\u001b[38;5;241;43m.\u001b[39;49m\u001b[43m_version_\u001b[49m\n",
      "File \u001b[1;32mC:\\ProgramData\\Anaconda3\\lib\\site-packages\\matplotlib\\_api\\__init__.py:222\u001b[0m, in \u001b[0;36mcaching_module_getattr.<locals>.__getattr__\u001b[1;34m(name)\u001b[0m\n\u001b[0;32m    220\u001b[0m \u001b[38;5;28;01mif\u001b[39;00m name \u001b[38;5;129;01min\u001b[39;00m props:\n\u001b[0;32m    221\u001b[0m     \u001b[38;5;28;01mreturn\u001b[39;00m props[name]\u001b[38;5;241m.\u001b[39m\u001b[38;5;21m__get__\u001b[39m(instance)\n\u001b[1;32m--> 222\u001b[0m \u001b[38;5;28;01mraise\u001b[39;00m \u001b[38;5;167;01mAttributeError\u001b[39;00m(\n\u001b[0;32m    223\u001b[0m     \u001b[38;5;124mf\u001b[39m\u001b[38;5;124m\"\u001b[39m\u001b[38;5;124mmodule \u001b[39m\u001b[38;5;132;01m{\u001b[39;00m\u001b[38;5;28mcls\u001b[39m\u001b[38;5;241m.\u001b[39m\u001b[38;5;18m__module__\u001b[39m\u001b[38;5;132;01m!r}\u001b[39;00m\u001b[38;5;124m has no attribute \u001b[39m\u001b[38;5;132;01m{\u001b[39;00mname\u001b[38;5;132;01m!r}\u001b[39;00m\u001b[38;5;124m\"\u001b[39m)\n",
      "\u001b[1;31mAttributeError\u001b[0m: module 'matplotlib' has no attribute '_version_'"
     ]
    }
   ],
   "source": [
    "matplotlib._version_"
   ]
  },
  {
   "cell_type": "code",
   "execution_count": 8,
   "id": "4e7b644c",
   "metadata": {},
   "outputs": [],
   "source": [
    "import matplotlib as mpl"
   ]
  },
  {
   "cell_type": "code",
   "execution_count": 13,
   "id": "2c2cb96a",
   "metadata": {},
   "outputs": [],
   "source": [
    "import matplotlib.pyplot as plt"
   ]
  },
  {
   "cell_type": "code",
   "execution_count": 23,
   "id": "3dc1ef03",
   "metadata": {},
   "outputs": [],
   "source": [
    "import numpy as np\n"
   ]
  },
  {
   "cell_type": "code",
   "execution_count": null,
   "id": "f1d6e661",
   "metadata": {},
   "outputs": [],
   "source": [
    "###create a simple plot ###\n"
   ]
  },
  {
   "cell_type": "code",
   "execution_count": null,
   "id": "14c800ba",
   "metadata": {},
   "outputs": [],
   "source": [
    "##Generate random number using Numpy, we will generate 2 sets of Random numbers,one for X and \n",
    "##one for y.\n",
    "\n"
   ]
  },
  {
   "cell_type": "code",
   "execution_count": 32,
   "id": "14eed565",
   "metadata": {},
   "outputs": [],
   "source": [
    "x = np.linspace(100,50,100)\n",
    "y = x*np.linspace(50,0,100)"
   ]
  },
  {
   "cell_type": "code",
   "execution_count": 33,
   "id": "7df86959",
   "metadata": {},
   "outputs": [
    {
     "data": {
      "text/plain": [
       "[<matplotlib.lines.Line2D at 0x14f5635e730>]"
      ]
     },
     "execution_count": 33,
     "metadata": {},
     "output_type": "execute_result"
    },
    {
     "data": {
      "image/png": "[encoded data removed]",
      "text/plain": [
       "<Figure size 432x288 with 1 Axes>"
      ]
     },
     "metadata": {
      "needs_background": "light"
     },
     "output_type": "display_data"
    }
   ],
   "source": [
    "plt.plot(x,y)"
   ]
  },
  {
   "cell_type": "code",
   "execution_count": null,
   "id": "46cbbc69",
   "metadata": {},
   "outputs": [],
   "source": [
    "###Add different elements to the plot##\n",
    "##Add title using 'plt.title'\n",
    "##Add x-label using 'plt.xlabel'\n",
    "##Add ylabel using 'plt.ylabel'\n",
    "##Add legends using 'plt.legend'"
   ]
  },
  {
   "cell_type": "code",
   "execution_count": 34,
   "id": "19bfbbba",
   "metadata": {},
   "outputs": [
    {
     "data": {
      "text/plain": [
       "Text(0.5, 1.0, 'New Plot')"
      ]
     },
     "execution_count": 34,
     "metadata": {},
     "output_type": "execute_result"
    },
    {
     "data": {
      "image/png": "[encoded data removed]",
      "text/plain": [
       "<Figure size 432x288 with 1 Axes>"
      ]
     },
     "metadata": {
      "needs_background": "light"
     },
     "output_type": "display_data"
    }
   ],
   "source": [
    "plt.title(\"New Plot\")"
   ]
  },
  {
   "cell_type": "code",
   "execution_count": 114,
   "id": "da3f6e0a",
   "metadata": {},
   "outputs": [
    {
     "data": {
      "text/plain": [
       "[<matplotlib.lines.Line2D at 0x14f5f7e0190>]"
      ]
     },
     "execution_count": 114,
     "metadata": {},
     "output_type": "execute_result"
    },
    {
     "data": {
      "image/png": "[encoded data removed]",
      "text/plain": [
       "<Figure size 432x288 with 1 Axes>"
      ]
     },
     "metadata": {
      "needs_background": "light"
     },
     "output_type": "display_data"
    }
   ],
   "source": [
    "#add colour\n",
    "plt.plot(x,y,c='red',linestyle = '--',linewidth = 2)"
   ]
  },
  {
   "cell_type": "code",
   "execution_count": 124,
   "id": "0241747d",
   "metadata": {},
   "outputs": [
    {
     "data": {
      "image/png": "[encoded data removed]",
      "text/plain": [
       "<Figure size 432x288 with 1 Axes>"
      ]
     },
     "metadata": {
      "needs_background": "light"
     },
     "output_type": "display_data"
    }
   ],
   "source": [
    "###Add markers to the plot,markers have different elements like style,color,size,etc..\n",
    "plt.title(\"Chart_Title\")\n",
    "plt.plot(x,y,c='g',marker='*',markersize = 3.5)\n",
    "plt.grid(True)"
   ]
  },
  {
   "cell_type": "code",
   "execution_count": 50,
   "id": "440119c4",
   "metadata": {},
   "outputs": [
    {
     "data": {
      "image/png": "[encoded data removed]",
      "text/plain": [
       "<Figure size 432x288 with 1 Axes>"
      ]
     },
     "metadata": {
      "needs_background": "light"
     },
     "output_type": "display_data"
    }
   ],
   "source": [
    "##Add grid using grid() commands\n",
    "plt.grid(True)"
   ]
  },
  {
   "cell_type": "code",
   "execution_count": 51,
   "id": "97c32f7f",
   "metadata": {},
   "outputs": [
    {
     "data": {
      "text/plain": [
       "Text(0.5, 1.0, 'Graph')"
      ]
     },
     "execution_count": 51,
     "metadata": {},
     "output_type": "execute_result"
    },
    {
     "data": {
      "image/png": "[encoded data removed]",
      "text/plain": [
       "<Figure size 432x288 with 1 Axes>"
      ]
     },
     "metadata": {
      "needs_background": "light"
     },
     "output_type": "display_data"
    }
   ],
   "source": [
    "plt.title(\"Graph\")"
   ]
  },
  {
   "cell_type": "code",
   "execution_count": 67,
   "id": "bc22d7f2",
   "metadata": {},
   "outputs": [],
   "source": [
    "###Bar Graph\n",
    "## bar() needs two diff arguments, one for x axis and another for y axis\n",
    "##x-axis will show the subject and y-axis will show the marks for each subject\n",
    "subject = ['Tamil','English','Maths','Science','Social']\n",
    "Marks = [70,80,66,99,100]"
   ]
  },
  {
   "cell_type": "code",
   "execution_count": 69,
   "id": "e6df960f",
   "metadata": {},
   "outputs": [
    {
     "data": {
      "text/plain": [
       "<BarContainer object of 5 artists>"
      ]
     },
     "execution_count": 69,
     "metadata": {},
     "output_type": "execute_result"
    },
    {
     "data": {
      "image/png": "[encoded data removed]",
      "text/plain": [
       "<Figure size 432x288 with 1 Axes>"
      ]
     },
     "metadata": {
      "needs_background": "light"
     },
     "output_type": "display_data"
    }
   ],
   "source": [
    "plt.title(\"Subject Vs Marks\")\n",
    "plt.bar(subject,Marks)"
   ]
  },
  {
   "cell_type": "code",
   "execution_count": null,
   "id": "a0e1c59e",
   "metadata": {},
   "outputs": [],
   "source": [
    "## A list in Python is a collection of items which can contain elements of multiple data types, \n",
    "##which may be either numeric, character logical values, etc.['a',[1,2,3],3]\n",
    "\n",
    "## An array is a vector containing homogeneous elements i.e. belonging to the same data type. \n",
    "#Elements are allocated with contiguous memory locations allowing easy modification, that is,\n",
    "#addition, deletion, accessing of elements.(1,2,3,4) (a,b,c)"
   ]
  },
  {
   "cell_type": "code",
   "execution_count": null,
   "id": "d537f2ee",
   "metadata": {},
   "outputs": [],
   "source": [
    "##Customization for bar graph\n",
    "##width shows bar width,default is 0.8\n",
    "##color - shows bar color\n",
    "##bottom--value from where the y axis starts in the chart i.e., the lowest value\n",
    "##align - to move the position of xlabel , has 2 options 'edge and 'center'\n",
    "##edgecolor - used to color the borders of the bar\n",
    "##linewidth - used to adjust the width of the line around the bar\n",
    "##tick_label -  to see the customized labels for x axis"
   ]
  },
  {
   "cell_type": "code",
   "execution_count": 137,
   "id": "ccc80d5c",
   "metadata": {},
   "outputs": [
    {
     "data": {
      "text/plain": [
       "<BarContainer object of 5 artists>"
      ]
     },
     "execution_count": 137,
     "metadata": {},
     "output_type": "execute_result"
    },
    {
     "data": {
      "image/png": "[encoded data removed]",
      "text/plain": [
       "<Figure size 432x288 with 1 Axes>"
      ]
     },
     "metadata": {
      "needs_background": "light"
     },
     "output_type": "display_data"
    }
   ],
   "source": [
    "plt.bar(subject,Marks,width =1,color = 'y',bottom = 3,align = 'center',edgecolor = 'black',linewidth = 3,tick_label = subject)"
   ]
  },
  {
   "cell_type": "code",
   "execution_count": 92,
   "id": "2e07addc",
   "metadata": {},
   "outputs": [],
   "source": [
    "###Pie_chart\n",
    "##we have data on no.of tickets resolved in a month, and we would like to know how many tickets were \n",
    "##closed in a week.\n",
    "Tickets_closed = [10,20,5,8,22,31]\n",
    "Agents = ['Narmada','Vel','Veda','Krishna','Ramya','Sanjana']"
   ]
  },
  {
   "cell_type": "code",
   "execution_count": 96,
   "id": "6f3bac7d",
   "metadata": {},
   "outputs": [
    {
     "data": {
      "text/plain": [
       "([<matplotlib.patches.Wedge at 0x14f5f052310>,\n",
       "  <matplotlib.patches.Wedge at 0x14f5f0526d0>,\n",
       "  <matplotlib.patches.Wedge at 0x14f5f052bb0>,\n",
       "  <matplotlib.patches.Wedge at 0x14f5f05e0d0>,\n",
       "  <matplotlib.patches.Wedge at 0x14f5f05e5b0>,\n",
       "  <matplotlib.patches.Wedge at 0x14f5f05ea90>],\n",
       " [Text(1.0416231452033553, 0.3535834037064947, 'Narmada'),\n",
       "  Text(0.2847009827728237, 1.0625184000327659, 'Vel'),\n",
       "  Text(-0.5808745883418597, 0.9341224291379986, 'Veda'),\n",
       "  Text(-0.9146165449238671, 0.611127299137854, 'Krishna'),\n",
       "  Text(-1.016267495615503, -0.4209517518141411, 'Ramya'),\n",
       "  Text(0.5808745992742166, -0.934122422339823, 'Sanjana')])"
      ]
     },
     "execution_count": 96,
     "metadata": {},
     "output_type": "execute_result"
    },
    {
     "data": {
      "image/png": "[encoded data removed]",
      "text/plain": [
       "<Figure size 432x288 with 1 Axes>"
      ]
     },
     "metadata": {},
     "output_type": "display_data"
    }
   ],
   "source": [
    "plt.pie(Tickets_closed,labels = Agents)"
   ]
  },
  {
   "cell_type": "code",
   "execution_count": null,
   "id": "451fec98",
   "metadata": {},
   "outputs": [],
   "source": [
    "###Add contribution"
   ]
  },
  {
   "cell_type": "code",
   "execution_count": 140,
   "id": "932d7342",
   "metadata": {},
   "outputs": [
    {
     "data": {
      "text/plain": [
       "([<matplotlib.patches.Wedge at 0x14f61c27790>,\n",
       "  <matplotlib.patches.Wedge at 0x14f61c27eb0>,\n",
       "  <matplotlib.patches.Wedge at 0x14f61c32610>,\n",
       "  <matplotlib.patches.Wedge at 0x14f61c32d30>,\n",
       "  <matplotlib.patches.Wedge at 0x14f61c07490>,\n",
       "  <matplotlib.patches.Wedge at 0x14f61c07bb0>],\n",
       " [Text(1.2310091716039653, 0.41787129528949374, 'Narmada'),\n",
       "  Text(0.3105828902976258, 1.1591109818539265, 'Vel'),\n",
       "  Text(-0.5808745883418597, 0.9341224291379986, 'Veda'),\n",
       "  Text(-0.9977635035533096, 0.6666843263322044, 'Krishna'),\n",
       "  Text(-1.1086554497623669, -0.4592200928881539, 'Ramya'),\n",
       "  Text(0.6864881627786196, -1.1039628627652454, 'Sanjana')],\n",
       " [Text(0.7575441056024402, 0.25715156633199615, '10.4%'),\n",
       "  Text(0.18117335267361506, 0.6761480727481236, '20.8%'),\n",
       "  Text(-0.3168406845501053, 0.5095213249843628, '5.2%'),\n",
       "  Text(-0.5820287104060972, 0.3888991903604525, '8.3%'),\n",
       "  Text(-0.6467156790280472, -0.26787838751808973, '22.9%'),\n",
       "  Text(0.42245425401761205, -0.6793617617016894, '32.3%')])"
      ]
     },
     "execution_count": 140,
     "metadata": {},
     "output_type": "execute_result"
    },
    {
     "data": {
      "image/png": "[encoded data removed]",
      "text/plain": [
       "<Figure size 432x288 with 1 Axes>"
      ]
     },
     "metadata": {},
     "output_type": "display_data"
    }
   ],
   "source": [
    "explode = [0.2,0.1,0,0.1,0.1,0.2]\n",
    "plt.pie(Tickets_closed,labels = Agents,explode = explode,autopct = '%1.1f%%')"
   ]
  },
  {
   "cell_type": "code",
   "execution_count": 108,
   "id": "f58d131c",
   "metadata": {},
   "outputs": [
    {
     "data": {
      "text/plain": [
       "<matplotlib.collections.PathCollection at 0x14f5d0f3be0>"
      ]
     },
     "execution_count": 108,
     "metadata": {},
     "output_type": "execute_result"
    },
    {
     "data": {
      "image/png": "[encoded data removed]",
      "text/plain": [
       "<Figure size 432x288 with 1 Axes>"
      ]
     },
     "metadata": {
      "needs_background": "light"
     },
     "output_type": "display_data"
    }
   ],
   "source": [
    "plt.scatter(Tickets_closed,Agents)"
   ]
  },
  {
   "cell_type": "code",
   "execution_count": 109,
   "id": "3057fca4",
   "metadata": {},
   "outputs": [
    {
     "data": {
      "text/plain": [
       "(array([1., 2., 0., 0., 0., 1., 1., 0., 0., 1.]),\n",
       " array([ 5. ,  7.6, 10.2, 12.8, 15.4, 18. , 20.6, 23.2, 25.8, 28.4, 31. ]),\n",
       " <BarContainer object of 10 artists>)"
      ]
     },
     "execution_count": 109,
     "metadata": {},
     "output_type": "execute_result"
    },
    {
     "data": {
      "image/png": "[encoded data removed]",
      "text/plain": [
       "<Figure size 432x288 with 1 Axes>"
      ]
     },
     "metadata": {
      "needs_background": "light"
     },
     "output_type": "display_data"
    }
   ],
   "source": [
    "plt.hist(Tickets_closed)"
   ]
  },
  {
   "cell_type": "code",
   "execution_count": 110,
   "id": "330e0a0a",
   "metadata": {},
   "outputs": [
    {
     "data": {
      "text/plain": [
       "(array([1., 0., 1., 0., 1., 0., 1., 0., 1., 1.]),\n",
       " array([0. , 0.5, 1. , 1.5, 2. , 2.5, 3. , 3.5, 4. , 4.5, 5. ]),\n",
       " <BarContainer object of 10 artists>)"
      ]
     },
     "execution_count": 110,
     "metadata": {},
     "output_type": "execute_result"
    },
    {
     "data": {
      "image/png": "[encoded data removed]",
      "text/plain": [
       "<Figure size 432x288 with 1 Axes>"
      ]
     },
     "metadata": {
      "needs_background": "light"
     },
     "output_type": "display_data"
    }
   ],
   "source": [
    "plt.hist(Agents)"
   ]
  },
  {
   "cell_type": "code",
   "execution_count": 145,
   "id": "2c45c280",
   "metadata": {},
   "outputs": [
    {
     "data": {
      "text/plain": [
       "(array([1., 1., 0., 0., 1., 0., 0., 0., 0., 2.]),\n",
       " array([ 66. ,  69.4,  72.8,  76.2,  79.6,  83. ,  86.4,  89.8,  93.2,\n",
       "         96.6, 100. ]),\n",
       " <BarContainer object of 10 artists>)"
      ]
     },
     "execution_count": 145,
     "metadata": {},
     "output_type": "execute_result"
    },
    {
     "data": {
      "image/png": "[encoded data removed]",
      "text/plain": [
       "<Figure size 432x288 with 1 Axes>"
      ]
     },
     "metadata": {
      "needs_background": "light"
     },
     "output_type": "display_data"
    }
   ],
   "source": [
    "plt.hist(Marks)"
   ]
  },
  {
   "cell_type": "code",
   "execution_count": null,
   "id": "4ab61a3b",
   "metadata": {},
   "outputs": [],
   "source": []
  },
  {
   "cell_type": "code",
   "execution_count": null,
   "id": "f3f4e5e6",
   "metadata": {},
   "outputs": [],
   "source": []
  }
 ],
 "metadata": {
  "kernelspec": {
   "display_name": "Python 3 (ipykernel)",
   "language": "python",
   "name": "python3"
  },
  "language_info": {
   "codemirror_mode": {
    "name": "ipython",
    "version": 3
   },
   "file_extension": ".py",
   "mimetype": "text/x-python",
   "name": "python",
   "nbconvert_exporter": "python",
   "pygments_lexer": "ipython3",
   "version": "3.9.12"
  }
 },
 "nbformat": 4,
 "nbformat_minor": 5
}
