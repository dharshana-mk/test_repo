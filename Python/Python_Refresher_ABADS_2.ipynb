{
 "cells": [
  {
   "cell_type": "markdown",
   "id": "8a32fd8d",
   "metadata": {},
   "source": [
    "<h1><center>Python Refresher</center></h1>\n",
    "<img src=\"https://media2.giphy.com/media/KAq5w47R9rmTuvWOWa/giphy.gif\" alt=\"drawing\" width=\"200\"/>"
   ]
  },
  {
   "cell_type": "markdown",
   "id": "dd5d3048",
   "metadata": {},
   "source": [
    "## Table on Contents\n",
    "\n",
    "* [Basic Python Data Structures](#bpds)\n",
    "    * [Variables and Types](#vat)\n",
    "        * [Numbers](#num)\n",
    "            * [Integers](#int)\n",
    "            * [Floats](#float)\n",
    "        * [Strings](#str)\n",
    "        * [Boolean](#bool)\n",
    "    * [Lists](#lst)\n",
    "    * [Tuples](#tup)\n",
    "    * [Sets](#set)\n",
    "    * [Dictionaries](#dict)"
   ]
  },
  {
   "cell_type": "markdown",
   "id": "01bd8241",
   "metadata": {},
   "source": [
    "<h1><center>Numbers</center></h1>"
   ]
  },
  {
   "cell_type": "markdown",
   "id": "1cbcd493",
   "metadata": {},
   "source": [
    "# Integer"
   ]
  },
  {
   "cell_type": "code",
   "execution_count": 2,
   "id": "96a12693",
   "metadata": {},
   "outputs": [
    {
     "data": {
      "text/plain": [
       "1"
      ]
     },
     "execution_count": 2,
     "metadata": {},
     "output_type": "execute_result"
    }
   ],
   "source": [
    "1"
   ]
  },
  {
   "cell_type": "code",
   "execution_count": 4,
   "id": "5238b255",
   "metadata": {},
   "outputs": [
    {
     "data": {
      "text/plain": [
       "2"
      ]
     },
     "execution_count": 4,
     "metadata": {},
     "output_type": "execute_result"
    }
   ],
   "source": [
    "2"
   ]
  },
  {
   "cell_type": "code",
   "execution_count": 6,
   "id": "13683109",
   "metadata": {},
   "outputs": [
    {
     "data": {
      "text/plain": [
       "10"
      ]
     },
     "execution_count": 6,
     "metadata": {},
     "output_type": "execute_result"
    }
   ],
   "source": [
    "10"
   ]
  },
  {
   "cell_type": "code",
   "execution_count": 7,
   "id": "b3a0ac3f",
   "metadata": {},
   "outputs": [
    {
     "data": {
      "text/plain": [
       "20"
      ]
     },
     "execution_count": 7,
     "metadata": {},
     "output_type": "execute_result"
    }
   ],
   "source": [
    "20"
   ]
  },
  {
   "cell_type": "code",
   "execution_count": 17,
   "id": "6668fac0",
   "metadata": {},
   "outputs": [
    {
     "data": {
      "text/plain": [
       "int"
      ]
     },
     "execution_count": 17,
     "metadata": {},
     "output_type": "execute_result"
    }
   ],
   "source": [
    "type(20)"
   ]
  },
  {
   "cell_type": "markdown",
   "id": "aee0388e",
   "metadata": {},
   "source": [
    "# Floats"
   ]
  },
  {
   "cell_type": "code",
   "execution_count": 11,
   "id": "40e9f666",
   "metadata": {},
   "outputs": [
    {
     "data": {
      "text/plain": [
       "20.1"
      ]
     },
     "execution_count": 11,
     "metadata": {},
     "output_type": "execute_result"
    }
   ],
   "source": [
    "20.1"
   ]
  },
  {
   "cell_type": "code",
   "execution_count": 12,
   "id": "a6071bfc",
   "metadata": {},
   "outputs": [
    {
     "data": {
      "text/plain": [
       "float"
      ]
     },
     "execution_count": 12,
     "metadata": {},
     "output_type": "execute_result"
    }
   ],
   "source": [
    "type(20.1)"
   ]
  },
  {
   "cell_type": "code",
   "execution_count": 13,
   "id": "86f43f9d",
   "metadata": {},
   "outputs": [],
   "source": [
    "a = 100"
   ]
  },
  {
   "cell_type": "code",
   "execution_count": 14,
   "id": "81d1b941",
   "metadata": {},
   "outputs": [
    {
     "data": {
      "text/plain": [
       "int"
      ]
     },
     "execution_count": 14,
     "metadata": {},
     "output_type": "execute_result"
    }
   ],
   "source": [
    "type(a)"
   ]
  },
  {
   "cell_type": "code",
   "execution_count": 15,
   "id": "a2c1ee93",
   "metadata": {},
   "outputs": [],
   "source": [
    "b = 10.588"
   ]
  },
  {
   "cell_type": "code",
   "execution_count": 18,
   "id": "3c8f813e",
   "metadata": {},
   "outputs": [
    {
     "data": {
      "text/plain": [
       "float"
      ]
     },
     "execution_count": 18,
     "metadata": {},
     "output_type": "execute_result"
    }
   ],
   "source": [
    "type(b)"
   ]
  },
  {
   "cell_type": "markdown",
   "id": "20d3f5f4",
   "metadata": {},
   "source": [
    "# Strings"
   ]
  },
  {
   "cell_type": "code",
   "execution_count": 19,
   "id": "20d94318",
   "metadata": {},
   "outputs": [
    {
     "data": {
      "text/plain": [
       "'This is a string'"
      ]
     },
     "execution_count": 19,
     "metadata": {},
     "output_type": "execute_result"
    }
   ],
   "source": [
    "'This is a string'"
   ]
  },
  {
   "cell_type": "code",
   "execution_count": 20,
   "id": "d94dac4a",
   "metadata": {},
   "outputs": [
    {
     "data": {
      "text/plain": [
       "'This is also a string'"
      ]
     },
     "execution_count": 20,
     "metadata": {},
     "output_type": "execute_result"
    }
   ],
   "source": [
    "\"This is also a string\""
   ]
  },
  {
   "cell_type": "code",
   "execution_count": 23,
   "id": "852062e1",
   "metadata": {},
   "outputs": [
    {
     "data": {
      "text/plain": [
       "str"
      ]
     },
     "execution_count": 23,
     "metadata": {},
     "output_type": "execute_result"
    }
   ],
   "source": [
    "type('This is an experiment')"
   ]
  },
  {
   "cell_type": "code",
   "execution_count": 24,
   "id": "c57458d5",
   "metadata": {},
   "outputs": [],
   "source": [
    "c = \"This is also a string\""
   ]
  },
  {
   "cell_type": "code",
   "execution_count": 25,
   "id": "fe576963",
   "metadata": {},
   "outputs": [
    {
     "data": {
      "text/plain": [
       "str"
      ]
     },
     "execution_count": 25,
     "metadata": {},
     "output_type": "execute_result"
    }
   ],
   "source": [
    "type(c)"
   ]
  },
  {
   "cell_type": "markdown",
   "id": "bc6927e3",
   "metadata": {},
   "source": [
    "# Booleans"
   ]
  },
  {
   "cell_type": "code",
   "execution_count": 27,
   "id": "9eff8b5a",
   "metadata": {},
   "outputs": [
    {
     "data": {
      "text/plain": [
       "True"
      ]
     },
     "execution_count": 27,
     "metadata": {},
     "output_type": "execute_result"
    }
   ],
   "source": [
    "True"
   ]
  },
  {
   "cell_type": "code",
   "execution_count": 30,
   "id": "1d5afd4c",
   "metadata": {},
   "outputs": [
    {
     "data": {
      "text/plain": [
       "False"
      ]
     },
     "execution_count": 30,
     "metadata": {},
     "output_type": "execute_result"
    }
   ],
   "source": [
    "False"
   ]
  },
  {
   "cell_type": "code",
   "execution_count": 36,
   "id": "d87c95ae",
   "metadata": {},
   "outputs": [
    {
     "data": {
      "text/plain": [
       "bool"
      ]
     },
     "execution_count": 36,
     "metadata": {},
     "output_type": "execute_result"
    }
   ],
   "source": [
    "type(False)"
   ]
  },
  {
   "cell_type": "code",
   "execution_count": 33,
   "id": "da2d38a4",
   "metadata": {},
   "outputs": [],
   "source": [
    "d = True"
   ]
  },
  {
   "cell_type": "code",
   "execution_count": 35,
   "id": "e7398dd1",
   "metadata": {},
   "outputs": [
    {
     "data": {
      "text/plain": [
       "bool"
      ]
     },
     "execution_count": 35,
     "metadata": {},
     "output_type": "execute_result"
    }
   ],
   "source": [
    "type(d)"
   ]
  },
  {
   "cell_type": "code",
   "execution_count": 38,
   "id": "7752478c",
   "metadata": {},
   "outputs": [
    {
     "data": {
      "text/plain": [
       "str"
      ]
     },
     "execution_count": 38,
     "metadata": {},
     "output_type": "execute_result"
    }
   ],
   "source": [
    "type('False')"
   ]
  },
  {
   "cell_type": "markdown",
   "id": "6a057d0a",
   "metadata": {},
   "source": [
    "# Data-type Methods"
   ]
  },
  {
   "cell_type": "markdown",
   "id": "9b5c2115",
   "metadata": {},
   "source": [
    "### String methods"
   ]
  },
  {
   "cell_type": "code",
   "execution_count": 63,
   "id": "6f7f7556",
   "metadata": {},
   "outputs": [
    {
     "data": {
      "text/plain": [
       "'This is a string'"
      ]
     },
     "execution_count": 63,
     "metadata": {},
     "output_type": "execute_result"
    }
   ],
   "source": [
    "'This is a string'"
   ]
  },
  {
   "cell_type": "code",
   "execution_count": 70,
   "id": "22c206a2",
   "metadata": {},
   "outputs": [],
   "source": [
    "x = 'This Is a strIng'"
   ]
  },
  {
   "cell_type": "code",
   "execution_count": 71,
   "id": "f1aa6ada",
   "metadata": {},
   "outputs": [
    {
     "data": {
      "text/plain": [
       "str"
      ]
     },
     "execution_count": 71,
     "metadata": {},
     "output_type": "execute_result"
    }
   ],
   "source": [
    "type(x)"
   ]
  },
  {
   "cell_type": "code",
   "execution_count": 72,
   "id": "ed04e0c7",
   "metadata": {},
   "outputs": [
    {
     "data": {
      "text/plain": [
       "'This Is a strIng'"
      ]
     },
     "execution_count": 72,
     "metadata": {},
     "output_type": "execute_result"
    }
   ],
   "source": [
    "x"
   ]
  },
  {
   "cell_type": "code",
   "execution_count": 75,
   "id": "412c4f06",
   "metadata": {},
   "outputs": [
    {
     "data": {
      "text/plain": [
       "2"
      ]
     },
     "execution_count": 75,
     "metadata": {},
     "output_type": "execute_result"
    }
   ],
   "source": [
    "x.count('I')"
   ]
  },
  {
   "cell_type": "code",
   "execution_count": 77,
   "id": "f5698d3a",
   "metadata": {},
   "outputs": [],
   "source": [
    "y = x.lower()"
   ]
  },
  {
   "cell_type": "code",
   "execution_count": 78,
   "id": "f7f05199",
   "metadata": {},
   "outputs": [
    {
     "data": {
      "text/plain": [
       "'this is a string'"
      ]
     },
     "execution_count": 78,
     "metadata": {},
     "output_type": "execute_result"
    }
   ],
   "source": [
    "y"
   ]
  },
  {
   "cell_type": "code",
   "execution_count": 86,
   "id": "87d9e919",
   "metadata": {},
   "outputs": [
    {
     "data": {
      "text/plain": [
       "2"
      ]
     },
     "execution_count": 86,
     "metadata": {},
     "output_type": "execute_result"
    }
   ],
   "source": [
    "y.count('is')"
   ]
  },
  {
   "cell_type": "code",
   "execution_count": 87,
   "id": "1cdf1a2f",
   "metadata": {},
   "outputs": [],
   "source": [
    "z = 'My account number is 102753'"
   ]
  },
  {
   "cell_type": "code",
   "execution_count": 88,
   "id": "64071026",
   "metadata": {},
   "outputs": [
    {
     "data": {
      "text/plain": [
       "'My account number is 102753'"
      ]
     },
     "execution_count": 88,
     "metadata": {},
     "output_type": "execute_result"
    }
   ],
   "source": [
    "z"
   ]
  },
  {
   "cell_type": "code",
   "execution_count": 89,
   "id": "4f0c5a34",
   "metadata": {},
   "outputs": [
    {
     "data": {
      "text/plain": [
       "str"
      ]
     },
     "execution_count": 89,
     "metadata": {},
     "output_type": "execute_result"
    }
   ],
   "source": [
    "type(z)"
   ]
  },
  {
   "cell_type": "code",
   "execution_count": 91,
   "id": "c4031c7a",
   "metadata": {},
   "outputs": [
    {
     "data": {
      "text/plain": [
       "'MY ACCOUNT NUMBER IS 102753'"
      ]
     },
     "execution_count": 91,
     "metadata": {},
     "output_type": "execute_result"
    }
   ],
   "source": [
    "z.upper()"
   ]
  },
  {
   "cell_type": "code",
   "execution_count": 102,
   "id": "d2a3c276",
   "metadata": {},
   "outputs": [],
   "source": [
    "t = '111102753@_-#%&'"
   ]
  },
  {
   "cell_type": "code",
   "execution_count": 104,
   "id": "e4d0bb21",
   "metadata": {},
   "outputs": [
    {
     "data": {
      "text/plain": [
       "'111102753@_-#%&'"
      ]
     },
     "execution_count": 104,
     "metadata": {},
     "output_type": "execute_result"
    }
   ],
   "source": [
    "t"
   ]
  },
  {
   "cell_type": "code",
   "execution_count": 105,
   "id": "56ba661f",
   "metadata": {},
   "outputs": [
    {
     "data": {
      "text/plain": [
       "str"
      ]
     },
     "execution_count": 105,
     "metadata": {},
     "output_type": "execute_result"
    }
   ],
   "source": [
    "type(t)"
   ]
  },
  {
   "cell_type": "code",
   "execution_count": 106,
   "id": "be515c1f",
   "metadata": {},
   "outputs": [
    {
     "data": {
      "text/plain": [
       "'111102753@_-#%&'"
      ]
     },
     "execution_count": 106,
     "metadata": {},
     "output_type": "execute_result"
    }
   ],
   "source": [
    "t.upper()"
   ]
  },
  {
   "cell_type": "code",
   "execution_count": 107,
   "id": "fbb2e9f6",
   "metadata": {},
   "outputs": [
    {
     "data": {
      "text/plain": [
       "1"
      ]
     },
     "execution_count": 107,
     "metadata": {},
     "output_type": "execute_result"
    }
   ],
   "source": [
    "t.count('@')"
   ]
  },
  {
   "cell_type": "code",
   "execution_count": 108,
   "id": "fd1ec9be",
   "metadata": {},
   "outputs": [
    {
     "data": {
      "text/plain": [
       "'111102753@_-#%&'"
      ]
     },
     "execution_count": 108,
     "metadata": {},
     "output_type": "execute_result"
    }
   ],
   "source": [
    "t.capitalize()"
   ]
  },
  {
   "cell_type": "markdown",
   "id": "2c8f801c",
   "metadata": {},
   "source": [
    "### Integer methods"
   ]
  },
  {
   "cell_type": "code",
   "execution_count": 114,
   "id": "afa20209",
   "metadata": {},
   "outputs": [],
   "source": [
    "e = 10"
   ]
  },
  {
   "cell_type": "code",
   "execution_count": 116,
   "id": "3bbc7e98",
   "metadata": {},
   "outputs": [
    {
     "data": {
      "text/plain": [
       "10"
      ]
     },
     "execution_count": 116,
     "metadata": {},
     "output_type": "execute_result"
    }
   ],
   "source": [
    "e"
   ]
  },
  {
   "cell_type": "code",
   "execution_count": 117,
   "id": "9398b446",
   "metadata": {},
   "outputs": [
    {
     "data": {
      "text/plain": [
       "int"
      ]
     },
     "execution_count": 117,
     "metadata": {},
     "output_type": "execute_result"
    }
   ],
   "source": [
    "type(e)"
   ]
  },
  {
   "cell_type": "code",
   "execution_count": 128,
   "id": "01cbcd66",
   "metadata": {},
   "outputs": [
    {
     "data": {
      "text/plain": [
       "10"
      ]
     },
     "execution_count": 128,
     "metadata": {},
     "output_type": "execute_result"
    }
   ],
   "source": [
    "e"
   ]
  },
  {
   "cell_type": "code",
   "execution_count": 129,
   "id": "f42616f2",
   "metadata": {},
   "outputs": [],
   "source": [
    "# This is how to get help\n",
    "?int.to_bytes"
   ]
  },
  {
   "cell_type": "markdown",
   "id": "47f435a2",
   "metadata": {},
   "source": [
    "### Float methods"
   ]
  },
  {
   "cell_type": "code",
   "execution_count": 130,
   "id": "81e261c3",
   "metadata": {},
   "outputs": [],
   "source": [
    "f = 10.1"
   ]
  },
  {
   "cell_type": "code",
   "execution_count": 131,
   "id": "6a672317",
   "metadata": {},
   "outputs": [
    {
     "data": {
      "text/plain": [
       "10.1"
      ]
     },
     "execution_count": 131,
     "metadata": {},
     "output_type": "execute_result"
    }
   ],
   "source": [
    "f"
   ]
  },
  {
   "cell_type": "code",
   "execution_count": 132,
   "id": "20af207d",
   "metadata": {},
   "outputs": [
    {
     "data": {
      "text/plain": [
       "float"
      ]
     },
     "execution_count": 132,
     "metadata": {},
     "output_type": "execute_result"
    }
   ],
   "source": [
    "type(f)"
   ]
  },
  {
   "cell_type": "code",
   "execution_count": 133,
   "id": "cdc706ca",
   "metadata": {},
   "outputs": [
    {
     "data": {
      "text/plain": [
       "10.1"
      ]
     },
     "execution_count": 133,
     "metadata": {},
     "output_type": "execute_result"
    }
   ],
   "source": [
    "f.real"
   ]
  },
  {
   "cell_type": "markdown",
   "id": "69eb8b5c",
   "metadata": {},
   "source": [
    "### Boolean Methods"
   ]
  },
  {
   "cell_type": "code",
   "execution_count": 136,
   "id": "78ad9c1b",
   "metadata": {},
   "outputs": [],
   "source": [
    "g = True"
   ]
  },
  {
   "cell_type": "code",
   "execution_count": 137,
   "id": "bca5afc8",
   "metadata": {},
   "outputs": [
    {
     "data": {
      "text/plain": [
       "bool"
      ]
     },
     "execution_count": 137,
     "metadata": {},
     "output_type": "execute_result"
    }
   ],
   "source": [
    "type(g)"
   ]
  },
  {
   "cell_type": "code",
   "execution_count": 2,
   "id": "13a6327a",
   "metadata": {},
   "outputs": [
    {
     "ename": "NameError",
     "evalue": "name 'g' is not defined",
     "output_type": "error",
     "traceback": [
      "\u001b[0;31m---------------------------------------------------------------------------\u001b[0m",
      "\u001b[0;31mNameError\u001b[0m                                 Traceback (most recent call last)",
      "\u001b[0;32m/tmp/ipykernel_332/3361947239.py\u001b[0m in \u001b[0;36m<module>\u001b[0;34m\u001b[0m\n\u001b[0;32m----> 1\u001b[0;31m \u001b[0mg\u001b[0m\u001b[0;34m.\u001b[0m\u001b[0mreal\u001b[0m\u001b[0;34m\u001b[0m\u001b[0;34m\u001b[0m\u001b[0m\n\u001b[0m",
      "\u001b[0;31mNameError\u001b[0m: name 'g' is not defined"
     ]
    }
   ],
   "source": [
    "g.real"
   ]
  },
  {
   "cell_type": "markdown",
   "id": "c6e59ae5",
   "metadata": {},
   "source": [
    "### Go explore with the help of jupyter notebook help"
   ]
  },
  {
   "cell_type": "code",
   "execution_count": 62,
   "id": "6706accd",
   "metadata": {},
   "outputs": [],
   "source": [
    "# This is how you get help\n",
    "?str.count"
   ]
  },
  {
   "cell_type": "markdown",
   "id": "09723562",
   "metadata": {},
   "source": [
    "# Inter-changability between data types"
   ]
  },
  {
   "cell_type": "code",
   "execution_count": 204,
   "id": "59ae11a5",
   "metadata": {},
   "outputs": [],
   "source": [
    "# Integers to floats"
   ]
  },
  {
   "cell_type": "markdown",
   "id": "f0ea47e1",
   "metadata": {},
   "source": [
    "#### Learnings\n",
    "- Any integer can be converted to float, it will just add zeros at the end.\n",
    "- Any float can be converted to integers, it will ignore the decimal values completely"
   ]
  },
  {
   "cell_type": "code",
   "execution_count": 206,
   "id": "4f54f9bd",
   "metadata": {},
   "outputs": [],
   "source": [
    "i = 10"
   ]
  },
  {
   "cell_type": "code",
   "execution_count": 207,
   "id": "549b4119",
   "metadata": {},
   "outputs": [
    {
     "data": {
      "text/plain": [
       "int"
      ]
     },
     "execution_count": 207,
     "metadata": {},
     "output_type": "execute_result"
    }
   ],
   "source": [
    "type(i)"
   ]
  },
  {
   "cell_type": "code",
   "execution_count": 208,
   "id": "d9d3f927",
   "metadata": {},
   "outputs": [
    {
     "data": {
      "text/plain": [
       "10.0"
      ]
     },
     "execution_count": 208,
     "metadata": {},
     "output_type": "execute_result"
    }
   ],
   "source": [
    "float(i)"
   ]
  },
  {
   "cell_type": "code",
   "execution_count": 209,
   "id": "ae75c43a",
   "metadata": {},
   "outputs": [],
   "source": [
    "j = 10.911111"
   ]
  },
  {
   "cell_type": "code",
   "execution_count": 210,
   "id": "b101af6b",
   "metadata": {},
   "outputs": [
    {
     "data": {
      "text/plain": [
       "float"
      ]
     },
     "execution_count": 210,
     "metadata": {},
     "output_type": "execute_result"
    }
   ],
   "source": [
    "type(j)"
   ]
  },
  {
   "cell_type": "markdown",
   "id": "39d3ecea",
   "metadata": {},
   "source": [
    "It is going to ignore the decimal value"
   ]
  },
  {
   "cell_type": "code",
   "execution_count": 212,
   "id": "aff6b553",
   "metadata": {},
   "outputs": [
    {
     "data": {
      "text/plain": [
       "10"
      ]
     },
     "execution_count": 212,
     "metadata": {},
     "output_type": "execute_result"
    }
   ],
   "source": [
    "int(j)"
   ]
  },
  {
   "cell_type": "code",
   "execution_count": 239,
   "id": "59f9b50b",
   "metadata": {},
   "outputs": [],
   "source": [
    "temp = 10.5555555555555555555555555555"
   ]
  },
  {
   "cell_type": "code",
   "execution_count": 240,
   "id": "48519c8b",
   "metadata": {},
   "outputs": [
    {
     "data": {
      "text/plain": [
       "10.555555555555555"
      ]
     },
     "execution_count": 240,
     "metadata": {},
     "output_type": "execute_result"
    }
   ],
   "source": [
    "temp"
   ]
  },
  {
   "cell_type": "code",
   "execution_count": 234,
   "id": "9746207e",
   "metadata": {},
   "outputs": [
    {
     "data": {
      "text/plain": [
       "float"
      ]
     },
     "execution_count": 234,
     "metadata": {},
     "output_type": "execute_result"
    }
   ],
   "source": [
    "type(temp)"
   ]
  },
  {
   "cell_type": "code",
   "execution_count": 235,
   "id": "9e5c35d7",
   "metadata": {},
   "outputs": [
    {
     "data": {
      "text/plain": [
       "11.0"
      ]
     },
     "execution_count": 235,
     "metadata": {},
     "output_type": "execute_result"
    }
   ],
   "source": [
    "temp"
   ]
  },
  {
   "cell_type": "code",
   "execution_count": 236,
   "id": "66cfa1b1",
   "metadata": {},
   "outputs": [
    {
     "data": {
      "text/plain": [
       "11"
      ]
     },
     "execution_count": 236,
     "metadata": {},
     "output_type": "execute_result"
    }
   ],
   "source": [
    "int(temp)"
   ]
  },
  {
   "cell_type": "markdown",
   "id": "ab905abd",
   "metadata": {},
   "source": [
    "Can you do string to integers"
   ]
  },
  {
   "cell_type": "code",
   "execution_count": 196,
   "id": "41b7f32e",
   "metadata": {},
   "outputs": [],
   "source": [
    "i = '10.111'"
   ]
  },
  {
   "cell_type": "code",
   "execution_count": 202,
   "id": "19aa25c5",
   "metadata": {},
   "outputs": [
    {
     "ename": "ValueError",
     "evalue": "invalid literal for int() with base 10: '10.111'",
     "output_type": "error",
     "traceback": [
      "\u001b[0;31m---------------------------------------------------------------------------\u001b[0m",
      "\u001b[0;31mValueError\u001b[0m                                Traceback (most recent call last)",
      "\u001b[0;32m/tmp/ipykernel_412/1227222038.py\u001b[0m in \u001b[0;36m<module>\u001b[0;34m\u001b[0m\n\u001b[0;32m----> 1\u001b[0;31m \u001b[0mint\u001b[0m\u001b[0;34m(\u001b[0m\u001b[0mi\u001b[0m\u001b[0;34m)\u001b[0m\u001b[0;34m\u001b[0m\u001b[0;34m\u001b[0m\u001b[0m\n\u001b[0m",
      "\u001b[0;31mValueError\u001b[0m: invalid literal for int() with base 10: '10.111'"
     ]
    }
   ],
   "source": [
    "int(i)"
   ]
  },
  {
   "cell_type": "code",
   "execution_count": 203,
   "id": "7e9e61d2",
   "metadata": {},
   "outputs": [
    {
     "data": {
      "text/plain": [
       "10"
      ]
     },
     "execution_count": 203,
     "metadata": {},
     "output_type": "execute_result"
    }
   ],
   "source": [
    "int(float(i))"
   ]
  },
  {
   "cell_type": "code",
   "execution_count": 200,
   "id": "16e46328",
   "metadata": {},
   "outputs": [
    {
     "data": {
      "text/plain": [
       "10.111"
      ]
     },
     "execution_count": 200,
     "metadata": {},
     "output_type": "execute_result"
    }
   ],
   "source": [
    "float(i)"
   ]
  },
  {
   "cell_type": "code",
   "execution_count": 198,
   "id": "6b104446",
   "metadata": {},
   "outputs": [
    {
     "data": {
      "text/plain": [
       "10"
      ]
     },
     "execution_count": 198,
     "metadata": {},
     "output_type": "execute_result"
    }
   ],
   "source": [
    "int(10.111)"
   ]
  },
  {
   "cell_type": "markdown",
   "id": "a188d115",
   "metadata": {},
   "source": [
    "#### Learnings\n",
    "- Any string can be converted to int as long as the string is in integer format, not float\n",
    "- Any string can be converted to float as long as the string is in float format, not int"
   ]
  },
  {
   "cell_type": "markdown",
   "id": "26e0062d",
   "metadata": {},
   "source": [
    "### Boolean"
   ]
  },
  {
   "cell_type": "code",
   "execution_count": 263,
   "id": "f08fa4b3",
   "metadata": {},
   "outputs": [],
   "source": [
    "j = 100"
   ]
  },
  {
   "cell_type": "code",
   "execution_count": 264,
   "id": "3a4f9753",
   "metadata": {},
   "outputs": [
    {
     "data": {
      "text/plain": [
       "'100'"
      ]
     },
     "execution_count": 264,
     "metadata": {},
     "output_type": "execute_result"
    }
   ],
   "source": [
    "str(j)"
   ]
  },
  {
   "cell_type": "code",
   "execution_count": 265,
   "id": "2c7e0444",
   "metadata": {},
   "outputs": [
    {
     "data": {
      "text/plain": [
       "100"
      ]
     },
     "execution_count": 265,
     "metadata": {},
     "output_type": "execute_result"
    }
   ],
   "source": [
    "int(j)"
   ]
  },
  {
   "cell_type": "code",
   "execution_count": 268,
   "id": "50247448",
   "metadata": {},
   "outputs": [
    {
     "data": {
      "text/plain": [
       "100.0"
      ]
     },
     "execution_count": 268,
     "metadata": {},
     "output_type": "execute_result"
    }
   ],
   "source": [
    "float(j)"
   ]
  },
  {
   "cell_type": "code",
   "execution_count": 284,
   "id": "b1148f1f",
   "metadata": {},
   "outputs": [
    {
     "data": {
      "text/plain": [
       "bool"
      ]
     },
     "execution_count": 284,
     "metadata": {},
     "output_type": "execute_result"
    }
   ],
   "source": [
    "# The way this function works is, you give it anything, it gives you true otherwise false\n",
    "bool"
   ]
  },
  {
   "cell_type": "markdown",
   "id": "fd4818a7",
   "metadata": {},
   "source": [
    "#### Contributions by ajaz\n",
    "```\n",
    "bool(False)\n",
    "bool(None)\n",
    "bool(0)\n",
    "bool(\"\")\n",
    "bool(())\n",
    "bool([])\n",
    "bool({})\n",
    "```"
   ]
  },
  {
   "cell_type": "code",
   "execution_count": 261,
   "id": "0fc90834",
   "metadata": {},
   "outputs": [
    {
     "data": {
      "text/plain": [
       "bool"
      ]
     },
     "execution_count": 261,
     "metadata": {},
     "output_type": "execute_result"
    }
   ],
   "source": [
    "# Converting Integer to boolean\n",
    "bool(0)\n",
    "\n",
    "# Converting Integer to boolean and saving it\n",
    "x = bool(0)\n",
    "\n",
    "type(x)"
   ]
  },
  {
   "cell_type": "code",
   "execution_count": 262,
   "id": "08898fd0",
   "metadata": {},
   "outputs": [
    {
     "data": {
      "text/plain": [
       "True"
      ]
     },
     "execution_count": 262,
     "metadata": {},
     "output_type": "execute_result"
    }
   ],
   "source": [
    "# Float to boolean\n",
    "# Apply the same here\n",
    "bool(1.0)"
   ]
  },
  {
   "cell_type": "markdown",
   "id": "8f2a3a0f",
   "metadata": {},
   "source": [
    "# String items are iterable"
   ]
  },
  {
   "cell_type": "code",
   "execution_count": 283,
   "id": "8445a411",
   "metadata": {},
   "outputs": [],
   "source": [
    "a = 'This is a string'"
   ]
  },
  {
   "cell_type": "code",
   "execution_count": 291,
   "id": "f3385703",
   "metadata": {},
   "outputs": [
    {
     "data": {
      "text/plain": [
       "'h'"
      ]
     },
     "execution_count": 291,
     "metadata": {},
     "output_type": "execute_result"
    }
   ],
   "source": [
    "# If you want 1 character back\n",
    "a[1]"
   ]
  },
  {
   "cell_type": "code",
   "execution_count": 292,
   "id": "8186a4b2",
   "metadata": {},
   "outputs": [
    {
     "data": {
      "text/plain": [
       "'This i'"
      ]
     },
     "execution_count": 292,
     "metadata": {},
     "output_type": "execute_result"
    }
   ],
   "source": [
    "# If you want multiple character back, give starting point & ending point\n",
    "a[0:6]\n",
    "\n",
    "# The last number is not included"
   ]
  },
  {
   "cell_type": "code",
   "execution_count": 294,
   "id": "aa178379",
   "metadata": {},
   "outputs": [
    {
     "data": {
      "text/plain": [
       "' is '"
      ]
     },
     "execution_count": 294,
     "metadata": {},
     "output_type": "execute_result"
    }
   ],
   "source": [
    "a[4:8]"
   ]
  },
  {
   "cell_type": "code",
   "execution_count": 296,
   "id": "75e9f80d",
   "metadata": {},
   "outputs": [
    {
     "data": {
      "text/plain": [
       "''"
      ]
     },
     "execution_count": 296,
     "metadata": {},
     "output_type": "execute_result"
    }
   ],
   "source": [
    "a[0:0]"
   ]
  },
  {
   "cell_type": "code",
   "execution_count": 298,
   "id": "bf2f3506",
   "metadata": {},
   "outputs": [
    {
     "data": {
      "text/plain": [
       "'n'"
      ]
     },
     "execution_count": 298,
     "metadata": {},
     "output_type": "execute_result"
    }
   ],
   "source": [
    "a[-2]"
   ]
  },
  {
   "cell_type": "code",
   "execution_count": 302,
   "id": "c57a24d6",
   "metadata": {},
   "outputs": [],
   "source": [
    "a = 'This is a string'"
   ]
  },
  {
   "cell_type": "code",
   "execution_count": 304,
   "id": "9121446a",
   "metadata": {},
   "outputs": [
    {
     "data": {
      "text/plain": [
       "'s'"
      ]
     },
     "execution_count": 304,
     "metadata": {},
     "output_type": "execute_result"
    }
   ],
   "source": [
    "a[-10]"
   ]
  },
  {
   "cell_type": "code",
   "execution_count": 300,
   "id": "a58dd392",
   "metadata": {},
   "outputs": [
    {
     "data": {
      "text/plain": [
       "'This is a s'"
      ]
     },
     "execution_count": 300,
     "metadata": {},
     "output_type": "execute_result"
    }
   ],
   "source": [
    "a[0:-5]"
   ]
  },
  {
   "cell_type": "code",
   "execution_count": 306,
   "id": "c18e9c10",
   "metadata": {},
   "outputs": [
    {
     "data": {
      "text/plain": [
       "'Thi'"
      ]
     },
     "execution_count": 306,
     "metadata": {},
     "output_type": "execute_result"
    }
   ],
   "source": [
    "a[0:3]"
   ]
  },
  {
   "cell_type": "code",
   "execution_count": 309,
   "id": "ae3aae9a",
   "metadata": {},
   "outputs": [
    {
     "data": {
      "text/plain": [
       "'This i'"
      ]
     },
     "execution_count": 309,
     "metadata": {},
     "output_type": "execute_result"
    }
   ],
   "source": [
    "a[0:-10]"
   ]
  },
  {
   "cell_type": "code",
   "execution_count": 310,
   "id": "626ff553",
   "metadata": {},
   "outputs": [
    {
     "data": {
      "text/plain": [
       "''"
      ]
     },
     "execution_count": 310,
     "metadata": {},
     "output_type": "execute_result"
    }
   ],
   "source": [
    "a[-1:-3]"
   ]
  },
  {
   "cell_type": "code",
   "execution_count": 325,
   "id": "945229af",
   "metadata": {},
   "outputs": [
    {
     "data": {
      "text/plain": [
       "''"
      ]
     },
     "execution_count": 325,
     "metadata": {},
     "output_type": "execute_result"
    }
   ],
   "source": [
    "a[3:0]"
   ]
  },
  {
   "cell_type": "code",
   "execution_count": 326,
   "id": "954b4467",
   "metadata": {},
   "outputs": [],
   "source": [
    "a = 'This is a string'"
   ]
  },
  {
   "cell_type": "code",
   "execution_count": 328,
   "id": "6fc455a0",
   "metadata": {},
   "outputs": [
    {
     "data": {
      "text/plain": [
       "'is a string'"
      ]
     },
     "execution_count": 328,
     "metadata": {},
     "output_type": "execute_result"
    }
   ],
   "source": [
    "a[5:]"
   ]
  },
  {
   "cell_type": "code",
   "execution_count": 329,
   "id": "1a9bcedc",
   "metadata": {},
   "outputs": [
    {
     "data": {
      "text/plain": [
       "'is is a string'"
      ]
     },
     "execution_count": 329,
     "metadata": {},
     "output_type": "execute_result"
    }
   ],
   "source": [
    "a[2:]"
   ]
  },
  {
   "cell_type": "code",
   "execution_count": 331,
   "id": "ae9ac941",
   "metadata": {},
   "outputs": [
    {
     "data": {
      "text/plain": [
       "'This '"
      ]
     },
     "execution_count": 331,
     "metadata": {},
     "output_type": "execute_result"
    }
   ],
   "source": [
    "a[:5]"
   ]
  },
  {
   "cell_type": "code",
   "execution_count": 333,
   "id": "503a9fee",
   "metadata": {},
   "outputs": [
    {
     "data": {
      "text/plain": [
       "'This is a string'"
      ]
     },
     "execution_count": 333,
     "metadata": {},
     "output_type": "execute_result"
    }
   ],
   "source": [
    "a[:]"
   ]
  },
  {
   "cell_type": "code",
   "execution_count": 334,
   "id": "e4f04570",
   "metadata": {},
   "outputs": [
    {
     "data": {
      "text/plain": [
       "'This is a string'"
      ]
     },
     "execution_count": 334,
     "metadata": {},
     "output_type": "execute_result"
    }
   ],
   "source": [
    "a"
   ]
  },
  {
   "cell_type": "markdown",
   "id": "b565c8bc",
   "metadata": {},
   "source": [
    "- Anything that comes after the colon is not included\n",
    "- Your starting point has to come before your ending point"
   ]
  },
  {
   "cell_type": "markdown",
   "id": "dff11257",
   "metadata": {},
   "source": [
    "#### Miscelleneous"
   ]
  },
  {
   "cell_type": "code",
   "execution_count": 312,
   "id": "024cd1f2",
   "metadata": {},
   "outputs": [],
   "source": [
    "temp_string = 'Nadezhda Alliluyeva (1901–1932), also known as Nadya or Nadia, was the second wife of Soviet leader Joseph Stalin. She was born in Baku to a friend of Stalin, a fellow revolutionary, and was raised in Saint Petersburg. Alliluyeva was exposed to revolutionary activity throughout her youth. Having known Stalin from a young age, she married him when she was 18, and they had two children. Alliluyeva worked as a secretary for Bolshevik leaders, including Vladimir Lenin and Stalin, and also as an assistant in the Department of Agitation and Propaganda, before enrolling at the Industrial Academy in Moscow to study synthetic fibres and become an engineer. She had health issues, which had an adverse impact on her relationship with Stalin. She also suspected he was unfaithful, which led to frequent arguments with him. On several occasions, Alliluyeva reportedly contemplated leaving Stalin. After an argument she shot herself early in the morning of 9 November 1932.'"
   ]
  },
  {
   "cell_type": "code",
   "execution_count": 313,
   "id": "89c3a8b9",
   "metadata": {},
   "outputs": [
    {
     "data": {
      "text/plain": [
       "'Nadezhda Alliluyeva (1901–1932), also known as Nadya or Nadia, was the second wife of Soviet leader Joseph Stalin. She was born in Baku to a friend of Stalin, a fellow revolutionary, and was raised in Saint Petersburg. Alliluyeva was exposed to revolutionary activity throughout her youth. Having known Stalin from a young age, she married him when she was 18, and they had two children. Alliluyeva worked as a secretary for Bolshevik leaders, including Vladimir Lenin and Stalin, and also as an assistant in the Department of Agitation and Propaganda, before enrolling at the Industrial Academy in Moscow to study synthetic fibres and become an engineer. She had health issues, which had an adverse impact on her relationship with Stalin. She also suspected he was unfaithful, which led to frequent arguments with him. On several occasions, Alliluyeva reportedly contemplated leaving Stalin. After an argument she shot herself early in the morning of 9 November 1932.'"
      ]
     },
     "execution_count": 313,
     "metadata": {},
     "output_type": "execute_result"
    }
   ],
   "source": [
    "temp_string"
   ]
  },
  {
   "cell_type": "code",
   "execution_count": 335,
   "id": "6e55f059",
   "metadata": {},
   "outputs": [
    {
     "data": {
      "text/plain": [
       "107"
      ]
     },
     "execution_count": 335,
     "metadata": {},
     "output_type": "execute_result"
    }
   ],
   "source": [
    "temp_string.find('Stalin')"
   ]
  },
  {
   "cell_type": "code",
   "execution_count": 337,
   "id": "46d678c6",
   "metadata": {},
   "outputs": [
    {
     "data": {
      "text/plain": [
       "'Stalin. '"
      ]
     },
     "execution_count": 337,
     "metadata": {},
     "output_type": "execute_result"
    }
   ],
   "source": [
    "temp_string[107:115]"
   ]
  },
  {
   "cell_type": "markdown",
   "id": "834ae045",
   "metadata": {},
   "source": [
    "# Lists "
   ]
  },
  {
   "cell_type": "code",
   "execution_count": 338,
   "id": "e45c27cd",
   "metadata": {},
   "outputs": [],
   "source": [
    "a = [1,2,3,10.4,9.5,True,False,'Sid','puja']"
   ]
  },
  {
   "cell_type": "code",
   "execution_count": 350,
   "id": "5a5cb1ea",
   "metadata": {},
   "outputs": [
    {
     "data": {
      "text/plain": [
       "list"
      ]
     },
     "execution_count": 350,
     "metadata": {},
     "output_type": "execute_result"
    }
   ],
   "source": [
    "type(a)"
   ]
  },
  {
   "cell_type": "markdown",
   "id": "31f19a65",
   "metadata": {},
   "source": [
    "<h1><span style=\"color:red\"> The LAST ONE IS NOT INCLUDED !!!!!!!!!!!!!!!!!!!!!!!!!!!!!!!!!!!!!!!!!!!!!!!!!!!!!!!!!!!!!!!!!!!!!!!!!!!!!!!!!!!!!!!!\n",
    "</span>.</h1>\n",
    "\n",
    "![](https://media.tenor.com/6mp2Zmx2QhEAAAAM/cat-angry.gif)"
   ]
  },
  {
   "cell_type": "code",
   "execution_count": 349,
   "id": "0344a266",
   "metadata": {},
   "outputs": [
    {
     "data": {
      "text/plain": [
       "[1, 2, 3, 10.4]"
      ]
     },
     "execution_count": 349,
     "metadata": {},
     "output_type": "execute_result"
    }
   ],
   "source": [
    "# The LAST ONE IS NOT INCLUDED !!!!!!!!!!!!!!!!!!!!!!!!!!!!!!!!!!!!!!!!!!!!!!!!!!!!!!!!!!!!!!!!!!!!!!!!!!!!!!!!!!!!!!!!\n",
    "a[0:-5]"
   ]
  },
  {
   "cell_type": "code",
   "execution_count": 353,
   "id": "bf2c4c7c",
   "metadata": {},
   "outputs": [
    {
     "data": {
      "text/plain": [
       "[9.5, True, False]"
      ]
     },
     "execution_count": 353,
     "metadata": {},
     "output_type": "execute_result"
    }
   ],
   "source": [
    "a = [1,2,3,10.4,9.5,True,False,'Sid','puja']\n",
    "a[-5:-2]"
   ]
  },
  {
   "cell_type": "markdown",
   "id": "804c79b6",
   "metadata": {},
   "source": [
    "#### Your starting point has to come before your ending point"
   ]
  },
  {
   "cell_type": "code",
   "execution_count": 360,
   "id": "7b9cd841",
   "metadata": {},
   "outputs": [
    {
     "data": {
      "text/plain": [
       "[]"
      ]
     },
     "execution_count": 360,
     "metadata": {},
     "output_type": "execute_result"
    }
   ],
   "source": [
    "a = [1,2,3,10.4,9.5,True,False,'Sid','puja']\n",
    "a[300:310]"
   ]
  },
  {
   "cell_type": "code",
   "execution_count": 361,
   "id": "9398eabb",
   "metadata": {},
   "outputs": [
    {
     "data": {
      "text/plain": [
       "''"
      ]
     },
     "execution_count": 361,
     "metadata": {},
     "output_type": "execute_result"
    }
   ],
   "source": [
    "b = 'This is a string'\n",
    "b[100:110]"
   ]
  },
  {
   "cell_type": "code",
   "execution_count": 362,
   "id": "2b71ca8a",
   "metadata": {},
   "outputs": [],
   "source": [
    "z = a[300:310]"
   ]
  },
  {
   "cell_type": "code",
   "execution_count": 363,
   "id": "7a72973f",
   "metadata": {},
   "outputs": [
    {
     "data": {
      "text/plain": [
       "list"
      ]
     },
     "execution_count": 363,
     "metadata": {},
     "output_type": "execute_result"
    }
   ],
   "source": [
    "type(z)"
   ]
  },
  {
   "cell_type": "code",
   "execution_count": 364,
   "id": "e70ccb20",
   "metadata": {},
   "outputs": [],
   "source": [
    "x = b[100:110]"
   ]
  },
  {
   "cell_type": "code",
   "execution_count": 365,
   "id": "bc94761b",
   "metadata": {},
   "outputs": [
    {
     "data": {
      "text/plain": [
       "str"
      ]
     },
     "execution_count": 365,
     "metadata": {},
     "output_type": "execute_result"
    }
   ],
   "source": [
    "type(x)"
   ]
  },
  {
   "cell_type": "code",
   "execution_count": 371,
   "id": "337e3405",
   "metadata": {},
   "outputs": [
    {
     "ename": "IndexError",
     "evalue": "list index out of range",
     "output_type": "error",
     "traceback": [
      "\u001b[0;31m---------------------------------------------------------------------------\u001b[0m",
      "\u001b[0;31mIndexError\u001b[0m                                Traceback (most recent call last)",
      "\u001b[0;32m/tmp/ipykernel_412/3418884185.py\u001b[0m in \u001b[0;36m<module>\u001b[0;34m\u001b[0m\n\u001b[0;32m----> 1\u001b[0;31m \u001b[0ma\u001b[0m\u001b[0;34m[\u001b[0m\u001b[0;36m100\u001b[0m\u001b[0;34m]\u001b[0m\u001b[0;34m\u001b[0m\u001b[0;34m\u001b[0m\u001b[0m\n\u001b[0m",
      "\u001b[0;31mIndexError\u001b[0m: list index out of range"
     ]
    }
   ],
   "source": [
    "a[100]"
   ]
  },
  {
   "cell_type": "code",
   "execution_count": 372,
   "id": "6512dc5f",
   "metadata": {},
   "outputs": [
    {
     "ename": "IndexError",
     "evalue": "string index out of range",
     "output_type": "error",
     "traceback": [
      "\u001b[0;31m---------------------------------------------------------------------------\u001b[0m",
      "\u001b[0;31mIndexError\u001b[0m                                Traceback (most recent call last)",
      "\u001b[0;32m/tmp/ipykernel_412/1530824096.py\u001b[0m in \u001b[0;36m<module>\u001b[0;34m\u001b[0m\n\u001b[0;32m----> 1\u001b[0;31m \u001b[0mb\u001b[0m\u001b[0;34m[\u001b[0m\u001b[0;36m100\u001b[0m\u001b[0;34m]\u001b[0m\u001b[0;34m\u001b[0m\u001b[0;34m\u001b[0m\u001b[0m\n\u001b[0m",
      "\u001b[0;31mIndexError\u001b[0m: string index out of range"
     ]
    }
   ],
   "source": [
    "b[100]"
   ]
  },
  {
   "cell_type": "code",
   "execution_count": 396,
   "id": "bcbb66f5",
   "metadata": {},
   "outputs": [],
   "source": [
    "a = [1,2,3,10.4,9.5,True,False,'Sid','puja']"
   ]
  },
  {
   "cell_type": "code",
   "execution_count": 401,
   "id": "a3b6a050",
   "metadata": {},
   "outputs": [
    {
     "data": {
      "text/plain": [
       "[2, 3, 10.4, 9.5]"
      ]
     },
     "execution_count": 401,
     "metadata": {},
     "output_type": "execute_result"
    }
   ],
   "source": [
    "a[1:5]"
   ]
  },
  {
   "cell_type": "code",
   "execution_count": 392,
   "id": "ec571bdc",
   "metadata": {},
   "outputs": [
    {
     "data": {
      "text/plain": [
       "[1, 2, 3]"
      ]
     },
     "execution_count": 392,
     "metadata": {},
     "output_type": "execute_result"
    }
   ],
   "source": [
    "a[0:3]"
   ]
  },
  {
   "cell_type": "code",
   "execution_count": 393,
   "id": "d4b33a7d",
   "metadata": {},
   "outputs": [],
   "source": [
    "x = a[0:3]"
   ]
  },
  {
   "cell_type": "code",
   "execution_count": 394,
   "id": "4bb83d96",
   "metadata": {
    "scrolled": true
   },
   "outputs": [
    {
     "data": {
      "text/plain": [
       "[1, 2, 3]"
      ]
     },
     "execution_count": 394,
     "metadata": {},
     "output_type": "execute_result"
    }
   ],
   "source": [
    "x"
   ]
  },
  {
   "cell_type": "code",
   "execution_count": 395,
   "id": "d55fcfa9",
   "metadata": {},
   "outputs": [
    {
     "data": {
      "text/plain": [
       "list"
      ]
     },
     "execution_count": 395,
     "metadata": {},
     "output_type": "execute_result"
    }
   ],
   "source": [
    "type(x)"
   ]
  },
  {
   "cell_type": "code",
   "execution_count": 422,
   "id": "ffd01a7a",
   "metadata": {},
   "outputs": [
    {
     "data": {
      "text/plain": [
       "[]"
      ]
     },
     "execution_count": 422,
     "metadata": {},
     "output_type": "execute_result"
    }
   ],
   "source": [
    "a[0:0]"
   ]
  },
  {
   "cell_type": "markdown",
   "id": "42dbcb8c",
   "metadata": {},
   "source": [
    "# Chaining in python (All you need is logic)"
   ]
  },
  {
   "cell_type": "code",
   "execution_count": 2,
   "id": "1db50f72",
   "metadata": {},
   "outputs": [],
   "source": [
    "a = [1,2,3,10.4,9.5,True,False,'Sid','puja']"
   ]
  },
  {
   "cell_type": "code",
   "execution_count": 5,
   "id": "6fd8db92",
   "metadata": {},
   "outputs": [
    {
     "data": {
      "text/plain": [
       "'SID'"
      ]
     },
     "execution_count": 5,
     "metadata": {},
     "output_type": "execute_result"
    }
   ],
   "source": [
    "a[-2:-1][0].upper()"
   ]
  },
  {
   "cell_type": "code",
   "execution_count": 8,
   "id": "21b600a0",
   "metadata": {},
   "outputs": [
    {
     "data": {
      "text/plain": [
       "'SID'"
      ]
     },
     "execution_count": 8,
     "metadata": {},
     "output_type": "execute_result"
    }
   ],
   "source": [
    "['Sid'][0].upper()"
   ]
  },
  {
   "cell_type": "code",
   "execution_count": 9,
   "id": "36de03c6",
   "metadata": {},
   "outputs": [],
   "source": [
    "x = [1,2,3,4]"
   ]
  },
  {
   "cell_type": "code",
   "execution_count": 10,
   "id": "4ca764c6",
   "metadata": {},
   "outputs": [
    {
     "data": {
      "text/plain": [
       "1"
      ]
     },
     "execution_count": 10,
     "metadata": {},
     "output_type": "execute_result"
    }
   ],
   "source": [
    "x[0]"
   ]
  },
  {
   "cell_type": "code",
   "execution_count": 11,
   "id": "2b6bbb5b",
   "metadata": {},
   "outputs": [
    {
     "data": {
      "text/plain": [
       "4"
      ]
     },
     "execution_count": 11,
     "metadata": {},
     "output_type": "execute_result"
    }
   ],
   "source": [
    "[1,2,3,4][-1]"
   ]
  },
  {
   "cell_type": "markdown",
   "id": "743e29cd",
   "metadata": {},
   "source": [
    "# Things to cover\n",
    "- Lists, \n",
    "- List copy\n",
    "- List methods\n",
    "- String Concatenation\n",
    "- Number addition\n",
    "- F-Strings"
   ]
  },
  {
   "cell_type": "markdown",
   "id": "4c969248",
   "metadata": {},
   "source": [
    "# Item assignment is supported in lists"
   ]
  },
  {
   "cell_type": "code",
   "execution_count": 12,
   "id": "77d7c98f",
   "metadata": {},
   "outputs": [],
   "source": [
    "a = [1,2,3,10.4,9.5,True,False,'Sid','puja']"
   ]
  },
  {
   "cell_type": "code",
   "execution_count": 14,
   "id": "73577644",
   "metadata": {},
   "outputs": [],
   "source": [
    "a[3] = 100"
   ]
  },
  {
   "cell_type": "code",
   "execution_count": 25,
   "id": "0de47446",
   "metadata": {},
   "outputs": [
    {
     "data": {
      "text/plain": [
       "[1, 2, 3, 100, 9.5, True, False, 'Sid', 'puja']"
      ]
     },
     "execution_count": 25,
     "metadata": {},
     "output_type": "execute_result"
    }
   ],
   "source": [
    "a"
   ]
  },
  {
   "cell_type": "markdown",
   "id": "5e6604d6",
   "metadata": {},
   "source": [
    "# String does not support item assignment"
   ]
  },
  {
   "cell_type": "code",
   "execution_count": 23,
   "id": "6c4f2cbd",
   "metadata": {},
   "outputs": [],
   "source": [
    "b = 'Siddharth'"
   ]
  },
  {
   "cell_type": "code",
   "execution_count": 24,
   "id": "16bcadfc",
   "metadata": {},
   "outputs": [
    {
     "ename": "TypeError",
     "evalue": "'str' object does not support item assignment",
     "output_type": "error",
     "traceback": [
      "\u001b[0;31m---------------------------------------------------------------------------\u001b[0m",
      "\u001b[0;31mTypeError\u001b[0m                                 Traceback (most recent call last)",
      "\u001b[0;32m/tmp/ipykernel_312/2833040171.py\u001b[0m in \u001b[0;36m<module>\u001b[0;34m\u001b[0m\n\u001b[0;32m----> 1\u001b[0;31m \u001b[0mb\u001b[0m\u001b[0;34m[\u001b[0m\u001b[0;36m3\u001b[0m\u001b[0;34m]\u001b[0m \u001b[0;34m=\u001b[0m \u001b[0;34m'D'\u001b[0m\u001b[0;34m\u001b[0m\u001b[0;34m\u001b[0m\u001b[0m\n\u001b[0m",
      "\u001b[0;31mTypeError\u001b[0m: 'str' object does not support item assignment"
     ]
    }
   ],
   "source": [
    "b[3] = 'D'"
   ]
  },
  {
   "cell_type": "markdown",
   "id": "41e6633d",
   "metadata": {},
   "source": [
    "# List copying"
   ]
  },
  {
   "cell_type": "code",
   "execution_count": 58,
   "id": "0240f6e3",
   "metadata": {},
   "outputs": [],
   "source": [
    "a = [1,2,3]"
   ]
  },
  {
   "cell_type": "code",
   "execution_count": 59,
   "id": "88aa2bca",
   "metadata": {},
   "outputs": [
    {
     "data": {
      "text/plain": [
       "[1, 2, 3]"
      ]
     },
     "execution_count": 59,
     "metadata": {},
     "output_type": "execute_result"
    }
   ],
   "source": [
    "a"
   ]
  },
  {
   "cell_type": "code",
   "execution_count": 60,
   "id": "a7b850fb",
   "metadata": {},
   "outputs": [
    {
     "data": {
      "text/plain": [
       "list"
      ]
     },
     "execution_count": 60,
     "metadata": {},
     "output_type": "execute_result"
    }
   ],
   "source": [
    "type(a)"
   ]
  },
  {
   "cell_type": "code",
   "execution_count": 61,
   "id": "a593c54b",
   "metadata": {},
   "outputs": [],
   "source": [
    "b = a"
   ]
  },
  {
   "cell_type": "code",
   "execution_count": 62,
   "id": "6515a835",
   "metadata": {},
   "outputs": [
    {
     "data": {
      "text/plain": [
       "[1, 2, 3]"
      ]
     },
     "execution_count": 62,
     "metadata": {},
     "output_type": "execute_result"
    }
   ],
   "source": [
    "b"
   ]
  },
  {
   "cell_type": "code",
   "execution_count": 63,
   "id": "109db7b7",
   "metadata": {},
   "outputs": [
    {
     "data": {
      "text/plain": [
       "list"
      ]
     },
     "execution_count": 63,
     "metadata": {},
     "output_type": "execute_result"
    }
   ],
   "source": [
    "type(b)"
   ]
  },
  {
   "cell_type": "code",
   "execution_count": 64,
   "id": "d5e525be",
   "metadata": {},
   "outputs": [],
   "source": [
    "b[0] = 100"
   ]
  },
  {
   "cell_type": "code",
   "execution_count": 65,
   "id": "3971831b",
   "metadata": {},
   "outputs": [
    {
     "data": {
      "text/plain": [
       "[100, 2, 3]"
      ]
     },
     "execution_count": 65,
     "metadata": {},
     "output_type": "execute_result"
    }
   ],
   "source": [
    "b"
   ]
  },
  {
   "cell_type": "code",
   "execution_count": 66,
   "id": "8cd5d66f",
   "metadata": {},
   "outputs": [
    {
     "data": {
      "text/plain": [
       "[100, 2, 3]"
      ]
     },
     "execution_count": 66,
     "metadata": {},
     "output_type": "execute_result"
    }
   ],
   "source": [
    "a"
   ]
  },
  {
   "cell_type": "code",
   "execution_count": 67,
   "id": "6703c45b",
   "metadata": {},
   "outputs": [],
   "source": [
    "a[1] = 200"
   ]
  },
  {
   "cell_type": "code",
   "execution_count": 68,
   "id": "0f1d40d9",
   "metadata": {},
   "outputs": [
    {
     "data": {
      "text/plain": [
       "[100, 200, 3]"
      ]
     },
     "execution_count": 68,
     "metadata": {},
     "output_type": "execute_result"
    }
   ],
   "source": [
    "a"
   ]
  },
  {
   "cell_type": "code",
   "execution_count": 69,
   "id": "995d9700",
   "metadata": {},
   "outputs": [
    {
     "data": {
      "text/plain": [
       "[100, 200, 3]"
      ]
     },
     "execution_count": 69,
     "metadata": {},
     "output_type": "execute_result"
    }
   ],
   "source": [
    "b"
   ]
  },
  {
   "cell_type": "code",
   "execution_count": 70,
   "id": "e6436ba4",
   "metadata": {},
   "outputs": [],
   "source": [
    "a = [1,2,3]\n",
    "b = a\n",
    "c = a"
   ]
  },
  {
   "cell_type": "code",
   "execution_count": 71,
   "id": "5fb9aaf1",
   "metadata": {},
   "outputs": [
    {
     "data": {
      "text/plain": [
       "[1, 2, 3]"
      ]
     },
     "execution_count": 71,
     "metadata": {},
     "output_type": "execute_result"
    }
   ],
   "source": [
    "a"
   ]
  },
  {
   "cell_type": "code",
   "execution_count": 72,
   "id": "681c599a",
   "metadata": {},
   "outputs": [
    {
     "data": {
      "text/plain": [
       "[1, 2, 3]"
      ]
     },
     "execution_count": 72,
     "metadata": {},
     "output_type": "execute_result"
    }
   ],
   "source": [
    "b"
   ]
  },
  {
   "cell_type": "code",
   "execution_count": 73,
   "id": "a40b7820",
   "metadata": {},
   "outputs": [
    {
     "data": {
      "text/plain": [
       "[1, 2, 3]"
      ]
     },
     "execution_count": 73,
     "metadata": {},
     "output_type": "execute_result"
    }
   ],
   "source": [
    "c"
   ]
  },
  {
   "cell_type": "code",
   "execution_count": 74,
   "id": "c1e7053b",
   "metadata": {},
   "outputs": [],
   "source": [
    "c[2] = 300"
   ]
  },
  {
   "cell_type": "code",
   "execution_count": 75,
   "id": "729ea64c",
   "metadata": {},
   "outputs": [
    {
     "data": {
      "text/plain": [
       "[1, 2, 300]"
      ]
     },
     "execution_count": 75,
     "metadata": {},
     "output_type": "execute_result"
    }
   ],
   "source": [
    "c"
   ]
  },
  {
   "cell_type": "code",
   "execution_count": 76,
   "id": "d12ff720",
   "metadata": {},
   "outputs": [
    {
     "data": {
      "text/plain": [
       "[1, 2, 300]"
      ]
     },
     "execution_count": 76,
     "metadata": {},
     "output_type": "execute_result"
    }
   ],
   "source": [
    "b"
   ]
  },
  {
   "cell_type": "code",
   "execution_count": 77,
   "id": "9e1edd58",
   "metadata": {},
   "outputs": [
    {
     "data": {
      "text/plain": [
       "[1, 2, 300]"
      ]
     },
     "execution_count": 77,
     "metadata": {},
     "output_type": "execute_result"
    }
   ],
   "source": [
    "a"
   ]
  },
  {
   "cell_type": "markdown",
   "id": "58cb217b",
   "metadata": {},
   "source": [
    "# List copying"
   ]
  },
  {
   "cell_type": "code",
   "execution_count": 79,
   "id": "a2df2702",
   "metadata": {},
   "outputs": [],
   "source": [
    "a = [1,2,3]\n",
    "b = a.copy()\n",
    "c = a.copy()"
   ]
  },
  {
   "cell_type": "code",
   "execution_count": 81,
   "id": "6b655156",
   "metadata": {},
   "outputs": [
    {
     "data": {
      "text/plain": [
       "[1, 2, 3]"
      ]
     },
     "execution_count": 81,
     "metadata": {},
     "output_type": "execute_result"
    }
   ],
   "source": [
    "a"
   ]
  },
  {
   "cell_type": "code",
   "execution_count": 82,
   "id": "250bb8fc",
   "metadata": {},
   "outputs": [
    {
     "data": {
      "text/plain": [
       "[1, 2, 3]"
      ]
     },
     "execution_count": 82,
     "metadata": {},
     "output_type": "execute_result"
    }
   ],
   "source": [
    "b"
   ]
  },
  {
   "cell_type": "code",
   "execution_count": 83,
   "id": "23bfac1d",
   "metadata": {},
   "outputs": [
    {
     "data": {
      "text/plain": [
       "[1, 2, 3]"
      ]
     },
     "execution_count": 83,
     "metadata": {},
     "output_type": "execute_result"
    }
   ],
   "source": [
    "c"
   ]
  },
  {
   "cell_type": "code",
   "execution_count": 84,
   "id": "c405f146",
   "metadata": {},
   "outputs": [],
   "source": [
    "a[0] = 100"
   ]
  },
  {
   "cell_type": "code",
   "execution_count": 86,
   "id": "b1d2b98f",
   "metadata": {},
   "outputs": [
    {
     "data": {
      "text/plain": [
       "[100, 2, 3]"
      ]
     },
     "execution_count": 86,
     "metadata": {},
     "output_type": "execute_result"
    }
   ],
   "source": [
    "a"
   ]
  },
  {
   "cell_type": "code",
   "execution_count": 87,
   "id": "93a7b656",
   "metadata": {},
   "outputs": [
    {
     "data": {
      "text/plain": [
       "[1, 2, 3]"
      ]
     },
     "execution_count": 87,
     "metadata": {},
     "output_type": "execute_result"
    }
   ],
   "source": [
    "b"
   ]
  },
  {
   "cell_type": "code",
   "execution_count": 88,
   "id": "f805a15f",
   "metadata": {},
   "outputs": [
    {
     "data": {
      "text/plain": [
       "[1, 2, 3]"
      ]
     },
     "execution_count": 88,
     "metadata": {},
     "output_type": "execute_result"
    }
   ],
   "source": [
    "c"
   ]
  },
  {
   "cell_type": "code",
   "execution_count": 89,
   "id": "1363b44e",
   "metadata": {},
   "outputs": [],
   "source": [
    "b[2] = 300"
   ]
  },
  {
   "cell_type": "code",
   "execution_count": 90,
   "id": "44b26596",
   "metadata": {},
   "outputs": [
    {
     "data": {
      "text/plain": [
       "[1, 2, 300]"
      ]
     },
     "execution_count": 90,
     "metadata": {},
     "output_type": "execute_result"
    }
   ],
   "source": [
    "b"
   ]
  },
  {
   "cell_type": "code",
   "execution_count": 91,
   "id": "cc6645bb",
   "metadata": {},
   "outputs": [
    {
     "data": {
      "text/plain": [
       "[1, 2, 3]"
      ]
     },
     "execution_count": 91,
     "metadata": {},
     "output_type": "execute_result"
    }
   ],
   "source": [
    "c"
   ]
  },
  {
   "cell_type": "code",
   "execution_count": 92,
   "id": "aee0bf9a",
   "metadata": {},
   "outputs": [
    {
     "data": {
      "text/plain": [
       "[100, 2, 3]"
      ]
     },
     "execution_count": 92,
     "metadata": {},
     "output_type": "execute_result"
    }
   ],
   "source": [
    "a"
   ]
  },
  {
   "cell_type": "code",
   "execution_count": 94,
   "id": "a395dcbf",
   "metadata": {},
   "outputs": [],
   "source": [
    "# Look at the logic flow\n",
    "a = [1,2,3]\n",
    "b = a.copy()\n",
    "c = b.copy()"
   ]
  },
  {
   "cell_type": "code",
   "execution_count": 95,
   "id": "979beca7",
   "metadata": {},
   "outputs": [],
   "source": [
    "c[0] = 100"
   ]
  },
  {
   "cell_type": "code",
   "execution_count": 97,
   "id": "0a5eaf79",
   "metadata": {},
   "outputs": [
    {
     "data": {
      "text/plain": [
       "[100, 2, 3]"
      ]
     },
     "execution_count": 97,
     "metadata": {},
     "output_type": "execute_result"
    }
   ],
   "source": [
    "c"
   ]
  },
  {
   "cell_type": "code",
   "execution_count": 98,
   "id": "332323b8",
   "metadata": {},
   "outputs": [
    {
     "data": {
      "text/plain": [
       "[1, 2, 3]"
      ]
     },
     "execution_count": 98,
     "metadata": {},
     "output_type": "execute_result"
    }
   ],
   "source": [
    "b"
   ]
  },
  {
   "cell_type": "code",
   "execution_count": 99,
   "id": "c22ac21e",
   "metadata": {},
   "outputs": [
    {
     "data": {
      "text/plain": [
       "[1, 2, 3]"
      ]
     },
     "execution_count": 99,
     "metadata": {},
     "output_type": "execute_result"
    }
   ],
   "source": [
    "a"
   ]
  },
  {
   "cell_type": "markdown",
   "id": "61e0ca11",
   "metadata": {},
   "source": [
    "# List methods"
   ]
  },
  {
   "cell_type": "code",
   "execution_count": 131,
   "id": "4ad2856c",
   "metadata": {},
   "outputs": [],
   "source": [
    "a = [1,2,3,100,50]"
   ]
  },
  {
   "cell_type": "code",
   "execution_count": 132,
   "id": "92a76449",
   "metadata": {},
   "outputs": [],
   "source": [
    "a.append(4)"
   ]
  },
  {
   "cell_type": "code",
   "execution_count": 133,
   "id": "63f921cb",
   "metadata": {},
   "outputs": [
    {
     "data": {
      "text/plain": [
       "[1, 2, 3, 100, 50, 4]"
      ]
     },
     "execution_count": 133,
     "metadata": {},
     "output_type": "execute_result"
    }
   ],
   "source": [
    "a"
   ]
  },
  {
   "cell_type": "code",
   "execution_count": 134,
   "id": "e5ad1195",
   "metadata": {},
   "outputs": [],
   "source": [
    "a.reverse()"
   ]
  },
  {
   "cell_type": "code",
   "execution_count": 135,
   "id": "1f79e852",
   "metadata": {},
   "outputs": [
    {
     "data": {
      "text/plain": [
       "[4, 50, 100, 3, 2, 1]"
      ]
     },
     "execution_count": 135,
     "metadata": {},
     "output_type": "execute_result"
    }
   ],
   "source": [
    "a"
   ]
  },
  {
   "cell_type": "code",
   "execution_count": 136,
   "id": "cc7ccf2e",
   "metadata": {},
   "outputs": [],
   "source": [
    "a.sort()"
   ]
  },
  {
   "cell_type": "code",
   "execution_count": 137,
   "id": "1973730f",
   "metadata": {},
   "outputs": [
    {
     "data": {
      "text/plain": [
       "[1, 2, 3, 4, 50, 100]"
      ]
     },
     "execution_count": 137,
     "metadata": {},
     "output_type": "execute_result"
    }
   ],
   "source": [
    "a"
   ]
  },
  {
   "cell_type": "code",
   "execution_count": 138,
   "id": "99378038",
   "metadata": {},
   "outputs": [
    {
     "data": {
      "text/plain": [
       "100"
      ]
     },
     "execution_count": 138,
     "metadata": {},
     "output_type": "execute_result"
    }
   ],
   "source": [
    "a.pop()"
   ]
  },
  {
   "cell_type": "code",
   "execution_count": 141,
   "id": "7a9e6df5",
   "metadata": {},
   "outputs": [
    {
     "data": {
      "text/plain": [
       "[1, 2, 3, 4, 50]"
      ]
     },
     "execution_count": 141,
     "metadata": {},
     "output_type": "execute_result"
    }
   ],
   "source": [
    "a"
   ]
  },
  {
   "cell_type": "code",
   "execution_count": 142,
   "id": "4de4e95e",
   "metadata": {},
   "outputs": [
    {
     "ename": "TypeError",
     "evalue": "list.pop() takes no keyword arguments",
     "output_type": "error",
     "traceback": [
      "\u001b[0;31m---------------------------------------------------------------------------\u001b[0m",
      "\u001b[0;31mTypeError\u001b[0m                                 Traceback (most recent call last)",
      "\u001b[0;32m/tmp/ipykernel_312/3079259923.py\u001b[0m in \u001b[0;36m<module>\u001b[0;34m\u001b[0m\n\u001b[0;32m----> 1\u001b[0;31m \u001b[0ma\u001b[0m\u001b[0;34m.\u001b[0m\u001b[0mpop\u001b[0m\u001b[0;34m(\u001b[0m\u001b[0mindex\u001b[0m\u001b[0;34m=\u001b[0m\u001b[0;36m2\u001b[0m\u001b[0;34m)\u001b[0m\u001b[0;34m\u001b[0m\u001b[0;34m\u001b[0m\u001b[0m\n\u001b[0m",
      "\u001b[0;31mTypeError\u001b[0m: list.pop() takes no keyword arguments"
     ]
    }
   ],
   "source": [
    "a.pop(index=2)"
   ]
  },
  {
   "cell_type": "code",
   "execution_count": 143,
   "id": "b59ea0cd",
   "metadata": {},
   "outputs": [
    {
     "data": {
      "text/plain": [
       "3"
      ]
     },
     "execution_count": 143,
     "metadata": {},
     "output_type": "execute_result"
    }
   ],
   "source": [
    "a.pop(2)"
   ]
  },
  {
   "cell_type": "code",
   "execution_count": 144,
   "id": "dfa3051d",
   "metadata": {},
   "outputs": [
    {
     "data": {
      "text/plain": [
       "[1, 2, 4, 50]"
      ]
     },
     "execution_count": 144,
     "metadata": {},
     "output_type": "execute_result"
    }
   ],
   "source": [
    "a"
   ]
  },
  {
   "cell_type": "code",
   "execution_count": null,
   "id": "10840971",
   "metadata": {},
   "outputs": [],
   "source": [
    "a.append(100)"
   ]
  },
  {
   "cell_type": "markdown",
   "id": "6008e88d",
   "metadata": {},
   "source": [
    "- With ```append``` items are added at the end \n",
    "- With ```pop```, you can pop items out of a list, by default it pop's the last item\n",
    "- With ```insert```, you can insert items inside of a list."
   ]
  },
  {
   "cell_type": "markdown",
   "id": "d52b1aea",
   "metadata": {},
   "source": [
    "- String Concatenation\n",
    "- Number addition\n",
    "- F-Strings"
   ]
  },
  {
   "cell_type": "markdown",
   "id": "d27f24b1",
   "metadata": {},
   "source": [
    "# Mathematics in python"
   ]
  },
  {
   "cell_type": "code",
   "execution_count": 146,
   "id": "8598018f",
   "metadata": {},
   "outputs": [
    {
     "data": {
      "text/plain": [
       "2"
      ]
     },
     "execution_count": 146,
     "metadata": {},
     "output_type": "execute_result"
    }
   ],
   "source": [
    "1 + 1"
   ]
  },
  {
   "cell_type": "code",
   "execution_count": 147,
   "id": "4c219703",
   "metadata": {},
   "outputs": [
    {
     "data": {
      "text/plain": [
       "2.2"
      ]
     },
     "execution_count": 147,
     "metadata": {},
     "output_type": "execute_result"
    }
   ],
   "source": [
    "1.1 + 1.1"
   ]
  },
  {
   "cell_type": "code",
   "execution_count": 148,
   "id": "ce9c7c30",
   "metadata": {},
   "outputs": [
    {
     "data": {
      "text/plain": [
       "2.1"
      ]
     },
     "execution_count": 148,
     "metadata": {},
     "output_type": "execute_result"
    }
   ],
   "source": [
    "1.1 + 1"
   ]
  },
  {
   "cell_type": "code",
   "execution_count": 155,
   "id": "b97f02ac",
   "metadata": {},
   "outputs": [
    {
     "data": {
      "text/plain": [
       "0.10000000000000009"
      ]
     },
     "execution_count": 155,
     "metadata": {},
     "output_type": "execute_result"
    }
   ],
   "source": [
    "1.1 - 1"
   ]
  },
  {
   "cell_type": "code",
   "execution_count": 150,
   "id": "1f44eddc",
   "metadata": {},
   "outputs": [
    {
     "data": {
      "text/plain": [
       "5.5"
      ]
     },
     "execution_count": 150,
     "metadata": {},
     "output_type": "execute_result"
    }
   ],
   "source": [
    "1.1 * 5"
   ]
  },
  {
   "cell_type": "code",
   "execution_count": 156,
   "id": "16c3cd98",
   "metadata": {},
   "outputs": [
    {
     "data": {
      "text/plain": [
       "5"
      ]
     },
     "execution_count": 156,
     "metadata": {},
     "output_type": "execute_result"
    }
   ],
   "source": [
    "1 * 5"
   ]
  },
  {
   "cell_type": "markdown",
   "id": "8fe37742",
   "metadata": {},
   "source": [
    "Dividing gives you float"
   ]
  },
  {
   "cell_type": "code",
   "execution_count": 152,
   "id": "611e6bed",
   "metadata": {},
   "outputs": [
    {
     "data": {
      "text/plain": [
       "2.0"
      ]
     },
     "execution_count": 152,
     "metadata": {},
     "output_type": "execute_result"
    }
   ],
   "source": [
    "4/2"
   ]
  },
  {
   "cell_type": "code",
   "execution_count": 153,
   "id": "084ff6e1",
   "metadata": {},
   "outputs": [
    {
     "data": {
      "text/plain": [
       "2.0"
      ]
     },
     "execution_count": 153,
     "metadata": {},
     "output_type": "execute_result"
    }
   ],
   "source": [
    "4/2.0"
   ]
  },
  {
   "cell_type": "code",
   "execution_count": 154,
   "id": "f62be9fa",
   "metadata": {},
   "outputs": [
    {
     "data": {
      "text/plain": [
       "2.0"
      ]
     },
     "execution_count": 154,
     "metadata": {},
     "output_type": "execute_result"
    }
   ],
   "source": [
    "10/5"
   ]
  },
  {
   "cell_type": "code",
   "execution_count": 158,
   "id": "6b26b29e",
   "metadata": {},
   "outputs": [
    {
     "data": {
      "text/plain": [
       "1"
      ]
     },
     "execution_count": 158,
     "metadata": {},
     "output_type": "execute_result"
    }
   ],
   "source": [
    "10%3"
   ]
  },
  {
   "cell_type": "markdown",
   "id": "a0f8cada",
   "metadata": {},
   "source": [
    "What if we do maths for strings"
   ]
  },
  {
   "cell_type": "code",
   "execution_count": 160,
   "id": "1396584c",
   "metadata": {},
   "outputs": [],
   "source": [
    "a = 'Sid'\n",
    "b = 'Nagraj'"
   ]
  },
  {
   "cell_type": "code",
   "execution_count": 161,
   "id": "008432b9",
   "metadata": {},
   "outputs": [
    {
     "data": {
      "text/plain": [
       "'SidNagraj'"
      ]
     },
     "execution_count": 161,
     "metadata": {},
     "output_type": "execute_result"
    }
   ],
   "source": [
    "a + b"
   ]
  },
  {
   "cell_type": "code",
   "execution_count": 162,
   "id": "7f72e683",
   "metadata": {},
   "outputs": [
    {
     "ename": "TypeError",
     "evalue": "unsupported operand type(s) for -: 'str' and 'str'",
     "output_type": "error",
     "traceback": [
      "\u001b[0;31m---------------------------------------------------------------------------\u001b[0m",
      "\u001b[0;31mTypeError\u001b[0m                                 Traceback (most recent call last)",
      "\u001b[0;32m/tmp/ipykernel_312/2070517315.py\u001b[0m in \u001b[0;36m<module>\u001b[0;34m\u001b[0m\n\u001b[0;32m----> 1\u001b[0;31m \u001b[0ma\u001b[0m \u001b[0;34m-\u001b[0m \u001b[0mb\u001b[0m\u001b[0;34m\u001b[0m\u001b[0;34m\u001b[0m\u001b[0m\n\u001b[0m",
      "\u001b[0;31mTypeError\u001b[0m: unsupported operand type(s) for -: 'str' and 'str'"
     ]
    }
   ],
   "source": [
    "a - b"
   ]
  },
  {
   "cell_type": "code",
   "execution_count": 163,
   "id": "68239991",
   "metadata": {},
   "outputs": [
    {
     "ename": "TypeError",
     "evalue": "can't multiply sequence by non-int of type 'str'",
     "output_type": "error",
     "traceback": [
      "\u001b[0;31m---------------------------------------------------------------------------\u001b[0m",
      "\u001b[0;31mTypeError\u001b[0m                                 Traceback (most recent call last)",
      "\u001b[0;32m/tmp/ipykernel_312/937666681.py\u001b[0m in \u001b[0;36m<module>\u001b[0;34m\u001b[0m\n\u001b[0;32m----> 1\u001b[0;31m \u001b[0ma\u001b[0m \u001b[0;34m*\u001b[0m \u001b[0mb\u001b[0m\u001b[0;34m\u001b[0m\u001b[0;34m\u001b[0m\u001b[0m\n\u001b[0m",
      "\u001b[0;31mTypeError\u001b[0m: can't multiply sequence by non-int of type 'str'"
     ]
    }
   ],
   "source": [
    "a * b"
   ]
  },
  {
   "cell_type": "code",
   "execution_count": 164,
   "id": "b86e0d7a",
   "metadata": {},
   "outputs": [
    {
     "data": {
      "text/plain": [
       "'Sid Nagraj'"
      ]
     },
     "execution_count": 164,
     "metadata": {},
     "output_type": "execute_result"
    }
   ],
   "source": [
    "a + ' ' + b"
   ]
  },
  {
   "cell_type": "markdown",
   "id": "4b8eb04d",
   "metadata": {},
   "source": [
    "# F-strings"
   ]
  },
  {
   "cell_type": "code",
   "execution_count": 188,
   "id": "bb4b1aef",
   "metadata": {},
   "outputs": [],
   "source": [
    "d = [1,2,3]"
   ]
  },
  {
   "cell_type": "code",
   "execution_count": 189,
   "id": "342ea345",
   "metadata": {},
   "outputs": [
    {
     "data": {
      "text/plain": [
       "[1, 2, 3]"
      ]
     },
     "execution_count": 189,
     "metadata": {},
     "output_type": "execute_result"
    }
   ],
   "source": [
    "d"
   ]
  },
  {
   "cell_type": "code",
   "execution_count": 191,
   "id": "339d3bc0",
   "metadata": {},
   "outputs": [
    {
     "data": {
      "text/plain": [
       "'[1, 2, 3]'"
      ]
     },
     "execution_count": 191,
     "metadata": {},
     "output_type": "execute_result"
    }
   ],
   "source": [
    "str(d)"
   ]
  },
  {
   "cell_type": "code",
   "execution_count": 192,
   "id": "b2f0bc09",
   "metadata": {},
   "outputs": [],
   "source": [
    "e = True"
   ]
  },
  {
   "cell_type": "code",
   "execution_count": 193,
   "id": "12a3cf42",
   "metadata": {},
   "outputs": [],
   "source": [
    "c = f'This is a string called mystring {d}. This is a second line {e}'"
   ]
  },
  {
   "cell_type": "code",
   "execution_count": 194,
   "id": "ed94ebaf",
   "metadata": {},
   "outputs": [
    {
     "data": {
      "text/plain": [
       "'This is a string called mystring [1, 2, 3]. This is a second line True'"
      ]
     },
     "execution_count": 194,
     "metadata": {},
     "output_type": "execute_result"
    }
   ],
   "source": [
    "c"
   ]
  },
  {
   "cell_type": "code",
   "execution_count": 195,
   "id": "44a6f7a4",
   "metadata": {},
   "outputs": [
    {
     "data": {
      "text/plain": [
       "str"
      ]
     },
     "execution_count": 195,
     "metadata": {},
     "output_type": "execute_result"
    }
   ],
   "source": [
    "type(c)"
   ]
  },
  {
   "cell_type": "markdown",
   "id": "3bc4886c",
   "metadata": {},
   "source": [
    "# Tuples"
   ]
  },
  {
   "cell_type": "code",
   "execution_count": 212,
   "id": "2f7b3bf8",
   "metadata": {},
   "outputs": [],
   "source": [
    "a = (1,2,3, 'This is a string', True, 10.1)"
   ]
  },
  {
   "cell_type": "code",
   "execution_count": 213,
   "id": "ec056411",
   "metadata": {},
   "outputs": [
    {
     "data": {
      "text/plain": [
       "tuple"
      ]
     },
     "execution_count": 213,
     "metadata": {},
     "output_type": "execute_result"
    }
   ],
   "source": [
    "type(a)"
   ]
  },
  {
   "cell_type": "code",
   "execution_count": 215,
   "id": "6d75fd35",
   "metadata": {},
   "outputs": [
    {
     "data": {
      "text/plain": [
       "(1, 2, 3, 'This is a string', True, 10.1)"
      ]
     },
     "execution_count": 215,
     "metadata": {},
     "output_type": "execute_result"
    }
   ],
   "source": [
    "a"
   ]
  },
  {
   "cell_type": "code",
   "execution_count": 235,
   "id": "4c3ff6cc",
   "metadata": {},
   "outputs": [
    {
     "data": {
      "text/plain": [
       "str"
      ]
     },
     "execution_count": 235,
     "metadata": {},
     "output_type": "execute_result"
    }
   ],
   "source": [
    "type(a[3])"
   ]
  },
  {
   "cell_type": "code",
   "execution_count": 236,
   "id": "3bd26555",
   "metadata": {},
   "outputs": [
    {
     "data": {
      "text/plain": [
       "bool"
      ]
     },
     "execution_count": 236,
     "metadata": {},
     "output_type": "execute_result"
    }
   ],
   "source": [
    "type(a[4])"
   ]
  },
  {
   "cell_type": "code",
   "execution_count": 237,
   "id": "4c8163b5",
   "metadata": {},
   "outputs": [
    {
     "data": {
      "text/plain": [
       "float"
      ]
     },
     "execution_count": 237,
     "metadata": {},
     "output_type": "execute_result"
    }
   ],
   "source": [
    "type(a[5])"
   ]
  },
  {
   "cell_type": "code",
   "execution_count": 238,
   "id": "99b68475",
   "metadata": {},
   "outputs": [
    {
     "data": {
      "text/plain": [
       "tuple"
      ]
     },
     "execution_count": 238,
     "metadata": {},
     "output_type": "execute_result"
    }
   ],
   "source": [
    "type(a[0:0])"
   ]
  },
  {
   "cell_type": "code",
   "execution_count": 209,
   "id": "2b106004",
   "metadata": {},
   "outputs": [
    {
     "data": {
      "text/plain": [
       "(1, 2)"
      ]
     },
     "execution_count": 209,
     "metadata": {},
     "output_type": "execute_result"
    }
   ],
   "source": [
    "a[0:2]"
   ]
  },
  {
   "cell_type": "code",
   "execution_count": 231,
   "id": "da93ac60",
   "metadata": {},
   "outputs": [
    {
     "data": {
      "text/plain": [
       "tuple"
      ]
     },
     "execution_count": 231,
     "metadata": {},
     "output_type": "execute_result"
    }
   ],
   "source": [
    "type(a[0:2])"
   ]
  },
  {
   "cell_type": "markdown",
   "id": "1bc0493e",
   "metadata": {},
   "source": [
    "Same for a list"
   ]
  },
  {
   "cell_type": "code",
   "execution_count": 232,
   "id": "228bcad5",
   "metadata": {},
   "outputs": [],
   "source": [
    "b = [1,2,3]"
   ]
  },
  {
   "cell_type": "code",
   "execution_count": 234,
   "id": "0790b929",
   "metadata": {},
   "outputs": [
    {
     "data": {
      "text/plain": [
       "[]"
      ]
     },
     "execution_count": 234,
     "metadata": {},
     "output_type": "execute_result"
    }
   ],
   "source": [
    "b[0:0]"
   ]
  },
  {
   "cell_type": "markdown",
   "id": "0005ca8b",
   "metadata": {},
   "source": [
    "Complaining part, what is the difference"
   ]
  },
  {
   "cell_type": "code",
   "execution_count": 250,
   "id": "fbc9bf02",
   "metadata": {},
   "outputs": [],
   "source": [
    "a = (1,1,1,2,3)\n",
    "b = [1,2,3]"
   ]
  },
  {
   "cell_type": "code",
   "execution_count": 241,
   "id": "f8850982",
   "metadata": {},
   "outputs": [
    {
     "data": {
      "text/plain": [
       "(1, 2, 3)"
      ]
     },
     "execution_count": 241,
     "metadata": {},
     "output_type": "execute_result"
    }
   ],
   "source": [
    "a"
   ]
  },
  {
   "cell_type": "code",
   "execution_count": 242,
   "id": "3ad2ac5c",
   "metadata": {},
   "outputs": [
    {
     "data": {
      "text/plain": [
       "[1, 2, 3]"
      ]
     },
     "execution_count": 242,
     "metadata": {},
     "output_type": "execute_result"
    }
   ],
   "source": [
    "b"
   ]
  },
  {
   "cell_type": "code",
   "execution_count": 244,
   "id": "d4505db6",
   "metadata": {},
   "outputs": [],
   "source": [
    "b[0] = 100"
   ]
  },
  {
   "cell_type": "code",
   "execution_count": 246,
   "id": "b7c09b81",
   "metadata": {},
   "outputs": [
    {
     "data": {
      "text/plain": [
       "[100, 2, 3]"
      ]
     },
     "execution_count": 246,
     "metadata": {},
     "output_type": "execute_result"
    }
   ],
   "source": [
    "b"
   ]
  },
  {
   "cell_type": "code",
   "execution_count": 247,
   "id": "79f4acdd",
   "metadata": {},
   "outputs": [
    {
     "ename": "TypeError",
     "evalue": "'tuple' object does not support item assignment",
     "output_type": "error",
     "traceback": [
      "\u001b[0;31m---------------------------------------------------------------------------\u001b[0m",
      "\u001b[0;31mTypeError\u001b[0m                                 Traceback (most recent call last)",
      "\u001b[0;32m/tmp/ipykernel_312/3481528092.py\u001b[0m in \u001b[0;36m<module>\u001b[0;34m\u001b[0m\n\u001b[0;32m----> 1\u001b[0;31m \u001b[0ma\u001b[0m\u001b[0;34m[\u001b[0m\u001b[0;36m0\u001b[0m\u001b[0;34m]\u001b[0m \u001b[0;34m=\u001b[0m \u001b[0;36m100\u001b[0m\u001b[0;34m\u001b[0m\u001b[0;34m\u001b[0m\u001b[0m\n\u001b[0m",
      "\u001b[0;31mTypeError\u001b[0m: 'tuple' object does not support item assignment"
     ]
    }
   ],
   "source": [
    "a[0] = 100"
   ]
  },
  {
   "cell_type": "markdown",
   "id": "6092399c",
   "metadata": {},
   "source": [
    "#### 'tuple' object does not support item assignment"
   ]
  },
  {
   "cell_type": "markdown",
   "id": "48d07a42",
   "metadata": {},
   "source": [
    "#### Tuple methods"
   ]
  },
  {
   "cell_type": "code",
   "execution_count": 255,
   "id": "b8a7018b",
   "metadata": {},
   "outputs": [
    {
     "data": {
      "text/plain": [
       "3"
      ]
     },
     "execution_count": 255,
     "metadata": {},
     "output_type": "execute_result"
    }
   ],
   "source": [
    "a.count(1)"
   ]
  },
  {
   "cell_type": "code",
   "execution_count": 256,
   "id": "3550a711",
   "metadata": {},
   "outputs": [
    {
     "data": {
      "text/plain": [
       "(1, 1, 1, 2, 3)"
      ]
     },
     "execution_count": 256,
     "metadata": {},
     "output_type": "execute_result"
    }
   ],
   "source": [
    "a"
   ]
  },
  {
   "cell_type": "code",
   "execution_count": 258,
   "id": "15d4a36e",
   "metadata": {},
   "outputs": [
    {
     "data": {
      "text/plain": [
       "0"
      ]
     },
     "execution_count": 258,
     "metadata": {},
     "output_type": "execute_result"
    }
   ],
   "source": [
    "a.count(4)"
   ]
  },
  {
   "cell_type": "code",
   "execution_count": 260,
   "id": "04acac98",
   "metadata": {},
   "outputs": [],
   "source": [
    "?a.count"
   ]
  },
  {
   "cell_type": "code",
   "execution_count": 262,
   "id": "56000f1f",
   "metadata": {},
   "outputs": [],
   "source": [
    "# a.count(1,2)"
   ]
  },
  {
   "cell_type": "markdown",
   "id": "1d673aa0",
   "metadata": {},
   "source": [
    "# Sets"
   ]
  },
  {
   "cell_type": "code",
   "execution_count": 292,
   "id": "49cbad85",
   "metadata": {},
   "outputs": [],
   "source": [
    "a = {1,2,3,4,4,4,4,4,4, True, True, False, False, 10.1, 10.1, 'Sid', 'Sid','sid'}"
   ]
  },
  {
   "cell_type": "code",
   "execution_count": 293,
   "id": "b01da8f0",
   "metadata": {},
   "outputs": [
    {
     "data": {
      "text/plain": [
       "{1, 10.1, 2, 3, 4, False, 'Sid', 'sid'}"
      ]
     },
     "execution_count": 293,
     "metadata": {},
     "output_type": "execute_result"
    }
   ],
   "source": [
    "a"
   ]
  },
  {
   "cell_type": "code",
   "execution_count": 294,
   "id": "937bc6ec",
   "metadata": {},
   "outputs": [
    {
     "data": {
      "text/plain": [
       "set"
      ]
     },
     "execution_count": 294,
     "metadata": {},
     "output_type": "execute_result"
    }
   ],
   "source": [
    "type(a)"
   ]
  },
  {
   "cell_type": "code",
   "execution_count": 296,
   "id": "98170460",
   "metadata": {},
   "outputs": [],
   "source": [
    "a = {1,2,3,True, False}\n",
    "b = {10,20,3,True, False}"
   ]
  },
  {
   "cell_type": "code",
   "execution_count": 304,
   "id": "7452602b",
   "metadata": {},
   "outputs": [
    {
     "data": {
      "text/plain": [
       "{False, 1, 2, 3}"
      ]
     },
     "execution_count": 304,
     "metadata": {},
     "output_type": "execute_result"
    }
   ],
   "source": [
    "a"
   ]
  },
  {
   "cell_type": "code",
   "execution_count": 305,
   "id": "285b31b3",
   "metadata": {},
   "outputs": [
    {
     "data": {
      "text/plain": [
       "{False, True, 3, 10, 20}"
      ]
     },
     "execution_count": 305,
     "metadata": {},
     "output_type": "execute_result"
    }
   ],
   "source": [
    "b"
   ]
  },
  {
   "cell_type": "code",
   "execution_count": 300,
   "id": "e980b50f",
   "metadata": {},
   "outputs": [
    {
     "data": {
      "text/plain": [
       "{False, 1, 3}"
      ]
     },
     "execution_count": 300,
     "metadata": {},
     "output_type": "execute_result"
    }
   ],
   "source": [
    "a.intersection(b)"
   ]
  },
  {
   "cell_type": "code",
   "execution_count": 307,
   "id": "53f3dbc7",
   "metadata": {},
   "outputs": [
    {
     "data": {
      "text/plain": [
       "{False, 1, 3}"
      ]
     },
     "execution_count": 307,
     "metadata": {},
     "output_type": "execute_result"
    }
   ],
   "source": [
    "b.intersection(a)"
   ]
  },
  {
   "cell_type": "markdown",
   "id": "e524b2e1",
   "metadata": {},
   "source": [
    "I will get back to you on this one."
   ]
  },
  {
   "cell_type": "code",
   "execution_count": 310,
   "id": "5e028d10",
   "metadata": {},
   "outputs": [
    {
     "data": {
      "text/plain": [
       "{False, 1, 2, 3, 10, 20}"
      ]
     },
     "execution_count": 310,
     "metadata": {},
     "output_type": "execute_result"
    }
   ],
   "source": [
    "a.union(b)"
   ]
  },
  {
   "cell_type": "markdown",
   "id": "c4337fec",
   "metadata": {},
   "source": [
    "# Dictionaries"
   ]
  },
  {
   "cell_type": "code",
   "execution_count": 541,
   "id": "62c24287",
   "metadata": {},
   "outputs": [],
   "source": [
    "a = {'a':'this is value', 'b': 'This is another value', (1,2,3): 'This is another test'}"
   ]
  },
  {
   "cell_type": "code",
   "execution_count": 542,
   "id": "67900ea1",
   "metadata": {},
   "outputs": [
    {
     "data": {
      "text/plain": [
       "{'a': 'this is value',\n",
       " 'b': 'This is another value',\n",
       " (1, 2, 3): 'This is another test'}"
      ]
     },
     "execution_count": 542,
     "metadata": {},
     "output_type": "execute_result"
    }
   ],
   "source": [
    "a"
   ]
  },
  {
   "cell_type": "code",
   "execution_count": 543,
   "id": "54346af1",
   "metadata": {},
   "outputs": [
    {
     "data": {
      "text/plain": [
       "dict"
      ]
     },
     "execution_count": 543,
     "metadata": {},
     "output_type": "execute_result"
    }
   ],
   "source": [
    "type(a)"
   ]
  },
  {
   "cell_type": "code",
   "execution_count": 544,
   "id": "bbb6db98",
   "metadata": {},
   "outputs": [
    {
     "data": {
      "text/plain": [
       "'This is another test'"
      ]
     },
     "execution_count": 544,
     "metadata": {},
     "output_type": "execute_result"
    }
   ],
   "source": [
    "a[(1,2,3)]"
   ]
  },
  {
   "cell_type": "code",
   "execution_count": 545,
   "id": "b572e9e3",
   "metadata": {},
   "outputs": [
    {
     "data": {
      "text/plain": [
       "'this is value'"
      ]
     },
     "execution_count": 545,
     "metadata": {},
     "output_type": "execute_result"
    }
   ],
   "source": [
    "a['a']"
   ]
  },
  {
   "cell_type": "code",
   "execution_count": 546,
   "id": "8c4742f0",
   "metadata": {},
   "outputs": [
    {
     "data": {
      "text/plain": [
       "str"
      ]
     },
     "execution_count": 546,
     "metadata": {},
     "output_type": "execute_result"
    }
   ],
   "source": [
    "type(a['a'])"
   ]
  },
  {
   "cell_type": "code",
   "execution_count": 547,
   "id": "857b29a7",
   "metadata": {},
   "outputs": [
    {
     "data": {
      "text/plain": [
       "'This is another value'"
      ]
     },
     "execution_count": 547,
     "metadata": {},
     "output_type": "execute_result"
    }
   ],
   "source": [
    "a['b']"
   ]
  },
  {
   "cell_type": "code",
   "execution_count": 548,
   "id": "ac1a21a1",
   "metadata": {},
   "outputs": [
    {
     "ename": "KeyError",
     "evalue": "True",
     "output_type": "error",
     "traceback": [
      "\u001b[0;31m---------------------------------------------------------------------------\u001b[0m",
      "\u001b[0;31mKeyError\u001b[0m                                  Traceback (most recent call last)",
      "\u001b[0;32m/tmp/ipykernel_312/1086751943.py\u001b[0m in \u001b[0;36m<module>\u001b[0;34m\u001b[0m\n\u001b[0;32m----> 1\u001b[0;31m \u001b[0ma\u001b[0m\u001b[0;34m[\u001b[0m\u001b[0;32mTrue\u001b[0m\u001b[0;34m]\u001b[0m\u001b[0;34m\u001b[0m\u001b[0;34m\u001b[0m\u001b[0m\n\u001b[0m",
      "\u001b[0;31mKeyError\u001b[0m: True"
     ]
    }
   ],
   "source": [
    "a[True]"
   ]
  },
  {
   "cell_type": "markdown",
   "id": "e89c82af",
   "metadata": {},
   "source": [
    "Inside dictionaries, lists can not be keys"
   ]
  },
  {
   "cell_type": "markdown",
   "id": "1ba672cc",
   "metadata": {},
   "source": [
    "### Dictionary methods"
   ]
  },
  {
   "cell_type": "code",
   "execution_count": 549,
   "id": "e1c91f4e",
   "metadata": {
    "scrolled": true
   },
   "outputs": [
    {
     "data": {
      "text/plain": [
       "{'a': 'this is value',\n",
       " 'b': 'This is another value',\n",
       " (1, 2, 3): 'This is another test'}"
      ]
     },
     "execution_count": 549,
     "metadata": {},
     "output_type": "execute_result"
    }
   ],
   "source": [
    "a"
   ]
  },
  {
   "cell_type": "code",
   "execution_count": 550,
   "id": "2981faca",
   "metadata": {},
   "outputs": [
    {
     "data": {
      "text/plain": [
       "dict_items([('a', 'this is value'), ('b', 'This is another value'), ((1, 2, 3), 'This is another test')])"
      ]
     },
     "execution_count": 550,
     "metadata": {},
     "output_type": "execute_result"
    }
   ],
   "source": [
    "a.items()"
   ]
  },
  {
   "cell_type": "code",
   "execution_count": 551,
   "id": "bf0d8db4",
   "metadata": {},
   "outputs": [
    {
     "data": {
      "text/plain": [
       "dict_items"
      ]
     },
     "execution_count": 551,
     "metadata": {},
     "output_type": "execute_result"
    }
   ],
   "source": [
    "type(a.items())"
   ]
  },
  {
   "cell_type": "code",
   "execution_count": 552,
   "id": "3344e622",
   "metadata": {},
   "outputs": [
    {
     "data": {
      "text/plain": [
       "dict_keys(['a', 'b', (1, 2, 3)])"
      ]
     },
     "execution_count": 552,
     "metadata": {},
     "output_type": "execute_result"
    }
   ],
   "source": [
    "a.keys()"
   ]
  },
  {
   "cell_type": "code",
   "execution_count": 553,
   "id": "7a27f027",
   "metadata": {},
   "outputs": [
    {
     "data": {
      "text/plain": [
       "dict_keys"
      ]
     },
     "execution_count": 553,
     "metadata": {},
     "output_type": "execute_result"
    }
   ],
   "source": [
    "type(a.keys())"
   ]
  },
  {
   "cell_type": "code",
   "execution_count": 554,
   "id": "d649568a",
   "metadata": {},
   "outputs": [
    {
     "data": {
      "text/plain": [
       "dict_values(['this is value', 'This is another value', 'This is another test'])"
      ]
     },
     "execution_count": 554,
     "metadata": {},
     "output_type": "execute_result"
    }
   ],
   "source": [
    "a.values()"
   ]
  },
  {
   "cell_type": "code",
   "execution_count": 555,
   "id": "d4527c97",
   "metadata": {},
   "outputs": [
    {
     "data": {
      "text/plain": [
       "dict_values"
      ]
     },
     "execution_count": 555,
     "metadata": {},
     "output_type": "execute_result"
    }
   ],
   "source": [
    "type(a.values())"
   ]
  },
  {
   "cell_type": "code",
   "execution_count": 556,
   "id": "05431045",
   "metadata": {},
   "outputs": [
    {
     "data": {
      "text/plain": [
       "['this is value', 'This is another value', 'This is another test']"
      ]
     },
     "execution_count": 556,
     "metadata": {},
     "output_type": "execute_result"
    }
   ],
   "source": [
    "list(a.values())"
   ]
  },
  {
   "cell_type": "code",
   "execution_count": 557,
   "id": "7865b659",
   "metadata": {
    "scrolled": true
   },
   "outputs": [
    {
     "data": {
      "text/plain": [
       "['a', 'b', (1, 2, 3)]"
      ]
     },
     "execution_count": 557,
     "metadata": {},
     "output_type": "execute_result"
    }
   ],
   "source": [
    "list(a.keys())"
   ]
  },
  {
   "cell_type": "code",
   "execution_count": 558,
   "id": "6b86e7ff",
   "metadata": {},
   "outputs": [
    {
     "data": {
      "text/plain": [
       "['a', 'b', (1, 2, 3)]"
      ]
     },
     "execution_count": 558,
     "metadata": {},
     "output_type": "execute_result"
    }
   ],
   "source": [
    "list(a.keys())"
   ]
  },
  {
   "cell_type": "code",
   "execution_count": 559,
   "id": "148ee7cd",
   "metadata": {},
   "outputs": [
    {
     "data": {
      "text/plain": [
       "dict_values(['this is value', 'This is another value', 'This is another test'])"
      ]
     },
     "execution_count": 559,
     "metadata": {},
     "output_type": "execute_result"
    }
   ],
   "source": [
    "a.values()"
   ]
  },
  {
   "cell_type": "code",
   "execution_count": 572,
   "id": "f6c0cb95",
   "metadata": {},
   "outputs": [],
   "source": [
    "# There is no input for the second append\n",
    "s = list(a.values())"
   ]
  },
  {
   "cell_type": "code",
   "execution_count": 573,
   "id": "382ebb87",
   "metadata": {},
   "outputs": [
    {
     "data": {
      "text/plain": [
       "list"
      ]
     },
     "execution_count": 573,
     "metadata": {},
     "output_type": "execute_result"
    }
   ],
   "source": [
    "type(s)"
   ]
  },
  {
   "cell_type": "code",
   "execution_count": 574,
   "id": "406b1af0",
   "metadata": {},
   "outputs": [
    {
     "data": {
      "text/plain": [
       "['this is value', 'This is another value', 'This is another test']"
      ]
     },
     "execution_count": 574,
     "metadata": {},
     "output_type": "execute_result"
    }
   ],
   "source": [
    "s"
   ]
  },
  {
   "cell_type": "code",
   "execution_count": 575,
   "id": "1e1d6a2f",
   "metadata": {},
   "outputs": [],
   "source": [
    "s.append(10)"
   ]
  },
  {
   "cell_type": "code",
   "execution_count": 576,
   "id": "3e70ad96",
   "metadata": {},
   "outputs": [
    {
     "data": {
      "text/plain": [
       "['this is value', 'This is another value', 'This is another test', 10]"
      ]
     },
     "execution_count": 576,
     "metadata": {},
     "output_type": "execute_result"
    }
   ],
   "source": [
    "s"
   ]
  },
  {
   "cell_type": "code",
   "execution_count": 407,
   "id": "660e3935",
   "metadata": {},
   "outputs": [
    {
     "data": {
      "text/plain": [
       "dict_values"
      ]
     },
     "execution_count": 407,
     "metadata": {},
     "output_type": "execute_result"
    }
   ],
   "source": [
    "type(a.values())"
   ]
  },
  {
   "cell_type": "code",
   "execution_count": 422,
   "id": "d87d272c",
   "metadata": {},
   "outputs": [
    {
     "ename": "IndexError",
     "evalue": "string index out of range",
     "output_type": "error",
     "traceback": [
      "\u001b[0;31m---------------------------------------------------------------------------\u001b[0m",
      "\u001b[0;31mIndexError\u001b[0m                                Traceback (most recent call last)",
      "\u001b[0;32m/tmp/ipykernel_312/1818648282.py\u001b[0m in \u001b[0;36m<module>\u001b[0;34m\u001b[0m\n\u001b[0;32m----> 1\u001b[0;31m \u001b[0;34m'Siddharth'\u001b[0m\u001b[0;34m.\u001b[0m\u001b[0mlower\u001b[0m\u001b[0;34m(\u001b[0m\u001b[0;34m)\u001b[0m\u001b[0;34m.\u001b[0m\u001b[0mupper\u001b[0m\u001b[0;34m(\u001b[0m\u001b[0;34m)\u001b[0m\u001b[0;34m.\u001b[0m\u001b[0mcapitalize\u001b[0m\u001b[0;34m(\u001b[0m\u001b[0;34m)\u001b[0m\u001b[0;34m[\u001b[0m\u001b[0;36m100\u001b[0m\u001b[0;34m]\u001b[0m\u001b[0;34m\u001b[0m\u001b[0;34m\u001b[0m\u001b[0m\n\u001b[0m",
      "\u001b[0;31mIndexError\u001b[0m: string index out of range"
     ]
    }
   ],
   "source": [
    "'Siddharth'.lower().upper().capitalize()[100]"
   ]
  },
  {
   "cell_type": "code",
   "execution_count": 427,
   "id": "32d05ee3",
   "metadata": {},
   "outputs": [],
   "source": [
    "temp1 = 'Siddharth'.lower()"
   ]
  },
  {
   "cell_type": "code",
   "execution_count": 429,
   "id": "245c6feb",
   "metadata": {},
   "outputs": [
    {
     "data": {
      "text/plain": [
       "'siddharth'"
      ]
     },
     "execution_count": 429,
     "metadata": {},
     "output_type": "execute_result"
    }
   ],
   "source": [
    "temp1"
   ]
  },
  {
   "cell_type": "code",
   "execution_count": 431,
   "id": "b5c0c1e5",
   "metadata": {},
   "outputs": [],
   "source": [
    "temp2 = [1,2,3].append(4)"
   ]
  },
  {
   "cell_type": "code",
   "execution_count": 434,
   "id": "0da495d4",
   "metadata": {},
   "outputs": [],
   "source": [
    "temp2"
   ]
  },
  {
   "cell_type": "code",
   "execution_count": 577,
   "id": "7894b86e",
   "metadata": {},
   "outputs": [
    {
     "data": {
      "text/plain": [
       "NoneType"
      ]
     },
     "execution_count": 577,
     "metadata": {},
     "output_type": "execute_result"
    }
   ],
   "source": [
    "type(temp2)"
   ]
  },
  {
   "cell_type": "code",
   "execution_count": 579,
   "id": "f47163d8",
   "metadata": {},
   "outputs": [
    {
     "data": {
      "text/plain": [
       "dict_items([('a', 'this is value'), ('b', 'This is another value'), ((1, 2, 3), 'This is another test')])"
      ]
     },
     "execution_count": 579,
     "metadata": {},
     "output_type": "execute_result"
    }
   ],
   "source": [
    "a.items()"
   ]
  },
  {
   "cell_type": "code",
   "execution_count": 589,
   "id": "d0556866",
   "metadata": {},
   "outputs": [
    {
     "data": {
      "text/plain": [
       "dict_items"
      ]
     },
     "execution_count": 589,
     "metadata": {},
     "output_type": "execute_result"
    }
   ],
   "source": [
    "type(a.items())"
   ]
  },
  {
   "cell_type": "code",
   "execution_count": 593,
   "id": "ffad5423",
   "metadata": {},
   "outputs": [
    {
     "data": {
      "text/plain": [
       "[('a', 'this is value'),\n",
       " ('b', 'This is another value'),\n",
       " ((1, 2, 3), 'This is another test')]"
      ]
     },
     "execution_count": 593,
     "metadata": {},
     "output_type": "execute_result"
    }
   ],
   "source": [
    "list(a.items())"
   ]
  },
  {
   "cell_type": "code",
   "execution_count": 600,
   "id": "8eda68d3",
   "metadata": {},
   "outputs": [
    {
     "data": {
      "text/plain": [
       "[('a', 'this is value'),\n",
       " ('b', 'This is another value'),\n",
       " ((1, 2, 3), 'This is another test')]"
      ]
     },
     "execution_count": 600,
     "metadata": {},
     "output_type": "execute_result"
    }
   ],
   "source": [
    "list(a.items())"
   ]
  },
  {
   "cell_type": "code",
   "execution_count": 583,
   "id": "0af044a6",
   "metadata": {},
   "outputs": [
    {
     "data": {
      "text/plain": [
       "[('a', 'this is value'),\n",
       " ('b', 'This is another value'),\n",
       " ((1, 2, 3), 'This is another test')]"
      ]
     },
     "execution_count": 583,
     "metadata": {},
     "output_type": "execute_result"
    }
   ],
   "source": [
    "type(list(a.items())[0])"
   ]
  },
  {
   "cell_type": "markdown",
   "id": "b67f5e49",
   "metadata": {},
   "source": [
    "## Some methods update, some methods return (Exception: SOME  DO BOTH !!)"
   ]
  },
  {
   "cell_type": "code",
   "execution_count": 448,
   "id": "bfb70a64",
   "metadata": {},
   "outputs": [],
   "source": [
    "a = [1,2,3]"
   ]
  },
  {
   "cell_type": "code",
   "execution_count": 449,
   "id": "591370db",
   "metadata": {},
   "outputs": [
    {
     "data": {
      "text/plain": [
       "[1, 2, 3]"
      ]
     },
     "execution_count": 449,
     "metadata": {},
     "output_type": "execute_result"
    }
   ],
   "source": [
    "a"
   ]
  },
  {
   "cell_type": "code",
   "execution_count": 440,
   "id": "41092216",
   "metadata": {},
   "outputs": [
    {
     "data": {
      "text/plain": [
       "list"
      ]
     },
     "execution_count": 440,
     "metadata": {},
     "output_type": "execute_result"
    }
   ],
   "source": [
    "type(a)"
   ]
  },
  {
   "cell_type": "code",
   "execution_count": 450,
   "id": "f78d1a6d",
   "metadata": {},
   "outputs": [],
   "source": [
    "test_return = a.append(4)"
   ]
  },
  {
   "cell_type": "code",
   "execution_count": 451,
   "id": "2250512b",
   "metadata": {},
   "outputs": [
    {
     "data": {
      "text/plain": [
       "NoneType"
      ]
     },
     "execution_count": 451,
     "metadata": {},
     "output_type": "execute_result"
    }
   ],
   "source": [
    "type(test_return)"
   ]
  },
  {
   "cell_type": "code",
   "execution_count": 443,
   "id": "f55b1521",
   "metadata": {},
   "outputs": [
    {
     "data": {
      "text/plain": [
       "[1, 2, 3, 4]"
      ]
     },
     "execution_count": 443,
     "metadata": {},
     "output_type": "execute_result"
    }
   ],
   "source": [
    "a"
   ]
  },
  {
   "cell_type": "code",
   "execution_count": 521,
   "id": "0ccfe72b",
   "metadata": {},
   "outputs": [],
   "source": [
    "b = 'Siddharth'"
   ]
  },
  {
   "cell_type": "code",
   "execution_count": 523,
   "id": "802268f8",
   "metadata": {
    "scrolled": true
   },
   "outputs": [
    {
     "data": {
      "text/plain": [
       "'SIDDHARTH'"
      ]
     },
     "execution_count": 523,
     "metadata": {},
     "output_type": "execute_result"
    }
   ],
   "source": [
    "b.upper()"
   ]
  },
  {
   "cell_type": "code",
   "execution_count": 524,
   "id": "246d1df7",
   "metadata": {},
   "outputs": [
    {
     "data": {
      "text/plain": [
       "'Siddharth'"
      ]
     },
     "execution_count": 524,
     "metadata": {},
     "output_type": "execute_result"
    }
   ],
   "source": [
    "b"
   ]
  },
  {
   "cell_type": "code",
   "execution_count": 459,
   "id": "ba242c66",
   "metadata": {},
   "outputs": [],
   "source": [
    "b_upper = b.upper()"
   ]
  },
  {
   "cell_type": "code",
   "execution_count": 460,
   "id": "f66d0f56",
   "metadata": {},
   "outputs": [
    {
     "data": {
      "text/plain": [
       "'SIDDHARTH'"
      ]
     },
     "execution_count": 460,
     "metadata": {},
     "output_type": "execute_result"
    }
   ],
   "source": [
    "b_upper"
   ]
  },
  {
   "cell_type": "code",
   "execution_count": 456,
   "id": "100086b9",
   "metadata": {},
   "outputs": [
    {
     "data": {
      "text/plain": [
       "'siddharth'"
      ]
     },
     "execution_count": 456,
     "metadata": {},
     "output_type": "execute_result"
    }
   ],
   "source": [
    "b.lower()"
   ]
  },
  {
   "cell_type": "code",
   "execution_count": 461,
   "id": "e889e7f3",
   "metadata": {},
   "outputs": [],
   "source": [
    "b_lower = b.lower()"
   ]
  },
  {
   "cell_type": "code",
   "execution_count": 525,
   "id": "0bf3d6c9",
   "metadata": {},
   "outputs": [
    {
     "data": {
      "text/plain": [
       "'siddharth'"
      ]
     },
     "execution_count": 525,
     "metadata": {},
     "output_type": "execute_result"
    }
   ],
   "source": [
    "b_lower"
   ]
  },
  {
   "cell_type": "code",
   "execution_count": 526,
   "id": "abd905fc",
   "metadata": {},
   "outputs": [
    {
     "data": {
      "text/plain": [
       "'Siddharth'"
      ]
     },
     "execution_count": 526,
     "metadata": {},
     "output_type": "execute_result"
    }
   ],
   "source": [
    "b"
   ]
  },
  {
   "cell_type": "code",
   "execution_count": 472,
   "id": "66440306",
   "metadata": {},
   "outputs": [],
   "source": [
    "b = 'Siddharth'"
   ]
  },
  {
   "cell_type": "code",
   "execution_count": 475,
   "id": "824acb3d",
   "metadata": {},
   "outputs": [
    {
     "data": {
      "text/plain": [
       "2"
      ]
     },
     "execution_count": 475,
     "metadata": {},
     "output_type": "execute_result"
    }
   ],
   "source": [
    "b.count('d')"
   ]
  },
  {
   "cell_type": "code",
   "execution_count": 527,
   "id": "ec0bb856",
   "metadata": {},
   "outputs": [
    {
     "data": {
      "text/plain": [
       "'Siddharth'"
      ]
     },
     "execution_count": 527,
     "metadata": {},
     "output_type": "execute_result"
    }
   ],
   "source": [
    "b"
   ]
  },
  {
   "cell_type": "markdown",
   "id": "95fbedda",
   "metadata": {},
   "source": [
    "Doing same for list"
   ]
  },
  {
   "cell_type": "code",
   "execution_count": 528,
   "id": "0b2d1813",
   "metadata": {},
   "outputs": [],
   "source": [
    "a = [1,2,3]"
   ]
  },
  {
   "cell_type": "code",
   "execution_count": 529,
   "id": "89310702",
   "metadata": {},
   "outputs": [],
   "source": [
    "a.append(400)"
   ]
  },
  {
   "cell_type": "code",
   "execution_count": 531,
   "id": "8006d533",
   "metadata": {},
   "outputs": [
    {
     "data": {
      "text/plain": [
       "[1, 2, 3, 400]"
      ]
     },
     "execution_count": 531,
     "metadata": {},
     "output_type": "execute_result"
    }
   ],
   "source": [
    "a"
   ]
  },
  {
   "cell_type": "markdown",
   "id": "09ae55c8",
   "metadata": {},
   "source": [
    " Exceptions to this"
   ]
  },
  {
   "cell_type": "code",
   "execution_count": 532,
   "id": "6ea1dabe",
   "metadata": {},
   "outputs": [
    {
     "data": {
      "text/plain": [
       "400"
      ]
     },
     "execution_count": 532,
     "metadata": {},
     "output_type": "execute_result"
    }
   ],
   "source": [
    "a.pop()"
   ]
  },
  {
   "cell_type": "code",
   "execution_count": 533,
   "id": "d2e84a97",
   "metadata": {},
   "outputs": [
    {
     "data": {
      "text/plain": [
       "[1, 2, 3]"
      ]
     },
     "execution_count": 533,
     "metadata": {},
     "output_type": "execute_result"
    }
   ],
   "source": [
    "a"
   ]
  },
  {
   "cell_type": "code",
   "execution_count": 534,
   "id": "f7181b2d",
   "metadata": {},
   "outputs": [],
   "source": [
    "x = a.pop()"
   ]
  },
  {
   "cell_type": "code",
   "execution_count": 535,
   "id": "caec7994",
   "metadata": {},
   "outputs": [
    {
     "data": {
      "text/plain": [
       "3"
      ]
     },
     "execution_count": 535,
     "metadata": {},
     "output_type": "execute_result"
    }
   ],
   "source": [
    "x"
   ]
  },
  {
   "cell_type": "code",
   "execution_count": 536,
   "id": "cfe319ab",
   "metadata": {},
   "outputs": [
    {
     "data": {
      "text/plain": [
       "[1, 2]"
      ]
     },
     "execution_count": 536,
     "metadata": {},
     "output_type": "execute_result"
    }
   ],
   "source": [
    "a"
   ]
  },
  {
   "cell_type": "markdown",
   "id": "5ffce118",
   "metadata": {},
   "source": [
    "<h1><center>Part 2</center></h1>\n",
    "\n",
    "-----\n"
   ]
  },
  {
   "cell_type": "markdown",
   "id": "68076370",
   "metadata": {},
   "source": [
    "# Table of Contents\n",
    "\n",
    "* [Conditions](#cnds)\n",
    "* [Loops](#lps)\n",
    "* [Functions](#fncs)\n",
    "* [Built-in-Libraries](#bil)\n",
    "* [File Handling](#flhndl)"
   ]
  },
  {
   "cell_type": "markdown",
   "id": "913d4ba5",
   "metadata": {},
   "source": [
    "# For loops"
   ]
  },
  {
   "cell_type": "code",
   "execution_count": 601,
   "id": "ad05e71a",
   "metadata": {},
   "outputs": [],
   "source": [
    "a = [1,2,3,4,5]"
   ]
  },
  {
   "cell_type": "code",
   "execution_count": 603,
   "id": "dc4b305d",
   "metadata": {},
   "outputs": [
    {
     "data": {
      "text/plain": [
       "[1, 2, 3, 4, 5]"
      ]
     },
     "execution_count": 603,
     "metadata": {},
     "output_type": "execute_result"
    }
   ],
   "source": [
    "a "
   ]
  },
  {
   "cell_type": "code",
   "execution_count": 604,
   "id": "9cbbffc6",
   "metadata": {},
   "outputs": [
    {
     "data": {
      "text/plain": [
       "list"
      ]
     },
     "execution_count": 604,
     "metadata": {},
     "output_type": "execute_result"
    }
   ],
   "source": [
    "type(a)"
   ]
  },
  {
   "cell_type": "code",
   "execution_count": 605,
   "id": "3cf4cefe",
   "metadata": {},
   "outputs": [
    {
     "name": "stdout",
     "output_type": "stream",
     "text": [
      "1\n",
      "2\n",
      "3\n",
      "4\n",
      "5\n"
     ]
    }
   ],
   "source": [
    "# This a has to be an iterable object\n",
    "for i in a:\n",
    "    print(i)"
   ]
  },
  {
   "cell_type": "code",
   "execution_count": 615,
   "id": "41f97406",
   "metadata": {},
   "outputs": [
    {
     "name": "stdout",
     "output_type": "stream",
     "text": [
      "20\n",
      "<class 'int'>\n",
      "30\n",
      "----------------------------------------\n",
      "10\n",
      "<class 'int'>\n",
      "20\n",
      "----------------------------------------\n",
      "10\n",
      "<class 'int'>\n",
      "20\n",
      "----------------------------------------\n",
      "20\n",
      "<class 'int'>\n",
      "30\n",
      "----------------------------------------\n",
      "1\n",
      "<class 'int'>\n",
      "11\n",
      "----------------------------------------\n"
     ]
    }
   ],
   "source": [
    "a = [20,10,10,20,1]\n",
    "\n",
    "for i in a:\n",
    "    print(i)    \n",
    "    print(type(i))\n",
    "    print(i+10)\n",
    "    print('----------------------------------------')"
   ]
  },
  {
   "cell_type": "code",
   "execution_count": 621,
   "id": "cde0a5ee",
   "metadata": {},
   "outputs": [
    {
     "name": "stdout",
     "output_type": "stream",
     "text": [
      "<class 'int'>\n",
      "Hello\n",
      "<class 'int'>\n",
      "Hello\n",
      "<class 'str'>\n",
      "Hello\n",
      "<class 'float'>\n",
      "Hello\n",
      "<class 'bool'>\n",
      "Hello\n"
     ]
    }
   ],
   "source": [
    "a = [1,2,'Sid',100.11, True]\n",
    "\n",
    "for i in a:\n",
    "    print(type(i))\n",
    "    print('Hello')"
   ]
  },
  {
   "cell_type": "code",
   "execution_count": 622,
   "id": "6be9a688",
   "metadata": {},
   "outputs": [
    {
     "data": {
      "text/plain": [
       "[1, 2, 'Sid', 100.11, True]"
      ]
     },
     "execution_count": 622,
     "metadata": {},
     "output_type": "execute_result"
    }
   ],
   "source": [
    "a"
   ]
  },
  {
   "cell_type": "markdown",
   "id": "1ae8e2d4",
   "metadata": {},
   "source": [
    "What if we want to 100 times\n",
    "\n",
    "# For this, we have a range"
   ]
  },
  {
   "cell_type": "code",
   "execution_count": 624,
   "id": "138898b8",
   "metadata": {},
   "outputs": [
    {
     "data": {
      "text/plain": [
       "range(0, 10)"
      ]
     },
     "execution_count": 624,
     "metadata": {},
     "output_type": "execute_result"
    }
   ],
   "source": [
    "range(10)"
   ]
  },
  {
   "cell_type": "code",
   "execution_count": 625,
   "id": "be435cbf",
   "metadata": {},
   "outputs": [
    {
     "data": {
      "text/plain": [
       "range"
      ]
     },
     "execution_count": 625,
     "metadata": {},
     "output_type": "execute_result"
    }
   ],
   "source": [
    "type(range(10))"
   ]
  },
  {
   "cell_type": "code",
   "execution_count": 634,
   "id": "d43f2d0b",
   "metadata": {},
   "outputs": [
    {
     "data": {
      "text/plain": [
       "range(0, 100)"
      ]
     },
     "execution_count": 634,
     "metadata": {},
     "output_type": "execute_result"
    }
   ],
   "source": [
    "range(100)"
   ]
  },
  {
   "cell_type": "code",
   "execution_count": 656,
   "id": "9e83445d",
   "metadata": {},
   "outputs": [
    {
     "data": {
      "text/plain": [
       "range(-10, 0)"
      ]
     },
     "execution_count": 656,
     "metadata": {},
     "output_type": "execute_result"
    }
   ],
   "source": [
    "range(-10,-20)"
   ]
  },
  {
   "cell_type": "code",
   "execution_count": 667,
   "id": "b93420cd",
   "metadata": {},
   "outputs": [
    {
     "data": {
      "text/plain": [
       "range(0, 10)"
      ]
     },
     "execution_count": 667,
     "metadata": {},
     "output_type": "execute_result"
    }
   ],
   "source": [
    "range(0,10)"
   ]
  },
  {
   "cell_type": "code",
   "execution_count": 669,
   "id": "5ec93111",
   "metadata": {},
   "outputs": [
    {
     "data": {
      "text/plain": [
       "range(10, 0)"
      ]
     },
     "execution_count": 669,
     "metadata": {},
     "output_type": "execute_result"
    }
   ],
   "source": [
    "range(10,0)"
   ]
  },
  {
   "cell_type": "code",
   "execution_count": 678,
   "id": "6b790349",
   "metadata": {},
   "outputs": [
    {
     "data": {
      "text/plain": [
       "range(10, 5, -1)"
      ]
     },
     "execution_count": 678,
     "metadata": {},
     "output_type": "execute_result"
    }
   ],
   "source": [
    "range(10,5,-1)"
   ]
  },
  {
   "cell_type": "code",
   "execution_count": null,
   "id": "ad278557",
   "metadata": {},
   "outputs": [],
   "source": [
    "range(0,10,1)"
   ]
  },
  {
   "cell_type": "code",
   "execution_count": 696,
   "id": "653fa08f",
   "metadata": {},
   "outputs": [],
   "source": [
    "for i in range(10,100,-1):\n",
    "    print(i)"
   ]
  },
  {
   "cell_type": "code",
   "execution_count": 698,
   "id": "37a189d8",
   "metadata": {},
   "outputs": [],
   "source": [
    "for i in range(-10):\n",
    "    print(i)"
   ]
  },
  {
   "cell_type": "code",
   "execution_count": 702,
   "id": "27e29ff7",
   "metadata": {},
   "outputs": [],
   "source": [
    "a = [1,2,3,[10,20,30],(9,8,6),{'a':'This is a string'}]"
   ]
  },
  {
   "cell_type": "code",
   "execution_count": 704,
   "id": "ee20cdd7",
   "metadata": {},
   "outputs": [
    {
     "name": "stdout",
     "output_type": "stream",
     "text": [
      "<class 'int'>\n",
      "<class 'int'>\n",
      "<class 'int'>\n",
      "<class 'list'>\n",
      "<class 'tuple'>\n",
      "<class 'dict'>\n"
     ]
    }
   ],
   "source": [
    "for i in a:\n",
    "    print(type(i))"
   ]
  },
  {
   "cell_type": "markdown",
   "id": "d77538ae",
   "metadata": {},
   "source": [
    "# Conditions"
   ]
  },
  {
   "cell_type": "markdown",
   "id": "3f3ea824",
   "metadata": {},
   "source": [
    "# If-else Conditions"
   ]
  },
  {
   "cell_type": "code",
   "execution_count": 705,
   "id": "fa833043",
   "metadata": {},
   "outputs": [
    {
     "data": {
      "text/plain": [
       "True"
      ]
     },
     "execution_count": 705,
     "metadata": {},
     "output_type": "execute_result"
    }
   ],
   "source": [
    "10 > 0"
   ]
  },
  {
   "cell_type": "code",
   "execution_count": 706,
   "id": "23ab9567",
   "metadata": {},
   "outputs": [
    {
     "data": {
      "text/plain": [
       "False"
      ]
     },
     "execution_count": 706,
     "metadata": {},
     "output_type": "execute_result"
    }
   ],
   "source": [
    "-10 > 10"
   ]
  },
  {
   "cell_type": "code",
   "execution_count": 707,
   "id": "46c7447a",
   "metadata": {},
   "outputs": [
    {
     "data": {
      "text/plain": [
       "True"
      ]
     },
     "execution_count": 707,
     "metadata": {},
     "output_type": "execute_result"
    }
   ],
   "source": [
    "10.1 > 10"
   ]
  },
  {
   "cell_type": "code",
   "execution_count": 710,
   "id": "a3cee75a",
   "metadata": {},
   "outputs": [
    {
     "data": {
      "text/plain": [
       "False"
      ]
     },
     "execution_count": 710,
     "metadata": {},
     "output_type": "execute_result"
    }
   ],
   "source": [
    "'Sid' == 'sid'"
   ]
  },
  {
   "cell_type": "code",
   "execution_count": 713,
   "id": "8551ca3c",
   "metadata": {},
   "outputs": [
    {
     "name": "stdout",
     "output_type": "stream",
     "text": [
      "Fail\n"
     ]
    }
   ],
   "source": [
    "# Standard template for if-else\n",
    "if 10 < 0:\n",
    "    print('Success')\n",
    "else:\n",
    "    print('Fail')"
   ]
  },
  {
   "cell_type": "code",
   "execution_count": 717,
   "id": "986a0d74",
   "metadata": {},
   "outputs": [
    {
     "name": "stdout",
     "output_type": "stream",
     "text": [
      "Fail\n"
     ]
    }
   ],
   "source": [
    "# Standard template for if-elif-else\n",
    "a = 5\n",
    "if a > 10:\n",
    "    print('Success')\n",
    "elif a == 1:\n",
    "    print('middle')\n",
    "else:\n",
    "    print('Fail')"
   ]
  },
  {
   "cell_type": "code",
   "execution_count": 720,
   "id": "796c5eed",
   "metadata": {},
   "outputs": [
    {
     "name": "stdout",
     "output_type": "stream",
     "text": [
      "Fail\n"
     ]
    }
   ],
   "source": [
    "# If you want to extend this\n",
    "a = 8\n",
    "if a > 10:\n",
    "    print('Success')\n",
    "elif a == 1:\n",
    "    print('middle')\n",
    "elif a == 2:\n",
    "    print('middle2')\n",
    "elif a == 3:\n",
    "    print('middle3')\n",
    "elif a == 4:\n",
    "    print('middle4')\n",
    "elif a == 5:\n",
    "    print('middle5')\n",
    "elif a == 6:\n",
    "    print('middle6')\n",
    "elif a == 7:\n",
    "    print('middle7')\n",
    "else:\n",
    "    print('Fail')"
   ]
  },
  {
   "cell_type": "code",
   "execution_count": 733,
   "id": "dac45646",
   "metadata": {},
   "outputs": [
    {
     "name": "stdout",
     "output_type": "stream",
     "text": [
      "Success\n"
     ]
    }
   ],
   "source": [
    "if 10:\n",
    "    print('Success')\n",
    "else:\n",
    "    print('Fail')"
   ]
  },
  {
   "cell_type": "code",
   "execution_count": 734,
   "id": "e96ee193",
   "metadata": {},
   "outputs": [
    {
     "data": {
      "text/plain": [
       "True"
      ]
     },
     "execution_count": 734,
     "metadata": {},
     "output_type": "execute_result"
    }
   ],
   "source": [
    "bool(10)"
   ]
  },
  {
   "cell_type": "code",
   "execution_count": 728,
   "id": "af4d172b",
   "metadata": {},
   "outputs": [
    {
     "name": "stdout",
     "output_type": "stream",
     "text": [
      "Success\n"
     ]
    }
   ],
   "source": [
    "if 10 > 0:\n",
    "    print('Success')\n",
    "else:\n",
    "    print('Fail')"
   ]
  },
  {
   "cell_type": "code",
   "execution_count": null,
   "id": "e7093bd8",
   "metadata": {},
   "outputs": [],
   "source": [
    "if True:\n",
    "    print('Success')\n",
    "else:\n",
    "    print('Fail')"
   ]
  },
  {
   "cell_type": "code",
   "execution_count": 3,
   "id": "23bb591c",
   "metadata": {},
   "outputs": [
    {
     "name": "stdout",
     "output_type": "stream",
     "text": [
      "Please enter your input here\n"
     ]
    },
    {
     "ename": "ValueError",
     "evalue": "invalid literal for int() with base 10: ''",
     "output_type": "error",
     "traceback": [
      "\u001b[0;31m---------------------------------------------------------------------------\u001b[0m",
      "\u001b[0;31mValueError\u001b[0m                                Traceback (most recent call last)",
      "\u001b[0;32m/tmp/ipykernel_332/3110180092.py\u001b[0m in \u001b[0;36m<module>\u001b[0;34m\u001b[0m\n\u001b[1;32m      2\u001b[0m \u001b[0;31m# If you want to extend this\u001b[0m\u001b[0;34m\u001b[0m\u001b[0;34m\u001b[0m\u001b[0m\n\u001b[1;32m      3\u001b[0m \u001b[0;31m# a = 8\u001b[0m\u001b[0;34m\u001b[0m\u001b[0;34m\u001b[0m\u001b[0m\n\u001b[0;32m----> 4\u001b[0;31m \u001b[0ma\u001b[0m \u001b[0;34m=\u001b[0m \u001b[0mint\u001b[0m\u001b[0;34m(\u001b[0m\u001b[0ma\u001b[0m\u001b[0;34m)\u001b[0m\u001b[0;34m\u001b[0m\u001b[0;34m\u001b[0m\u001b[0m\n\u001b[0m\u001b[1;32m      5\u001b[0m \u001b[0;34m\u001b[0m\u001b[0m\n\u001b[1;32m      6\u001b[0m \u001b[0;32mif\u001b[0m \u001b[0ma\u001b[0m \u001b[0;34m>\u001b[0m \u001b[0;36m10\u001b[0m\u001b[0;34m:\u001b[0m\u001b[0;34m\u001b[0m\u001b[0;34m\u001b[0m\u001b[0m\n",
      "\u001b[0;31mValueError\u001b[0m: invalid literal for int() with base 10: ''"
     ]
    }
   ],
   "source": [
    "a = input('Please enter your input here')\n",
    "# If you want to extend this\n",
    "# a = 8\n",
    "a = int(a)\n",
    "\n",
    "if a > 10:\n",
    "    print('Success')\n",
    "elif a == 1:\n",
    "    print('middle')\n",
    "elif a == 2:\n",
    "    print('middle2')\n",
    "elif a == 3:\n",
    "    print('middle3')\n",
    "elif a == 4:\n",
    "    print('middle4')\n",
    "elif a == 5:\n",
    "    print('middle5')\n",
    "elif a == 6:\n",
    "    print('middle6')\n",
    "elif a == 7:\n",
    "    print('middle7')\n",
    "else:\n",
    "    print('Fail')"
   ]
  },
  {
   "cell_type": "markdown",
   "id": "4f0f6234",
   "metadata": {},
   "source": [
    "# Multiple conditions"
   ]
  },
  {
   "cell_type": "markdown",
   "id": "f58b276e",
   "metadata": {},
   "source": [
    "### And"
   ]
  },
  {
   "cell_type": "code",
   "execution_count": 4,
   "id": "69d52a90",
   "metadata": {},
   "outputs": [
    {
     "data": {
      "text/plain": [
       "True"
      ]
     },
     "execution_count": 4,
     "metadata": {},
     "output_type": "execute_result"
    }
   ],
   "source": [
    "True and True"
   ]
  },
  {
   "cell_type": "code",
   "execution_count": 5,
   "id": "2abb0fd6",
   "metadata": {},
   "outputs": [
    {
     "data": {
      "text/plain": [
       "False"
      ]
     },
     "execution_count": 5,
     "metadata": {},
     "output_type": "execute_result"
    }
   ],
   "source": [
    "True and False"
   ]
  },
  {
   "cell_type": "code",
   "execution_count": 6,
   "id": "63b9da82",
   "metadata": {},
   "outputs": [
    {
     "data": {
      "text/plain": [
       "False"
      ]
     },
     "execution_count": 6,
     "metadata": {},
     "output_type": "execute_result"
    }
   ],
   "source": [
    "False and True"
   ]
  },
  {
   "cell_type": "code",
   "execution_count": 12,
   "id": "3e90fc72",
   "metadata": {},
   "outputs": [
    {
     "data": {
      "text/plain": [
       "False"
      ]
     },
     "execution_count": 12,
     "metadata": {},
     "output_type": "execute_result"
    }
   ],
   "source": [
    "False and False"
   ]
  },
  {
   "cell_type": "markdown",
   "id": "d7847736",
   "metadata": {},
   "source": [
    "Let's do 3 together"
   ]
  },
  {
   "cell_type": "code",
   "execution_count": 13,
   "id": "45c2fee9",
   "metadata": {},
   "outputs": [
    {
     "data": {
      "text/plain": [
       "True"
      ]
     },
     "execution_count": 13,
     "metadata": {},
     "output_type": "execute_result"
    }
   ],
   "source": [
    "True and True and True"
   ]
  },
  {
   "cell_type": "code",
   "execution_count": 24,
   "id": "7bb3c842",
   "metadata": {},
   "outputs": [
    {
     "data": {
      "text/plain": [
       "False"
      ]
     },
     "execution_count": 24,
     "metadata": {},
     "output_type": "execute_result"
    }
   ],
   "source": [
    "# Let's break this down\n",
    "True and True and False"
   ]
  },
  {
   "cell_type": "code",
   "execution_count": 25,
   "id": "8b624862",
   "metadata": {},
   "outputs": [
    {
     "data": {
      "text/plain": [
       "False"
      ]
     },
     "execution_count": 25,
     "metadata": {},
     "output_type": "execute_result"
    }
   ],
   "source": [
    "# Step 1\n",
    "True and True and False"
   ]
  },
  {
   "cell_type": "code",
   "execution_count": 26,
   "id": "8579a0ad",
   "metadata": {},
   "outputs": [
    {
     "data": {
      "text/plain": [
       "True"
      ]
     },
     "execution_count": 26,
     "metadata": {},
     "output_type": "execute_result"
    }
   ],
   "source": [
    "# Step 2 \n",
    "True and True"
   ]
  },
  {
   "cell_type": "code",
   "execution_count": 27,
   "id": "d9727e33",
   "metadata": {},
   "outputs": [
    {
     "data": {
      "text/plain": [
       "False"
      ]
     },
     "execution_count": 27,
     "metadata": {},
     "output_type": "execute_result"
    }
   ],
   "source": [
    "# Step 3 \n",
    "True and False"
   ]
  },
  {
   "cell_type": "code",
   "execution_count": 15,
   "id": "a45af648",
   "metadata": {},
   "outputs": [
    {
     "data": {
      "text/plain": [
       "False"
      ]
     },
     "execution_count": 15,
     "metadata": {},
     "output_type": "execute_result"
    }
   ],
   "source": [
    "True and False and False"
   ]
  },
  {
   "cell_type": "code",
   "execution_count": 16,
   "id": "af37715b",
   "metadata": {},
   "outputs": [
    {
     "data": {
      "text/plain": [
       "False"
      ]
     },
     "execution_count": 16,
     "metadata": {},
     "output_type": "execute_result"
    }
   ],
   "source": [
    "False and False and False"
   ]
  },
  {
   "cell_type": "markdown",
   "id": "8895b49e",
   "metadata": {},
   "source": [
    "### Or"
   ]
  },
  {
   "cell_type": "code",
   "execution_count": 8,
   "id": "1c390503",
   "metadata": {},
   "outputs": [
    {
     "data": {
      "text/plain": [
       "True"
      ]
     },
     "execution_count": 8,
     "metadata": {},
     "output_type": "execute_result"
    }
   ],
   "source": [
    "True or True"
   ]
  },
  {
   "cell_type": "code",
   "execution_count": 9,
   "id": "61bbf7f3",
   "metadata": {},
   "outputs": [
    {
     "data": {
      "text/plain": [
       "True"
      ]
     },
     "execution_count": 9,
     "metadata": {},
     "output_type": "execute_result"
    }
   ],
   "source": [
    "True or False"
   ]
  },
  {
   "cell_type": "code",
   "execution_count": 10,
   "id": "55cac0f3",
   "metadata": {},
   "outputs": [
    {
     "data": {
      "text/plain": [
       "True"
      ]
     },
     "execution_count": 10,
     "metadata": {},
     "output_type": "execute_result"
    }
   ],
   "source": [
    "False or True"
   ]
  },
  {
   "cell_type": "code",
   "execution_count": 11,
   "id": "53a88a1e",
   "metadata": {},
   "outputs": [
    {
     "data": {
      "text/plain": [
       "False"
      ]
     },
     "execution_count": 11,
     "metadata": {},
     "output_type": "execute_result"
    }
   ],
   "source": [
    "False or False"
   ]
  },
  {
   "cell_type": "markdown",
   "id": "520dfdb6",
   "metadata": {},
   "source": [
    "Let's do 3 together"
   ]
  },
  {
   "cell_type": "code",
   "execution_count": 17,
   "id": "90a5708b",
   "metadata": {},
   "outputs": [
    {
     "data": {
      "text/plain": [
       "True"
      ]
     },
     "execution_count": 17,
     "metadata": {},
     "output_type": "execute_result"
    }
   ],
   "source": [
    "True or True or True"
   ]
  },
  {
   "cell_type": "code",
   "execution_count": 28,
   "id": "44e17aff",
   "metadata": {},
   "outputs": [
    {
     "data": {
      "text/plain": [
       "True"
      ]
     },
     "execution_count": 28,
     "metadata": {},
     "output_type": "execute_result"
    }
   ],
   "source": [
    "# Let's break this down\n",
    "True or True or False"
   ]
  },
  {
   "cell_type": "code",
   "execution_count": 29,
   "id": "168b3c54",
   "metadata": {},
   "outputs": [
    {
     "data": {
      "text/plain": [
       "True"
      ]
     },
     "execution_count": 29,
     "metadata": {},
     "output_type": "execute_result"
    }
   ],
   "source": [
    "# Step 1 \n",
    "True or True or False"
   ]
  },
  {
   "cell_type": "code",
   "execution_count": 30,
   "id": "3902ece4",
   "metadata": {},
   "outputs": [
    {
     "data": {
      "text/plain": [
       "True"
      ]
     },
     "execution_count": 30,
     "metadata": {},
     "output_type": "execute_result"
    }
   ],
   "source": [
    "# Step 2\n",
    "True or True"
   ]
  },
  {
   "cell_type": "code",
   "execution_count": 31,
   "id": "ec5ad67d",
   "metadata": {},
   "outputs": [
    {
     "data": {
      "text/plain": [
       "True"
      ]
     },
     "execution_count": 31,
     "metadata": {},
     "output_type": "execute_result"
    }
   ],
   "source": [
    "# Step 3\n",
    "True or False"
   ]
  },
  {
   "cell_type": "markdown",
   "id": "958afc9e",
   "metadata": {},
   "source": [
    "This the reason, why we get true"
   ]
  },
  {
   "cell_type": "code",
   "execution_count": 19,
   "id": "278f9516",
   "metadata": {},
   "outputs": [
    {
     "data": {
      "text/plain": [
       "True"
      ]
     },
     "execution_count": 19,
     "metadata": {},
     "output_type": "execute_result"
    }
   ],
   "source": [
    "True or False or False"
   ]
  },
  {
   "cell_type": "code",
   "execution_count": 20,
   "id": "019f9b59",
   "metadata": {},
   "outputs": [
    {
     "data": {
      "text/plain": [
       "True"
      ]
     },
     "execution_count": 20,
     "metadata": {},
     "output_type": "execute_result"
    }
   ],
   "source": [
    "False or False or True"
   ]
  },
  {
   "cell_type": "code",
   "execution_count": 21,
   "id": "0fa6f4b4",
   "metadata": {},
   "outputs": [
    {
     "data": {
      "text/plain": [
       "True"
      ]
     },
     "execution_count": 21,
     "metadata": {},
     "output_type": "execute_result"
    }
   ],
   "source": [
    "True or False or False or False or False or False or False or False or False or False or False or False or False"
   ]
  },
  {
   "cell_type": "markdown",
   "id": "e16a0b53",
   "metadata": {},
   "source": [
    "Now, let's do this in practice"
   ]
  },
  {
   "cell_type": "code",
   "execution_count": 36,
   "id": "5ab82c12",
   "metadata": {},
   "outputs": [
    {
     "data": {
      "text/plain": [
       "False"
      ]
     },
     "execution_count": 36,
     "metadata": {},
     "output_type": "execute_result"
    }
   ],
   "source": [
    "10 > 0 and -10 < 10 and 0 > -10 and 10 > 11"
   ]
  },
  {
   "cell_type": "code",
   "execution_count": 34,
   "id": "171adae7",
   "metadata": {},
   "outputs": [
    {
     "data": {
      "text/plain": [
       "True"
      ]
     },
     "execution_count": 34,
     "metadata": {},
     "output_type": "execute_result"
    }
   ],
   "source": [
    "10 > 0"
   ]
  },
  {
   "cell_type": "code",
   "execution_count": 35,
   "id": "c6c0bbd3",
   "metadata": {},
   "outputs": [
    {
     "data": {
      "text/plain": [
       "False"
      ]
     },
     "execution_count": 35,
     "metadata": {},
     "output_type": "execute_result"
    }
   ],
   "source": [
    "-10 > 10"
   ]
  },
  {
   "cell_type": "code",
   "execution_count": null,
   "id": "2ad51237",
   "metadata": {},
   "outputs": [],
   "source": [
    "True and False "
   ]
  },
  {
   "cell_type": "markdown",
   "id": "7cd0da6e",
   "metadata": {},
   "source": [
    "# Multiple conditions with and/or"
   ]
  },
  {
   "cell_type": "code",
   "execution_count": 37,
   "id": "024e1ff5",
   "metadata": {},
   "outputs": [
    {
     "data": {
      "text/plain": [
       "False"
      ]
     },
     "execution_count": 37,
     "metadata": {},
     "output_type": "execute_result"
    }
   ],
   "source": [
    "True & False "
   ]
  },
  {
   "cell_type": "code",
   "execution_count": 38,
   "id": "4e446e04",
   "metadata": {},
   "outputs": [
    {
     "data": {
      "text/plain": [
       "True"
      ]
     },
     "execution_count": 38,
     "metadata": {},
     "output_type": "execute_result"
    }
   ],
   "source": [
    "True & True "
   ]
  },
  {
   "cell_type": "code",
   "execution_count": 74,
   "id": "f4c3ea59",
   "metadata": {},
   "outputs": [
    {
     "data": {
      "text/plain": [
       "False"
      ]
     },
     "execution_count": 74,
     "metadata": {},
     "output_type": "execute_result"
    }
   ],
   "source": [
    "True & True & True & True & True & True & True & True & True & False "
   ]
  },
  {
   "cell_type": "markdown",
   "id": "a19f64ca",
   "metadata": {},
   "source": [
    "#### Amazing question"
   ]
  },
  {
   "cell_type": "markdown",
   "id": "f47e3b73",
   "metadata": {},
   "source": [
    "Approach 1st"
   ]
  },
  {
   "cell_type": "code",
   "execution_count": 81,
   "id": "720c369d",
   "metadata": {},
   "outputs": [
    {
     "data": {
      "text/plain": [
       "True"
      ]
     },
     "execution_count": 81,
     "metadata": {},
     "output_type": "execute_result"
    }
   ],
   "source": [
    "# Step 1 \n",
    "True and True and False or True or False and False "
   ]
  },
  {
   "cell_type": "code",
   "execution_count": 77,
   "id": "f17e2f24",
   "metadata": {},
   "outputs": [
    {
     "data": {
      "text/plain": [
       "True"
      ]
     },
     "execution_count": 77,
     "metadata": {},
     "output_type": "execute_result"
    }
   ],
   "source": [
    "# Step 2\n",
    "True and False or True or False and False "
   ]
  },
  {
   "cell_type": "code",
   "execution_count": 78,
   "id": "7195dd1d",
   "metadata": {},
   "outputs": [
    {
     "data": {
      "text/plain": [
       "True"
      ]
     },
     "execution_count": 78,
     "metadata": {},
     "output_type": "execute_result"
    }
   ],
   "source": [
    "# Step 3 \n",
    "False or True or False and False "
   ]
  },
  {
   "cell_type": "code",
   "execution_count": null,
   "id": "7eda118e",
   "metadata": {},
   "outputs": [],
   "source": [
    "# Step 4 \n",
    "False or True or False and False "
   ]
  },
  {
   "cell_type": "code",
   "execution_count": 79,
   "id": "d48ad589",
   "metadata": {},
   "outputs": [
    {
     "data": {
      "text/plain": [
       "True"
      ]
     },
     "execution_count": 79,
     "metadata": {},
     "output_type": "execute_result"
    }
   ],
   "source": [
    "# Step 5\n",
    "True or False and False "
   ]
  },
  {
   "cell_type": "code",
   "execution_count": 80,
   "id": "db4a034e",
   "metadata": {},
   "outputs": [
    {
     "data": {
      "text/plain": [
       "False"
      ]
     },
     "execution_count": 80,
     "metadata": {},
     "output_type": "execute_result"
    }
   ],
   "source": [
    "# Step 6\n",
    "True and False "
   ]
  },
  {
   "cell_type": "markdown",
   "id": "2e82c7ec",
   "metadata": {},
   "source": [
    "Approach 2nd, And's are done 1st"
   ]
  },
  {
   "cell_type": "code",
   "execution_count": 82,
   "id": "bf794ff3",
   "metadata": {},
   "outputs": [
    {
     "data": {
      "text/plain": [
       "True"
      ]
     },
     "execution_count": 82,
     "metadata": {},
     "output_type": "execute_result"
    }
   ],
   "source": [
    "# Step 1 \n",
    "True and True and False or True or False and False "
   ]
  },
  {
   "cell_type": "code",
   "execution_count": 83,
   "id": "986263cd",
   "metadata": {},
   "outputs": [
    {
     "data": {
      "text/plain": [
       "True"
      ]
     },
     "execution_count": 83,
     "metadata": {},
     "output_type": "execute_result"
    }
   ],
   "source": [
    "# Step 2\n",
    "True and False or True or False and False "
   ]
  },
  {
   "cell_type": "code",
   "execution_count": 84,
   "id": "450c8d52",
   "metadata": {},
   "outputs": [
    {
     "data": {
      "text/plain": [
       "True"
      ]
     },
     "execution_count": 84,
     "metadata": {},
     "output_type": "execute_result"
    }
   ],
   "source": [
    "# Step 3 \n",
    "False or True or False and False "
   ]
  },
  {
   "cell_type": "code",
   "execution_count": 85,
   "id": "4720ebd8",
   "metadata": {},
   "outputs": [
    {
     "data": {
      "text/plain": [
       "True"
      ]
     },
     "execution_count": 85,
     "metadata": {},
     "output_type": "execute_result"
    }
   ],
   "source": [
    "# Step 4 \n",
    "False or True or False"
   ]
  },
  {
   "cell_type": "code",
   "execution_count": 86,
   "id": "025c8464",
   "metadata": {},
   "outputs": [
    {
     "data": {
      "text/plain": [
       "True"
      ]
     },
     "execution_count": 86,
     "metadata": {},
     "output_type": "execute_result"
    }
   ],
   "source": [
    "# Step 5\n",
    "True or False"
   ]
  },
  {
   "cell_type": "code",
   "execution_count": 87,
   "id": "ba1b2a32",
   "metadata": {},
   "outputs": [
    {
     "data": {
      "text/plain": [
       "True"
      ]
     },
     "execution_count": 87,
     "metadata": {},
     "output_type": "execute_result"
    }
   ],
   "source": [
    "# Step 6\n",
    "True"
   ]
  },
  {
   "cell_type": "markdown",
   "id": "87b55609",
   "metadata": {},
   "source": [
    "What if we use brackets, to overcome this behaviour"
   ]
  },
  {
   "cell_type": "markdown",
   "id": "1ead76f8",
   "metadata": {},
   "source": [
    "Approach 3rd, let's use brackets"
   ]
  },
  {
   "cell_type": "code",
   "execution_count": 90,
   "id": "f1ca2d69",
   "metadata": {},
   "outputs": [
    {
     "data": {
      "text/plain": [
       "True"
      ]
     },
     "execution_count": 90,
     "metadata": {},
     "output_type": "execute_result"
    }
   ],
   "source": [
    "# Step 1 \n",
    "(True and True) and (False or (True or False and False))"
   ]
  },
  {
   "cell_type": "code",
   "execution_count": 91,
   "id": "39c16f1d",
   "metadata": {},
   "outputs": [
    {
     "data": {
      "text/plain": [
       "True"
      ]
     },
     "execution_count": 91,
     "metadata": {},
     "output_type": "execute_result"
    }
   ],
   "source": [
    "# Step 2\n",
    "True and (False or (True or False and False))"
   ]
  },
  {
   "cell_type": "code",
   "execution_count": 92,
   "id": "7aaddd12",
   "metadata": {},
   "outputs": [
    {
     "data": {
      "text/plain": [
       "True"
      ]
     },
     "execution_count": 92,
     "metadata": {},
     "output_type": "execute_result"
    }
   ],
   "source": [
    "# Step 3 \n",
    "True and (False or (True or False))"
   ]
  },
  {
   "cell_type": "code",
   "execution_count": 93,
   "id": "2da97905",
   "metadata": {},
   "outputs": [
    {
     "data": {
      "text/plain": [
       "True"
      ]
     },
     "execution_count": 93,
     "metadata": {},
     "output_type": "execute_result"
    }
   ],
   "source": [
    "# Step 4 \n",
    "True and (False or True)"
   ]
  },
  {
   "cell_type": "code",
   "execution_count": 94,
   "id": "89e3e288",
   "metadata": {},
   "outputs": [
    {
     "data": {
      "text/plain": [
       "True"
      ]
     },
     "execution_count": 94,
     "metadata": {},
     "output_type": "execute_result"
    }
   ],
   "source": [
    "# Step 5\n",
    "True and True"
   ]
  },
  {
   "cell_type": "code",
   "execution_count": 95,
   "id": "a3e19669",
   "metadata": {
    "scrolled": true
   },
   "outputs": [
    {
     "data": {
      "text/plain": [
       "True"
      ]
     },
     "execution_count": 95,
     "metadata": {},
     "output_type": "execute_result"
    }
   ],
   "source": [
    "# Step 6\n",
    "True"
   ]
  },
  {
   "cell_type": "markdown",
   "id": "8824e8be",
   "metadata": {},
   "source": [
    "### Practice question\n",
    "Write a if condtion, if a variable, is \n",
    "- \"SIDDHARTH\" or \n",
    "- \"siddharth\" or \n",
    "- \"Siddharth\", \n",
    "\n",
    "print \"yes\", otherwise print \"no\""
   ]
  },
  {
   "cell_type": "code",
   "execution_count": 43,
   "id": "9a5b2d9a",
   "metadata": {},
   "outputs": [],
   "source": [
    "a = 'Siddharth'"
   ]
  },
  {
   "cell_type": "code",
   "execution_count": 44,
   "id": "99505d6a",
   "metadata": {},
   "outputs": [
    {
     "data": {
      "text/plain": [
       "False"
      ]
     },
     "execution_count": 44,
     "metadata": {},
     "output_type": "execute_result"
    }
   ],
   "source": [
    "# 1st condition\n",
    "a == 'SIDDHARTH'"
   ]
  },
  {
   "cell_type": "code",
   "execution_count": 45,
   "id": "9ce77d04",
   "metadata": {},
   "outputs": [
    {
     "data": {
      "text/plain": [
       "False"
      ]
     },
     "execution_count": 45,
     "metadata": {},
     "output_type": "execute_result"
    }
   ],
   "source": [
    "# 2nd condition\n",
    "a == 'siddharth'"
   ]
  },
  {
   "cell_type": "code",
   "execution_count": 46,
   "id": "bdae06f5",
   "metadata": {},
   "outputs": [
    {
     "data": {
      "text/plain": [
       "True"
      ]
     },
     "execution_count": 46,
     "metadata": {},
     "output_type": "execute_result"
    }
   ],
   "source": [
    "# 3rd condition\n",
    "a == \"Siddharth\""
   ]
  },
  {
   "cell_type": "code",
   "execution_count": 50,
   "id": "2c466310",
   "metadata": {},
   "outputs": [
    {
     "data": {
      "text/plain": [
       "True"
      ]
     },
     "execution_count": 50,
     "metadata": {},
     "output_type": "execute_result"
    }
   ],
   "source": [
    "False or False or True"
   ]
  },
  {
   "cell_type": "markdown",
   "id": "b6da07cc",
   "metadata": {},
   "source": [
    "When my \"a\" variable is \"Siddharth\", this should be true"
   ]
  },
  {
   "cell_type": "code",
   "execution_count": 67,
   "id": "8cd569b1",
   "metadata": {},
   "outputs": [],
   "source": [
    "a = 'Siddharth'"
   ]
  },
  {
   "cell_type": "code",
   "execution_count": 68,
   "id": "53c1bd6b",
   "metadata": {},
   "outputs": [
    {
     "name": "stdout",
     "output_type": "stream",
     "text": [
      "yes\n"
     ]
    }
   ],
   "source": [
    "# Step 1 \n",
    "if a == 'SIDDHARTH' or a == 'siddharth' or a == \"Siddharth\":\n",
    "    print(\"yes\")\n",
    "else:\n",
    "    print(\"no\")"
   ]
  },
  {
   "cell_type": "code",
   "execution_count": 56,
   "id": "2091f70a",
   "metadata": {},
   "outputs": [
    {
     "name": "stdout",
     "output_type": "stream",
     "text": [
      "yes\n"
     ]
    }
   ],
   "source": [
    "# Step 2\n",
    "if False or False or True:\n",
    "    print(\"yes\")\n",
    "else:\n",
    "    print(\"no\")"
   ]
  },
  {
   "cell_type": "code",
   "execution_count": 57,
   "id": "0a677fb2",
   "metadata": {},
   "outputs": [
    {
     "name": "stdout",
     "output_type": "stream",
     "text": [
      "yes\n"
     ]
    }
   ],
   "source": [
    "# Step 3 \n",
    "if True:\n",
    "    print(\"yes\")\n",
    "else:\n",
    "    print(\"no\")"
   ]
  },
  {
   "cell_type": "code",
   "execution_count": 58,
   "id": "4b55a234",
   "metadata": {},
   "outputs": [
    {
     "name": "stdout",
     "output_type": "stream",
     "text": [
      "yes\n"
     ]
    }
   ],
   "source": [
    "# Step 4\n",
    "print(\"yes\")"
   ]
  },
  {
   "cell_type": "markdown",
   "id": "1972d6f3",
   "metadata": {},
   "source": [
    "# Loops and conditions together"
   ]
  },
  {
   "cell_type": "code",
   "execution_count": 745,
   "id": "a6b453cc",
   "metadata": {},
   "outputs": [
    {
     "name": "stdout",
     "output_type": "stream",
     "text": [
      "6\n",
      "7\n",
      "8\n",
      "9\n"
     ]
    }
   ],
   "source": [
    "for i in range(10):\n",
    "    if i > 5:\n",
    "        print(i)"
   ]
  },
  {
   "cell_type": "code",
   "execution_count": 753,
   "id": "2bae0688",
   "metadata": {},
   "outputs": [
    {
     "name": "stdout",
     "output_type": "stream",
     "text": [
      "100.11\n"
     ]
    }
   ],
   "source": [
    "for i in a:\n",
    "    if i > 5:\n",
    "        print(i)"
   ]
  },
  {
   "cell_type": "code",
   "execution_count": 760,
   "id": "35ab97cb",
   "metadata": {},
   "outputs": [],
   "source": [
    "# Add 10 to all the values, using loop and return a new list\n",
    "a = [1,2,3,4,5]"
   ]
  },
  {
   "cell_type": "code",
   "execution_count": 766,
   "id": "71a557ed",
   "metadata": {},
   "outputs": [
    {
     "name": "stdout",
     "output_type": "stream",
     "text": [
      "[11]\n",
      "[11, 12]\n",
      "[11, 12, 13]\n",
      "[11, 12, 13, 14]\n",
      "[11, 12, 13, 14, 15]\n"
     ]
    }
   ],
   "source": [
    "b = []\n",
    "for i in a:\n",
    "    c = i + 10\n",
    "    b.append(c)\n",
    "    print(b)"
   ]
  },
  {
   "cell_type": "code",
   "execution_count": 764,
   "id": "ed6b4998",
   "metadata": {},
   "outputs": [
    {
     "data": {
      "text/plain": [
       "[11, 12, 13, 14, 15]"
      ]
     },
     "execution_count": 764,
     "metadata": {},
     "output_type": "execute_result"
    }
   ],
   "source": [
    "b"
   ]
  },
  {
   "cell_type": "markdown",
   "id": "36a01f8d",
   "metadata": {},
   "source": [
    "# Things to cover\n",
    "- Is string iterable ?\n",
    "- In operator ?\n",
    "- Nested If\n",
    "- 'is' operator\n",
    "- Indentation\n",
    "- \"not\" operator\n",
    "- While loops\n",
    "- Functions\n",
    "- +="
   ]
  },
  {
   "cell_type": "markdown",
   "id": "4305e45e",
   "metadata": {},
   "source": [
    "# Is string iterable ? (Iterable is if you can loop over it)"
   ]
  },
  {
   "cell_type": "code",
   "execution_count": 96,
   "id": "fb9393b9",
   "metadata": {},
   "outputs": [],
   "source": [
    "a = \"Lionel Messi\""
   ]
  },
  {
   "cell_type": "code",
   "execution_count": 99,
   "id": "ce761342",
   "metadata": {},
   "outputs": [
    {
     "name": "stdout",
     "output_type": "stream",
     "text": [
      "L\n",
      "-----------------------------\n",
      "I\n",
      "-----------------------------\n",
      "O\n",
      "-----------------------------\n",
      "N\n",
      "-----------------------------\n",
      "E\n",
      "-----------------------------\n",
      "L\n",
      "-----------------------------\n",
      " \n",
      "-----------------------------\n",
      "M\n",
      "-----------------------------\n",
      "E\n",
      "-----------------------------\n",
      "S\n",
      "-----------------------------\n",
      "S\n",
      "-----------------------------\n",
      "I\n",
      "-----------------------------\n"
     ]
    }
   ],
   "source": [
    "for i in a:\n",
    "    print(i.upper())\n",
    "    print('-----------------------------')"
   ]
  },
  {
   "cell_type": "markdown",
   "id": "9d991954",
   "metadata": {},
   "source": [
    "# In operator ?"
   ]
  },
  {
   "cell_type": "code",
   "execution_count": 102,
   "id": "0f18b55e",
   "metadata": {},
   "outputs": [],
   "source": [
    "a = ['Ronaldo', 'Messi', 'Modric', 'Xavi', 'Busquets']"
   ]
  },
  {
   "cell_type": "markdown",
   "id": "a98d5463",
   "metadata": {},
   "source": [
    "#### Interesting Question\n",
    "\n",
    "Write a loop and check if 'Ronaldo' is there in the list a"
   ]
  },
  {
   "cell_type": "code",
   "execution_count": 111,
   "id": "fc9bb71d",
   "metadata": {},
   "outputs": [
    {
     "name": "stdout",
     "output_type": "stream",
     "text": [
      "Ronaldo\n",
      "Messi\n",
      "Modric\n",
      "Xavi\n",
      "Busquets\n"
     ]
    }
   ],
   "source": [
    "# Step 1 \n",
    "for i in a:\n",
    "    print(i)"
   ]
  },
  {
   "cell_type": "code",
   "execution_count": 112,
   "id": "a7f457de",
   "metadata": {},
   "outputs": [
    {
     "data": {
      "text/plain": [
       "'Ronaldo'"
      ]
     },
     "execution_count": 112,
     "metadata": {},
     "output_type": "execute_result"
    }
   ],
   "source": [
    "a[0]"
   ]
  },
  {
   "cell_type": "code",
   "execution_count": 113,
   "id": "75c6e4ce",
   "metadata": {},
   "outputs": [
    {
     "data": {
      "text/plain": [
       "True"
      ]
     },
     "execution_count": 113,
     "metadata": {},
     "output_type": "execute_result"
    }
   ],
   "source": [
    "# Rough\n",
    "'Ronaldo' == \"Ronaldo\""
   ]
  },
  {
   "cell_type": "code",
   "execution_count": 108,
   "id": "8511997d",
   "metadata": {},
   "outputs": [
    {
     "data": {
      "text/plain": [
       "False"
      ]
     },
     "execution_count": 108,
     "metadata": {},
     "output_type": "execute_result"
    }
   ],
   "source": [
    "a[1] == \"Ronaldo\""
   ]
  },
  {
   "cell_type": "code",
   "execution_count": 167,
   "id": "0a6f7f16",
   "metadata": {},
   "outputs": [
    {
     "name": "stdout",
     "output_type": "stream",
     "text": [
      "No\n",
      "Yes\n",
      "No\n",
      "No\n",
      "No\n",
      "Yes\n"
     ]
    }
   ],
   "source": [
    "# Step 2\n",
    "a = ['Messi', 'Ronaldo', 'Modric', 'Xavi', 'Busquets','Ronaldo']\n",
    "for i in a:\n",
    "    temp = False or i == \"Ronaldo\"\n",
    "    if i == \"Ronaldo\":\n",
    "            print('Yes')\n",
    "    else:\n",
    "        print('No')"
   ]
  },
  {
   "cell_type": "code",
   "execution_count": 161,
   "id": "dc873b25",
   "metadata": {},
   "outputs": [
    {
     "data": {
      "text/plain": [
       "True"
      ]
     },
     "execution_count": 161,
     "metadata": {},
     "output_type": "execute_result"
    }
   ],
   "source": [
    "# When you do this\n",
    "'Ronaldo' in a"
   ]
  },
  {
   "cell_type": "code",
   "execution_count": 179,
   "id": "098d4ee3",
   "metadata": {},
   "outputs": [],
   "source": [
    "# a = ['Messi', 'Ronaldo', 'Modric', 'Xavi', 'Busquets','Ronaldo']\n",
    "# for i in a:\n",
    "#     temp = False \n",
    "#     new_temp = temp or i == \"Ronaldo\""
   ]
  },
  {
   "cell_type": "code",
   "execution_count": 175,
   "id": "14710367",
   "metadata": {},
   "outputs": [
    {
     "data": {
      "text/plain": [
       "True"
      ]
     },
     "execution_count": 175,
     "metadata": {},
     "output_type": "execute_result"
    }
   ],
   "source": [
    "'Ronaldo' in a"
   ]
  },
  {
   "cell_type": "code",
   "execution_count": 176,
   "id": "b36f5183",
   "metadata": {},
   "outputs": [
    {
     "data": {
      "text/plain": [
       "False"
      ]
     },
     "execution_count": 176,
     "metadata": {},
     "output_type": "execute_result"
    }
   ],
   "source": [
    "'Ronal' in a"
   ]
  },
  {
   "cell_type": "code",
   "execution_count": 169,
   "id": "1a417c91",
   "metadata": {},
   "outputs": [],
   "source": [
    "b = \"Siddharth\""
   ]
  },
  {
   "cell_type": "code",
   "execution_count": 177,
   "id": "93b7e7bd",
   "metadata": {},
   "outputs": [
    {
     "data": {
      "text/plain": [
       "False"
      ]
     },
     "execution_count": 177,
     "metadata": {},
     "output_type": "execute_result"
    }
   ],
   "source": [
    "'Sidh' in b"
   ]
  },
  {
   "cell_type": "markdown",
   "id": "773602a8",
   "metadata": {},
   "source": [
    "# Not operator"
   ]
  },
  {
   "cell_type": "code",
   "execution_count": 182,
   "id": "d8e4f797",
   "metadata": {},
   "outputs": [
    {
     "data": {
      "text/plain": [
       "True"
      ]
     },
     "execution_count": 182,
     "metadata": {},
     "output_type": "execute_result"
    }
   ],
   "source": [
    "True"
   ]
  },
  {
   "cell_type": "code",
   "execution_count": 183,
   "id": "8644c371",
   "metadata": {},
   "outputs": [
    {
     "data": {
      "text/plain": [
       "False"
      ]
     },
     "execution_count": 183,
     "metadata": {},
     "output_type": "execute_result"
    }
   ],
   "source": [
    "not True"
   ]
  },
  {
   "cell_type": "code",
   "execution_count": 184,
   "id": "54839617",
   "metadata": {},
   "outputs": [
    {
     "data": {
      "text/plain": [
       "False"
      ]
     },
     "execution_count": 184,
     "metadata": {},
     "output_type": "execute_result"
    }
   ],
   "source": [
    "False "
   ]
  },
  {
   "cell_type": "code",
   "execution_count": 185,
   "id": "82bffb67",
   "metadata": {},
   "outputs": [
    {
     "data": {
      "text/plain": [
       "True"
      ]
     },
     "execution_count": 185,
     "metadata": {},
     "output_type": "execute_result"
    }
   ],
   "source": [
    "not False "
   ]
  },
  {
   "cell_type": "code",
   "execution_count": 187,
   "id": "4556d4b0",
   "metadata": {},
   "outputs": [
    {
     "data": {
      "text/plain": [
       "True"
      ]
     },
     "execution_count": 187,
     "metadata": {},
     "output_type": "execute_result"
    }
   ],
   "source": [
    "10 > 0"
   ]
  },
  {
   "cell_type": "code",
   "execution_count": 188,
   "id": "52f2d0f1",
   "metadata": {},
   "outputs": [
    {
     "data": {
      "text/plain": [
       "False"
      ]
     },
     "execution_count": 188,
     "metadata": {},
     "output_type": "execute_result"
    }
   ],
   "source": [
    "not 10 > 0"
   ]
  },
  {
   "cell_type": "markdown",
   "id": "1f2ef44c",
   "metadata": {},
   "source": [
    "- Indentation\n",
    "- Nested it's\n",
    "- While loops\n",
    "- Functions\n",
    "- +="
   ]
  },
  {
   "cell_type": "markdown",
   "id": "d6cbcad5",
   "metadata": {},
   "source": [
    "# Nested if's"
   ]
  },
  {
   "cell_type": "code",
   "execution_count": 431,
   "id": "a5def97b",
   "metadata": {},
   "outputs": [
    {
     "name": "stdout",
     "output_type": "stream",
     "text": [
      "1\n",
      "3\n",
      "Hello world\n"
     ]
    }
   ],
   "source": [
    "# Step 1 \n",
    "if 10 > 0:\n",
    "    print('1')\n",
    "    if 10 > 0:\n",
    "        print('3')\n",
    "        print('Hello world')\n",
    "    else:\n",
    "        print('4')    \n",
    "else:\n",
    "    print('2')"
   ]
  },
  {
   "cell_type": "code",
   "execution_count": 193,
   "id": "05bafeb9",
   "metadata": {},
   "outputs": [
    {
     "name": "stdout",
     "output_type": "stream",
     "text": [
      "1\n",
      "3\n"
     ]
    }
   ],
   "source": [
    "# Step 2 \n",
    "print('1')\n",
    "if 10 > 0:\n",
    "    print('3')\n",
    "else:\n",
    "    print('4')    "
   ]
  },
  {
   "cell_type": "code",
   "execution_count": 194,
   "id": "a5418801",
   "metadata": {},
   "outputs": [
    {
     "name": "stdout",
     "output_type": "stream",
     "text": [
      "3\n"
     ]
    }
   ],
   "source": [
    "# Step 2 \n",
    "print('3')"
   ]
  },
  {
   "cell_type": "code",
   "execution_count": 202,
   "id": "877137f7",
   "metadata": {},
   "outputs": [
    {
     "name": "stdout",
     "output_type": "stream",
     "text": [
      "Success\n",
      "Hello world\n"
     ]
    }
   ],
   "source": [
    "# Standard template for if-else\n",
    "if 10 < 0:\n",
    "    print('Success')\n",
    "    print('Hello world')\n",
    "    if 10 < 5:\n",
    "        print('Hello world2')\n",
    "else:\n",
    "    print('Fail')"
   ]
  },
  {
   "cell_type": "markdown",
   "id": "4ba77fa1",
   "metadata": {},
   "source": [
    "In the same spirit"
   ]
  },
  {
   "cell_type": "markdown",
   "id": "84cb08ca",
   "metadata": {},
   "source": [
    "# Nested for loops"
   ]
  },
  {
   "cell_type": "code",
   "execution_count": 205,
   "id": "973eb35c",
   "metadata": {},
   "outputs": [
    {
     "name": "stdout",
     "output_type": "stream",
     "text": [
      "0\n",
      "5\n",
      "6\n",
      "1\n",
      "5\n",
      "6\n",
      "2\n",
      "5\n",
      "6\n"
     ]
    }
   ],
   "source": [
    "# 1st try\n",
    "for i in range(3):\n",
    "    print(i)\n",
    "    for j in range(5,7):\n",
    "        print(j)"
   ]
  },
  {
   "cell_type": "code",
   "execution_count": 204,
   "id": "cd49d744",
   "metadata": {},
   "outputs": [
    {
     "name": "stdout",
     "output_type": "stream",
     "text": [
      "5\n",
      "6\n",
      "5\n",
      "6\n",
      "5\n",
      "6\n"
     ]
    }
   ],
   "source": [
    "# 2nd try\n",
    "for i in range(3):\n",
    "    for j in range(5,7):\n",
    "        print(j)"
   ]
  },
  {
   "cell_type": "markdown",
   "id": "0b04f899",
   "metadata": {},
   "source": [
    "# +="
   ]
  },
  {
   "cell_type": "code",
   "execution_count": 206,
   "id": "7936cf85",
   "metadata": {},
   "outputs": [],
   "source": [
    "a = 10"
   ]
  },
  {
   "cell_type": "code",
   "execution_count": 207,
   "id": "f02409e4",
   "metadata": {},
   "outputs": [
    {
     "data": {
      "text/plain": [
       "11"
      ]
     },
     "execution_count": 207,
     "metadata": {},
     "output_type": "execute_result"
    }
   ],
   "source": [
    "a + 1"
   ]
  },
  {
   "cell_type": "code",
   "execution_count": 208,
   "id": "e5bcfd54",
   "metadata": {},
   "outputs": [
    {
     "data": {
      "text/plain": [
       "10"
      ]
     },
     "execution_count": 208,
     "metadata": {},
     "output_type": "execute_result"
    }
   ],
   "source": [
    "a"
   ]
  },
  {
   "cell_type": "code",
   "execution_count": 209,
   "id": "1a491f5c",
   "metadata": {},
   "outputs": [],
   "source": [
    "# My responsibility to save this"
   ]
  },
  {
   "cell_type": "code",
   "execution_count": 210,
   "id": "cd9ac621",
   "metadata": {},
   "outputs": [],
   "source": [
    "a = 10"
   ]
  },
  {
   "cell_type": "code",
   "execution_count": 211,
   "id": "3fec7232",
   "metadata": {},
   "outputs": [],
   "source": [
    "a = a + 1"
   ]
  },
  {
   "cell_type": "code",
   "execution_count": 212,
   "id": "f87f009e",
   "metadata": {},
   "outputs": [
    {
     "data": {
      "text/plain": [
       "11"
      ]
     },
     "execution_count": 212,
     "metadata": {},
     "output_type": "execute_result"
    }
   ],
   "source": [
    "a"
   ]
  },
  {
   "cell_type": "markdown",
   "id": "bf70d1f7",
   "metadata": {},
   "source": [
    "Essentially, to simplify this, we have +="
   ]
  },
  {
   "cell_type": "code",
   "execution_count": 213,
   "id": "47f10976",
   "metadata": {},
   "outputs": [],
   "source": [
    "a = 10"
   ]
  },
  {
   "cell_type": "code",
   "execution_count": 214,
   "id": "0e34eb44",
   "metadata": {},
   "outputs": [],
   "source": [
    "a += 1"
   ]
  },
  {
   "cell_type": "code",
   "execution_count": 216,
   "id": "0f84605e",
   "metadata": {},
   "outputs": [
    {
     "data": {
      "text/plain": [
       "11"
      ]
     },
     "execution_count": 216,
     "metadata": {},
     "output_type": "execute_result"
    }
   ],
   "source": [
    "a"
   ]
  },
  {
   "cell_type": "markdown",
   "id": "42927d29",
   "metadata": {},
   "source": [
    "# -="
   ]
  },
  {
   "cell_type": "code",
   "execution_count": 219,
   "id": "74e36f14",
   "metadata": {},
   "outputs": [],
   "source": [
    "a = 10"
   ]
  },
  {
   "cell_type": "code",
   "execution_count": 220,
   "id": "f3273275",
   "metadata": {},
   "outputs": [],
   "source": [
    "a -= 1"
   ]
  },
  {
   "cell_type": "code",
   "execution_count": 221,
   "id": "a7133405",
   "metadata": {},
   "outputs": [
    {
     "data": {
      "text/plain": [
       "9"
      ]
     },
     "execution_count": 221,
     "metadata": {},
     "output_type": "execute_result"
    }
   ],
   "source": [
    "a"
   ]
  },
  {
   "cell_type": "markdown",
   "id": "775bfe5d",
   "metadata": {},
   "source": [
    "Doing this with loops"
   ]
  },
  {
   "cell_type": "code",
   "execution_count": 225,
   "id": "fedf7ded",
   "metadata": {},
   "outputs": [
    {
     "name": "stdout",
     "output_type": "stream",
     "text": [
      "The value of count right now is 1\n",
      "The value of count right now is 2\n",
      "The value of count right now is 3\n",
      "The value of count right now is 4\n",
      "The value of count right now is 5\n",
      "The value of count right now is 6\n",
      "The value of count right now is 7\n",
      "The value of count right now is 8\n",
      "The value of count right now is 9\n",
      "The value of count right now is 10\n"
     ]
    }
   ],
   "source": [
    "count = 0\n",
    "for i in range(5):\n",
    "    count += 1\n",
    "    print(f'The value of count right now is {count}')"
   ]
  },
  {
   "cell_type": "code",
   "execution_count": 231,
   "id": "e929ceef",
   "metadata": {},
   "outputs": [
    {
     "name": "stdout",
     "output_type": "stream",
     "text": [
      "The value of i right now is 0\n",
      "The value of count right now is 0\n",
      "-------------------------------------\n",
      "The value of i right now is 1\n",
      "The value of count right now is 1\n",
      "-------------------------------------\n",
      "The value of i right now is 2\n",
      "The value of count right now is 3\n",
      "-------------------------------------\n",
      "The value of i right now is 3\n",
      "The value of count right now is 6\n",
      "-------------------------------------\n",
      "The value of i right now is 4\n",
      "The value of count right now is 10\n",
      "-------------------------------------\n"
     ]
    }
   ],
   "source": [
    "# Let's have fun\n",
    "count = 0\n",
    "for i in range(5):\n",
    "    print(f'The value of i right now is {i}')\n",
    "    count += i\n",
    "    print(f'The value of count right now is {count}')\n",
    "    print('-------------------------------------')"
   ]
  },
  {
   "cell_type": "code",
   "execution_count": 228,
   "id": "dffd490c",
   "metadata": {},
   "outputs": [
    {
     "data": {
      "text/plain": [
       "10"
      ]
     },
     "execution_count": 228,
     "metadata": {},
     "output_type": "execute_result"
    }
   ],
   "source": [
    "count"
   ]
  },
  {
   "cell_type": "code",
   "execution_count": 232,
   "id": "2e5f889e",
   "metadata": {},
   "outputs": [
    {
     "name": "stdout",
     "output_type": "stream",
     "text": [
      "0\n",
      "1\n",
      "2\n",
      "3\n",
      "4\n"
     ]
    }
   ],
   "source": [
    "for i in range(5):\n",
    "    print(i)"
   ]
  },
  {
   "cell_type": "markdown",
   "id": "4906b38c",
   "metadata": {},
   "source": [
    "# Functions"
   ]
  },
  {
   "cell_type": "markdown",
   "id": "414e6591",
   "metadata": {},
   "source": [
    "A way for you to wrap code neatly"
   ]
  },
  {
   "cell_type": "markdown",
   "id": "ac192668",
   "metadata": {},
   "source": [
    "You have number, you want add 10 to it, then you want to multiply it by 2. then divide by 3. Then add 10"
   ]
  },
  {
   "cell_type": "code",
   "execution_count": 261,
   "id": "d5a49df6",
   "metadata": {},
   "outputs": [],
   "source": [
    "a = 50"
   ]
  },
  {
   "cell_type": "code",
   "execution_count": 262,
   "id": "1ca58634",
   "metadata": {},
   "outputs": [],
   "source": [
    "a += 10"
   ]
  },
  {
   "cell_type": "code",
   "execution_count": 263,
   "id": "6a7670b8",
   "metadata": {},
   "outputs": [],
   "source": [
    "a = a*2"
   ]
  },
  {
   "cell_type": "code",
   "execution_count": 264,
   "id": "45e1d33b",
   "metadata": {},
   "outputs": [],
   "source": [
    "a = a/3"
   ]
  },
  {
   "cell_type": "code",
   "execution_count": 265,
   "id": "b4634edd",
   "metadata": {},
   "outputs": [],
   "source": [
    "a += 10"
   ]
  },
  {
   "cell_type": "code",
   "execution_count": 266,
   "id": "95658127",
   "metadata": {},
   "outputs": [
    {
     "data": {
      "text/plain": [
       "50.0"
      ]
     },
     "execution_count": 266,
     "metadata": {},
     "output_type": "execute_result"
    }
   ],
   "source": [
    "a"
   ]
  },
  {
   "cell_type": "code",
   "execution_count": 274,
   "id": "84401c79",
   "metadata": {},
   "outputs": [],
   "source": [
    "# Standard template\n",
    "def myfunction():\n",
    "    print('Hello world')"
   ]
  },
  {
   "cell_type": "code",
   "execution_count": 269,
   "id": "b0062115",
   "metadata": {},
   "outputs": [
    {
     "name": "stdout",
     "output_type": "stream",
     "text": [
      "Hello world\n"
     ]
    }
   ],
   "source": [
    "myfunction()"
   ]
  },
  {
   "cell_type": "code",
   "execution_count": 270,
   "id": "b6abf6e4",
   "metadata": {},
   "outputs": [
    {
     "name": "stdout",
     "output_type": "stream",
     "text": [
      "Hello world\n"
     ]
    }
   ],
   "source": [
    "b = myfunction()"
   ]
  },
  {
   "cell_type": "code",
   "execution_count": 271,
   "id": "5202d81f",
   "metadata": {},
   "outputs": [],
   "source": [
    "b"
   ]
  },
  {
   "cell_type": "code",
   "execution_count": 272,
   "id": "d2bd07da",
   "metadata": {},
   "outputs": [
    {
     "data": {
      "text/plain": [
       "NoneType"
      ]
     },
     "execution_count": 272,
     "metadata": {},
     "output_type": "execute_result"
    }
   ],
   "source": [
    "type(b)"
   ]
  },
  {
   "cell_type": "code",
   "execution_count": 297,
   "id": "b41e6d49",
   "metadata": {},
   "outputs": [],
   "source": [
    "# Standard template for returning\n",
    "def myfunction2():\n",
    "    return {'a':'Hello world'}"
   ]
  },
  {
   "cell_type": "code",
   "execution_count": 298,
   "id": "0d623fdf",
   "metadata": {},
   "outputs": [],
   "source": [
    "b = myfunction2()"
   ]
  },
  {
   "cell_type": "code",
   "execution_count": 299,
   "id": "b7db778e",
   "metadata": {},
   "outputs": [
    {
     "data": {
      "text/plain": [
       "{'a': 'Hello world'}"
      ]
     },
     "execution_count": 299,
     "metadata": {},
     "output_type": "execute_result"
    }
   ],
   "source": [
    "b"
   ]
  },
  {
   "cell_type": "code",
   "execution_count": 301,
   "id": "020001ce",
   "metadata": {},
   "outputs": [
    {
     "data": {
      "text/plain": [
       "dict"
      ]
     },
     "execution_count": 301,
     "metadata": {},
     "output_type": "execute_result"
    }
   ],
   "source": [
    "type(b)"
   ]
  },
  {
   "cell_type": "code",
   "execution_count": 302,
   "id": "93f79297",
   "metadata": {},
   "outputs": [
    {
     "data": {
      "text/plain": [
       "'Hello world'"
      ]
     },
     "execution_count": 302,
     "metadata": {},
     "output_type": "execute_result"
    }
   ],
   "source": [
    "b['a']"
   ]
  },
  {
   "cell_type": "markdown",
   "id": "f2df000c",
   "metadata": {},
   "source": [
    "What about inputs"
   ]
  },
  {
   "cell_type": "code",
   "execution_count": 305,
   "id": "da937d5f",
   "metadata": {},
   "outputs": [],
   "source": [
    "def myfun3(x):\n",
    "    c = x * 2\n",
    "    return c"
   ]
  },
  {
   "cell_type": "code",
   "execution_count": 307,
   "id": "deb8a057",
   "metadata": {},
   "outputs": [
    {
     "data": {
      "text/plain": [
       "20"
      ]
     },
     "execution_count": 307,
     "metadata": {},
     "output_type": "execute_result"
    }
   ],
   "source": [
    "myfun3(10)"
   ]
  },
  {
   "cell_type": "code",
   "execution_count": 309,
   "id": "6cf48459",
   "metadata": {},
   "outputs": [
    {
     "ename": "TypeError",
     "evalue": "myfun3() missing 1 required positional argument: 'x'",
     "output_type": "error",
     "traceback": [
      "\u001b[0;31m---------------------------------------------------------------------------\u001b[0m",
      "\u001b[0;31mTypeError\u001b[0m                                 Traceback (most recent call last)",
      "\u001b[0;32m/tmp/ipykernel_332/3067692779.py\u001b[0m in \u001b[0;36m<module>\u001b[0;34m\u001b[0m\n\u001b[0;32m----> 1\u001b[0;31m \u001b[0mmyfun3\u001b[0m\u001b[0;34m(\u001b[0m\u001b[0;34m)\u001b[0m\u001b[0;34m\u001b[0m\u001b[0;34m\u001b[0m\u001b[0m\n\u001b[0m",
      "\u001b[0;31mTypeError\u001b[0m: myfun3() missing 1 required positional argument: 'x'"
     ]
    }
   ],
   "source": [
    "myfun3()"
   ]
  },
  {
   "cell_type": "markdown",
   "id": "14ea26cf",
   "metadata": {},
   "source": [
    "You have number, you want add 10 to it, then you want to multiply it by 2. then divide by 3. Then add 10"
   ]
  },
  {
   "cell_type": "code",
   "execution_count": 324,
   "id": "5e40c940",
   "metadata": {},
   "outputs": [],
   "source": [
    "def mymaths(x):\n",
    "    x += 10\n",
    "    x = x * 2\n",
    "    x = x/3\n",
    "    x += 10\n",
    "    return x "
   ]
  },
  {
   "cell_type": "code",
   "execution_count": 321,
   "id": "fc546c14",
   "metadata": {},
   "outputs": [],
   "source": [
    "c = mymaths(10)"
   ]
  },
  {
   "cell_type": "code",
   "execution_count": 322,
   "id": "78a15e26",
   "metadata": {},
   "outputs": [
    {
     "data": {
      "text/plain": [
       "23.333333333333336"
      ]
     },
     "execution_count": 322,
     "metadata": {},
     "output_type": "execute_result"
    }
   ],
   "source": [
    "c"
   ]
  },
  {
   "cell_type": "code",
   "execution_count": 325,
   "id": "a9154836",
   "metadata": {},
   "outputs": [
    {
     "ename": "TypeError",
     "evalue": "can only concatenate str (not \"int\") to str",
     "output_type": "error",
     "traceback": [
      "\u001b[0;31m---------------------------------------------------------------------------\u001b[0m",
      "\u001b[0;31mTypeError\u001b[0m                                 Traceback (most recent call last)",
      "\u001b[0;32m/tmp/ipykernel_332/2002494383.py\u001b[0m in \u001b[0;36m<module>\u001b[0;34m\u001b[0m\n\u001b[0;32m----> 1\u001b[0;31m \u001b[0mmymaths\u001b[0m\u001b[0;34m(\u001b[0m\u001b[0;34m'10'\u001b[0m\u001b[0;34m)\u001b[0m\u001b[0;34m\u001b[0m\u001b[0;34m\u001b[0m\u001b[0m\n\u001b[0m",
      "\u001b[0;32m/tmp/ipykernel_332/4272860043.py\u001b[0m in \u001b[0;36mmymaths\u001b[0;34m(x)\u001b[0m\n\u001b[1;32m      1\u001b[0m \u001b[0;32mdef\u001b[0m \u001b[0mmymaths\u001b[0m\u001b[0;34m(\u001b[0m\u001b[0mx\u001b[0m\u001b[0;34m)\u001b[0m\u001b[0;34m:\u001b[0m\u001b[0;34m\u001b[0m\u001b[0;34m\u001b[0m\u001b[0m\n\u001b[0;32m----> 2\u001b[0;31m     \u001b[0mx\u001b[0m \u001b[0;34m+=\u001b[0m \u001b[0;36m10\u001b[0m\u001b[0;34m\u001b[0m\u001b[0;34m\u001b[0m\u001b[0m\n\u001b[0m\u001b[1;32m      3\u001b[0m     \u001b[0mx\u001b[0m \u001b[0;34m=\u001b[0m \u001b[0mx\u001b[0m \u001b[0;34m*\u001b[0m \u001b[0;36m2\u001b[0m\u001b[0;34m\u001b[0m\u001b[0;34m\u001b[0m\u001b[0m\n\u001b[1;32m      4\u001b[0m     \u001b[0mx\u001b[0m \u001b[0;34m=\u001b[0m \u001b[0mx\u001b[0m\u001b[0;34m/\u001b[0m\u001b[0;36m3\u001b[0m\u001b[0;34m\u001b[0m\u001b[0;34m\u001b[0m\u001b[0m\n\u001b[1;32m      5\u001b[0m     \u001b[0mx\u001b[0m \u001b[0;34m+=\u001b[0m \u001b[0;36m10\u001b[0m\u001b[0;34m\u001b[0m\u001b[0;34m\u001b[0m\u001b[0m\n",
      "\u001b[0;31mTypeError\u001b[0m: can only concatenate str (not \"int\") to str"
     ]
    }
   ],
   "source": [
    "mymaths('10')"
   ]
  },
  {
   "cell_type": "code",
   "execution_count": 329,
   "id": "babbbd26",
   "metadata": {},
   "outputs": [],
   "source": [
    "def mymaths2(x):\n",
    "    x = int(x)\n",
    "    x += 10\n",
    "    x = x * 2\n",
    "    x = x/3\n",
    "    x += 10\n",
    "    return x "
   ]
  },
  {
   "cell_type": "markdown",
   "id": "dde6a50f",
   "metadata": {},
   "source": [
    "What if you have 2 inputs"
   ]
  },
  {
   "cell_type": "code",
   "execution_count": 334,
   "id": "39312999",
   "metadata": {},
   "outputs": [],
   "source": [
    "# Standard template\n",
    "def mytwoinputs(x,y):\n",
    "    print(f'This is the value of x {x}')\n",
    "    print(f'This is the value of y {y}')\n",
    "    c = x + y\n",
    "    return c"
   ]
  },
  {
   "cell_type": "code",
   "execution_count": 335,
   "id": "288190af",
   "metadata": {},
   "outputs": [
    {
     "name": "stdout",
     "output_type": "stream",
     "text": [
      "This is the value of x 10\n",
      "This is the value of y 5\n"
     ]
    },
    {
     "data": {
      "text/plain": [
       "15"
      ]
     },
     "execution_count": 335,
     "metadata": {},
     "output_type": "execute_result"
    }
   ],
   "source": [
    "mytwoinputs(10,5)"
   ]
  },
  {
   "cell_type": "markdown",
   "id": "5e7169aa",
   "metadata": {},
   "source": [
    "### Set default values for functions"
   ]
  },
  {
   "cell_type": "code",
   "execution_count": 339,
   "id": "38d6430e",
   "metadata": {},
   "outputs": [],
   "source": [
    "# def multen(x):\n",
    "#     return x*10\n",
    "\n",
    "def multen(x,y):\n",
    "    c = x*y\n",
    "    return c"
   ]
  },
  {
   "cell_type": "code",
   "execution_count": 342,
   "id": "fd0afb82",
   "metadata": {},
   "outputs": [
    {
     "data": {
      "text/plain": [
       "40"
      ]
     },
     "execution_count": 342,
     "metadata": {},
     "output_type": "execute_result"
    }
   ],
   "source": [
    "multen(4,10)"
   ]
  },
  {
   "cell_type": "code",
   "execution_count": 345,
   "id": "786745e6",
   "metadata": {},
   "outputs": [
    {
     "data": {
      "text/plain": [
       "50"
      ]
     },
     "execution_count": 345,
     "metadata": {},
     "output_type": "execute_result"
    }
   ],
   "source": [
    "multen(5,10)"
   ]
  },
  {
   "cell_type": "code",
   "execution_count": 346,
   "id": "c0c6aa90",
   "metadata": {},
   "outputs": [
    {
     "data": {
      "text/plain": [
       "150"
      ]
     },
     "execution_count": 346,
     "metadata": {},
     "output_type": "execute_result"
    }
   ],
   "source": [
    "multen(15,10)"
   ]
  },
  {
   "cell_type": "code",
   "execution_count": 363,
   "id": "8b5fbf25",
   "metadata": {},
   "outputs": [],
   "source": [
    "def multen(x,y=10):\n",
    "    print(f'The value of x currently is {x}')\n",
    "    print(f'The value of y currently is {y}')\n",
    "    c = x*y\n",
    "    return c"
   ]
  },
  {
   "cell_type": "code",
   "execution_count": 364,
   "id": "75cac67c",
   "metadata": {},
   "outputs": [
    {
     "name": "stdout",
     "output_type": "stream",
     "text": [
      "The value of x currently is 5\n",
      "The value of y currently is 10\n"
     ]
    },
    {
     "data": {
      "text/plain": [
       "50"
      ]
     },
     "execution_count": 364,
     "metadata": {},
     "output_type": "execute_result"
    }
   ],
   "source": [
    "multen(5)"
   ]
  },
  {
   "cell_type": "code",
   "execution_count": 365,
   "id": "3776c895",
   "metadata": {},
   "outputs": [
    {
     "name": "stdout",
     "output_type": "stream",
     "text": [
      "The value of x currently is 5\n",
      "The value of y currently is 2\n"
     ]
    },
    {
     "data": {
      "text/plain": [
       "10"
      ]
     },
     "execution_count": 365,
     "metadata": {},
     "output_type": "execute_result"
    }
   ],
   "source": [
    "multen(5,2)"
   ]
  },
  {
   "cell_type": "code",
   "execution_count": 352,
   "id": "3e925f38",
   "metadata": {},
   "outputs": [
    {
     "data": {
      "text/plain": [
       "320"
      ]
     },
     "execution_count": 352,
     "metadata": {},
     "output_type": "execute_result"
    }
   ],
   "source": [
    "multen(32)"
   ]
  },
  {
   "cell_type": "code",
   "execution_count": 369,
   "id": "18562d46",
   "metadata": {},
   "outputs": [],
   "source": [
    "def multen(x=10,y=20):\n",
    "    print(f'The value of x currently is {x}')\n",
    "    print(f'The value of y currently is {y}')\n",
    "    c = x*y\n",
    "    return c"
   ]
  },
  {
   "cell_type": "code",
   "execution_count": 370,
   "id": "e0d31e37",
   "metadata": {},
   "outputs": [
    {
     "name": "stdout",
     "output_type": "stream",
     "text": [
      "The value of x currently is 10\n",
      "The value of y currently is 20\n"
     ]
    },
    {
     "data": {
      "text/plain": [
       "200"
      ]
     },
     "execution_count": 370,
     "metadata": {},
     "output_type": "execute_result"
    }
   ],
   "source": [
    "multen()"
   ]
  },
  {
   "cell_type": "markdown",
   "id": "5aebcf1e",
   "metadata": {},
   "source": [
    "Can you return 2 values"
   ]
  },
  {
   "cell_type": "code",
   "execution_count": 371,
   "id": "d6ca72f8",
   "metadata": {},
   "outputs": [],
   "source": [
    "def twovalues(x):\n",
    "    c  = x + 1\n",
    "    d = x - 1\n",
    "    return c,d"
   ]
  },
  {
   "cell_type": "code",
   "execution_count": 374,
   "id": "10f2d1f4",
   "metadata": {},
   "outputs": [],
   "source": [
    "e = twovalues(10)"
   ]
  },
  {
   "cell_type": "code",
   "execution_count": 376,
   "id": "844c53cc",
   "metadata": {},
   "outputs": [
    {
     "data": {
      "text/plain": [
       "(11, 9)"
      ]
     },
     "execution_count": 376,
     "metadata": {},
     "output_type": "execute_result"
    }
   ],
   "source": [
    "e"
   ]
  },
  {
   "cell_type": "code",
   "execution_count": 377,
   "id": "c7c96fc1",
   "metadata": {},
   "outputs": [
    {
     "data": {
      "text/plain": [
       "tuple"
      ]
     },
     "execution_count": 377,
     "metadata": {},
     "output_type": "execute_result"
    }
   ],
   "source": [
    "type(e)"
   ]
  },
  {
   "cell_type": "markdown",
   "id": "37bb8c50",
   "metadata": {},
   "source": [
    "If you want to return multiple outputs, by default, it wraps them inside a tuple"
   ]
  },
  {
   "cell_type": "code",
   "execution_count": 378,
   "id": "dbe60b56",
   "metadata": {},
   "outputs": [],
   "source": [
    "def twovalues(x):\n",
    "    c  = x + 1\n",
    "    d = x - 1\n",
    "    return [c,d]"
   ]
  },
  {
   "cell_type": "code",
   "execution_count": 379,
   "id": "a0433967",
   "metadata": {},
   "outputs": [],
   "source": [
    "e = twovalues(10)"
   ]
  },
  {
   "cell_type": "code",
   "execution_count": 381,
   "id": "52ced6e1",
   "metadata": {},
   "outputs": [
    {
     "data": {
      "text/plain": [
       "[11, 9]"
      ]
     },
     "execution_count": 381,
     "metadata": {},
     "output_type": "execute_result"
    }
   ],
   "source": [
    "e"
   ]
  },
  {
   "cell_type": "code",
   "execution_count": 382,
   "id": "f5d7bc8c",
   "metadata": {},
   "outputs": [
    {
     "data": {
      "text/plain": [
       "list"
      ]
     },
     "execution_count": 382,
     "metadata": {},
     "output_type": "execute_result"
    }
   ],
   "source": [
    "type(e)"
   ]
  },
  {
   "cell_type": "code",
   "execution_count": 383,
   "id": "dbe423f2",
   "metadata": {},
   "outputs": [],
   "source": [
    "def twovalues(x):\n",
    "    c  = x + 1\n",
    "    d = x - 1\n",
    "    return {'a':c,'b':d}"
   ]
  },
  {
   "cell_type": "code",
   "execution_count": 385,
   "id": "e6b9128e",
   "metadata": {},
   "outputs": [],
   "source": [
    "e = twovalues(10)"
   ]
  },
  {
   "cell_type": "code",
   "execution_count": 387,
   "id": "64be497e",
   "metadata": {},
   "outputs": [
    {
     "data": {
      "text/plain": [
       "{'a': 11, 'b': 9}"
      ]
     },
     "execution_count": 387,
     "metadata": {},
     "output_type": "execute_result"
    }
   ],
   "source": [
    "e"
   ]
  },
  {
   "cell_type": "code",
   "execution_count": 388,
   "id": "a5a60bd1",
   "metadata": {},
   "outputs": [
    {
     "data": {
      "text/plain": [
       "11"
      ]
     },
     "execution_count": 388,
     "metadata": {},
     "output_type": "execute_result"
    }
   ],
   "source": [
    "e['a']"
   ]
  },
  {
   "cell_type": "code",
   "execution_count": 389,
   "id": "4be04860",
   "metadata": {},
   "outputs": [
    {
     "data": {
      "text/plain": [
       "9"
      ]
     },
     "execution_count": 389,
     "metadata": {},
     "output_type": "execute_result"
    }
   ],
   "source": [
    "e['b']"
   ]
  },
  {
   "cell_type": "code",
   "execution_count": 390,
   "id": "028c01b6",
   "metadata": {},
   "outputs": [
    {
     "data": {
      "text/plain": [
       "dict"
      ]
     },
     "execution_count": 390,
     "metadata": {},
     "output_type": "execute_result"
    }
   ],
   "source": [
    "type(e)"
   ]
  },
  {
   "cell_type": "code",
   "execution_count": 391,
   "id": "d505d3b3",
   "metadata": {},
   "outputs": [],
   "source": [
    "def twovalues(x):\n",
    "    c  = x + 1\n",
    "    d = x - 1\n",
    "    return {c,d}"
   ]
  },
  {
   "cell_type": "code",
   "execution_count": 392,
   "id": "98583941",
   "metadata": {},
   "outputs": [],
   "source": [
    "e = twovalues(10)"
   ]
  },
  {
   "cell_type": "code",
   "execution_count": 394,
   "id": "ce67b285",
   "metadata": {},
   "outputs": [
    {
     "data": {
      "text/plain": [
       "{9, 11}"
      ]
     },
     "execution_count": 394,
     "metadata": {},
     "output_type": "execute_result"
    }
   ],
   "source": [
    "e"
   ]
  },
  {
   "cell_type": "code",
   "execution_count": 395,
   "id": "87bcf165",
   "metadata": {},
   "outputs": [
    {
     "data": {
      "text/plain": [
       "set"
      ]
     },
     "execution_count": 395,
     "metadata": {},
     "output_type": "execute_result"
    }
   ],
   "source": [
    "type(e)"
   ]
  },
  {
   "cell_type": "markdown",
   "id": "421509ce",
   "metadata": {},
   "source": [
    "Save it seperately, if you want "
   ]
  },
  {
   "cell_type": "code",
   "execution_count": 408,
   "id": "f645e639",
   "metadata": {},
   "outputs": [],
   "source": [
    "def twovalues(x):\n",
    "    c  = x + 1\n",
    "    d = x - 1\n",
    "    e = True\n",
    "    f = 'Sid'\n",
    "    h = 10.123123\n",
    "    return c,d,e,f,h"
   ]
  },
  {
   "cell_type": "code",
   "execution_count": 410,
   "id": "79f39fd3",
   "metadata": {},
   "outputs": [
    {
     "ename": "ValueError",
     "evalue": "too many values to unpack (expected 2)",
     "output_type": "error",
     "traceback": [
      "\u001b[0;31m---------------------------------------------------------------------------\u001b[0m",
      "\u001b[0;31mValueError\u001b[0m                                Traceback (most recent call last)",
      "\u001b[0;32m/tmp/ipykernel_332/2783602626.py\u001b[0m in \u001b[0;36m<module>\u001b[0;34m\u001b[0m\n\u001b[0;32m----> 1\u001b[0;31m \u001b[0me\u001b[0m\u001b[0;34m,\u001b[0m\u001b[0mf\u001b[0m \u001b[0;34m=\u001b[0m \u001b[0mtwovalues\u001b[0m\u001b[0;34m(\u001b[0m\u001b[0;36m10\u001b[0m\u001b[0;34m)\u001b[0m\u001b[0;34m\u001b[0m\u001b[0;34m\u001b[0m\u001b[0m\n\u001b[0m",
      "\u001b[0;31mValueError\u001b[0m: too many values to unpack (expected 2)"
     ]
    }
   ],
   "source": [
    "e,f = twovalues(10)"
   ]
  },
  {
   "cell_type": "code",
   "execution_count": 411,
   "id": "f5f98eb3",
   "metadata": {},
   "outputs": [],
   "source": [
    "e = twovalues(10)"
   ]
  },
  {
   "cell_type": "code",
   "execution_count": 413,
   "id": "e53c665d",
   "metadata": {},
   "outputs": [
    {
     "data": {
      "text/plain": [
       "(11, 9, True, 'Sid', 10.123123)"
      ]
     },
     "execution_count": 413,
     "metadata": {},
     "output_type": "execute_result"
    }
   ],
   "source": [
    "e"
   ]
  },
  {
   "cell_type": "code",
   "execution_count": 415,
   "id": "4840ca17",
   "metadata": {},
   "outputs": [],
   "source": [
    "g,h,i,j,k = twovalues(10)"
   ]
  },
  {
   "cell_type": "code",
   "execution_count": 421,
   "id": "d01d2c6e",
   "metadata": {},
   "outputs": [
    {
     "data": {
      "text/plain": [
       "int"
      ]
     },
     "execution_count": 421,
     "metadata": {},
     "output_type": "execute_result"
    }
   ],
   "source": [
    "type(g)"
   ]
  },
  {
   "cell_type": "code",
   "execution_count": 417,
   "id": "e180e919",
   "metadata": {},
   "outputs": [
    {
     "data": {
      "text/plain": [
       "9"
      ]
     },
     "execution_count": 417,
     "metadata": {},
     "output_type": "execute_result"
    }
   ],
   "source": [
    "h"
   ]
  },
  {
   "cell_type": "code",
   "execution_count": 418,
   "id": "b9293f22",
   "metadata": {},
   "outputs": [
    {
     "data": {
      "text/plain": [
       "True"
      ]
     },
     "execution_count": 418,
     "metadata": {},
     "output_type": "execute_result"
    }
   ],
   "source": [
    "i"
   ]
  },
  {
   "cell_type": "code",
   "execution_count": 419,
   "id": "b96d45df",
   "metadata": {},
   "outputs": [
    {
     "data": {
      "text/plain": [
       "'Sid'"
      ]
     },
     "execution_count": 419,
     "metadata": {},
     "output_type": "execute_result"
    }
   ],
   "source": [
    "j"
   ]
  },
  {
   "cell_type": "code",
   "execution_count": 427,
   "id": "fb7a8186",
   "metadata": {},
   "outputs": [
    {
     "data": {
      "text/plain": [
       "10.123123"
      ]
     },
     "execution_count": 427,
     "metadata": {},
     "output_type": "execute_result"
    }
   ],
   "source": [
    "k"
   ]
  },
  {
   "cell_type": "markdown",
   "id": "31b0cf8c",
   "metadata": {},
   "source": [
    "# While loops"
   ]
  },
  {
   "cell_type": "code",
   "execution_count": 429,
   "id": "8ea1913a",
   "metadata": {},
   "outputs": [
    {
     "name": "stdout",
     "output_type": "stream",
     "text": [
      "0\n",
      "1\n",
      "2\n",
      "3\n",
      "4\n"
     ]
    }
   ],
   "source": [
    "# Standard template\n",
    "count = 0\n",
    "\n",
    "while count < 5:\n",
    "    print(count)\n",
    "    count += 1 # This adds 1 at every loop"
   ]
  },
  {
   "cell_type": "code",
   "execution_count": 430,
   "id": "00d80f84",
   "metadata": {},
   "outputs": [
    {
     "name": "stdout",
     "output_type": "stream",
     "text": [
      "The count right now is 1\n",
      "0\n",
      "1\n",
      "2\n",
      "3\n",
      "4\n",
      "The count right now is 2\n",
      "0\n",
      "1\n",
      "2\n",
      "3\n",
      "4\n",
      "The count right now is 3\n",
      "0\n",
      "1\n",
      "2\n",
      "3\n",
      "4\n",
      "The count right now is 4\n",
      "0\n",
      "1\n",
      "2\n",
      "3\n",
      "4\n",
      "The count right now is 5\n",
      "0\n",
      "1\n",
      "2\n",
      "3\n",
      "4\n"
     ]
    }
   ],
   "source": [
    "# Standard template\n",
    "count = 0\n",
    "\n",
    "while count < 5:\n",
    "    count += 1 # This adds 1 at every loop\n",
    "    print(f'The count right now is {count}')\n",
    "    for i in range(5):\n",
    "        print(i)"
   ]
  },
  {
   "cell_type": "markdown",
   "id": "38ec90fa",
   "metadata": {},
   "source": [
    "![](https://media3.giphy.com/media/Dea0leKapJzJC/giphy.gif)"
   ]
  },
  {
   "cell_type": "markdown",
   "id": "2bef5efe",
   "metadata": {},
   "source": [
    "<h1><center>Fin</center></h1>"
   ]
  }
 ],
 "metadata": {
  "kernelspec": {
   "display_name": "Python 3 (ipykernel)",
   "language": "python",
   "name": "python3"
  },
  "language_info": {
   "codemirror_mode": {
    "name": "ipython",
    "version": 3
   },
   "file_extension": ".py",
   "mimetype": "text/x-python",
   "name": "python",
   "nbconvert_exporter": "python",
   "pygments_lexer": "ipython3",
   "version": "3.9.13"
  }
 },
 "nbformat": 4,
 "nbformat_minor": 5
}
