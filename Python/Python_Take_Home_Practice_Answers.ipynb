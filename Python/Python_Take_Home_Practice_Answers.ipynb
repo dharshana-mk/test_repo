{
 "cells": [
  {
   "cell_type": "markdown",
   "id": "b32ff49b",
   "metadata": {},
   "source": [
    "## Answers"
   ]
  },
  {
   "cell_type": "markdown",
   "id": "6aa6218e",
   "metadata": {},
   "source": [
    "### Answer 1"
   ]
  },
  {
   "cell_type": "code",
   "execution_count": null,
   "id": "58d71fcb",
   "metadata": {},
   "outputs": [],
   "source": [
    "# Python3 program to swap first\n",
    "# and last element of a list\n",
    " \n",
    "# Swap function\n",
    "def swapList(newList):\n",
    "    size = len(newList)\n",
    "     \n",
    "    # Swapping\n",
    "    temp = newList[0]\n",
    "    newList[0] = newList[size - 1]\n",
    "    newList[size - 1] = temp\n",
    "     \n",
    "    return newList\n",
    "     \n",
    "# Driver code\n",
    "newList = [12, 35, 9, 56, 24]\n"
   ]
  },
  {
   "cell_type": "markdown",
   "id": "5a6d9082",
   "metadata": {},
   "source": [
    "### Answer 2"
   ]
  },
  {
   "cell_type": "code",
   "execution_count": null,
   "id": "08348a0d",
   "metadata": {},
   "outputs": [],
   "source": [
    "# python code to Check if element exists in list or not\n",
    " \n",
    "lst=[ 1, 6, 3, 5, 3, 4 ]\n",
    "#checking if element 7 is present\n",
    "# in the given list or not\n",
    "i=7\n",
    "# if element present then return\n",
    "# exist otherwise not exist\n",
    "if i in lst:\n",
    "    print(\"exist\")\n",
    "else:\n",
    "    print(\"not exist\")"
   ]
  },
  {
   "cell_type": "markdown",
   "id": "92bf5ede",
   "metadata": {},
   "source": [
    "### Answer 3"
   ]
  },
  {
   "cell_type": "code",
   "execution_count": null,
   "id": "0bcb7580",
   "metadata": {},
   "outputs": [],
   "source": [
    "# To reverse words in a given string\n",
    "\n",
    "# input string\n",
    "string = \"geeks quiz practice code\"\n",
    "# reversing words in a given string\n",
    "s = string.split()[::-1]\n",
    "l = []\n",
    "for i in s:\n",
    "\t# apending reversed words to l\n",
    "\tl.append(i)\n",
    "# printing reverse words\n",
    "print(\" \".join(l))"
   ]
  },
  {
   "cell_type": "markdown",
   "id": "3d694987",
   "metadata": {},
   "source": [
    "### Answer 4"
   ]
  },
  {
   "cell_type": "code",
   "execution_count": null,
   "id": "a8ecb3c8",
   "metadata": {},
   "outputs": [],
   "source": [
    "# Take input from users\n",
    "MyString1 = \"A geek in need is a geek indeed\"\n",
    " \n",
    "if \"need\" in MyString1:\n",
    "    print(\"Yes! it is present in the string\")\n",
    "else:\n",
    "    print(\"No! it is not present\")"
   ]
  },
  {
   "cell_type": "markdown",
   "id": "b7354833",
   "metadata": {},
   "source": [
    "### Answer 5"
   ]
  },
  {
   "cell_type": "code",
   "execution_count": null,
   "id": "a9a39962",
   "metadata": {},
   "outputs": [],
   "source": [
    "# To print even length words in string\n",
    "\n",
    "#input string\n",
    "n=\"This is a python language\"\n",
    "#splitting the words in a given string\n",
    "s=n.split(\" \")\n",
    "for i in s:\n",
    "#checking the length of words\n",
    "if len(i)%2==0:\n",
    "\tprint(i)\n"
   ]
  },
  {
   "cell_type": "markdown",
   "id": "364217f4",
   "metadata": {},
   "source": [
    "### Answer 6"
   ]
  },
  {
   "cell_type": "code",
   "execution_count": 1,
   "id": "3f9f0c33",
   "metadata": {},
   "outputs": [
    {
     "name": "stdout",
     "output_type": "stream",
     "text": [
      "None\n",
      "{'d': 6, 'c': 4, 'a': 10, 'b': 8}\n"
     ]
    }
   ],
   "source": [
    "# Python code to merge dict using update() method\n",
    "def Merge(dict1, dict2):\n",
    "\treturn(dict2.update(dict1))\n",
    "\n",
    "\n",
    "# Driver code\n",
    "dict1 = {'a': 10, 'b': 8}\n",
    "dict2 = {'d': 6, 'c': 4}\n",
    "\n",
    "# This return None\n",
    "print(Merge(dict1, dict2))\n",
    "\n",
    "# changes made in dict2\n",
    "print(dict2)"
   ]
  },
  {
   "cell_type": "markdown",
   "id": "f00fcc84",
   "metadata": {},
   "source": [
    "### Answer 7"
   ]
  },
  {
   "cell_type": "code",
   "execution_count": null,
   "id": "d28a1a80",
   "metadata": {},
   "outputs": [],
   "source": [
    "# Given a list of numbers, finding out the largest and smallest number in the list with the \"if\" condition or a better way.\n",
    "list_of_numbers = [2,5,6,8,9,10,1]\n",
    "# Finding the largest number\n",
    "temp_number = 0\n",
    "for i in list_of_numbers:\n",
    "    if i > temp_number:\n",
    "        temp_number = i\n",
    "    else:\n",
    "        pass\n",
    "temp_number\n",
    "# Finding the smallest number\n",
    "# temp_number # Is the largest number we have, or we can set this to 100 or anything big\n",
    "temp_number = 100\n",
    "for i in list_of_numbers:\n",
    "    if i < temp_number:\n",
    "        temp_number = i\n",
    "    else:\n",
    "        pass"
   ]
  },
  {
   "cell_type": "code",
   "execution_count": null,
   "id": "9fa36155",
   "metadata": {},
   "outputs": [],
   "source": []
  },
  {
   "cell_type": "code",
   "execution_count": null,
   "id": "7883adaa",
   "metadata": {},
   "outputs": [],
   "source": []
  },
  {
   "cell_type": "code",
   "execution_count": null,
   "id": "6af9d316",
   "metadata": {},
   "outputs": [],
   "source": []
  },
  {
   "cell_type": "code",
   "execution_count": null,
   "id": "17b43dac",
   "metadata": {},
   "outputs": [],
   "source": []
  },
  {
   "cell_type": "code",
   "execution_count": null,
   "id": "723ad25f",
   "metadata": {},
   "outputs": [],
   "source": []
  }
 ],
 "metadata": {
  "kernelspec": {
   "display_name": "Python 3 (ipykernel)",
   "language": "python",
   "name": "python3"
  },
  "language_info": {
   "codemirror_mode": {
    "name": "ipython",
    "version": 3
   },
   "file_extension": ".py",
   "mimetype": "text/x-python",
   "name": "python",
   "nbconvert_exporter": "python",
   "pygments_lexer": "ipython3",
   "version": "3.9.13"
  }
 },
 "nbformat": 4,
 "nbformat_minor": 5
}
