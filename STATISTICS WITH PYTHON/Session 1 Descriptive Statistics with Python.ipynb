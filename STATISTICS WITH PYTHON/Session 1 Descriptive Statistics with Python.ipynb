{
 "cells": [
  {
   "cell_type": "code",
   "execution_count": 2,
   "id": "58550476",
   "metadata": {},
   "outputs": [],
   "source": [
    "# Importing the necessary Libraries\n",
    "import pandas as pd\n",
    "import numpy as np"
   ]
  },
  {
   "cell_type": "markdown",
   "id": "91ba562f",
   "metadata": {},
   "source": [
    "Dataset link :-https://drive.google.com/file/d/1xhvU5Ylx_kN3vRIHqoR4gtX9fJu1q2Ob/view?usp=sharing"
   ]
  },
  {
   "cell_type": "code",
   "execution_count": 3,
   "id": "5f1805b9",
   "metadata": {},
   "outputs": [
    {
     "data": {
      "text/html": [
       "<div>\n",
       "<style scoped>\n",
       "    .dataframe tbody tr th:only-of-type {\n",
       "        vertical-align: middle;\n",
       "    }\n",
       "\n",
       "    .dataframe tbody tr th {\n",
       "        vertical-align: top;\n",
       "    }\n",
       "\n",
       "    .dataframe thead th {\n",
       "        text-align: right;\n",
       "    }\n",
       "</style>\n",
       "<table border=\"1\" class=\"dataframe\">\n",
       "  <thead>\n",
       "    <tr style=\"text-align: right;\">\n",
       "      <th></th>\n",
       "      <th>age</th>\n",
       "      <th>workclass</th>\n",
       "      <th>fnlwgt</th>\n",
       "      <th>education</th>\n",
       "      <th>education_num</th>\n",
       "      <th>marital_status</th>\n",
       "      <th>occupation</th>\n",
       "      <th>relationship</th>\n",
       "      <th>race</th>\n",
       "      <th>sex</th>\n",
       "      <th>capital_gain</th>\n",
       "      <th>capital_loss</th>\n",
       "      <th>hours_per_week</th>\n",
       "      <th>native_country</th>\n",
       "      <th>SalaryGT50K</th>\n",
       "    </tr>\n",
       "  </thead>\n",
       "  <tbody>\n",
       "    <tr>\n",
       "      <th>0</th>\n",
       "      <td>39</td>\n",
       "      <td>State-gov</td>\n",
       "      <td>77516</td>\n",
       "      <td>Bachelors</td>\n",
       "      <td>13</td>\n",
       "      <td>Never-married</td>\n",
       "      <td>Adm-clerical</td>\n",
       "      <td>Not-in-family</td>\n",
       "      <td>White</td>\n",
       "      <td>Male</td>\n",
       "      <td>2174</td>\n",
       "      <td>0</td>\n",
       "      <td>40</td>\n",
       "      <td>United-States</td>\n",
       "      <td>0</td>\n",
       "    </tr>\n",
       "    <tr>\n",
       "      <th>1</th>\n",
       "      <td>50</td>\n",
       "      <td>Self-emp-not-inc</td>\n",
       "      <td>83311</td>\n",
       "      <td>Bachelors</td>\n",
       "      <td>13</td>\n",
       "      <td>Married-civ-spouse</td>\n",
       "      <td>Exec-managerial</td>\n",
       "      <td>Husband</td>\n",
       "      <td>White</td>\n",
       "      <td>Male</td>\n",
       "      <td>0</td>\n",
       "      <td>0</td>\n",
       "      <td>13</td>\n",
       "      <td>United-States</td>\n",
       "      <td>0</td>\n",
       "    </tr>\n",
       "    <tr>\n",
       "      <th>2</th>\n",
       "      <td>38</td>\n",
       "      <td>Private</td>\n",
       "      <td>215646</td>\n",
       "      <td>HS-grad</td>\n",
       "      <td>9</td>\n",
       "      <td>Divorced</td>\n",
       "      <td>Handlers-cleaners</td>\n",
       "      <td>Not-in-family</td>\n",
       "      <td>White</td>\n",
       "      <td>Male</td>\n",
       "      <td>0</td>\n",
       "      <td>0</td>\n",
       "      <td>40</td>\n",
       "      <td>United-States</td>\n",
       "      <td>0</td>\n",
       "    </tr>\n",
       "    <tr>\n",
       "      <th>3</th>\n",
       "      <td>53</td>\n",
       "      <td>Private</td>\n",
       "      <td>234721</td>\n",
       "      <td>11th</td>\n",
       "      <td>7</td>\n",
       "      <td>Married-civ-spouse</td>\n",
       "      <td>Handlers-cleaners</td>\n",
       "      <td>Husband</td>\n",
       "      <td>Black</td>\n",
       "      <td>Male</td>\n",
       "      <td>0</td>\n",
       "      <td>0</td>\n",
       "      <td>40</td>\n",
       "      <td>United-States</td>\n",
       "      <td>0</td>\n",
       "    </tr>\n",
       "    <tr>\n",
       "      <th>4</th>\n",
       "      <td>28</td>\n",
       "      <td>Private</td>\n",
       "      <td>338409</td>\n",
       "      <td>Bachelors</td>\n",
       "      <td>13</td>\n",
       "      <td>Married-civ-spouse</td>\n",
       "      <td>Prof-specialty</td>\n",
       "      <td>Wife</td>\n",
       "      <td>Black</td>\n",
       "      <td>Female</td>\n",
       "      <td>0</td>\n",
       "      <td>0</td>\n",
       "      <td>40</td>\n",
       "      <td>Cuba</td>\n",
       "      <td>0</td>\n",
       "    </tr>\n",
       "  </tbody>\n",
       "</table>\n",
       "</div>"
      ],
      "text/plain": [
       "   age          workclass  fnlwgt   education  education_num  \\\n",
       "0   39          State-gov   77516   Bachelors             13   \n",
       "1   50   Self-emp-not-inc   83311   Bachelors             13   \n",
       "2   38            Private  215646     HS-grad              9   \n",
       "3   53            Private  234721        11th              7   \n",
       "4   28            Private  338409   Bachelors             13   \n",
       "\n",
       "        marital_status          occupation    relationship    race      sex  \\\n",
       "0        Never-married        Adm-clerical   Not-in-family   White     Male   \n",
       "1   Married-civ-spouse     Exec-managerial         Husband   White     Male   \n",
       "2             Divorced   Handlers-cleaners   Not-in-family   White     Male   \n",
       "3   Married-civ-spouse   Handlers-cleaners         Husband   Black     Male   \n",
       "4   Married-civ-spouse      Prof-specialty            Wife   Black   Female   \n",
       "\n",
       "   capital_gain  capital_loss  hours_per_week  native_country  SalaryGT50K  \n",
       "0          2174             0              40   United-States            0  \n",
       "1             0             0              13   United-States            0  \n",
       "2             0             0              40   United-States            0  \n",
       "3             0             0              40   United-States            0  \n",
       "4             0             0              40            Cuba            0  "
      ]
     },
     "execution_count": 3,
     "metadata": {},
     "output_type": "execute_result"
    }
   ],
   "source": [
    "# reading the dataset\n",
    "df=pd.read_csv('SalaryData.csv')\n",
    "df.head()"
   ]
  },
  {
   "cell_type": "code",
   "execution_count": 10,
   "id": "c482c839",
   "metadata": {},
   "outputs": [
    {
     "name": "stdout",
     "output_type": "stream",
     "text": [
      "<class 'pandas.core.frame.DataFrame'>\n",
      "RangeIndex: 31978 entries, 0 to 31977\n",
      "Data columns (total 15 columns):\n",
      " #   Column          Non-Null Count  Dtype \n",
      "---  ------          --------------  ----- \n",
      " 0   age             31978 non-null  int64 \n",
      " 1   workclass       31978 non-null  object\n",
      " 2   fnlwgt          31978 non-null  int64 \n",
      " 3   education       31978 non-null  object\n",
      " 4   education_num   31978 non-null  int64 \n",
      " 5   marital_status  31978 non-null  object\n",
      " 6   occupation      31978 non-null  object\n",
      " 7   relationship    31978 non-null  object\n",
      " 8   race            31978 non-null  object\n",
      " 9   sex             31978 non-null  object\n",
      " 10  capital_gain    31978 non-null  int64 \n",
      " 11  capital_loss    31978 non-null  int64 \n",
      " 12  hours_per_week  31978 non-null  int64 \n",
      " 13  native_country  31978 non-null  object\n",
      " 14  SalaryGT50K     31978 non-null  int64 \n",
      "dtypes: int64(7), object(8)\n",
      "memory usage: 3.7+ MB\n"
     ]
    }
   ],
   "source": [
    "# checking the no of records and the datatype of the variables\n",
    "df.info()"
   ]
  },
  {
   "cell_type": "markdown",
   "id": "7a15009c",
   "metadata": {},
   "source": [
    "# Measures of Central Tendency"
   ]
  },
  {
   "cell_type": "code",
   "execution_count": 13,
   "id": "dea36b8f",
   "metadata": {},
   "outputs": [
    {
     "data": {
      "text/plain": [
       "38.57930452185878"
      ]
     },
     "execution_count": 13,
     "metadata": {},
     "output_type": "execute_result"
    }
   ],
   "source": [
    "# calculating the average age of the employees\n",
    "df['age'].mean()"
   ]
  },
  {
   "cell_type": "code",
   "execution_count": 12,
   "id": "4c40a681",
   "metadata": {},
   "outputs": [
    {
     "data": {
      "text/plain": [
       "37.0"
      ]
     },
     "execution_count": 12,
     "metadata": {},
     "output_type": "execute_result"
    }
   ],
   "source": [
    "# calculating the median value of the age\n",
    "df['age'].median()"
   ]
  },
  {
   "cell_type": "code",
   "execution_count": 15,
   "id": "8470aa19",
   "metadata": {},
   "outputs": [
    {
     "name": "stdout",
     "output_type": "stream",
     "text": [
      "1.5793045218587807\n"
     ]
    }
   ],
   "source": [
    "# checking the difference between the median  value and the mean value to understand any large/small value influence.\n",
    "difference = (df['age'].mean()-df['age'].median())\n",
    "print(difference)"
   ]
  },
  {
   "cell_type": "code",
   "execution_count": 16,
   "id": "7400330e",
   "metadata": {},
   "outputs": [
    {
     "data": {
      "text/plain": [
       "age                   38.579305\n",
       "fnlwgt            189714.146257\n",
       "capital_gain        1064.360623\n",
       "capital_loss          86.739352\n",
       "hours_per_week        40.417850\n",
       "dtype: float64"
      ]
     },
     "execution_count": 16,
     "metadata": {},
     "output_type": "execute_result"
    }
   ],
   "source": [
    "# how to find mean of more than one variable in the dataset\n",
    "df[['age','fnlwgt','capital_gain','capital_loss','hours_per_week']].mean()"
   ]
  },
  {
   "cell_type": "code",
   "execution_count": 18,
   "id": "28827c92",
   "metadata": {},
   "outputs": [
    {
     "data": {
      "text/plain": [
       "age                   37.0\n",
       "fnlwgt            178312.0\n",
       "capital_gain           0.0\n",
       "capital_loss           0.0\n",
       "hours_per_week        40.0\n",
       "dtype: float64"
      ]
     },
     "execution_count": 18,
     "metadata": {},
     "output_type": "execute_result"
    }
   ],
   "source": [
    "# how to find median of more than one variable in the dataset\n",
    "df[['age','fnlwgt','capital_gain','capital_loss','hours_per_week']].median()"
   ]
  },
  {
   "cell_type": "code",
   "execution_count": 25,
   "id": "2f3b53c3",
   "metadata": {},
   "outputs": [
    {
     "name": "stdout",
     "output_type": "stream",
     "text": [
      "159951.80028438638\n"
     ]
    }
   ],
   "source": [
    "# calculating the geometric mean of the 'fnlwgt' variable.\n",
    "from scipy.stats import gmean\n",
    "print(gmean(df['fnlwgt']))"
   ]
  },
  {
   "cell_type": "code",
   "execution_count": 28,
   "id": "c4eff08b",
   "metadata": {},
   "outputs": [
    {
     "data": {
      "text/plain": [
       "37.99632835129173"
      ]
     },
     "execution_count": 28,
     "metadata": {},
     "output_type": "execute_result"
    }
   ],
   "source": [
    "# calculating the weighted mean of 'age' having the effect of 'fnlwgt' variable\n",
    "np.average(df['age'],weights=df['fnlwgt'])"
   ]
  },
  {
   "cell_type": "code",
   "execution_count": 29,
   "id": "5b7cb9aa",
   "metadata": {},
   "outputs": [
    {
     "data": {
      "text/plain": [
       "0     Husband\n",
       "Name: relationship, dtype: object"
      ]
     },
     "execution_count": 29,
     "metadata": {},
     "output_type": "execute_result"
    }
   ],
   "source": [
    "# how to calculate mode of a variable to find the most frequent category of a variable.\n",
    "df['relationship'].mode()"
   ]
  },
  {
   "cell_type": "code",
   "execution_count": 30,
   "id": "97208018",
   "metadata": {},
   "outputs": [
    {
     "data": {
      "text/html": [
       "<div>\n",
       "<style scoped>\n",
       "    .dataframe tbody tr th:only-of-type {\n",
       "        vertical-align: middle;\n",
       "    }\n",
       "\n",
       "    .dataframe tbody tr th {\n",
       "        vertical-align: top;\n",
       "    }\n",
       "\n",
       "    .dataframe thead th {\n",
       "        text-align: right;\n",
       "    }\n",
       "</style>\n",
       "<table border=\"1\" class=\"dataframe\">\n",
       "  <thead>\n",
       "    <tr style=\"text-align: right;\">\n",
       "      <th></th>\n",
       "      <th>education</th>\n",
       "      <th>relationship</th>\n",
       "      <th>native_country</th>\n",
       "    </tr>\n",
       "  </thead>\n",
       "  <tbody>\n",
       "    <tr>\n",
       "      <th>0</th>\n",
       "      <td>HS-grad</td>\n",
       "      <td>Husband</td>\n",
       "      <td>United-States</td>\n",
       "    </tr>\n",
       "  </tbody>\n",
       "</table>\n",
       "</div>"
      ],
      "text/plain": [
       "  education relationship  native_country\n",
       "0   HS-grad      Husband   United-States"
      ]
     },
     "execution_count": 30,
     "metadata": {},
     "output_type": "execute_result"
    }
   ],
   "source": [
    "# calculating the mode of more than one variable in a dataframe\n",
    "\n",
    "df[['education','relationship','native_country']].mode()"
   ]
  },
  {
   "cell_type": "markdown",
   "id": "efeebf42",
   "metadata": {},
   "source": [
    "Finding the skewness of the 'fnlwgt' variable.As you can see it is highly skewed because \n",
    "it is more than 1 and is also positively skewed because its more than 1."
   ]
  },
  {
   "cell_type": "code",
   "execution_count": 35,
   "id": "0fa09392",
   "metadata": {},
   "outputs": [
    {
     "data": {
      "text/plain": [
       "1.4481075698172947"
      ]
     },
     "execution_count": 35,
     "metadata": {},
     "output_type": "execute_result"
    }
   ],
   "source": [
    "df['fnlwgt'].skew()"
   ]
  },
  {
   "cell_type": "markdown",
   "id": "f747328e",
   "metadata": {},
   "source": [
    "Note :-A skewness value greater than 1 or less than -1 indicates a highly skewed distribution. A value between 0.5 and 1 or -0.5 and -1 is moderately skewed. A value between -0.5 and 0.5 indicates that the distribution is fairly symmetrical."
   ]
  },
  {
   "cell_type": "code",
   "execution_count": 34,
   "id": "479d82f4",
   "metadata": {},
   "outputs": [
    {
     "data": {
      "text/plain": [
       "<AxesSubplot:ylabel='Frequency'>"
      ]
     },
     "execution_count": 34,
     "metadata": {},
     "output_type": "execute_result"
    },
    {
     "data": {
      "image/png": "[encoded data removed]",
      "text/plain": [
       "<Figure size 432x288 with 1 Axes>"
      ]
     },
     "metadata": {
      "needs_background": "light"
     },
     "output_type": "display_data"
    }
   ],
   "source": [
    "df['fnlwgt'].plot(kind='hist')"
   ]
  },
  {
   "cell_type": "code",
   "execution_count": 36,
   "id": "04015fd6",
   "metadata": {},
   "outputs": [
    {
     "data": {
      "text/plain": [
       "2.9172498692972217"
      ]
     },
     "execution_count": 36,
     "metadata": {},
     "output_type": "execute_result"
    }
   ],
   "source": [
    "#  finding the kurtosis value for the variable 'hours_per_week'.The below value indicates it tends to be a platykurtic eventhough there is a sudden spike\n",
    "df['hours_per_week'].kurt()"
   ]
  },
  {
   "cell_type": "markdown",
   "id": "7e1d8947",
   "metadata": {},
   "source": [
    "Kurtosis is a measure of the tailedness of a distribution. Tailedness is how often outliers occur. Excess kurtosis is the tailedness of a distribution relative to a normal distribution. Distributions with medium kurtosis (medium tails) are mesokurtic. Distributions with low kurtosis (thin tails) are platykurtic"
   ]
  },
  {
   "cell_type": "code",
   "execution_count": 37,
   "id": "e2d6cd93",
   "metadata": {},
   "outputs": [
    {
     "data": {
      "text/plain": [
       "<AxesSubplot:ylabel='Frequency'>"
      ]
     },
     "execution_count": 37,
     "metadata": {},
     "output_type": "execute_result"
    },
    {
     "data": {
      "image/png": "[encoded data removed]",
      "text/plain": [
       "<Figure size 432x288 with 1 Axes>"
      ]
     },
     "metadata": {
      "needs_background": "light"
     },
     "output_type": "display_data"
    }
   ],
   "source": [
    "df['hours_per_week'].plot(kind='hist')"
   ]
  },
  {
   "cell_type": "markdown",
   "id": "4594a8c2",
   "metadata": {},
   "source": [
    "# Measures of Dispersion"
   ]
  },
  {
   "cell_type": "code",
   "execution_count": 40,
   "id": "dd4eef78",
   "metadata": {},
   "outputs": [
    {
     "name": "stdout",
     "output_type": "stream",
     "text": [
      "73\n"
     ]
    }
   ],
   "source": [
    "# This is how we can find the range of a variable.it is known as the absolute measure of dispersion\n",
    "range_deviation=df['age'].max()-df['age'].min()\n",
    "print(range_deviation)"
   ]
  },
  {
   "cell_type": "code",
   "execution_count": 41,
   "id": "0eac748f",
   "metadata": {},
   "outputs": [
    {
     "name": "stdout",
     "output_type": "stream",
     "text": [
      "0.6822429906542056\n"
     ]
    }
   ],
   "source": [
    "# Finding the coefficient of range. it is known as one of the relative meaures of dispersion\n",
    "max_val = df['age'].max()\n",
    "min_val=  df['age'].min()\n",
    "\n",
    "coeff_range =(max_val-min_val)/(max_val+min_val)\n",
    "print(coeff_range)"
   ]
  },
  {
   "cell_type": "code",
   "execution_count": 46,
   "id": "f04efc9f",
   "metadata": {},
   "outputs": [
    {
     "data": {
      "text/plain": [
       "186.31914762900323"
      ]
     },
     "execution_count": 46,
     "metadata": {},
     "output_type": "execute_result"
    }
   ],
   "source": [
    "# To compute variance of a variable in a dataframe with the help of pandas\n",
    "df['age'].var()"
   ]
  },
  {
   "cell_type": "code",
   "execution_count": 53,
   "id": "9a10e5f9",
   "metadata": {},
   "outputs": [
    {
     "data": {
      "text/plain": [
       "186.31914762900323"
      ]
     },
     "execution_count": 53,
     "metadata": {},
     "output_type": "execute_result"
    }
   ],
   "source": [
    "# To compute variance of a variable in a dataframe with the help of Numpy\n",
    "np.var(df['age'])"
   ]
  },
  {
   "cell_type": "code",
   "execution_count": 5,
   "id": "9a61b4e6",
   "metadata": {},
   "outputs": [
    {
     "data": {
      "text/plain": [
       "13.649877201975233"
      ]
     },
     "execution_count": 5,
     "metadata": {},
     "output_type": "execute_result"
    }
   ],
   "source": [
    "# To compute standard deviation of a variable in a dataframe with the help of pandas\n",
    "df['age'].std()"
   ]
  },
  {
   "cell_type": "code",
   "execution_count": 6,
   "id": "bf5dbedd",
   "metadata": {},
   "outputs": [
    {
     "data": {
      "text/plain": [
       "13.64966377424497"
      ]
     },
     "execution_count": 6,
     "metadata": {},
     "output_type": "execute_result"
    }
   ],
   "source": [
    "# To compute standard deviation of a variable in a dataframe with the help of Numpy\n",
    "np.std(df['age'])"
   ]
  },
  {
   "cell_type": "raw",
   "id": "f7234a00",
   "metadata": {},
   "source": [
    " The Last method we have quartile and interquartile range for computing dispersion in a variable."
   ]
  },
  {
   "cell_type": "code",
   "execution_count": 7,
   "id": "4cade7f8",
   "metadata": {},
   "outputs": [
    {
     "name": "stdout",
     "output_type": "stream",
     "text": [
      "0        39\n",
      "2        38\n",
      "4        28\n",
      "5        37\n",
      "8        31\n",
      "         ..\n",
      "31967    43\n",
      "31968    32\n",
      "31969    43\n",
      "31970    32\n",
      "31974    40\n",
      "Name: age, Length: 16563, dtype: int64\n"
     ]
    },
    {
     "name": "stderr",
     "output_type": "stream",
     "text": [
      "C:\\Users\\Biswajit Roy\\AppData\\Local\\Temp\\ipykernel_135796\\3405112712.py:6: FutureWarning: Boolean inputs to the `inclusive` argument are deprecated in favour of `both` or `neither`.\n",
      "  mask = df['age'].between(q1, q3, inclusive=True)\n"
     ]
    }
   ],
   "source": [
    "# Select the first quantile\n",
    "q1 = df['age'].quantile(.25)\n",
    "# Select the third quantile\n",
    "q3 = df['age'].quantile(.75)\n",
    "# Create a mask inbeetween q1 & q3\n",
    "mask = df['age'].between(q1, q3, inclusive=True)\n",
    "# Filtering the initial dataframe with a mask\n",
    "iqr = df.loc[mask, 'age']\n",
    "print(iqr)       "
   ]
  },
  {
   "cell_type": "raw",
   "id": "e1d43d7a",
   "metadata": {},
   "source": [
    "# Below with the help of code we are visulaizing the IQR with the help of Box plot."
   ]
  },
  {
   "cell_type": "code",
   "execution_count": 8,
   "id": "9aaeee04",
   "metadata": {},
   "outputs": [
    {
     "data": {
      "text/plain": [
       "<AxesSubplot:>"
      ]
     },
     "execution_count": 8,
     "metadata": {},
     "output_type": "execute_result"
    },
    {
     "data": {
      "image/png": "[encoded data removed]",
      "text/plain": [
       "<Figure size 432x288 with 1 Axes>"
      ]
     },
     "metadata": {
      "needs_background": "light"
     },
     "output_type": "display_data"
    }
   ],
   "source": [
    "df['iqr']=iqr\n",
    "df['iqr'].plot(kind='box')"
   ]
  },
  {
   "cell_type": "raw",
   "id": "db69ce37",
   "metadata": {},
   "source": [
    "# same thing done with the Numpy library"
   ]
  },
  {
   "cell_type": "code",
   "execution_count": 67,
   "id": "09d49a92",
   "metadata": {},
   "outputs": [
    {
     "name": "stdout",
     "output_type": "stream",
     "text": [
      "0        39\n",
      "2        38\n",
      "4        28\n",
      "5        37\n",
      "8        31\n",
      "         ..\n",
      "31967    43\n",
      "31968    32\n",
      "31969    43\n",
      "31970    32\n",
      "31974    40\n",
      "Name: age, Length: 16563, dtype: int64\n"
     ]
    },
    {
     "name": "stderr",
     "output_type": "stream",
     "text": [
      "C:\\Users\\Biswajit Roy\\AppData\\Local\\Temp\\ipykernel_152368\\2654970953.py:3: FutureWarning: Boolean inputs to the `inclusive` argument are deprecated in favour of `both` or `neither`.\n",
      "  mask = df['age'].between(q1, q3, inclusive=True)\n"
     ]
    }
   ],
   "source": [
    "q1=np.percentile (df['age'], 25 , interpolation = 'midpoint' )\n",
    "q3=np.percentile (df['age'], 75 , interpolation = 'midpoint' )\n",
    "mask = df['age'].between(q1, q3, inclusive=True)\n",
    "iqr = df.loc[mask, 'age']\n",
    "print(iqr)       \n"
   ]
  },
  {
   "cell_type": "code",
   "execution_count": null,
   "id": "bcf53fdc",
   "metadata": {},
   "outputs": [],
   "source": []
  },
  {
   "cell_type": "code",
   "execution_count": null,
   "id": "37b52ba8",
   "metadata": {},
   "outputs": [],
   "source": []
  }
 ],
 "metadata": {
  "kernelspec": {
   "display_name": "Python 3 (ipykernel)",
   "language": "python",
   "name": "python3"
  },
  "language_info": {
   "codemirror_mode": {
    "name": "ipython",
    "version": 3
   },
   "file_extension": ".py",
   "mimetype": "text/x-python",
   "name": "python",
   "nbconvert_exporter": "python",
   "pygments_lexer": "ipython3",
   "version": "3.9.12"
  }
 },
 "nbformat": 4,
 "nbformat_minor": 5
}
