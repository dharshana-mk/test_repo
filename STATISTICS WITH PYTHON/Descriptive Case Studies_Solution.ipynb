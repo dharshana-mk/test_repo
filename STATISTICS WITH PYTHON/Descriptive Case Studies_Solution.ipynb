{
  "nbformat": 4,
  "nbformat_minor": 0,
  "metadata": {
    "colab": {
      "provenance": [],
      "collapsed_sections": []
    },
    "kernelspec": {
      "name": "python3",
      "display_name": "Python 3"
    },
    "language_info": {
      "name": "python"
    }
  },
  "cells": [
    {
      "cell_type": "markdown",
      "source": [
        "# **Descriptive statistics case study 1 solution**"
      ],
      "metadata": {
        "id": "5WAPhG0-a8-g"
      }
    },
    {
      "cell_type": "code",
      "source": [
        "# importing necessary libraries\n",
        "\n",
        "import pandas as pd\n",
        "import numpy as np"
      ],
      "metadata": {
        "id": "R6FqhE_PewP5"
      },
      "execution_count": null,
      "outputs": []
    },
    {
      "cell_type": "code",
      "source": [
        "# Reading the dataset\n",
        "df=pd.read_csv('/content/dataset/bank-full.csv',delimiter=';')\n",
        "df.head()"
      ],
      "metadata": {
        "colab": {
          "base_uri": "https://localhost:8080/",
          "height": 270
        },
        "id": "lsB0xDZYdUq_",
        "outputId": "214da3e9-0e3f-4897-e1c5-1724c0b32e5d"
      },
      "execution_count": null,
      "outputs": [
        {
          "output_type": "execute_result",
          "data": {
            "text/plain": [
              "   age           job  marital  education default  balance housing loan  \\\n",
              "0   58    management  married   tertiary      no     2143     yes   no   \n",
              "1   44    technician   single  secondary      no       29     yes   no   \n",
              "2   33  entrepreneur  married  secondary      no        2     yes  yes   \n",
              "3   47   blue-collar  married    unknown      no     1506     yes   no   \n",
              "4   33       unknown   single    unknown      no        1      no   no   \n",
              "\n",
              "   contact  day month  durations  campaign  pdays  previous poutcome   y  \n",
              "0  unknown    5   may        261         1     -1         0  unknown  no  \n",
              "1  unknown    5   may        151         1     -1         0  unknown  no  \n",
              "2  unknown    5   may         76         1     -1         0  unknown  no  \n",
              "3  unknown    5   may         92         1     -1         0  unknown  no  \n",
              "4  unknown    5   may        198         1     -1         0  unknown  no  "
            ],
            "text/html": [
              "\n",
              "  <div id=\"df-fd7f4add-610d-4d46-9405-bf45951368d4\">\n",
              "    <div class=\"colab-df-container\">\n",
              "      <div>\n",
              "<style scoped>\n",
              "    .dataframe tbody tr th:only-of-type {\n",
              "        vertical-align: middle;\n",
              "    }\n",
              "\n",
              "    .dataframe tbody tr th {\n",
              "        vertical-align: top;\n",
              "    }\n",
              "\n",
              "    .dataframe thead th {\n",
              "        text-align: right;\n",
              "    }\n",
              "</style>\n",
              "<table border=\"1\" class=\"dataframe\">\n",
              "  <thead>\n",
              "    <tr style=\"text-align: right;\">\n",
              "      <th></th>\n",
              "      <th>age</th>\n",
              "      <th>job</th>\n",
              "      <th>marital</th>\n",
              "      <th>education</th>\n",
              "      <th>default</th>\n",
              "      <th>balance</th>\n",
              "      <th>housing</th>\n",
              "      <th>loan</th>\n",
              "      <th>contact</th>\n",
              "      <th>day</th>\n",
              "      <th>month</th>\n",
              "      <th>durations</th>\n",
              "      <th>campaign</th>\n",
              "      <th>pdays</th>\n",
              "      <th>previous</th>\n",
              "      <th>poutcome</th>\n",
              "      <th>y</th>\n",
              "    </tr>\n",
              "  </thead>\n",
              "  <tbody>\n",
              "    <tr>\n",
              "      <th>0</th>\n",
              "      <td>58</td>\n",
              "      <td>management</td>\n",
              "      <td>married</td>\n",
              "      <td>tertiary</td>\n",
              "      <td>no</td>\n",
              "      <td>2143</td>\n",
              "      <td>yes</td>\n",
              "      <td>no</td>\n",
              "      <td>unknown</td>\n",
              "      <td>5</td>\n",
              "      <td>may</td>\n",
              "      <td>261</td>\n",
              "      <td>1</td>\n",
              "      <td>-1</td>\n",
              "      <td>0</td>\n",
              "      <td>unknown</td>\n",
              "      <td>no</td>\n",
              "    </tr>\n",
              "    <tr>\n",
              "      <th>1</th>\n",
              "      <td>44</td>\n",
              "      <td>technician</td>\n",
              "      <td>single</td>\n",
              "      <td>secondary</td>\n",
              "      <td>no</td>\n",
              "      <td>29</td>\n",
              "      <td>yes</td>\n",
              "      <td>no</td>\n",
              "      <td>unknown</td>\n",
              "      <td>5</td>\n",
              "      <td>may</td>\n",
              "      <td>151</td>\n",
              "      <td>1</td>\n",
              "      <td>-1</td>\n",
              "      <td>0</td>\n",
              "      <td>unknown</td>\n",
              "      <td>no</td>\n",
              "    </tr>\n",
              "    <tr>\n",
              "      <th>2</th>\n",
              "      <td>33</td>\n",
              "      <td>entrepreneur</td>\n",
              "      <td>married</td>\n",
              "      <td>secondary</td>\n",
              "      <td>no</td>\n",
              "      <td>2</td>\n",
              "      <td>yes</td>\n",
              "      <td>yes</td>\n",
              "      <td>unknown</td>\n",
              "      <td>5</td>\n",
              "      <td>may</td>\n",
              "      <td>76</td>\n",
              "      <td>1</td>\n",
              "      <td>-1</td>\n",
              "      <td>0</td>\n",
              "      <td>unknown</td>\n",
              "      <td>no</td>\n",
              "    </tr>\n",
              "    <tr>\n",
              "      <th>3</th>\n",
              "      <td>47</td>\n",
              "      <td>blue-collar</td>\n",
              "      <td>married</td>\n",
              "      <td>unknown</td>\n",
              "      <td>no</td>\n",
              "      <td>1506</td>\n",
              "      <td>yes</td>\n",
              "      <td>no</td>\n",
              "      <td>unknown</td>\n",
              "      <td>5</td>\n",
              "      <td>may</td>\n",
              "      <td>92</td>\n",
              "      <td>1</td>\n",
              "      <td>-1</td>\n",
              "      <td>0</td>\n",
              "      <td>unknown</td>\n",
              "      <td>no</td>\n",
              "    </tr>\n",
              "    <tr>\n",
              "      <th>4</th>\n",
              "      <td>33</td>\n",
              "      <td>unknown</td>\n",
              "      <td>single</td>\n",
              "      <td>unknown</td>\n",
              "      <td>no</td>\n",
              "      <td>1</td>\n",
              "      <td>no</td>\n",
              "      <td>no</td>\n",
              "      <td>unknown</td>\n",
              "      <td>5</td>\n",
              "      <td>may</td>\n",
              "      <td>198</td>\n",
              "      <td>1</td>\n",
              "      <td>-1</td>\n",
              "      <td>0</td>\n",
              "      <td>unknown</td>\n",
              "      <td>no</td>\n",
              "    </tr>\n",
              "  </tbody>\n",
              "</table>\n",
              "</div>\n",
              "      <button class=\"colab-df-convert\" onclick=\"convertToInteractive('df-fd7f4add-610d-4d46-9405-bf45951368d4')\"\n",
              "              title=\"Convert this dataframe to an interactive table.\"\n",
              "              style=\"display:none;\">\n",
              "        \n",
              "  <svg xmlns=\"http://www.w3.org/2000/svg\" height=\"24px\"viewBox=\"0 0 24 24\"\n",
              "       width=\"24px\">\n",
              "    <path d=\"M0 0h24v24H0V0z\" fill=\"none\"/>\n",
              "    <path d=\"M18.56 5.44l.94 2.06.94-2.06 2.06-.94-2.06-.94-.94-2.06-.94 2.06-2.06.94zm-11 1L8.5 8.5l.94-2.06 2.06-.94-2.06-.94L8.5 2.5l-.94 2.06-2.06.94zm10 10l.94 2.06.94-2.06 2.06-.94-2.06-.94-.94-2.06-.94 2.06-2.06.94z\"/><path d=\"M17.41 7.96l-1.37-1.37c-.4-.4-.92-.59-1.43-.59-.52 0-1.04.2-1.43.59L10.3 9.45l-7.72 7.72c-.78.78-.78 2.05 0 2.83L4 21.41c.39.39.9.59 1.41.59.51 0 1.02-.2 1.41-.59l7.78-7.78 2.81-2.81c.8-.78.8-2.07 0-2.86zM5.41 20L4 18.59l7.72-7.72 1.47 1.35L5.41 20z\"/>\n",
              "  </svg>\n",
              "      </button>\n",
              "      \n",
              "  <style>\n",
              "    .colab-df-container {\n",
              "      display:flex;\n",
              "      flex-wrap:wrap;\n",
              "      gap: 12px;\n",
              "    }\n",
              "\n",
              "    .colab-df-convert {\n",
              "      background-color: #E8F0FE;\n",
              "      border: none;\n",
              "      border-radius: 50%;\n",
              "      cursor: pointer;\n",
              "      display: none;\n",
              "      fill: #1967D2;\n",
              "      height: 32px;\n",
              "      padding: 0 0 0 0;\n",
              "      width: 32px;\n",
              "    }\n",
              "\n",
              "    .colab-df-convert:hover {\n",
              "      background-color: #E2EBFA;\n",
              "      box-shadow: 0px 1px 2px rgba(60, 64, 67, 0.3), 0px 1px 3px 1px rgba(60, 64, 67, 0.15);\n",
              "      fill: #174EA6;\n",
              "    }\n",
              "\n",
              "    [theme=dark] .colab-df-convert {\n",
              "      background-color: #3B4455;\n",
              "      fill: #D2E3FC;\n",
              "    }\n",
              "\n",
              "    [theme=dark] .colab-df-convert:hover {\n",
              "      background-color: #434B5C;\n",
              "      box-shadow: 0px 1px 3px 1px rgba(0, 0, 0, 0.15);\n",
              "      filter: drop-shadow(0px 1px 2px rgba(0, 0, 0, 0.3));\n",
              "      fill: #FFFFFF;\n",
              "    }\n",
              "  </style>\n",
              "\n",
              "      <script>\n",
              "        const buttonEl =\n",
              "          document.querySelector('#df-fd7f4add-610d-4d46-9405-bf45951368d4 button.colab-df-convert');\n",
              "        buttonEl.style.display =\n",
              "          google.colab.kernel.accessAllowed ? 'block' : 'none';\n",
              "\n",
              "        async function convertToInteractive(key) {\n",
              "          const element = document.querySelector('#df-fd7f4add-610d-4d46-9405-bf45951368d4');\n",
              "          const dataTable =\n",
              "            await google.colab.kernel.invokeFunction('convertToInteractive',\n",
              "                                                     [key], {});\n",
              "          if (!dataTable) return;\n",
              "\n",
              "          const docLinkHtml = 'Like what you see? Visit the ' +\n",
              "            '<a target=\"_blank\" href=https://colab.research.google.com/notebooks/data_table.ipynb>data table notebook</a>'\n",
              "            + ' to learn more about interactive tables.';\n",
              "          element.innerHTML = '';\n",
              "          dataTable['output_type'] = 'display_data';\n",
              "          await google.colab.output.renderOutput(dataTable, element);\n",
              "          const docLink = document.createElement('div');\n",
              "          docLink.innerHTML = docLinkHtml;\n",
              "          element.appendChild(docLink);\n",
              "        }\n",
              "      </script>\n",
              "    </div>\n",
              "  </div>\n",
              "  "
            ]
          },
          "metadata": {},
          "execution_count": 6
        }
      ]
    },
    {
      "cell_type": "markdown",
      "source": [
        "1.From the entire dataset pick only the variables which are  quantitative and continuous in nature and   apply any measures of central tendency on the variables which you think would be fit?"
      ],
      "metadata": {
        "id": "GVPBW0oZc1Cg"
      }
    },
    {
      "cell_type": "code",
      "source": [
        "# By the below function we can understand the datatypes of the variables\n",
        "df.info()"
      ],
      "metadata": {
        "colab": {
          "base_uri": "https://localhost:8080/"
        },
        "id": "OwOpdi39a6Xp",
        "outputId": "cae78dfa-1318-45ab-8881-51e28d1f4d14"
      },
      "execution_count": null,
      "outputs": [
        {
          "output_type": "execute_result",
          "data": {
            "text/plain": [
              "age           int64\n",
              "job          object\n",
              "marital      object\n",
              "education    object\n",
              "default      object\n",
              "balance       int64\n",
              "housing      object\n",
              "loan         object\n",
              "contact      object\n",
              "day           int64\n",
              "month        object\n",
              "durations     int64\n",
              "campaign      int64\n",
              "pdays         int64\n",
              "previous      int64\n",
              "poutcome     object\n",
              "y            object\n",
              "dtype: object"
            ]
          },
          "metadata": {},
          "execution_count": 7
        }
      ]
    },
    {
      "cell_type": "code",
      "source": [
        "# This function would help us the to see the no of unique values in the variable.\n",
        "df.nunique()"
      ],
      "metadata": {
        "colab": {
          "base_uri": "https://localhost:8080/"
        },
        "id": "pTW2y6VdhRTu",
        "outputId": "c8d7e47e-afb2-4d41-b157-cbfaaeba513d"
      },
      "execution_count": null,
      "outputs": [
        {
          "output_type": "execute_result",
          "data": {
            "text/plain": [
              "age            77\n",
              "job            12\n",
              "marital         3\n",
              "education       4\n",
              "default         2\n",
              "balance      7168\n",
              "housing         2\n",
              "loan            2\n",
              "contact         3\n",
              "day            31\n",
              "month          12\n",
              "durations    1573\n",
              "campaign       48\n",
              "pdays         559\n",
              "previous       41\n",
              "poutcome        4\n",
              "y               2\n",
              "dtype: int64"
            ]
          },
          "metadata": {},
          "execution_count": 9
        }
      ]
    },
    {
      "cell_type": "code",
      "source": [
        "#Quantitative & continuous variables\n",
        "var=['balance' ,'durations','pdays']"
      ],
      "metadata": {
        "id": "7uC-KLEoa6a2"
      },
      "execution_count": null,
      "outputs": []
    },
    {
      "cell_type": "code",
      "source": [
        "# Appropriate Measures of central Tendency\n",
        "print(df[['balance' ,'durations','pdays']].mean())\n",
        "print('*'*30)\n",
        "print(df[['balance' ,'durations','pdays']].median())\n",
        "print('*'*30)"
      ],
      "metadata": {
        "colab": {
          "base_uri": "https://localhost:8080/"
        },
        "id": "HMwyxkwma6hH",
        "outputId": "dd8c1d38-2cfe-4341-b97a-56af2157ae23"
      },
      "execution_count": null,
      "outputs": [
        {
          "output_type": "stream",
          "name": "stdout",
          "text": [
            "balance      1362.236474\n",
            "durations     258.160805\n",
            "pdays          40.194559\n",
            "dtype: float64\n",
            "******************************\n",
            "balance      448.0\n",
            "durations    180.0\n",
            "pdays         -1.0\n",
            "dtype: float64\n",
            "******************************\n"
          ]
        }
      ]
    },
    {
      "cell_type": "markdown",
      "source": [
        "2.  The banking institution wants to have a deep analysis on the data. Now the second  thing they want   to know with respect to each level of credit history is what is the average of the balance they have previously in the bank?"
      ],
      "metadata": {
        "id": "oKblmjTlkCfA"
      }
    },
    {
      "cell_type": "code",
      "source": [
        "# we can see clearly that customers does not have any credit history they are maintaing the balance \n",
        "# whereas the customers having credit history are not maintaining the balance may be they are out of money \n",
        "# by paying all the EMI.\n",
        "\n",
        "df.groupby('default')['balance'].mean()"
      ],
      "metadata": {
        "colab": {
          "base_uri": "https://localhost:8080/"
        },
        "id": "eJoUVbzra6nh",
        "outputId": "7c5b9c4e-afbc-4fbb-a2fb-58f1f21c3277"
      },
      "execution_count": null,
      "outputs": [
        {
          "output_type": "execute_result",
          "data": {
            "text/plain": [
              "default\n",
              "no     1389.770808\n",
              "yes    -137.624540\n",
              "Name: balance, dtype: float64"
            ]
          },
          "metadata": {},
          "execution_count": 21
        }
      ]
    },
    {
      "cell_type": "markdown",
      "source": [
        "3. Pick the variables from the dataset on which you can apply measures of dispersion ."
      ],
      "metadata": {
        "id": "cPI2Xklgm7PA"
      }
    },
    {
      "cell_type": "code",
      "source": [
        "df.info()"
      ],
      "metadata": {
        "colab": {
          "base_uri": "https://localhost:8080/"
        },
        "id": "NxaXZ9V2a6th",
        "outputId": "38299c21-4146-4d40-d13b-4d7667438aff"
      },
      "execution_count": null,
      "outputs": [
        {
          "output_type": "stream",
          "name": "stdout",
          "text": [
            "<class 'pandas.core.frame.DataFrame'>\n",
            "RangeIndex: 45210 entries, 0 to 45209\n",
            "Data columns (total 17 columns):\n",
            " #   Column     Non-Null Count  Dtype \n",
            "---  ------     --------------  ----- \n",
            " 0   age        45210 non-null  int64 \n",
            " 1   job        45210 non-null  object\n",
            " 2   marital    45210 non-null  object\n",
            " 3   education  45210 non-null  object\n",
            " 4   default    45210 non-null  object\n",
            " 5   balance    45210 non-null  int64 \n",
            " 6   housing    45210 non-null  object\n",
            " 7   loan       45210 non-null  object\n",
            " 8   contact    45210 non-null  object\n",
            " 9   day        45210 non-null  int64 \n",
            " 10  month      45210 non-null  object\n",
            " 11  durations  45210 non-null  int64 \n",
            " 12  campaign   45210 non-null  int64 \n",
            " 13  pdays      45210 non-null  int64 \n",
            " 14  previous   45210 non-null  int64 \n",
            " 15  poutcome   45210 non-null  object\n",
            " 16  y          45210 non-null  object\n",
            "dtypes: int64(7), object(10)\n",
            "memory usage: 5.9+ MB\n"
          ]
        }
      ]
    },
    {
      "cell_type": "code",
      "source": [
        "# variables on which the measures of dispersion can be applied\n",
        "var=['age','balance','durations','pdays','campaign']"
      ],
      "metadata": {
        "id": "40DdRpbma6xK"
      },
      "execution_count": null,
      "outputs": []
    },
    {
      "cell_type": "markdown",
      "source": [
        "4.  Did the call duration played an effective role in securing the term deposit.Pls give an explanation  on this"
      ],
      "metadata": {
        "id": "cWbzFjGCo6JK"
      }
    },
    {
      "cell_type": "code",
      "source": [
        "# yes the longer duration calls has given success in securing the term deposit\n",
        "df.groupby('y')['durations'].mean()"
      ],
      "metadata": {
        "colab": {
          "base_uri": "https://localhost:8080/"
        },
        "id": "Uk1q2x0Va66R",
        "outputId": "cf4b8e02-ca90-4f09-f9b1-654d06358f02"
      },
      "execution_count": null,
      "outputs": [
        {
          "output_type": "execute_result",
          "data": {
            "text/plain": [
              "y\n",
              "no     221.179304\n",
              "yes    537.294574\n",
              "Name: durations, dtype: float64"
            ]
          },
          "metadata": {},
          "execution_count": 25
        }
      ]
    },
    {
      "cell_type": "markdown",
      "source": [
        "5. Whom the banking institution approached most  from the client’s educational point of view. "
      ],
      "metadata": {
        "id": "2NlArbH-qO9R"
      }
    },
    {
      "cell_type": "code",
      "source": [
        "# The bank has approached most no of customers who have pursued 'secondary' level of education.\n",
        "df['education'].mode()"
      ],
      "metadata": {
        "colab": {
          "base_uri": "https://localhost:8080/"
        },
        "id": "di2kaZY8a7Ao",
        "outputId": "9f1b4921-ff42-4e1e-d407-189031374fd0"
      },
      "execution_count": null,
      "outputs": [
        {
          "output_type": "execute_result",
          "data": {
            "text/plain": [
              "0    secondary\n",
              "dtype: object"
            ]
          },
          "metadata": {},
          "execution_count": 33
        }
      ]
    },
    {
      "cell_type": "markdown",
      "source": [
        "6.  What  is the average age with respect to  housing loans and personal loans?"
      ],
      "metadata": {
        "id": "IozW2iPDrVFe"
      }
    },
    {
      "cell_type": "code",
      "source": [
        "#  With respect to Housing loan taken by the customer .Here is the average age of the customers\n",
        "print(df.groupby('housing')['age'].mean().reset_index(False))\n",
        "print('*'*10)"
      ],
      "metadata": {
        "colab": {
          "base_uri": "https://localhost:8080/"
        },
        "id": "krQGo5DYqQv0",
        "outputId": "ca722c79-052a-4f9e-9b5a-8be7559a99f5"
      },
      "execution_count": null,
      "outputs": [
        {
          "output_type": "stream",
          "name": "stdout",
          "text": [
            "  housing        age\n",
            "0      no  43.140189\n",
            "1     yes  39.175288\n",
            "**********\n"
          ]
        }
      ]
    },
    {
      "cell_type": "code",
      "source": [
        "#  With respect to Personal loan taken by the customer .Here is the average age of the customers\n",
        "print(df.groupby('loan')['age'].mean().reset_index(False))\n",
        "print('*'*10)"
      ],
      "metadata": {
        "colab": {
          "base_uri": "https://localhost:8080/"
        },
        "id": "JEXaAz-rqQyv",
        "outputId": "8543c66d-ddda-4ac9-f1c2-dd5df929fde2"
      },
      "execution_count": null,
      "outputs": [
        {
          "output_type": "stream",
          "name": "stdout",
          "text": [
            "  loan        age\n",
            "0   no  41.008929\n",
            "1  yes  40.555632\n",
            "**********\n"
          ]
        }
      ]
    },
    {
      "cell_type": "markdown",
      "source": [
        "7.  What is the coefficient of range for  the age variable."
      ],
      "metadata": {
        "id": "EtBgyrDZt76c"
      }
    },
    {
      "cell_type": "code",
      "source": [
        "max_age=df['age'].max()\n",
        "min_age=df['age'].min()\n",
        "CR=(max_age-min_age)/(max_age+min_age)\n",
        "print(\"The coefficient of Range of age\",CR)"
      ],
      "metadata": {
        "colab": {
          "base_uri": "https://localhost:8080/"
        },
        "id": "rAlm9d3_qQ6L",
        "outputId": "a81538f0-e0e5-4da9-ec45-bbbafa515bd3"
      },
      "execution_count": null,
      "outputs": [
        {
          "output_type": "stream",
          "name": "stdout",
          "text": [
            "The coefficient of Range of age 0.6814159292035398\n"
          ]
        }
      ]
    },
    {
      "cell_type": "markdown",
      "source": [
        "8.  Pls give us the score of Interquartile range of the Balance variables?"
      ],
      "metadata": {
        "id": "GrHWZ5L5vFbb"
      }
    },
    {
      "cell_type": "code",
      "source": [
        "Q1 = df['balance'].quantile(0.25)\n",
        "Q3 = df['balance'].quantile(0.75)\n",
        "IQR = Q3 - Q1\n",
        "print(\"The InterQuartile range of the variable\",IQR)"
      ],
      "metadata": {
        "colab": {
          "base_uri": "https://localhost:8080/"
        },
        "id": "D4mNhgBGa7Dg",
        "outputId": "65c9e93a-a041-4189-cbf6-b4a794e6394c"
      },
      "execution_count": null,
      "outputs": [
        {
          "output_type": "stream",
          "name": "stdout",
          "text": [
            "The InterQuartile range of the variable 1355.75\n"
          ]
        }
      ]
    },
    {
      "cell_type": "code",
      "source": [
        "*********************************************************************************************"
      ],
      "metadata": {
        "id": "n8IZtQQCvJMr"
      },
      "execution_count": null,
      "outputs": []
    },
    {
      "cell_type": "markdown",
      "source": [
        "# **Descriptive statistics case study 2 solution**"
      ],
      "metadata": {
        "id": "OoYq-Yh2wREC"
      }
    },
    {
      "cell_type": "code",
      "source": [
        "# Reading the dataset\n",
        "df2=pd.read_csv('/content/dataset/Bank Customer Churn Prediction.csv')\n",
        "df2.head()"
      ],
      "metadata": {
        "colab": {
          "base_uri": "https://localhost:8080/",
          "height": 270
        },
        "id": "K1ic2FmbvJTA",
        "outputId": "e273ece4-6d22-4bff-f17e-de972dbdc204"
      },
      "execution_count": null,
      "outputs": [
        {
          "output_type": "execute_result",
          "data": {
            "text/plain": [
              "   customer_id  credit_score country  gender  age  tenure    balance  \\\n",
              "0     15634602           619  France  Female   42       2       0.00   \n",
              "1     15647311           608   Spain  Female   41       1   83807.86   \n",
              "2     15619304           502  France  Female   42       8  159660.80   \n",
              "3     15701354           699  France  Female   39       1       0.00   \n",
              "4     15737888           850   Spain  Female   43       2  125510.82   \n",
              "\n",
              "   products_number  credit_card  active_member  estimated_salary  churn  \n",
              "0                1            1              1         101348.88      1  \n",
              "1                1            0              1         112542.58      0  \n",
              "2                3            1              0         113931.57      1  \n",
              "3                2            0              0          93826.63      0  \n",
              "4                1            1              1          79084.10      0  "
            ],
            "text/html": [
              "\n",
              "  <div id=\"df-acc6aeca-f83a-428e-92f8-c4bcf74139f8\">\n",
              "    <div class=\"colab-df-container\">\n",
              "      <div>\n",
              "<style scoped>\n",
              "    .dataframe tbody tr th:only-of-type {\n",
              "        vertical-align: middle;\n",
              "    }\n",
              "\n",
              "    .dataframe tbody tr th {\n",
              "        vertical-align: top;\n",
              "    }\n",
              "\n",
              "    .dataframe thead th {\n",
              "        text-align: right;\n",
              "    }\n",
              "</style>\n",
              "<table border=\"1\" class=\"dataframe\">\n",
              "  <thead>\n",
              "    <tr style=\"text-align: right;\">\n",
              "      <th></th>\n",
              "      <th>customer_id</th>\n",
              "      <th>credit_score</th>\n",
              "      <th>country</th>\n",
              "      <th>gender</th>\n",
              "      <th>age</th>\n",
              "      <th>tenure</th>\n",
              "      <th>balance</th>\n",
              "      <th>products_number</th>\n",
              "      <th>credit_card</th>\n",
              "      <th>active_member</th>\n",
              "      <th>estimated_salary</th>\n",
              "      <th>churn</th>\n",
              "    </tr>\n",
              "  </thead>\n",
              "  <tbody>\n",
              "    <tr>\n",
              "      <th>0</th>\n",
              "      <td>15634602</td>\n",
              "      <td>619</td>\n",
              "      <td>France</td>\n",
              "      <td>Female</td>\n",
              "      <td>42</td>\n",
              "      <td>2</td>\n",
              "      <td>0.00</td>\n",
              "      <td>1</td>\n",
              "      <td>1</td>\n",
              "      <td>1</td>\n",
              "      <td>101348.88</td>\n",
              "      <td>1</td>\n",
              "    </tr>\n",
              "    <tr>\n",
              "      <th>1</th>\n",
              "      <td>15647311</td>\n",
              "      <td>608</td>\n",
              "      <td>Spain</td>\n",
              "      <td>Female</td>\n",
              "      <td>41</td>\n",
              "      <td>1</td>\n",
              "      <td>83807.86</td>\n",
              "      <td>1</td>\n",
              "      <td>0</td>\n",
              "      <td>1</td>\n",
              "      <td>112542.58</td>\n",
              "      <td>0</td>\n",
              "    </tr>\n",
              "    <tr>\n",
              "      <th>2</th>\n",
              "      <td>15619304</td>\n",
              "      <td>502</td>\n",
              "      <td>France</td>\n",
              "      <td>Female</td>\n",
              "      <td>42</td>\n",
              "      <td>8</td>\n",
              "      <td>159660.80</td>\n",
              "      <td>3</td>\n",
              "      <td>1</td>\n",
              "      <td>0</td>\n",
              "      <td>113931.57</td>\n",
              "      <td>1</td>\n",
              "    </tr>\n",
              "    <tr>\n",
              "      <th>3</th>\n",
              "      <td>15701354</td>\n",
              "      <td>699</td>\n",
              "      <td>France</td>\n",
              "      <td>Female</td>\n",
              "      <td>39</td>\n",
              "      <td>1</td>\n",
              "      <td>0.00</td>\n",
              "      <td>2</td>\n",
              "      <td>0</td>\n",
              "      <td>0</td>\n",
              "      <td>93826.63</td>\n",
              "      <td>0</td>\n",
              "    </tr>\n",
              "    <tr>\n",
              "      <th>4</th>\n",
              "      <td>15737888</td>\n",
              "      <td>850</td>\n",
              "      <td>Spain</td>\n",
              "      <td>Female</td>\n",
              "      <td>43</td>\n",
              "      <td>2</td>\n",
              "      <td>125510.82</td>\n",
              "      <td>1</td>\n",
              "      <td>1</td>\n",
              "      <td>1</td>\n",
              "      <td>79084.10</td>\n",
              "      <td>0</td>\n",
              "    </tr>\n",
              "  </tbody>\n",
              "</table>\n",
              "</div>\n",
              "      <button class=\"colab-df-convert\" onclick=\"convertToInteractive('df-acc6aeca-f83a-428e-92f8-c4bcf74139f8')\"\n",
              "              title=\"Convert this dataframe to an interactive table.\"\n",
              "              style=\"display:none;\">\n",
              "        \n",
              "  <svg xmlns=\"http://www.w3.org/2000/svg\" height=\"24px\"viewBox=\"0 0 24 24\"\n",
              "       width=\"24px\">\n",
              "    <path d=\"M0 0h24v24H0V0z\" fill=\"none\"/>\n",
              "    <path d=\"M18.56 5.44l.94 2.06.94-2.06 2.06-.94-2.06-.94-.94-2.06-.94 2.06-2.06.94zm-11 1L8.5 8.5l.94-2.06 2.06-.94-2.06-.94L8.5 2.5l-.94 2.06-2.06.94zm10 10l.94 2.06.94-2.06 2.06-.94-2.06-.94-.94-2.06-.94 2.06-2.06.94z\"/><path d=\"M17.41 7.96l-1.37-1.37c-.4-.4-.92-.59-1.43-.59-.52 0-1.04.2-1.43.59L10.3 9.45l-7.72 7.72c-.78.78-.78 2.05 0 2.83L4 21.41c.39.39.9.59 1.41.59.51 0 1.02-.2 1.41-.59l7.78-7.78 2.81-2.81c.8-.78.8-2.07 0-2.86zM5.41 20L4 18.59l7.72-7.72 1.47 1.35L5.41 20z\"/>\n",
              "  </svg>\n",
              "      </button>\n",
              "      \n",
              "  <style>\n",
              "    .colab-df-container {\n",
              "      display:flex;\n",
              "      flex-wrap:wrap;\n",
              "      gap: 12px;\n",
              "    }\n",
              "\n",
              "    .colab-df-convert {\n",
              "      background-color: #E8F0FE;\n",
              "      border: none;\n",
              "      border-radius: 50%;\n",
              "      cursor: pointer;\n",
              "      display: none;\n",
              "      fill: #1967D2;\n",
              "      height: 32px;\n",
              "      padding: 0 0 0 0;\n",
              "      width: 32px;\n",
              "    }\n",
              "\n",
              "    .colab-df-convert:hover {\n",
              "      background-color: #E2EBFA;\n",
              "      box-shadow: 0px 1px 2px rgba(60, 64, 67, 0.3), 0px 1px 3px 1px rgba(60, 64, 67, 0.15);\n",
              "      fill: #174EA6;\n",
              "    }\n",
              "\n",
              "    [theme=dark] .colab-df-convert {\n",
              "      background-color: #3B4455;\n",
              "      fill: #D2E3FC;\n",
              "    }\n",
              "\n",
              "    [theme=dark] .colab-df-convert:hover {\n",
              "      background-color: #434B5C;\n",
              "      box-shadow: 0px 1px 3px 1px rgba(0, 0, 0, 0.15);\n",
              "      filter: drop-shadow(0px 1px 2px rgba(0, 0, 0, 0.3));\n",
              "      fill: #FFFFFF;\n",
              "    }\n",
              "  </style>\n",
              "\n",
              "      <script>\n",
              "        const buttonEl =\n",
              "          document.querySelector('#df-acc6aeca-f83a-428e-92f8-c4bcf74139f8 button.colab-df-convert');\n",
              "        buttonEl.style.display =\n",
              "          google.colab.kernel.accessAllowed ? 'block' : 'none';\n",
              "\n",
              "        async function convertToInteractive(key) {\n",
              "          const element = document.querySelector('#df-acc6aeca-f83a-428e-92f8-c4bcf74139f8');\n",
              "          const dataTable =\n",
              "            await google.colab.kernel.invokeFunction('convertToInteractive',\n",
              "                                                     [key], {});\n",
              "          if (!dataTable) return;\n",
              "\n",
              "          const docLinkHtml = 'Like what you see? Visit the ' +\n",
              "            '<a target=\"_blank\" href=https://colab.research.google.com/notebooks/data_table.ipynb>data table notebook</a>'\n",
              "            + ' to learn more about interactive tables.';\n",
              "          element.innerHTML = '';\n",
              "          dataTable['output_type'] = 'display_data';\n",
              "          await google.colab.output.renderOutput(dataTable, element);\n",
              "          const docLink = document.createElement('div');\n",
              "          docLink.innerHTML = docLinkHtml;\n",
              "          element.appendChild(docLink);\n",
              "        }\n",
              "      </script>\n",
              "    </div>\n",
              "  </div>\n",
              "  "
            ]
          },
          "metadata": {},
          "execution_count": 105
        }
      ]
    },
    {
      "cell_type": "markdown",
      "source": [
        "1. Tell us the coefficient of range  of the credit score  variable of the dataset."
      ],
      "metadata": {
        "id": "aCZvUjgrxaLQ"
      }
    },
    {
      "cell_type": "code",
      "source": [
        "max_cs=df2['credit_score'].max()\n",
        "min_cs=df2['credit_score'].min()\n",
        "CR=(max_cs-min_cs)/(max_cs+min_cs)\n",
        "print(\"The coefficient of Range of credit score\",CR)"
      ],
      "metadata": {
        "colab": {
          "base_uri": "https://localhost:8080/"
        },
        "id": "AuWvUgQ5vJZ5",
        "outputId": "0f8229ad-afb2-4bf8-d4ee-9f7d1d610bea"
      },
      "execution_count": null,
      "outputs": [
        {
          "output_type": "stream",
          "name": "stdout",
          "text": [
            "The coefficient of Range of credit score 0.4166666666666667\n"
          ]
        }
      ]
    },
    {
      "cell_type": "markdown",
      "source": [
        "2. As you can observe that in the dataset the balance variable is having lots of zeros .Now the bank manager is very worried about this so he wants to  impute all the zeros with  a logical value. Pls tell us if he is thinking about the correct process ."
      ],
      "metadata": {
        "id": "OnAwojhA3sEg"
      }
    },
    {
      "cell_type": "code",
      "source": [
        "# As we can observe that the 'balance' variable has 3617 no of rows  which is zero.\n",
        "df2[df2['balance']==0.0].shape"
      ],
      "metadata": {
        "colab": {
          "base_uri": "https://localhost:8080/"
        },
        "id": "d23xHj4DvJgQ",
        "outputId": "b0041b51-bb24-4670-b3b1-f0273dbedf5a"
      },
      "execution_count": null,
      "outputs": [
        {
          "output_type": "execute_result",
          "data": {
            "text/plain": [
              "(3617, 12)"
            ]
          },
          "metadata": {},
          "execution_count": 107
        }
      ]
    },
    {
      "cell_type": "code",
      "source": [
        "# As the balance variable is quantitative and continuous in nature we will impute with median value \n",
        "# as not with mean value as it is influenced by the outlier values.\n",
        "\n",
        "med_bal=df2['balance'].median()\n",
        "df2[df2['balance']==0.0]=med_bal"
      ],
      "metadata": {
        "id": "iFRzOCVOvJmJ"
      },
      "execution_count": null,
      "outputs": []
    },
    {
      "cell_type": "code",
      "source": [
        "df2=df2[(df2['churn']==0.0)|(df2['churn']==1.0)]"
      ],
      "metadata": {
        "id": "aT44FgmJMI1i"
      },
      "execution_count": null,
      "outputs": []
    },
    {
      "cell_type": "markdown",
      "source": [
        "3.  Pls give us the average estimated salary for the account holders with respect to the churn levels."
      ],
      "metadata": {
        "id": "0uxrk-8yEYfz"
      }
    },
    {
      "cell_type": "code",
      "source": [
        "# With respect to churn label we have the average estimated salary of the account holders.\n",
        "df2.groupby('churn')['estimated_salary'].mean()"
      ],
      "metadata": {
        "colab": {
          "base_uri": "https://localhost:8080/"
        },
        "id": "ZXz31ciSvJsL",
        "outputId": "f761c1c8-459d-4c11-d366-55d902f9b088"
      },
      "execution_count": null,
      "outputs": [
        {
          "output_type": "execute_result",
          "data": {
            "text/plain": [
              "churn\n",
              "0.0    100512.654439\n",
              "1.0    101362.745940\n",
              "Name: estimated_salary, dtype: float64"
            ]
          },
          "metadata": {},
          "execution_count": 112
        }
      ]
    },
    {
      "cell_type": "markdown",
      "source": [
        "4. Give us the country name , who has the highest average in terms of estimated salary."
      ],
      "metadata": {
        "id": "leF86GMGRj-r"
      }
    },
    {
      "cell_type": "code",
      "source": [
        "# The country who has the highest average in terms of Estimated salary.\n",
        "df2.groupby('country')['estimated_salary'].mean().sort_values(ascending=False)"
      ],
      "metadata": {
        "colab": {
          "base_uri": "https://localhost:8080/"
        },
        "id": "hjptoWAxvKCk",
        "outputId": "b2def416-0ffd-4434-fbd1-5e5decaef7a1"
      },
      "execution_count": null,
      "outputs": [
        {
          "output_type": "execute_result",
          "data": {
            "text/plain": [
              "country\n",
              "Germany    101113.435102\n",
              "France     100625.034653\n",
              "Spain      100127.281135\n",
              "Name: estimated_salary, dtype: float64"
            ]
          },
          "metadata": {},
          "execution_count": 119
        }
      ]
    },
    {
      "cell_type": "markdown",
      "source": [
        "5.  Do you see any outliers in the balance column in the dataset?\n"
      ],
      "metadata": {
        "id": "SQ0S2qgCV1o8"
      }
    },
    {
      "cell_type": "code",
      "source": [
        "# As we can observe that the distribution of the variable 'balance' can not be understood properly and \n",
        "# the black dots in the plot will tell us the outliers. \n",
        "df['balance'].plot(kind='box')"
      ],
      "metadata": {
        "colab": {
          "base_uri": "https://localhost:8080/",
          "height": 282
        },
        "id": "_146DpqpRnqq",
        "outputId": "d1fbc293-2700-4e10-c786-b68fe3e60178"
      },
      "execution_count": null,
      "outputs": [
        {
          "output_type": "execute_result",
          "data": {
            "text/plain": [
              "<matplotlib.axes._subplots.AxesSubplot at 0x7faab4bfb690>"
            ]
          },
          "metadata": {},
          "execution_count": 120
        },
        {
          "output_type": "display_data",
          "data": {
            "text/plain": [
              "<Figure size 432x288 with 1 Axes>"
            ],
            "image/png": "[encoded data removed]"
          },
          "metadata": {
            "needs_background": "light"
          }
        }
      ]
    },
    {
      "cell_type": "markdown",
      "source": [
        "6.  Try to plot the IQR of the variable estimated salary with a suitable plot."
      ],
      "metadata": {
        "id": "jTCP5UauZ7ME"
      }
    },
    {
      "cell_type": "code",
      "source": [
        "# The Best way to show case the Interquartile Range of the variable is Boxplot.\n",
        "df2['estimated_salary'].plot.box(title='Boxplot with pandas')"
      ],
      "metadata": {
        "colab": {
          "base_uri": "https://localhost:8080/",
          "height": 299
        },
        "id": "tDuCrZQGRnyL",
        "outputId": "624e799d-eb41-4f84-aba6-7b9812eb7452"
      },
      "execution_count": null,
      "outputs": [
        {
          "output_type": "execute_result",
          "data": {
            "text/plain": [
              "<matplotlib.axes._subplots.AxesSubplot at 0x7faab4b0bc50>"
            ]
          },
          "metadata": {},
          "execution_count": 125
        },
        {
          "output_type": "display_data",
          "data": {
            "text/plain": [
              "<Figure size 432x288 with 1 Axes>"
            ],
            "image/png": "[encoded data removed]"
          },
          "metadata": {
            "needs_background": "light"
          }
        }
      ]
    },
    {
      "cell_type": "code",
      "source": [
        "********************************************************************************************************************"
      ],
      "metadata": {
        "id": "uf29huNvZ_Tq"
      },
      "execution_count": null,
      "outputs": []
    },
    {
      "cell_type": "markdown",
      "source": [
        "# **Descriptive statistics case study 3 solution**"
      ],
      "metadata": {
        "id": "-2V05UOWdY0v"
      }
    },
    {
      "cell_type": "markdown",
      "source": [
        "1.  Suppose you had observed some missing values in the ‘Reco_Policy_Cat’ variable .What would be your strategy to impute missing values."
      ],
      "metadata": {
        "id": "fWKcE1nidd9L"
      }
    },
    {
      "cell_type": "code",
      "source": [
        "# Reading the dataset\n",
        "df3=pd.read_csv('/content/dataset/health insurance data.csv')\n",
        "df3.head()"
      ],
      "metadata": {
        "colab": {
          "base_uri": "https://localhost:8080/",
          "height": 287
        },
        "id": "c88dWTSoZ_dX",
        "outputId": "e0076702-4c79-41b1-90c7-d93996704f2e"
      },
      "execution_count": null,
      "outputs": [
        {
          "output_type": "execute_result",
          "data": {
            "text/plain": [
              "   ID City_Code  Region_Code Accomodation_Type Reco_Insurance_Type Is_Spouse  \\\n",
              "0   2        C5         1117             Owned               Joint        No   \n",
              "1   3        C5         3732             Owned          Individual        No   \n",
              "2   5        C8         2190            Rented          Individual        No   \n",
              "3   6        C9         1785            Rented          Individual        No   \n",
              "4   7        C3          679             Owned          Individual        No   \n",
              "\n",
              "  Health Indicator  Holding_Policy_Duration  Holding_Policy_Type  \\\n",
              "0               X2                      NaN                  NaN   \n",
              "1              NaN                      1.0                  1.0   \n",
              "2               X2                      3.0                  1.0   \n",
              "3               X2                      5.0                  1.0   \n",
              "4              NaN                      NaN                  NaN   \n",
              "\n",
              "   Reco_Policy_Cat  Reco_Policy_Premium  Response  \n",
              "0               22              30510.0         0  \n",
              "1               19               7450.0         1  \n",
              "2               16              10404.0         0  \n",
              "3               22              15264.0         1  \n",
              "4               17              10640.0         0  "
            ],
            "text/html": [
              "\n",
              "  <div id=\"df-c93cdeb0-f17a-4c65-a4f4-f8017870d8ce\">\n",
              "    <div class=\"colab-df-container\">\n",
              "      <div>\n",
              "<style scoped>\n",
              "    .dataframe tbody tr th:only-of-type {\n",
              "        vertical-align: middle;\n",
              "    }\n",
              "\n",
              "    .dataframe tbody tr th {\n",
              "        vertical-align: top;\n",
              "    }\n",
              "\n",
              "    .dataframe thead th {\n",
              "        text-align: right;\n",
              "    }\n",
              "</style>\n",
              "<table border=\"1\" class=\"dataframe\">\n",
              "  <thead>\n",
              "    <tr style=\"text-align: right;\">\n",
              "      <th></th>\n",
              "      <th>ID</th>\n",
              "      <th>City_Code</th>\n",
              "      <th>Region_Code</th>\n",
              "      <th>Accomodation_Type</th>\n",
              "      <th>Reco_Insurance_Type</th>\n",
              "      <th>Is_Spouse</th>\n",
              "      <th>Health Indicator</th>\n",
              "      <th>Holding_Policy_Duration</th>\n",
              "      <th>Holding_Policy_Type</th>\n",
              "      <th>Reco_Policy_Cat</th>\n",
              "      <th>Reco_Policy_Premium</th>\n",
              "      <th>Response</th>\n",
              "    </tr>\n",
              "  </thead>\n",
              "  <tbody>\n",
              "    <tr>\n",
              "      <th>0</th>\n",
              "      <td>2</td>\n",
              "      <td>C5</td>\n",
              "      <td>1117</td>\n",
              "      <td>Owned</td>\n",
              "      <td>Joint</td>\n",
              "      <td>No</td>\n",
              "      <td>X2</td>\n",
              "      <td>NaN</td>\n",
              "      <td>NaN</td>\n",
              "      <td>22</td>\n",
              "      <td>30510.0</td>\n",
              "      <td>0</td>\n",
              "    </tr>\n",
              "    <tr>\n",
              "      <th>1</th>\n",
              "      <td>3</td>\n",
              "      <td>C5</td>\n",
              "      <td>3732</td>\n",
              "      <td>Owned</td>\n",
              "      <td>Individual</td>\n",
              "      <td>No</td>\n",
              "      <td>NaN</td>\n",
              "      <td>1.0</td>\n",
              "      <td>1.0</td>\n",
              "      <td>19</td>\n",
              "      <td>7450.0</td>\n",
              "      <td>1</td>\n",
              "    </tr>\n",
              "    <tr>\n",
              "      <th>2</th>\n",
              "      <td>5</td>\n",
              "      <td>C8</td>\n",
              "      <td>2190</td>\n",
              "      <td>Rented</td>\n",
              "      <td>Individual</td>\n",
              "      <td>No</td>\n",
              "      <td>X2</td>\n",
              "      <td>3.0</td>\n",
              "      <td>1.0</td>\n",
              "      <td>16</td>\n",
              "      <td>10404.0</td>\n",
              "      <td>0</td>\n",
              "    </tr>\n",
              "    <tr>\n",
              "      <th>3</th>\n",
              "      <td>6</td>\n",
              "      <td>C9</td>\n",
              "      <td>1785</td>\n",
              "      <td>Rented</td>\n",
              "      <td>Individual</td>\n",
              "      <td>No</td>\n",
              "      <td>X2</td>\n",
              "      <td>5.0</td>\n",
              "      <td>1.0</td>\n",
              "      <td>22</td>\n",
              "      <td>15264.0</td>\n",
              "      <td>1</td>\n",
              "    </tr>\n",
              "    <tr>\n",
              "      <th>4</th>\n",
              "      <td>7</td>\n",
              "      <td>C3</td>\n",
              "      <td>679</td>\n",
              "      <td>Owned</td>\n",
              "      <td>Individual</td>\n",
              "      <td>No</td>\n",
              "      <td>NaN</td>\n",
              "      <td>NaN</td>\n",
              "      <td>NaN</td>\n",
              "      <td>17</td>\n",
              "      <td>10640.0</td>\n",
              "      <td>0</td>\n",
              "    </tr>\n",
              "  </tbody>\n",
              "</table>\n",
              "</div>\n",
              "      <button class=\"colab-df-convert\" onclick=\"convertToInteractive('df-c93cdeb0-f17a-4c65-a4f4-f8017870d8ce')\"\n",
              "              title=\"Convert this dataframe to an interactive table.\"\n",
              "              style=\"display:none;\">\n",
              "        \n",
              "  <svg xmlns=\"http://www.w3.org/2000/svg\" height=\"24px\"viewBox=\"0 0 24 24\"\n",
              "       width=\"24px\">\n",
              "    <path d=\"M0 0h24v24H0V0z\" fill=\"none\"/>\n",
              "    <path d=\"M18.56 5.44l.94 2.06.94-2.06 2.06-.94-2.06-.94-.94-2.06-.94 2.06-2.06.94zm-11 1L8.5 8.5l.94-2.06 2.06-.94-2.06-.94L8.5 2.5l-.94 2.06-2.06.94zm10 10l.94 2.06.94-2.06 2.06-.94-2.06-.94-.94-2.06-.94 2.06-2.06.94z\"/><path d=\"M17.41 7.96l-1.37-1.37c-.4-.4-.92-.59-1.43-.59-.52 0-1.04.2-1.43.59L10.3 9.45l-7.72 7.72c-.78.78-.78 2.05 0 2.83L4 21.41c.39.39.9.59 1.41.59.51 0 1.02-.2 1.41-.59l7.78-7.78 2.81-2.81c.8-.78.8-2.07 0-2.86zM5.41 20L4 18.59l7.72-7.72 1.47 1.35L5.41 20z\"/>\n",
              "  </svg>\n",
              "      </button>\n",
              "      \n",
              "  <style>\n",
              "    .colab-df-container {\n",
              "      display:flex;\n",
              "      flex-wrap:wrap;\n",
              "      gap: 12px;\n",
              "    }\n",
              "\n",
              "    .colab-df-convert {\n",
              "      background-color: #E8F0FE;\n",
              "      border: none;\n",
              "      border-radius: 50%;\n",
              "      cursor: pointer;\n",
              "      display: none;\n",
              "      fill: #1967D2;\n",
              "      height: 32px;\n",
              "      padding: 0 0 0 0;\n",
              "      width: 32px;\n",
              "    }\n",
              "\n",
              "    .colab-df-convert:hover {\n",
              "      background-color: #E2EBFA;\n",
              "      box-shadow: 0px 1px 2px rgba(60, 64, 67, 0.3), 0px 1px 3px 1px rgba(60, 64, 67, 0.15);\n",
              "      fill: #174EA6;\n",
              "    }\n",
              "\n",
              "    [theme=dark] .colab-df-convert {\n",
              "      background-color: #3B4455;\n",
              "      fill: #D2E3FC;\n",
              "    }\n",
              "\n",
              "    [theme=dark] .colab-df-convert:hover {\n",
              "      background-color: #434B5C;\n",
              "      box-shadow: 0px 1px 3px 1px rgba(0, 0, 0, 0.15);\n",
              "      filter: drop-shadow(0px 1px 2px rgba(0, 0, 0, 0.3));\n",
              "      fill: #FFFFFF;\n",
              "    }\n",
              "  </style>\n",
              "\n",
              "      <script>\n",
              "        const buttonEl =\n",
              "          document.querySelector('#df-c93cdeb0-f17a-4c65-a4f4-f8017870d8ce button.colab-df-convert');\n",
              "        buttonEl.style.display =\n",
              "          google.colab.kernel.accessAllowed ? 'block' : 'none';\n",
              "\n",
              "        async function convertToInteractive(key) {\n",
              "          const element = document.querySelector('#df-c93cdeb0-f17a-4c65-a4f4-f8017870d8ce');\n",
              "          const dataTable =\n",
              "            await google.colab.kernel.invokeFunction('convertToInteractive',\n",
              "                                                     [key], {});\n",
              "          if (!dataTable) return;\n",
              "\n",
              "          const docLinkHtml = 'Like what you see? Visit the ' +\n",
              "            '<a target=\"_blank\" href=https://colab.research.google.com/notebooks/data_table.ipynb>data table notebook</a>'\n",
              "            + ' to learn more about interactive tables.';\n",
              "          element.innerHTML = '';\n",
              "          dataTable['output_type'] = 'display_data';\n",
              "          await google.colab.output.renderOutput(dataTable, element);\n",
              "          const docLink = document.createElement('div');\n",
              "          docLink.innerHTML = docLinkHtml;\n",
              "          element.appendChild(docLink);\n",
              "        }\n",
              "      </script>\n",
              "    </div>\n",
              "  </div>\n",
              "  "
            ]
          },
          "metadata": {},
          "execution_count": 128
        }
      ]
    },
    {
      "cell_type": "code",
      "source": [
        "# No of Unique values in the dataset for all the variables.\n",
        "df3.nunique()"
      ],
      "metadata": {
        "colab": {
          "base_uri": "https://localhost:8080/"
        },
        "id": "ZaPQTgFRdfmE",
        "outputId": "2b157e9f-9e26-4b5c-c557-abd3e38ce2c6"
      },
      "execution_count": null,
      "outputs": [
        {
          "output_type": "execute_result",
          "data": {
            "text/plain": [
              "ID                         46547\n",
              "City_Code                     36\n",
              "Region_Code                 5238\n",
              "Accomodation_Type              2\n",
              "Reco_Insurance_Type            2\n",
              "Is_Spouse                      2\n",
              "Health Indicator               9\n",
              "Holding_Policy_Duration       14\n",
              "Holding_Policy_Type            4\n",
              "Reco_Policy_Cat               22\n",
              "Reco_Policy_Premium         6758\n",
              "Response                       2\n",
              "dtype: int64"
            ]
          },
          "metadata": {},
          "execution_count": 129
        }
      ]
    },
    {
      "cell_type": "markdown",
      "source": [
        "1.  Suppose you had observed some missing values in the ‘Reco_Policy_Cat’ variable .What would be your strategy to impute missing values."
      ],
      "metadata": {
        "id": "s0Ko3xYHrT9q"
      }
    },
    {
      "cell_type": "code",
      "source": [
        "# Now you can see that 'Reco_Policy_Cat' variable is the categorical variable and we know that \n",
        "# we can impute any missing values with the most frequent category and that can be done by the Mode Value."
      ],
      "metadata": {
        "id": "qbnyM7UNdfo8"
      },
      "execution_count": null,
      "outputs": []
    },
    {
      "cell_type": "markdown",
      "source": [
        "2. Pls impute the missing values for the ‘Holding_Policy_Type’ variable with proper method."
      ],
      "metadata": {
        "id": "KvBsIFFwrZgh"
      }
    },
    {
      "cell_type": "code",
      "source": [
        "# As'Holding_Policy_Type' is a categorical variable ,the missing values in this variable will be imputed by the Mode value.\n",
        "df3['Holding_Policy_Type']=df3['Holding_Policy_Type'].fillna(df3['Holding_Policy_Type'].mode()[0])"
      ],
      "metadata": {
        "id": "TFAcfKLcdfyw"
      },
      "execution_count": null,
      "outputs": []
    },
    {
      "cell_type": "markdown",
      "source": [
        "3. What is the standard deviation of the ‘Region_Code’ ?.Basis on the  std dev score, what can be your   guess about the living pattern of the customers?"
      ],
      "metadata": {
        "id": "OH40SEGCspn_"
      }
    },
    {
      "cell_type": "code",
      "source": [
        "# Observing the standard deviation ,the value is large and on this basis what we can tell that \n",
        "# they are sparsely located. And we know that demographically the region code comes serially."
      ],
      "metadata": {
        "colab": {
          "base_uri": "https://localhost:8080/"
        },
        "id": "6oGSA0hSdgAJ",
        "outputId": "53e79c51-290f-4296-9745-776bb0b7d42d"
      },
      "execution_count": null,
      "outputs": [
        {
          "output_type": "execute_result",
          "data": {
            "text/plain": [
              "1423.05457996529"
            ]
          },
          "metadata": {},
          "execution_count": 136
        }
      ]
    },
    {
      "cell_type": "markdown",
      "source": [
        "4. Pls give us the  number of records of  every quartile of the ‘ Holding_Policy_Duration’ column."
      ],
      "metadata": {
        "id": "RNLVxTCqwCTg"
      }
    },
    {
      "cell_type": "code",
      "source": [
        "# with the help of the below code,we have shown the 10th percentile, 25th percentile, 50th percentile, 75th percentile record.\n",
        "df3['Holding_Policy_Duration'].quantile([.1, .25, .5, .75])"
      ],
      "metadata": {
        "colab": {
          "base_uri": "https://localhost:8080/"
        },
        "id": "XQwjKojtZ_ol",
        "outputId": "452851c7-7eb6-4cb1-a6c3-1a24087c4766"
      },
      "execution_count": null,
      "outputs": [
        {
          "output_type": "execute_result",
          "data": {
            "text/plain": [
              "0.10    1.0\n",
              "0.25    2.0\n",
              "0.50    4.0\n",
              "0.75    7.0\n",
              "Name: Holding_Policy_Duration, dtype: float64"
            ]
          },
          "metadata": {},
          "execution_count": 140
        }
      ]
    },
    {
      "cell_type": "markdown",
      "source": [
        "6.  Give us how much the ‘Reco_policy_premium’ column is dispersed .You can use any measures of     dispersion method."
      ],
      "metadata": {
        "id": "buFqcToMyZOa"
      }
    },
    {
      "cell_type": "code",
      "source": [
        "# So in this case i have shown the Standard deviation and the variance as a measure of dispersion for the variable 'Reco_Policy_Premium'.\n",
        "# Remember for a normal distributed variable the standard deviation value will always be low.\n",
        "\n",
        "print(\"The Standard deviation of the Reco_policy_premium\",df3['Reco_Policy_Premium'].std())\n",
        "print(\"The mean of the Reco_policy_premium\",df3['Reco_Policy_Premium'].mean())"
      ],
      "metadata": {
        "colab": {
          "base_uri": "https://localhost:8080/"
        },
        "id": "BBdbTtFtZ_wV",
        "outputId": "3d33547b-4ab9-4a35-f316-afe844de93e0"
      },
      "execution_count": null,
      "outputs": [
        {
          "output_type": "stream",
          "name": "stdout",
          "text": [
            "The Standard deviation of the Reco_policy_premium 6503.508114234492\n",
            "The mean of the Reco_policy_premium 13797.613057769566\n"
          ]
        }
      ]
    },
    {
      "cell_type": "markdown",
      "source": [
        "7. With respect to each category level of the ‘Accomodation_Type’ give us the  median value of the \n",
        "    ‘Reco_Policy_Premium’ .\n"
      ],
      "metadata": {
        "id": "S9BQ0ICv1z0d"
      }
    },
    {
      "cell_type": "code",
      "source": [
        "# As you can see with respect to two category 'Owned' & 'Rented' .These are the median values of the 'Reco_Policy_Premium'.\n",
        "df3.groupby('Accomodation_Type')['Reco_Policy_Premium'].median().reset_index(False)"
      ],
      "metadata": {
        "colab": {
          "base_uri": "https://localhost:8080/",
          "height": 112
        },
        "id": "Bx-ZVt1wZ_58",
        "outputId": "51ccec25-3b6a-4791-ab97-3c466e0a13f7"
      },
      "execution_count": null,
      "outputs": [
        {
          "output_type": "execute_result",
          "data": {
            "text/plain": [
              "  Accomodation_Type  Reco_Policy_Premium\n",
              "0             Owned              15216.0\n",
              "1            Rented              10304.0"
            ],
            "text/html": [
              "\n",
              "  <div id=\"df-bd5e4fc7-8485-4b21-801e-a74f05358f6f\">\n",
              "    <div class=\"colab-df-container\">\n",
              "      <div>\n",
              "<style scoped>\n",
              "    .dataframe tbody tr th:only-of-type {\n",
              "        vertical-align: middle;\n",
              "    }\n",
              "\n",
              "    .dataframe tbody tr th {\n",
              "        vertical-align: top;\n",
              "    }\n",
              "\n",
              "    .dataframe thead th {\n",
              "        text-align: right;\n",
              "    }\n",
              "</style>\n",
              "<table border=\"1\" class=\"dataframe\">\n",
              "  <thead>\n",
              "    <tr style=\"text-align: right;\">\n",
              "      <th></th>\n",
              "      <th>Accomodation_Type</th>\n",
              "      <th>Reco_Policy_Premium</th>\n",
              "    </tr>\n",
              "  </thead>\n",
              "  <tbody>\n",
              "    <tr>\n",
              "      <th>0</th>\n",
              "      <td>Owned</td>\n",
              "      <td>15216.0</td>\n",
              "    </tr>\n",
              "    <tr>\n",
              "      <th>1</th>\n",
              "      <td>Rented</td>\n",
              "      <td>10304.0</td>\n",
              "    </tr>\n",
              "  </tbody>\n",
              "</table>\n",
              "</div>\n",
              "      <button class=\"colab-df-convert\" onclick=\"convertToInteractive('df-bd5e4fc7-8485-4b21-801e-a74f05358f6f')\"\n",
              "              title=\"Convert this dataframe to an interactive table.\"\n",
              "              style=\"display:none;\">\n",
              "        \n",
              "  <svg xmlns=\"http://www.w3.org/2000/svg\" height=\"24px\"viewBox=\"0 0 24 24\"\n",
              "       width=\"24px\">\n",
              "    <path d=\"M0 0h24v24H0V0z\" fill=\"none\"/>\n",
              "    <path d=\"M18.56 5.44l.94 2.06.94-2.06 2.06-.94-2.06-.94-.94-2.06-.94 2.06-2.06.94zm-11 1L8.5 8.5l.94-2.06 2.06-.94-2.06-.94L8.5 2.5l-.94 2.06-2.06.94zm10 10l.94 2.06.94-2.06 2.06-.94-2.06-.94-.94-2.06-.94 2.06-2.06.94z\"/><path d=\"M17.41 7.96l-1.37-1.37c-.4-.4-.92-.59-1.43-.59-.52 0-1.04.2-1.43.59L10.3 9.45l-7.72 7.72c-.78.78-.78 2.05 0 2.83L4 21.41c.39.39.9.59 1.41.59.51 0 1.02-.2 1.41-.59l7.78-7.78 2.81-2.81c.8-.78.8-2.07 0-2.86zM5.41 20L4 18.59l7.72-7.72 1.47 1.35L5.41 20z\"/>\n",
              "  </svg>\n",
              "      </button>\n",
              "      \n",
              "  <style>\n",
              "    .colab-df-container {\n",
              "      display:flex;\n",
              "      flex-wrap:wrap;\n",
              "      gap: 12px;\n",
              "    }\n",
              "\n",
              "    .colab-df-convert {\n",
              "      background-color: #E8F0FE;\n",
              "      border: none;\n",
              "      border-radius: 50%;\n",
              "      cursor: pointer;\n",
              "      display: none;\n",
              "      fill: #1967D2;\n",
              "      height: 32px;\n",
              "      padding: 0 0 0 0;\n",
              "      width: 32px;\n",
              "    }\n",
              "\n",
              "    .colab-df-convert:hover {\n",
              "      background-color: #E2EBFA;\n",
              "      box-shadow: 0px 1px 2px rgba(60, 64, 67, 0.3), 0px 1px 3px 1px rgba(60, 64, 67, 0.15);\n",
              "      fill: #174EA6;\n",
              "    }\n",
              "\n",
              "    [theme=dark] .colab-df-convert {\n",
              "      background-color: #3B4455;\n",
              "      fill: #D2E3FC;\n",
              "    }\n",
              "\n",
              "    [theme=dark] .colab-df-convert:hover {\n",
              "      background-color: #434B5C;\n",
              "      box-shadow: 0px 1px 3px 1px rgba(0, 0, 0, 0.15);\n",
              "      filter: drop-shadow(0px 1px 2px rgba(0, 0, 0, 0.3));\n",
              "      fill: #FFFFFF;\n",
              "    }\n",
              "  </style>\n",
              "\n",
              "      <script>\n",
              "        const buttonEl =\n",
              "          document.querySelector('#df-bd5e4fc7-8485-4b21-801e-a74f05358f6f button.colab-df-convert');\n",
              "        buttonEl.style.display =\n",
              "          google.colab.kernel.accessAllowed ? 'block' : 'none';\n",
              "\n",
              "        async function convertToInteractive(key) {\n",
              "          const element = document.querySelector('#df-bd5e4fc7-8485-4b21-801e-a74f05358f6f');\n",
              "          const dataTable =\n",
              "            await google.colab.kernel.invokeFunction('convertToInteractive',\n",
              "                                                     [key], {});\n",
              "          if (!dataTable) return;\n",
              "\n",
              "          const docLinkHtml = 'Like what you see? Visit the ' +\n",
              "            '<a target=\"_blank\" href=https://colab.research.google.com/notebooks/data_table.ipynb>data table notebook</a>'\n",
              "            + ' to learn more about interactive tables.';\n",
              "          element.innerHTML = '';\n",
              "          dataTable['output_type'] = 'display_data';\n",
              "          await google.colab.output.renderOutput(dataTable, element);\n",
              "          const docLink = document.createElement('div');\n",
              "          docLink.innerHTML = docLinkHtml;\n",
              "          element.appendChild(docLink);\n",
              "        }\n",
              "      </script>\n",
              "    </div>\n",
              "  </div>\n",
              "  "
            ]
          },
          "metadata": {},
          "execution_count": 156
        }
      ]
    },
    {
      "cell_type": "code",
      "source": [
        "********************************************************************************************************************"
      ],
      "metadata": {
        "id": "sMjruXnsZ_80"
      },
      "execution_count": null,
      "outputs": []
    },
    {
      "cell_type": "markdown",
      "source": [
        "# **Descriptive statistics case study 4 solution**\n"
      ],
      "metadata": {
        "id": "glV9d3g82vQj"
      }
    },
    {
      "cell_type": "code",
      "source": [
        "df4=pd.read_csv('/content/dataset/Walmart_Store_sales.csv')\n",
        "df4.head()"
      ],
      "metadata": {
        "colab": {
          "base_uri": "https://localhost:8080/",
          "height": 206
        },
        "id": "Ta2LkMFz2ra1",
        "outputId": "6ac51032-5f19-415d-d26b-88404d5fb39d"
      },
      "execution_count": null,
      "outputs": [
        {
          "output_type": "execute_result",
          "data": {
            "text/plain": [
              "   Store        Date  Weekly_Sales  Holiday_Flag  Temperature  Fuel_Price  \\\n",
              "0      1  05-02-2010    1643690.90             0        42.31       2.572   \n",
              "1      1  12-02-2010    1641957.44             1        38.51       2.548   \n",
              "2      1  19-02-2010    1611968.17             0        39.93       2.514   \n",
              "3      1  26-02-2010    1409727.59             0        46.63       2.561   \n",
              "4      1  05-03-2010    1554806.68             0        46.50       2.625   \n",
              "\n",
              "          CPI  Unemployment  \n",
              "0  211.096358         8.106  \n",
              "1  211.242170         8.106  \n",
              "2  211.289143         8.106  \n",
              "3  211.319643         8.106  \n",
              "4  211.350143         8.106  "
            ],
            "text/html": [
              "\n",
              "  <div id=\"df-7d84d6e9-f5fe-46df-84d6-fbb6000dc0cd\">\n",
              "    <div class=\"colab-df-container\">\n",
              "      <div>\n",
              "<style scoped>\n",
              "    .dataframe tbody tr th:only-of-type {\n",
              "        vertical-align: middle;\n",
              "    }\n",
              "\n",
              "    .dataframe tbody tr th {\n",
              "        vertical-align: top;\n",
              "    }\n",
              "\n",
              "    .dataframe thead th {\n",
              "        text-align: right;\n",
              "    }\n",
              "</style>\n",
              "<table border=\"1\" class=\"dataframe\">\n",
              "  <thead>\n",
              "    <tr style=\"text-align: right;\">\n",
              "      <th></th>\n",
              "      <th>Store</th>\n",
              "      <th>Date</th>\n",
              "      <th>Weekly_Sales</th>\n",
              "      <th>Holiday_Flag</th>\n",
              "      <th>Temperature</th>\n",
              "      <th>Fuel_Price</th>\n",
              "      <th>CPI</th>\n",
              "      <th>Unemployment</th>\n",
              "    </tr>\n",
              "  </thead>\n",
              "  <tbody>\n",
              "    <tr>\n",
              "      <th>0</th>\n",
              "      <td>1</td>\n",
              "      <td>05-02-2010</td>\n",
              "      <td>1643690.90</td>\n",
              "      <td>0</td>\n",
              "      <td>42.31</td>\n",
              "      <td>2.572</td>\n",
              "      <td>211.096358</td>\n",
              "      <td>8.106</td>\n",
              "    </tr>\n",
              "    <tr>\n",
              "      <th>1</th>\n",
              "      <td>1</td>\n",
              "      <td>12-02-2010</td>\n",
              "      <td>1641957.44</td>\n",
              "      <td>1</td>\n",
              "      <td>38.51</td>\n",
              "      <td>2.548</td>\n",
              "      <td>211.242170</td>\n",
              "      <td>8.106</td>\n",
              "    </tr>\n",
              "    <tr>\n",
              "      <th>2</th>\n",
              "      <td>1</td>\n",
              "      <td>19-02-2010</td>\n",
              "      <td>1611968.17</td>\n",
              "      <td>0</td>\n",
              "      <td>39.93</td>\n",
              "      <td>2.514</td>\n",
              "      <td>211.289143</td>\n",
              "      <td>8.106</td>\n",
              "    </tr>\n",
              "    <tr>\n",
              "      <th>3</th>\n",
              "      <td>1</td>\n",
              "      <td>26-02-2010</td>\n",
              "      <td>1409727.59</td>\n",
              "      <td>0</td>\n",
              "      <td>46.63</td>\n",
              "      <td>2.561</td>\n",
              "      <td>211.319643</td>\n",
              "      <td>8.106</td>\n",
              "    </tr>\n",
              "    <tr>\n",
              "      <th>4</th>\n",
              "      <td>1</td>\n",
              "      <td>05-03-2010</td>\n",
              "      <td>1554806.68</td>\n",
              "      <td>0</td>\n",
              "      <td>46.50</td>\n",
              "      <td>2.625</td>\n",
              "      <td>211.350143</td>\n",
              "      <td>8.106</td>\n",
              "    </tr>\n",
              "  </tbody>\n",
              "</table>\n",
              "</div>\n",
              "      <button class=\"colab-df-convert\" onclick=\"convertToInteractive('df-7d84d6e9-f5fe-46df-84d6-fbb6000dc0cd')\"\n",
              "              title=\"Convert this dataframe to an interactive table.\"\n",
              "              style=\"display:none;\">\n",
              "        \n",
              "  <svg xmlns=\"http://www.w3.org/2000/svg\" height=\"24px\"viewBox=\"0 0 24 24\"\n",
              "       width=\"24px\">\n",
              "    <path d=\"M0 0h24v24H0V0z\" fill=\"none\"/>\n",
              "    <path d=\"M18.56 5.44l.94 2.06.94-2.06 2.06-.94-2.06-.94-.94-2.06-.94 2.06-2.06.94zm-11 1L8.5 8.5l.94-2.06 2.06-.94-2.06-.94L8.5 2.5l-.94 2.06-2.06.94zm10 10l.94 2.06.94-2.06 2.06-.94-2.06-.94-.94-2.06-.94 2.06-2.06.94z\"/><path d=\"M17.41 7.96l-1.37-1.37c-.4-.4-.92-.59-1.43-.59-.52 0-1.04.2-1.43.59L10.3 9.45l-7.72 7.72c-.78.78-.78 2.05 0 2.83L4 21.41c.39.39.9.59 1.41.59.51 0 1.02-.2 1.41-.59l7.78-7.78 2.81-2.81c.8-.78.8-2.07 0-2.86zM5.41 20L4 18.59l7.72-7.72 1.47 1.35L5.41 20z\"/>\n",
              "  </svg>\n",
              "      </button>\n",
              "      \n",
              "  <style>\n",
              "    .colab-df-container {\n",
              "      display:flex;\n",
              "      flex-wrap:wrap;\n",
              "      gap: 12px;\n",
              "    }\n",
              "\n",
              "    .colab-df-convert {\n",
              "      background-color: #E8F0FE;\n",
              "      border: none;\n",
              "      border-radius: 50%;\n",
              "      cursor: pointer;\n",
              "      display: none;\n",
              "      fill: #1967D2;\n",
              "      height: 32px;\n",
              "      padding: 0 0 0 0;\n",
              "      width: 32px;\n",
              "    }\n",
              "\n",
              "    .colab-df-convert:hover {\n",
              "      background-color: #E2EBFA;\n",
              "      box-shadow: 0px 1px 2px rgba(60, 64, 67, 0.3), 0px 1px 3px 1px rgba(60, 64, 67, 0.15);\n",
              "      fill: #174EA6;\n",
              "    }\n",
              "\n",
              "    [theme=dark] .colab-df-convert {\n",
              "      background-color: #3B4455;\n",
              "      fill: #D2E3FC;\n",
              "    }\n",
              "\n",
              "    [theme=dark] .colab-df-convert:hover {\n",
              "      background-color: #434B5C;\n",
              "      box-shadow: 0px 1px 3px 1px rgba(0, 0, 0, 0.15);\n",
              "      filter: drop-shadow(0px 1px 2px rgba(0, 0, 0, 0.3));\n",
              "      fill: #FFFFFF;\n",
              "    }\n",
              "  </style>\n",
              "\n",
              "      <script>\n",
              "        const buttonEl =\n",
              "          document.querySelector('#df-7d84d6e9-f5fe-46df-84d6-fbb6000dc0cd button.colab-df-convert');\n",
              "        buttonEl.style.display =\n",
              "          google.colab.kernel.accessAllowed ? 'block' : 'none';\n",
              "\n",
              "        async function convertToInteractive(key) {\n",
              "          const element = document.querySelector('#df-7d84d6e9-f5fe-46df-84d6-fbb6000dc0cd');\n",
              "          const dataTable =\n",
              "            await google.colab.kernel.invokeFunction('convertToInteractive',\n",
              "                                                     [key], {});\n",
              "          if (!dataTable) return;\n",
              "\n",
              "          const docLinkHtml = 'Like what you see? Visit the ' +\n",
              "            '<a target=\"_blank\" href=https://colab.research.google.com/notebooks/data_table.ipynb>data table notebook</a>'\n",
              "            + ' to learn more about interactive tables.';\n",
              "          element.innerHTML = '';\n",
              "          dataTable['output_type'] = 'display_data';\n",
              "          await google.colab.output.renderOutput(dataTable, element);\n",
              "          const docLink = document.createElement('div');\n",
              "          docLink.innerHTML = docLinkHtml;\n",
              "          element.appendChild(docLink);\n",
              "        }\n",
              "      </script>\n",
              "    </div>\n",
              "  </div>\n",
              "  "
            ]
          },
          "metadata": {},
          "execution_count": 157
        }
      ]
    },
    {
      "cell_type": "markdown",
      "source": [
        "1. What would be the weighted mean of ‘Weekly_Sales’  with having the effect of ‘Holiday_Flag’ variable?"
      ],
      "metadata": {
        "id": "NAoADTFd4mTJ"
      }
    },
    {
      "cell_type": "code",
      "source": [
        "weighted_average=np.average(a=df4['Weekly_Sales'],weights=df4['Holiday_Flag'])\n",
        "print(\" The weighted avrerage for the 'Weekly_Sales'\",weighted_average)"
      ],
      "metadata": {
        "colab": {
          "base_uri": "https://localhost:8080/"
        },
        "id": "wR-VtPyF2rv1",
        "outputId": "7969ecb3-9524-4890-fb2b-4244be670cf1"
      },
      "execution_count": null,
      "outputs": [
        {
          "output_type": "stream",
          "name": "stdout",
          "text": [
            " The weighted avrerage for the 'Weekly_Sales' 1122887.8923555557\n"
          ]
        }
      ]
    },
    {
      "cell_type": "markdown",
      "source": [
        "2.  From all the Quantitative variables find which variable is dispersed by all the measures of dispersion."
      ],
      "metadata": {
        "id": "mnCcAJo_I_Ia"
      }
    },
    {
      "cell_type": "code",
      "source": [
        "# These are the variables that can be measured on the range of dispersion\n",
        "pd.set_option('display.float_format', lambda x: '%.3f' % x)\n",
        "df4.aggregate({\"Weekly_Sales\":['var', 'std'],\"Temperature\":['var', 'std'],\"Fuel_Price\":['var', 'std'], \"CPI\":['var', 'std']})"
      ],
      "metadata": {
        "colab": {
          "base_uri": "https://localhost:8080/",
          "height": 112
        },
        "id": "S1eiXMRb2r2k",
        "outputId": "8adcad8a-65ff-4ae2-cbbb-d63d6b39f536"
      },
      "execution_count": null,
      "outputs": [
        {
          "output_type": "execute_result",
          "data": {
            "text/plain": [
              "        Weekly_Sales  Temperature  Fuel_Price      CPI\n",
              "var 318509684088.301      340.216       0.211 1548.951\n",
              "std       564366.622       18.445       0.459   39.357"
            ],
            "text/html": [
              "\n",
              "  <div id=\"df-02581d5d-b587-43bb-b8c2-f3da25ddd890\">\n",
              "    <div class=\"colab-df-container\">\n",
              "      <div>\n",
              "<style scoped>\n",
              "    .dataframe tbody tr th:only-of-type {\n",
              "        vertical-align: middle;\n",
              "    }\n",
              "\n",
              "    .dataframe tbody tr th {\n",
              "        vertical-align: top;\n",
              "    }\n",
              "\n",
              "    .dataframe thead th {\n",
              "        text-align: right;\n",
              "    }\n",
              "</style>\n",
              "<table border=\"1\" class=\"dataframe\">\n",
              "  <thead>\n",
              "    <tr style=\"text-align: right;\">\n",
              "      <th></th>\n",
              "      <th>Weekly_Sales</th>\n",
              "      <th>Temperature</th>\n",
              "      <th>Fuel_Price</th>\n",
              "      <th>CPI</th>\n",
              "    </tr>\n",
              "  </thead>\n",
              "  <tbody>\n",
              "    <tr>\n",
              "      <th>var</th>\n",
              "      <td>318509684088.301</td>\n",
              "      <td>340.216</td>\n",
              "      <td>0.211</td>\n",
              "      <td>1548.951</td>\n",
              "    </tr>\n",
              "    <tr>\n",
              "      <th>std</th>\n",
              "      <td>564366.622</td>\n",
              "      <td>18.445</td>\n",
              "      <td>0.459</td>\n",
              "      <td>39.357</td>\n",
              "    </tr>\n",
              "  </tbody>\n",
              "</table>\n",
              "</div>\n",
              "      <button class=\"colab-df-convert\" onclick=\"convertToInteractive('df-02581d5d-b587-43bb-b8c2-f3da25ddd890')\"\n",
              "              title=\"Convert this dataframe to an interactive table.\"\n",
              "              style=\"display:none;\">\n",
              "        \n",
              "  <svg xmlns=\"http://www.w3.org/2000/svg\" height=\"24px\"viewBox=\"0 0 24 24\"\n",
              "       width=\"24px\">\n",
              "    <path d=\"M0 0h24v24H0V0z\" fill=\"none\"/>\n",
              "    <path d=\"M18.56 5.44l.94 2.06.94-2.06 2.06-.94-2.06-.94-.94-2.06-.94 2.06-2.06.94zm-11 1L8.5 8.5l.94-2.06 2.06-.94-2.06-.94L8.5 2.5l-.94 2.06-2.06.94zm10 10l.94 2.06.94-2.06 2.06-.94-2.06-.94-.94-2.06-.94 2.06-2.06.94z\"/><path d=\"M17.41 7.96l-1.37-1.37c-.4-.4-.92-.59-1.43-.59-.52 0-1.04.2-1.43.59L10.3 9.45l-7.72 7.72c-.78.78-.78 2.05 0 2.83L4 21.41c.39.39.9.59 1.41.59.51 0 1.02-.2 1.41-.59l7.78-7.78 2.81-2.81c.8-.78.8-2.07 0-2.86zM5.41 20L4 18.59l7.72-7.72 1.47 1.35L5.41 20z\"/>\n",
              "  </svg>\n",
              "      </button>\n",
              "      \n",
              "  <style>\n",
              "    .colab-df-container {\n",
              "      display:flex;\n",
              "      flex-wrap:wrap;\n",
              "      gap: 12px;\n",
              "    }\n",
              "\n",
              "    .colab-df-convert {\n",
              "      background-color: #E8F0FE;\n",
              "      border: none;\n",
              "      border-radius: 50%;\n",
              "      cursor: pointer;\n",
              "      display: none;\n",
              "      fill: #1967D2;\n",
              "      height: 32px;\n",
              "      padding: 0 0 0 0;\n",
              "      width: 32px;\n",
              "    }\n",
              "\n",
              "    .colab-df-convert:hover {\n",
              "      background-color: #E2EBFA;\n",
              "      box-shadow: 0px 1px 2px rgba(60, 64, 67, 0.3), 0px 1px 3px 1px rgba(60, 64, 67, 0.15);\n",
              "      fill: #174EA6;\n",
              "    }\n",
              "\n",
              "    [theme=dark] .colab-df-convert {\n",
              "      background-color: #3B4455;\n",
              "      fill: #D2E3FC;\n",
              "    }\n",
              "\n",
              "    [theme=dark] .colab-df-convert:hover {\n",
              "      background-color: #434B5C;\n",
              "      box-shadow: 0px 1px 3px 1px rgba(0, 0, 0, 0.15);\n",
              "      filter: drop-shadow(0px 1px 2px rgba(0, 0, 0, 0.3));\n",
              "      fill: #FFFFFF;\n",
              "    }\n",
              "  </style>\n",
              "\n",
              "      <script>\n",
              "        const buttonEl =\n",
              "          document.querySelector('#df-02581d5d-b587-43bb-b8c2-f3da25ddd890 button.colab-df-convert');\n",
              "        buttonEl.style.display =\n",
              "          google.colab.kernel.accessAllowed ? 'block' : 'none';\n",
              "\n",
              "        async function convertToInteractive(key) {\n",
              "          const element = document.querySelector('#df-02581d5d-b587-43bb-b8c2-f3da25ddd890');\n",
              "          const dataTable =\n",
              "            await google.colab.kernel.invokeFunction('convertToInteractive',\n",
              "                                                     [key], {});\n",
              "          if (!dataTable) return;\n",
              "\n",
              "          const docLinkHtml = 'Like what you see? Visit the ' +\n",
              "            '<a target=\"_blank\" href=https://colab.research.google.com/notebooks/data_table.ipynb>data table notebook</a>'\n",
              "            + ' to learn more about interactive tables.';\n",
              "          element.innerHTML = '';\n",
              "          dataTable['output_type'] = 'display_data';\n",
              "          await google.colab.output.renderOutput(dataTable, element);\n",
              "          const docLink = document.createElement('div');\n",
              "          docLink.innerHTML = docLinkHtml;\n",
              "          element.appendChild(docLink);\n",
              "        }\n",
              "      </script>\n",
              "    </div>\n",
              "  </div>\n",
              "  "
            ]
          },
          "metadata": {},
          "execution_count": 169
        }
      ]
    },
    {
      "cell_type": "markdown",
      "source": [
        "\n",
        "3.  What is the range of the temperature variable?\n"
      ],
      "metadata": {
        "id": "BZ_PfRkJLZ5Z"
      }
    },
    {
      "cell_type": "code",
      "source": [
        "max_temp = df4['Temperature'].max()\n",
        "min_temp = df4['Temperature'].min()\n",
        "range_temp = (max_temp - min_temp)\n",
        "print(\"The range of the Temperature\",range_temp)"
      ],
      "metadata": {
        "colab": {
          "base_uri": "https://localhost:8080/"
        },
        "id": "QcKwds6O2r7-",
        "outputId": "aa5edc14-1c60-4ae2-8049-707dd4723d58"
      },
      "execution_count": null,
      "outputs": [
        {
          "output_type": "stream",
          "name": "stdout",
          "text": [
            "The range of the Temperature 102.2\n"
          ]
        }
      ]
    },
    {
      "cell_type": "markdown",
      "source": [
        "4. Calculate the variance & Standard deviation of the consumer price index .Now what are these scores indicating about the ‘consumer price index’."
      ],
      "metadata": {
        "id": "KchVe-8BMzs3"
      }
    },
    {
      "cell_type": "code",
      "source": [
        "# CPI is the monthly change in prices paid by the consumers over the time. \n",
        "# Now the measures of dispersion indicates that over the time there is a steady increase in prices as the standard deviation is low.\n",
        "\n",
        "pd.set_option('display.float_format', lambda x: '%.3f' % x)\n",
        "df4.aggregate({\"CPI\":['var', 'std']})"
      ],
      "metadata": {
        "colab": {
          "base_uri": "https://localhost:8080/",
          "height": 112
        },
        "id": "E7c5C7g42sCX",
        "outputId": "37782a62-034e-4d0b-f2da-5d8fc61479b7"
      },
      "execution_count": null,
      "outputs": [
        {
          "output_type": "execute_result",
          "data": {
            "text/plain": [
              "         CPI\n",
              "var 1548.951\n",
              "std   39.357"
            ],
            "text/html": [
              "\n",
              "  <div id=\"df-b23150e8-797a-48f8-a5f0-c21bc4e22d41\">\n",
              "    <div class=\"colab-df-container\">\n",
              "      <div>\n",
              "<style scoped>\n",
              "    .dataframe tbody tr th:only-of-type {\n",
              "        vertical-align: middle;\n",
              "    }\n",
              "\n",
              "    .dataframe tbody tr th {\n",
              "        vertical-align: top;\n",
              "    }\n",
              "\n",
              "    .dataframe thead th {\n",
              "        text-align: right;\n",
              "    }\n",
              "</style>\n",
              "<table border=\"1\" class=\"dataframe\">\n",
              "  <thead>\n",
              "    <tr style=\"text-align: right;\">\n",
              "      <th></th>\n",
              "      <th>CPI</th>\n",
              "    </tr>\n",
              "  </thead>\n",
              "  <tbody>\n",
              "    <tr>\n",
              "      <th>var</th>\n",
              "      <td>1548.951</td>\n",
              "    </tr>\n",
              "    <tr>\n",
              "      <th>std</th>\n",
              "      <td>39.357</td>\n",
              "    </tr>\n",
              "  </tbody>\n",
              "</table>\n",
              "</div>\n",
              "      <button class=\"colab-df-convert\" onclick=\"convertToInteractive('df-b23150e8-797a-48f8-a5f0-c21bc4e22d41')\"\n",
              "              title=\"Convert this dataframe to an interactive table.\"\n",
              "              style=\"display:none;\">\n",
              "        \n",
              "  <svg xmlns=\"http://www.w3.org/2000/svg\" height=\"24px\"viewBox=\"0 0 24 24\"\n",
              "       width=\"24px\">\n",
              "    <path d=\"M0 0h24v24H0V0z\" fill=\"none\"/>\n",
              "    <path d=\"M18.56 5.44l.94 2.06.94-2.06 2.06-.94-2.06-.94-.94-2.06-.94 2.06-2.06.94zm-11 1L8.5 8.5l.94-2.06 2.06-.94-2.06-.94L8.5 2.5l-.94 2.06-2.06.94zm10 10l.94 2.06.94-2.06 2.06-.94-2.06-.94-.94-2.06-.94 2.06-2.06.94z\"/><path d=\"M17.41 7.96l-1.37-1.37c-.4-.4-.92-.59-1.43-.59-.52 0-1.04.2-1.43.59L10.3 9.45l-7.72 7.72c-.78.78-.78 2.05 0 2.83L4 21.41c.39.39.9.59 1.41.59.51 0 1.02-.2 1.41-.59l7.78-7.78 2.81-2.81c.8-.78.8-2.07 0-2.86zM5.41 20L4 18.59l7.72-7.72 1.47 1.35L5.41 20z\"/>\n",
              "  </svg>\n",
              "      </button>\n",
              "      \n",
              "  <style>\n",
              "    .colab-df-container {\n",
              "      display:flex;\n",
              "      flex-wrap:wrap;\n",
              "      gap: 12px;\n",
              "    }\n",
              "\n",
              "    .colab-df-convert {\n",
              "      background-color: #E8F0FE;\n",
              "      border: none;\n",
              "      border-radius: 50%;\n",
              "      cursor: pointer;\n",
              "      display: none;\n",
              "      fill: #1967D2;\n",
              "      height: 32px;\n",
              "      padding: 0 0 0 0;\n",
              "      width: 32px;\n",
              "    }\n",
              "\n",
              "    .colab-df-convert:hover {\n",
              "      background-color: #E2EBFA;\n",
              "      box-shadow: 0px 1px 2px rgba(60, 64, 67, 0.3), 0px 1px 3px 1px rgba(60, 64, 67, 0.15);\n",
              "      fill: #174EA6;\n",
              "    }\n",
              "\n",
              "    [theme=dark] .colab-df-convert {\n",
              "      background-color: #3B4455;\n",
              "      fill: #D2E3FC;\n",
              "    }\n",
              "\n",
              "    [theme=dark] .colab-df-convert:hover {\n",
              "      background-color: #434B5C;\n",
              "      box-shadow: 0px 1px 3px 1px rgba(0, 0, 0, 0.15);\n",
              "      filter: drop-shadow(0px 1px 2px rgba(0, 0, 0, 0.3));\n",
              "      fill: #FFFFFF;\n",
              "    }\n",
              "  </style>\n",
              "\n",
              "      <script>\n",
              "        const buttonEl =\n",
              "          document.querySelector('#df-b23150e8-797a-48f8-a5f0-c21bc4e22d41 button.colab-df-convert');\n",
              "        buttonEl.style.display =\n",
              "          google.colab.kernel.accessAllowed ? 'block' : 'none';\n",
              "\n",
              "        async function convertToInteractive(key) {\n",
              "          const element = document.querySelector('#df-b23150e8-797a-48f8-a5f0-c21bc4e22d41');\n",
              "          const dataTable =\n",
              "            await google.colab.kernel.invokeFunction('convertToInteractive',\n",
              "                                                     [key], {});\n",
              "          if (!dataTable) return;\n",
              "\n",
              "          const docLinkHtml = 'Like what you see? Visit the ' +\n",
              "            '<a target=\"_blank\" href=https://colab.research.google.com/notebooks/data_table.ipynb>data table notebook</a>'\n",
              "            + ' to learn more about interactive tables.';\n",
              "          element.innerHTML = '';\n",
              "          dataTable['output_type'] = 'display_data';\n",
              "          await google.colab.output.renderOutput(dataTable, element);\n",
              "          const docLink = document.createElement('div');\n",
              "          docLink.innerHTML = docLinkHtml;\n",
              "          element.appendChild(docLink);\n",
              "        }\n",
              "      </script>\n",
              "    </div>\n",
              "  </div>\n",
              "  "
            ]
          },
          "metadata": {},
          "execution_count": 171
        }
      ]
    },
    {
      "cell_type": "markdown",
      "source": [
        "5.  Can you find the coefficient of variation on the ‘weekly sales’ variable."
      ],
      "metadata": {
        "id": "j2HpyckhPDGk"
      }
    },
    {
      "cell_type": "code",
      "source": [
        "# The coefficient of variation is the standard deviation of 'weekly_Sales' divided by the mean of 'weekly_Sales' multiplying by 100.This is known as the relative measure of dispersion.\n",
        "cv =np.std(df4['Weekly_Sales'], ddof=1) / np.mean(df4['Weekly_Sales']) * 100 "
      ],
      "metadata": {
        "id": "IBadV_8E2sJE"
      },
      "execution_count": null,
      "outputs": []
    },
    {
      "cell_type": "markdown",
      "source": [
        "6.  Can you give us the statistical information for all the variables?"
      ],
      "metadata": {
        "id": "8QzuZfVoQYf7"
      }
    },
    {
      "cell_type": "code",
      "source": [
        "df4.describe()"
      ],
      "metadata": {
        "colab": {
          "base_uri": "https://localhost:8080/",
          "height": 300
        },
        "id": "XGIqyFWO2sSe",
        "outputId": "4300132f-a186-4839-fa27-35e9a76c1cb5"
      },
      "execution_count": null,
      "outputs": [
        {
          "output_type": "execute_result",
          "data": {
            "text/plain": [
              "         Store  Weekly_Sales  Holiday_Flag  Temperature  Fuel_Price      CPI  \\\n",
              "count 6435.000      6435.000      6435.000     6435.000    6435.000 6435.000   \n",
              "mean    23.000   1046964.878         0.070       60.664       3.359  171.578   \n",
              "std     12.988    564366.622         0.255       18.445       0.459   39.357   \n",
              "min      1.000    209986.250         0.000       -2.060       2.472  126.064   \n",
              "25%     12.000    553350.105         0.000       47.460       2.933  131.735   \n",
              "50%     23.000    960746.040         0.000       62.670       3.445  182.617   \n",
              "75%     34.000   1420158.660         0.000       74.940       3.735  212.743   \n",
              "max     45.000   3818686.450         1.000      100.140       4.468  227.233   \n",
              "\n",
              "       Unemployment  \n",
              "count      6435.000  \n",
              "mean          7.999  \n",
              "std           1.876  \n",
              "min           3.879  \n",
              "25%           6.891  \n",
              "50%           7.874  \n",
              "75%           8.622  \n",
              "max          14.313  "
            ],
            "text/html": [
              "\n",
              "  <div id=\"df-19fd9c76-af97-49d4-8542-2c460f1a3b3c\">\n",
              "    <div class=\"colab-df-container\">\n",
              "      <div>\n",
              "<style scoped>\n",
              "    .dataframe tbody tr th:only-of-type {\n",
              "        vertical-align: middle;\n",
              "    }\n",
              "\n",
              "    .dataframe tbody tr th {\n",
              "        vertical-align: top;\n",
              "    }\n",
              "\n",
              "    .dataframe thead th {\n",
              "        text-align: right;\n",
              "    }\n",
              "</style>\n",
              "<table border=\"1\" class=\"dataframe\">\n",
              "  <thead>\n",
              "    <tr style=\"text-align: right;\">\n",
              "      <th></th>\n",
              "      <th>Store</th>\n",
              "      <th>Weekly_Sales</th>\n",
              "      <th>Holiday_Flag</th>\n",
              "      <th>Temperature</th>\n",
              "      <th>Fuel_Price</th>\n",
              "      <th>CPI</th>\n",
              "      <th>Unemployment</th>\n",
              "    </tr>\n",
              "  </thead>\n",
              "  <tbody>\n",
              "    <tr>\n",
              "      <th>count</th>\n",
              "      <td>6435.000</td>\n",
              "      <td>6435.000</td>\n",
              "      <td>6435.000</td>\n",
              "      <td>6435.000</td>\n",
              "      <td>6435.000</td>\n",
              "      <td>6435.000</td>\n",
              "      <td>6435.000</td>\n",
              "    </tr>\n",
              "    <tr>\n",
              "      <th>mean</th>\n",
              "      <td>23.000</td>\n",
              "      <td>1046964.878</td>\n",
              "      <td>0.070</td>\n",
              "      <td>60.664</td>\n",
              "      <td>3.359</td>\n",
              "      <td>171.578</td>\n",
              "      <td>7.999</td>\n",
              "    </tr>\n",
              "    <tr>\n",
              "      <th>std</th>\n",
              "      <td>12.988</td>\n",
              "      <td>564366.622</td>\n",
              "      <td>0.255</td>\n",
              "      <td>18.445</td>\n",
              "      <td>0.459</td>\n",
              "      <td>39.357</td>\n",
              "      <td>1.876</td>\n",
              "    </tr>\n",
              "    <tr>\n",
              "      <th>min</th>\n",
              "      <td>1.000</td>\n",
              "      <td>209986.250</td>\n",
              "      <td>0.000</td>\n",
              "      <td>-2.060</td>\n",
              "      <td>2.472</td>\n",
              "      <td>126.064</td>\n",
              "      <td>3.879</td>\n",
              "    </tr>\n",
              "    <tr>\n",
              "      <th>25%</th>\n",
              "      <td>12.000</td>\n",
              "      <td>553350.105</td>\n",
              "      <td>0.000</td>\n",
              "      <td>47.460</td>\n",
              "      <td>2.933</td>\n",
              "      <td>131.735</td>\n",
              "      <td>6.891</td>\n",
              "    </tr>\n",
              "    <tr>\n",
              "      <th>50%</th>\n",
              "      <td>23.000</td>\n",
              "      <td>960746.040</td>\n",
              "      <td>0.000</td>\n",
              "      <td>62.670</td>\n",
              "      <td>3.445</td>\n",
              "      <td>182.617</td>\n",
              "      <td>7.874</td>\n",
              "    </tr>\n",
              "    <tr>\n",
              "      <th>75%</th>\n",
              "      <td>34.000</td>\n",
              "      <td>1420158.660</td>\n",
              "      <td>0.000</td>\n",
              "      <td>74.940</td>\n",
              "      <td>3.735</td>\n",
              "      <td>212.743</td>\n",
              "      <td>8.622</td>\n",
              "    </tr>\n",
              "    <tr>\n",
              "      <th>max</th>\n",
              "      <td>45.000</td>\n",
              "      <td>3818686.450</td>\n",
              "      <td>1.000</td>\n",
              "      <td>100.140</td>\n",
              "      <td>4.468</td>\n",
              "      <td>227.233</td>\n",
              "      <td>14.313</td>\n",
              "    </tr>\n",
              "  </tbody>\n",
              "</table>\n",
              "</div>\n",
              "      <button class=\"colab-df-convert\" onclick=\"convertToInteractive('df-19fd9c76-af97-49d4-8542-2c460f1a3b3c')\"\n",
              "              title=\"Convert this dataframe to an interactive table.\"\n",
              "              style=\"display:none;\">\n",
              "        \n",
              "  <svg xmlns=\"http://www.w3.org/2000/svg\" height=\"24px\"viewBox=\"0 0 24 24\"\n",
              "       width=\"24px\">\n",
              "    <path d=\"M0 0h24v24H0V0z\" fill=\"none\"/>\n",
              "    <path d=\"M18.56 5.44l.94 2.06.94-2.06 2.06-.94-2.06-.94-.94-2.06-.94 2.06-2.06.94zm-11 1L8.5 8.5l.94-2.06 2.06-.94-2.06-.94L8.5 2.5l-.94 2.06-2.06.94zm10 10l.94 2.06.94-2.06 2.06-.94-2.06-.94-.94-2.06-.94 2.06-2.06.94z\"/><path d=\"M17.41 7.96l-1.37-1.37c-.4-.4-.92-.59-1.43-.59-.52 0-1.04.2-1.43.59L10.3 9.45l-7.72 7.72c-.78.78-.78 2.05 0 2.83L4 21.41c.39.39.9.59 1.41.59.51 0 1.02-.2 1.41-.59l7.78-7.78 2.81-2.81c.8-.78.8-2.07 0-2.86zM5.41 20L4 18.59l7.72-7.72 1.47 1.35L5.41 20z\"/>\n",
              "  </svg>\n",
              "      </button>\n",
              "      \n",
              "  <style>\n",
              "    .colab-df-container {\n",
              "      display:flex;\n",
              "      flex-wrap:wrap;\n",
              "      gap: 12px;\n",
              "    }\n",
              "\n",
              "    .colab-df-convert {\n",
              "      background-color: #E8F0FE;\n",
              "      border: none;\n",
              "      border-radius: 50%;\n",
              "      cursor: pointer;\n",
              "      display: none;\n",
              "      fill: #1967D2;\n",
              "      height: 32px;\n",
              "      padding: 0 0 0 0;\n",
              "      width: 32px;\n",
              "    }\n",
              "\n",
              "    .colab-df-convert:hover {\n",
              "      background-color: #E2EBFA;\n",
              "      box-shadow: 0px 1px 2px rgba(60, 64, 67, 0.3), 0px 1px 3px 1px rgba(60, 64, 67, 0.15);\n",
              "      fill: #174EA6;\n",
              "    }\n",
              "\n",
              "    [theme=dark] .colab-df-convert {\n",
              "      background-color: #3B4455;\n",
              "      fill: #D2E3FC;\n",
              "    }\n",
              "\n",
              "    [theme=dark] .colab-df-convert:hover {\n",
              "      background-color: #434B5C;\n",
              "      box-shadow: 0px 1px 3px 1px rgba(0, 0, 0, 0.15);\n",
              "      filter: drop-shadow(0px 1px 2px rgba(0, 0, 0, 0.3));\n",
              "      fill: #FFFFFF;\n",
              "    }\n",
              "  </style>\n",
              "\n",
              "      <script>\n",
              "        const buttonEl =\n",
              "          document.querySelector('#df-19fd9c76-af97-49d4-8542-2c460f1a3b3c button.colab-df-convert');\n",
              "        buttonEl.style.display =\n",
              "          google.colab.kernel.accessAllowed ? 'block' : 'none';\n",
              "\n",
              "        async function convertToInteractive(key) {\n",
              "          const element = document.querySelector('#df-19fd9c76-af97-49d4-8542-2c460f1a3b3c');\n",
              "          const dataTable =\n",
              "            await google.colab.kernel.invokeFunction('convertToInteractive',\n",
              "                                                     [key], {});\n",
              "          if (!dataTable) return;\n",
              "\n",
              "          const docLinkHtml = 'Like what you see? Visit the ' +\n",
              "            '<a target=\"_blank\" href=https://colab.research.google.com/notebooks/data_table.ipynb>data table notebook</a>'\n",
              "            + ' to learn more about interactive tables.';\n",
              "          element.innerHTML = '';\n",
              "          dataTable['output_type'] = 'display_data';\n",
              "          await google.colab.output.renderOutput(dataTable, element);\n",
              "          const docLink = document.createElement('div');\n",
              "          docLink.innerHTML = docLinkHtml;\n",
              "          element.appendChild(docLink);\n",
              "        }\n",
              "      </script>\n",
              "    </div>\n",
              "  </div>\n",
              "  "
            ]
          },
          "metadata": {},
          "execution_count": 175
        }
      ]
    },
    {
      "cell_type": "markdown",
      "source": [
        "7. As ‘weekly_sales’ is one of the concerning factors in business ,the store manager wants to know the decile distribution of weekly_sales variable.Hint : you may use the quantile function."
      ],
      "metadata": {
        "id": "Rv4DzEnXQhnL"
      }
    },
    {
      "cell_type": "code",
      "source": [
        "# The decile distribution of the weekly sales in histogram\n",
        "print(df4['Weekly_Sales'].quantile(np.arange(0.01, 1, 0.01)))\n",
        "df4['Weekly_Sales'].quantile(np.arange(0.01, 1, 0.01)).plot(kind='hist')"
      ],
      "metadata": {
        "colab": {
          "base_uri": "https://localhost:8080/",
          "height": 504
        },
        "id": "3-UjAh-hQb36",
        "outputId": "93379451-c59e-4313-9269-3f8eca022404"
      },
      "execution_count": null,
      "outputs": [
        {
          "output_type": "stream",
          "name": "stdout",
          "text": [
            "0.010    253103.069\n",
            "0.020    275258.566\n",
            "0.030    286429.751\n",
            "0.040    297117.856\n",
            "0.050    308426.689\n",
            "            ...    \n",
            "0.950   2049178.512\n",
            "0.960   2081407.462\n",
            "0.970   2135966.012\n",
            "0.980   2203919.302\n",
            "0.990   2404035.305\n",
            "Name: Weekly_Sales, Length: 99, dtype: float64\n"
          ]
        },
        {
          "output_type": "execute_result",
          "data": {
            "text/plain": [
              "<matplotlib.axes._subplots.AxesSubplot at 0x7faab436d5d0>"
            ]
          },
          "metadata": {},
          "execution_count": 200
        },
        {
          "output_type": "display_data",
          "data": {
            "text/plain": [
              "<Figure size 432x288 with 1 Axes>"
            ],
            "image/png": "[encoded data removed]"
          },
          "metadata": {
            "needs_background": "light"
          }
        }
      ]
    },
    {
      "cell_type": "code",
      "source": [],
      "metadata": {
        "id": "4Hf9NfNwQb6u"
      },
      "execution_count": null,
      "outputs": []
    },
    {
      "cell_type": "code",
      "source": [],
      "metadata": {
        "id": "_PMJGqBpQb9l"
      },
      "execution_count": null,
      "outputs": []
    },
    {
      "cell_type": "code",
      "source": [],
      "metadata": {
        "id": "yipzOETbQcAk"
      },
      "execution_count": null,
      "outputs": []
    },
    {
      "cell_type": "code",
      "source": [],
      "metadata": {
        "id": "_wcC_g9XQcDa"
      },
      "execution_count": null,
      "outputs": []
    },
    {
      "cell_type": "code",
      "source": [],
      "metadata": {
        "id": "XAM2MPDhQcGt"
      },
      "execution_count": null,
      "outputs": []
    },
    {
      "cell_type": "code",
      "source": [],
      "metadata": {
        "id": "9TFg9BZ2QcJa"
      },
      "execution_count": null,
      "outputs": []
    },
    {
      "cell_type": "code",
      "source": [],
      "metadata": {
        "id": "YOw4gcdf2sVX"
      },
      "execution_count": null,
      "outputs": []
    },
    {
      "cell_type": "code",
      "source": [],
      "metadata": {
        "id": "jmRFwcBEa7Ga"
      },
      "execution_count": null,
      "outputs": []
    },
    {
      "cell_type": "code",
      "source": [],
      "metadata": {
        "id": "8tfSp8GIa7L_"
      },
      "execution_count": null,
      "outputs": []
    }
  ]
}