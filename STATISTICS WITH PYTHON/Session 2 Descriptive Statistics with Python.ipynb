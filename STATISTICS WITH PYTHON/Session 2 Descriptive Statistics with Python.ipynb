{
 "cells": [
  {
   "cell_type": "code",
   "execution_count": 2,
   "id": "b8d9bf1a",
   "metadata": {},
   "outputs": [],
   "source": [
    "# importing the necessary Libraries\n",
    "import pandas as pd\n",
    "import numpy as np"
   ]
  },
  {
   "cell_type": "code",
   "execution_count": 3,
   "id": "1c346de3",
   "metadata": {},
   "outputs": [
    {
     "data": {
      "text/html": [
       "<div>\n",
       "<style scoped>\n",
       "    .dataframe tbody tr th:only-of-type {\n",
       "        vertical-align: middle;\n",
       "    }\n",
       "\n",
       "    .dataframe tbody tr th {\n",
       "        vertical-align: top;\n",
       "    }\n",
       "\n",
       "    .dataframe thead th {\n",
       "        text-align: right;\n",
       "    }\n",
       "</style>\n",
       "<table border=\"1\" class=\"dataframe\">\n",
       "  <thead>\n",
       "    <tr style=\"text-align: right;\">\n",
       "      <th></th>\n",
       "      <th>age</th>\n",
       "      <th>workclass</th>\n",
       "      <th>fnlwgt</th>\n",
       "      <th>education</th>\n",
       "      <th>education_num</th>\n",
       "      <th>marital_status</th>\n",
       "      <th>occupation</th>\n",
       "      <th>relationship</th>\n",
       "      <th>race</th>\n",
       "      <th>sex</th>\n",
       "      <th>capital_gain</th>\n",
       "      <th>capital_loss</th>\n",
       "      <th>hours_per_week</th>\n",
       "      <th>native_country</th>\n",
       "      <th>SalaryGT50K</th>\n",
       "    </tr>\n",
       "  </thead>\n",
       "  <tbody>\n",
       "    <tr>\n",
       "      <th>0</th>\n",
       "      <td>39</td>\n",
       "      <td>State-gov</td>\n",
       "      <td>77516</td>\n",
       "      <td>Bachelors</td>\n",
       "      <td>13</td>\n",
       "      <td>Never-married</td>\n",
       "      <td>Adm-clerical</td>\n",
       "      <td>Not-in-family</td>\n",
       "      <td>White</td>\n",
       "      <td>Male</td>\n",
       "      <td>2174</td>\n",
       "      <td>0</td>\n",
       "      <td>40</td>\n",
       "      <td>United-States</td>\n",
       "      <td>0</td>\n",
       "    </tr>\n",
       "    <tr>\n",
       "      <th>1</th>\n",
       "      <td>50</td>\n",
       "      <td>Self-emp-not-inc</td>\n",
       "      <td>83311</td>\n",
       "      <td>Bachelors</td>\n",
       "      <td>13</td>\n",
       "      <td>Married-civ-spouse</td>\n",
       "      <td>Exec-managerial</td>\n",
       "      <td>Husband</td>\n",
       "      <td>White</td>\n",
       "      <td>Male</td>\n",
       "      <td>0</td>\n",
       "      <td>0</td>\n",
       "      <td>13</td>\n",
       "      <td>United-States</td>\n",
       "      <td>0</td>\n",
       "    </tr>\n",
       "    <tr>\n",
       "      <th>2</th>\n",
       "      <td>38</td>\n",
       "      <td>Private</td>\n",
       "      <td>215646</td>\n",
       "      <td>HS-grad</td>\n",
       "      <td>9</td>\n",
       "      <td>Divorced</td>\n",
       "      <td>Handlers-cleaners</td>\n",
       "      <td>Not-in-family</td>\n",
       "      <td>White</td>\n",
       "      <td>Male</td>\n",
       "      <td>0</td>\n",
       "      <td>0</td>\n",
       "      <td>40</td>\n",
       "      <td>United-States</td>\n",
       "      <td>0</td>\n",
       "    </tr>\n",
       "    <tr>\n",
       "      <th>3</th>\n",
       "      <td>53</td>\n",
       "      <td>Private</td>\n",
       "      <td>234721</td>\n",
       "      <td>11th</td>\n",
       "      <td>7</td>\n",
       "      <td>Married-civ-spouse</td>\n",
       "      <td>Handlers-cleaners</td>\n",
       "      <td>Husband</td>\n",
       "      <td>Black</td>\n",
       "      <td>Male</td>\n",
       "      <td>0</td>\n",
       "      <td>0</td>\n",
       "      <td>40</td>\n",
       "      <td>United-States</td>\n",
       "      <td>0</td>\n",
       "    </tr>\n",
       "    <tr>\n",
       "      <th>4</th>\n",
       "      <td>28</td>\n",
       "      <td>Private</td>\n",
       "      <td>338409</td>\n",
       "      <td>Bachelors</td>\n",
       "      <td>13</td>\n",
       "      <td>Married-civ-spouse</td>\n",
       "      <td>Prof-specialty</td>\n",
       "      <td>Wife</td>\n",
       "      <td>Black</td>\n",
       "      <td>Female</td>\n",
       "      <td>0</td>\n",
       "      <td>0</td>\n",
       "      <td>40</td>\n",
       "      <td>Cuba</td>\n",
       "      <td>0</td>\n",
       "    </tr>\n",
       "  </tbody>\n",
       "</table>\n",
       "</div>"
      ],
      "text/plain": [
       "   age          workclass  fnlwgt   education  education_num  \\\n",
       "0   39          State-gov   77516   Bachelors             13   \n",
       "1   50   Self-emp-not-inc   83311   Bachelors             13   \n",
       "2   38            Private  215646     HS-grad              9   \n",
       "3   53            Private  234721        11th              7   \n",
       "4   28            Private  338409   Bachelors             13   \n",
       "\n",
       "        marital_status          occupation    relationship    race      sex  \\\n",
       "0        Never-married        Adm-clerical   Not-in-family   White     Male   \n",
       "1   Married-civ-spouse     Exec-managerial         Husband   White     Male   \n",
       "2             Divorced   Handlers-cleaners   Not-in-family   White     Male   \n",
       "3   Married-civ-spouse   Handlers-cleaners         Husband   Black     Male   \n",
       "4   Married-civ-spouse      Prof-specialty            Wife   Black   Female   \n",
       "\n",
       "   capital_gain  capital_loss  hours_per_week  native_country  SalaryGT50K  \n",
       "0          2174             0              40   United-States            0  \n",
       "1             0             0              13   United-States            0  \n",
       "2             0             0              40   United-States            0  \n",
       "3             0             0              40   United-States            0  \n",
       "4             0             0              40            Cuba            0  "
      ]
     },
     "execution_count": 3,
     "metadata": {},
     "output_type": "execute_result"
    }
   ],
   "source": [
    "# Reading the dataset\n",
    "df = pd.read_csv('C:/Users/Biswajit Roy/Downloads/SalaryDataCleaned.csv')\n",
    "df.head()"
   ]
  },
  {
   "cell_type": "code",
   "execution_count": 4,
   "id": "f5fe0d13",
   "metadata": {},
   "outputs": [
    {
     "data": {
      "text/plain": [
       "age               0\n",
       "workclass         0\n",
       "fnlwgt            0\n",
       "education         0\n",
       "education_num     0\n",
       "marital_status    0\n",
       "occupation        0\n",
       "relationship      0\n",
       "race              0\n",
       "sex               0\n",
       "capital_gain      0\n",
       "capital_loss      0\n",
       "hours_per_week    0\n",
       "native_country    0\n",
       "SalaryGT50K       0\n",
       "dtype: int64"
      ]
     },
     "execution_count": 4,
     "metadata": {},
     "output_type": "execute_result"
    }
   ],
   "source": [
    "# checking the  null values in the columns\n",
    "df.isnull().sum()"
   ]
  },
  {
   "cell_type": "markdown",
   "id": "1e304d47",
   "metadata": {},
   "source": [
    "# Explanatory Measures of Dispersion"
   ]
  },
  {
   "cell_type": "markdown",
   "id": "8e66702e",
   "metadata": {},
   "source": [
    "Range method"
   ]
  },
  {
   "cell_type": "code",
   "execution_count": 5,
   "id": "14a2d1de",
   "metadata": {},
   "outputs": [
    {
     "name": "stdout",
     "output_type": "stream",
     "text": [
      "Range deviation of age 73\n",
      "**********\n",
      "Range deviation of Final weight 1472420\n"
     ]
    }
   ],
   "source": [
    "# finding the difference between maximum and minimum of age and finalweight variable.\n",
    "range_deviation_age=df['age'].max() -df['age'].min()\n",
    "range_deviation_finalweight=df['fnlwgt'].max() -df['fnlwgt'].min()\n",
    "\n",
    "print(\"Range deviation of age\",range_deviation_age)\n",
    "print('*'*10)\n",
    "print(\"Range deviation of Final weight\",range_deviation_finalweight)"
   ]
  },
  {
   "cell_type": "markdown",
   "id": "441d1d31",
   "metadata": {},
   "source": [
    "Quartile Method"
   ]
  },
  {
   "cell_type": "code",
   "execution_count": 4,
   "id": "7470627a",
   "metadata": {},
   "outputs": [
    {
     "name": "stdout",
     "output_type": "stream",
     "text": [
      "20.0\n"
     ]
    }
   ],
   "source": [
    "# the IQR computation for the 'age' variable.\n",
    "\n",
    "q1 = df['age'].quantile(.25) # 25th percentile value\n",
    "q3 = df['age'].quantile(.75) # 75th percentile value\n",
    "iqr_age=q3-q1                # Differnce between two quarters\n",
    "print(iqr_age) "
   ]
  },
  {
   "cell_type": "code",
   "execution_count": 5,
   "id": "11df637e",
   "metadata": {},
   "outputs": [
    {
     "name": "stdout",
     "output_type": "stream",
     "text": [
      "119758.75\n"
     ]
    }
   ],
   "source": [
    "# the IQR computation for the 'fnlwgt' variable.\n",
    "q1 = df['fnlwgt'].quantile(.25) # 25th percentile value\n",
    "q3 = df['fnlwgt'].quantile(.75) # 75th percentile value\n",
    "iqr_fw=q3-q1                    # Differnce between two quarters\n",
    "print(iqr_fw)"
   ]
  },
  {
   "cell_type": "code",
   "execution_count": 6,
   "id": "3a1f3f7f",
   "metadata": {},
   "outputs": [
    {
     "name": "stdout",
     "output_type": "stream",
     "text": [
      "The IQR of age 20.0\n",
      "**********\n",
      "The IQR of final weight 119758.75\n"
     ]
    }
   ],
   "source": [
    "print(\"The IQR of age\",iqr_age)\n",
    "print('*'*10)\n",
    "print(\"The IQR of final weight\",iqr_fw)\n",
    "      "
   ]
  },
  {
   "cell_type": "code",
   "execution_count": 10,
   "id": "575e9a55",
   "metadata": {},
   "outputs": [
    {
     "name": "stdout",
     "output_type": "stream",
     "text": [
      "The variance value of the age  186.31914762900323\n",
      "The variance value of the final weight  11177887301.904118\n"
     ]
    }
   ],
   "source": [
    "# in pandas Module, variance  of 'age' & 'fnlwght' variables \n",
    "print(\"The variance value of the age \",df['age'].var())\n",
    "print(\"The variance value of the final weight \",df['fnlwgt'].var())"
   ]
  },
  {
   "cell_type": "code",
   "execution_count": 12,
   "id": "69d71da3",
   "metadata": {},
   "outputs": [
    {
     "name": "stdout",
     "output_type": "stream",
     "text": [
      "The variance value of the age  186.31914762900323\n",
      "The variance value of the final weight  11177887301.904118\n"
     ]
    }
   ],
   "source": [
    "# in Numpy Module, variance  of 'age' & 'fnlwght' variables \n",
    "print(\"The variance value of the age \",np.var(df['age'],ddof=1))\n",
    "print(\"The variance value of the final weight \",np.var(df['fnlwgt'],ddof=1))"
   ]
  },
  {
   "cell_type": "code",
   "execution_count": 13,
   "id": "18b9ebcc",
   "metadata": {},
   "outputs": [
    {
     "name": "stdout",
     "output_type": "stream",
     "text": [
      "The Std Deviation value of the age  13.649877201975233\n",
      "The Std Deviation value of the final weight  105725.52814672583\n"
     ]
    }
   ],
   "source": [
    "# in pandas Module,standard deviation of age & fnlwgt variable\n",
    "print(\"The Std Deviation value of the age \",df['age'].std())\n",
    "print(\"The Std Deviation value of the final weight \",df['fnlwgt'].std())"
   ]
  },
  {
   "cell_type": "code",
   "execution_count": 14,
   "id": "1a851922",
   "metadata": {},
   "outputs": [
    {
     "name": "stdout",
     "output_type": "stream",
     "text": [
      "The Std Deviation value of the age  13.649877201975233\n",
      "The Std Deviation value of the final weight  105725.52814672583\n"
     ]
    }
   ],
   "source": [
    "# in Numpy Module,standard deviation of age & fnlwgt variable\n",
    "print(\"The Std Deviation value of the age \",np.std(df['age'],ddof=1))\n",
    "print(\"The Std Deviation value of the final weight \",np.std(df['fnlwgt'],ddof=1))"
   ]
  },
  {
   "cell_type": "markdown",
   "id": "ed319a1e",
   "metadata": {},
   "source": [
    "# Data Impuation "
   ]
  },
  {
   "cell_type": "code",
   "execution_count": 7,
   "id": "8c27b02f",
   "metadata": {},
   "outputs": [
    {
     "data": {
      "text/html": [
       "<div>\n",
       "<style scoped>\n",
       "    .dataframe tbody tr th:only-of-type {\n",
       "        vertical-align: middle;\n",
       "    }\n",
       "\n",
       "    .dataframe tbody tr th {\n",
       "        vertical-align: top;\n",
       "    }\n",
       "\n",
       "    .dataframe thead th {\n",
       "        text-align: right;\n",
       "    }\n",
       "</style>\n",
       "<table border=\"1\" class=\"dataframe\">\n",
       "  <thead>\n",
       "    <tr style=\"text-align: right;\">\n",
       "      <th></th>\n",
       "      <th>Price</th>\n",
       "      <th>Age</th>\n",
       "      <th>KM</th>\n",
       "      <th>FuelType</th>\n",
       "      <th>HP</th>\n",
       "      <th>MetColor</th>\n",
       "      <th>Automatic</th>\n",
       "      <th>CC</th>\n",
       "      <th>Doors</th>\n",
       "      <th>Weight</th>\n",
       "    </tr>\n",
       "  </thead>\n",
       "  <tbody>\n",
       "    <tr>\n",
       "      <th>0</th>\n",
       "      <td>13500</td>\n",
       "      <td>23.0</td>\n",
       "      <td>46986</td>\n",
       "      <td>Diesel</td>\n",
       "      <td>90</td>\n",
       "      <td>1</td>\n",
       "      <td>0</td>\n",
       "      <td>2000.0</td>\n",
       "      <td>3</td>\n",
       "      <td>1165.0</td>\n",
       "    </tr>\n",
       "    <tr>\n",
       "      <th>1</th>\n",
       "      <td>13750</td>\n",
       "      <td>23.0</td>\n",
       "      <td>72937</td>\n",
       "      <td>Diesel</td>\n",
       "      <td>90</td>\n",
       "      <td>1</td>\n",
       "      <td>0</td>\n",
       "      <td>2000.0</td>\n",
       "      <td>3</td>\n",
       "      <td>1165.0</td>\n",
       "    </tr>\n",
       "    <tr>\n",
       "      <th>2</th>\n",
       "      <td>13950</td>\n",
       "      <td>24.0</td>\n",
       "      <td>41711</td>\n",
       "      <td>Diesel</td>\n",
       "      <td>90</td>\n",
       "      <td>1</td>\n",
       "      <td>0</td>\n",
       "      <td>2000.0</td>\n",
       "      <td>3</td>\n",
       "      <td>1165.0</td>\n",
       "    </tr>\n",
       "    <tr>\n",
       "      <th>3</th>\n",
       "      <td>14950</td>\n",
       "      <td>26.0</td>\n",
       "      <td>48000</td>\n",
       "      <td>Diesel</td>\n",
       "      <td>90</td>\n",
       "      <td>0</td>\n",
       "      <td>0</td>\n",
       "      <td>2000.0</td>\n",
       "      <td>3</td>\n",
       "      <td>1165.0</td>\n",
       "    </tr>\n",
       "    <tr>\n",
       "      <th>4</th>\n",
       "      <td>13750</td>\n",
       "      <td>30.0</td>\n",
       "      <td>38500</td>\n",
       "      <td>Diesel</td>\n",
       "      <td>90</td>\n",
       "      <td>0</td>\n",
       "      <td>0</td>\n",
       "      <td>2000.0</td>\n",
       "      <td>3</td>\n",
       "      <td>1170.0</td>\n",
       "    </tr>\n",
       "  </tbody>\n",
       "</table>\n",
       "</div>"
      ],
      "text/plain": [
       "   Price   Age     KM FuelType  HP  MetColor  Automatic      CC  Doors  Weight\n",
       "0  13500  23.0  46986   Diesel  90         1          0  2000.0      3  1165.0\n",
       "1  13750  23.0  72937   Diesel  90         1          0  2000.0      3  1165.0\n",
       "2  13950  24.0  41711   Diesel  90         1          0  2000.0      3  1165.0\n",
       "3  14950  26.0  48000   Diesel  90         0          0  2000.0      3  1165.0\n",
       "4  13750  30.0  38500   Diesel  90         0          0  2000.0      3  1170.0"
      ]
     },
     "execution_count": 7,
     "metadata": {},
     "output_type": "execute_result"
    }
   ],
   "source": [
    "# Reading the dataset\n",
    "df=pd.read_csv('C:/Users/Biswajit Roy/Desktop/Descriptive Stats with python/CarPricesData.csv')\n",
    "df.head()"
   ]
  },
  {
   "cell_type": "code",
   "execution_count": 8,
   "id": "e15ead66",
   "metadata": {},
   "outputs": [
    {
     "data": {
      "text/plain": [
       "Price        0\n",
       "Age          2\n",
       "KM           0\n",
       "FuelType     4\n",
       "HP           0\n",
       "MetColor     0\n",
       "Automatic    0\n",
       "CC           2\n",
       "Doors        0\n",
       "Weight       2\n",
       "dtype: int64"
      ]
     },
     "execution_count": 8,
     "metadata": {},
     "output_type": "execute_result"
    }
   ],
   "source": [
    "# checking the  null values in the columns\n",
    "df.isnull().sum()"
   ]
  },
  {
   "cell_type": "code",
   "execution_count": 12,
   "id": "f54bbd60",
   "metadata": {},
   "outputs": [
    {
     "data": {
      "text/plain": [
       "Price         236\n",
       "Age            77\n",
       "KM           1263\n",
       "FuelType        3\n",
       "HP             12\n",
       "MetColor        2\n",
       "Automatic       2\n",
       "CC             12\n",
       "Doors           4\n",
       "Weight         59\n",
       "dtype: int64"
      ]
     },
     "execution_count": 12,
     "metadata": {},
     "output_type": "execute_result"
    }
   ],
   "source": [
    "# checking the unique values of the variables in the dataset\n",
    "df.nunique()"
   ]
  },
  {
   "cell_type": "code",
   "execution_count": 9,
   "id": "dc817e42",
   "metadata": {},
   "outputs": [
    {
     "name": "stdout",
     "output_type": "stream",
     "text": [
      "<class 'pandas.core.frame.DataFrame'>\n",
      "RangeIndex: 1436 entries, 0 to 1435\n",
      "Data columns (total 10 columns):\n",
      " #   Column     Non-Null Count  Dtype  \n",
      "---  ------     --------------  -----  \n",
      " 0   Price      1436 non-null   int64  \n",
      " 1   Age        1434 non-null   float64\n",
      " 2   KM         1436 non-null   int64  \n",
      " 3   FuelType   1432 non-null   object \n",
      " 4   HP         1436 non-null   int64  \n",
      " 5   MetColor   1436 non-null   int64  \n",
      " 6   Automatic  1436 non-null   int64  \n",
      " 7   CC         1434 non-null   float64\n",
      " 8   Doors      1436 non-null   int64  \n",
      " 9   Weight     1434 non-null   float64\n",
      "dtypes: float64(3), int64(6), object(1)\n",
      "memory usage: 112.3+ KB\n"
     ]
    }
   ],
   "source": [
    "# checking the no of  records and dtype of the variables.\n",
    "df.info()"
   ]
  },
  {
   "cell_type": "code",
   "execution_count": 14,
   "id": "feaaa291",
   "metadata": {},
   "outputs": [],
   "source": [
    "# Age is an quantiative , discrete in nature we can impute the missing values by mean/median\n",
    "mean_age=df['Age'].mean()\n",
    "df['Age']=df['Age'].fillna(mean_age)\n",
    "\n",
    "# Fuel_type is an qualitative , nominal in nature will impute with high frequency value\n",
    "mode_FuelType=df['FuelType'].mode()[0]\n",
    "df['FuelType']=df['FuelType'].fillna(mode_FuelType)\n",
    "\n",
    "# CC is an quantiative , discrete in nature we can impute the missing values by mean/median\n",
    "\n",
    "mean_CC=df['CC'].mean()\n",
    "df['CC']=df['CC'].fillna(mean_CC)\n",
    "\n",
    "\n",
    "# weight is an quantiative , continuous in  nature we will impute by median .why not mean as\n",
    "#it is influenced by outliers\n",
    "\n",
    "median_weight=df['Weight'].median()\n",
    "df['Weight']=df['Weight'].fillna(median_weight)\n"
   ]
  },
  {
   "cell_type": "code",
   "execution_count": 17,
   "id": "0975558c",
   "metadata": {},
   "outputs": [
    {
     "data": {
      "text/html": [
       "<div>\n",
       "<style scoped>\n",
       "    .dataframe tbody tr th:only-of-type {\n",
       "        vertical-align: middle;\n",
       "    }\n",
       "\n",
       "    .dataframe tbody tr th {\n",
       "        vertical-align: top;\n",
       "    }\n",
       "\n",
       "    .dataframe thead th {\n",
       "        text-align: right;\n",
       "    }\n",
       "</style>\n",
       "<table border=\"1\" class=\"dataframe\">\n",
       "  <thead>\n",
       "    <tr style=\"text-align: right;\">\n",
       "      <th></th>\n",
       "      <th>count</th>\n",
       "      <th>mean</th>\n",
       "      <th>std</th>\n",
       "      <th>min</th>\n",
       "      <th>25%</th>\n",
       "      <th>50%</th>\n",
       "      <th>75%</th>\n",
       "      <th>max</th>\n",
       "    </tr>\n",
       "  </thead>\n",
       "  <tbody>\n",
       "    <tr>\n",
       "      <th>Price</th>\n",
       "      <td>1436.0</td>\n",
       "      <td>10730.824513</td>\n",
       "      <td>3626.964585</td>\n",
       "      <td>4350.0</td>\n",
       "      <td>8450.0</td>\n",
       "      <td>9900.0</td>\n",
       "      <td>11950.00</td>\n",
       "      <td>32500.0</td>\n",
       "    </tr>\n",
       "    <tr>\n",
       "      <th>KM</th>\n",
       "      <td>1436.0</td>\n",
       "      <td>68533.259749</td>\n",
       "      <td>37506.448872</td>\n",
       "      <td>1.0</td>\n",
       "      <td>43000.0</td>\n",
       "      <td>63389.5</td>\n",
       "      <td>87020.75</td>\n",
       "      <td>243000.0</td>\n",
       "    </tr>\n",
       "    <tr>\n",
       "      <th>HP</th>\n",
       "      <td>1436.0</td>\n",
       "      <td>101.502089</td>\n",
       "      <td>14.981080</td>\n",
       "      <td>69.0</td>\n",
       "      <td>90.0</td>\n",
       "      <td>110.0</td>\n",
       "      <td>110.00</td>\n",
       "      <td>192.0</td>\n",
       "    </tr>\n",
       "    <tr>\n",
       "      <th>MetColor</th>\n",
       "      <td>1436.0</td>\n",
       "      <td>0.674791</td>\n",
       "      <td>0.468616</td>\n",
       "      <td>0.0</td>\n",
       "      <td>0.0</td>\n",
       "      <td>1.0</td>\n",
       "      <td>1.00</td>\n",
       "      <td>1.0</td>\n",
       "    </tr>\n",
       "    <tr>\n",
       "      <th>Automatic</th>\n",
       "      <td>1436.0</td>\n",
       "      <td>0.055710</td>\n",
       "      <td>0.229441</td>\n",
       "      <td>0.0</td>\n",
       "      <td>0.0</td>\n",
       "      <td>0.0</td>\n",
       "      <td>0.00</td>\n",
       "      <td>1.0</td>\n",
       "    </tr>\n",
       "    <tr>\n",
       "      <th>Doors</th>\n",
       "      <td>1436.0</td>\n",
       "      <td>4.033426</td>\n",
       "      <td>0.952677</td>\n",
       "      <td>2.0</td>\n",
       "      <td>3.0</td>\n",
       "      <td>4.0</td>\n",
       "      <td>5.00</td>\n",
       "      <td>5.0</td>\n",
       "    </tr>\n",
       "  </tbody>\n",
       "</table>\n",
       "</div>"
      ],
      "text/plain": [
       "            count          mean           std     min      25%      50%  \\\n",
       "Price      1436.0  10730.824513   3626.964585  4350.0   8450.0   9900.0   \n",
       "KM         1436.0  68533.259749  37506.448872     1.0  43000.0  63389.5   \n",
       "HP         1436.0    101.502089     14.981080    69.0     90.0    110.0   \n",
       "MetColor   1436.0      0.674791      0.468616     0.0      0.0      1.0   \n",
       "Automatic  1436.0      0.055710      0.229441     0.0      0.0      0.0   \n",
       "Doors      1436.0      4.033426      0.952677     2.0      3.0      4.0   \n",
       "\n",
       "                75%       max  \n",
       "Price      11950.00   32500.0  \n",
       "KM         87020.75  243000.0  \n",
       "HP           110.00     192.0  \n",
       "MetColor       1.00       1.0  \n",
       "Automatic      0.00       1.0  \n",
       "Doors          5.00       5.0  "
      ]
     },
     "execution_count": 17,
     "metadata": {},
     "output_type": "execute_result"
    }
   ],
   "source": [
    "df.describe(include=np.int64).T"
   ]
  },
  {
   "cell_type": "code",
   "execution_count": 25,
   "id": "cd92c95b",
   "metadata": {},
   "outputs": [
    {
     "data": {
      "text/plain": [
       "2"
      ]
     },
     "execution_count": 25,
     "metadata": {},
     "output_type": "execute_result"
    }
   ],
   "source": [
    "df['MetColor'].nunique()"
   ]
  },
  {
   "cell_type": "code",
   "execution_count": 26,
   "id": "7be65579",
   "metadata": {},
   "outputs": [
    {
     "data": {
      "text/plain": [
       "2"
      ]
     },
     "execution_count": 26,
     "metadata": {},
     "output_type": "execute_result"
    }
   ],
   "source": [
    "df['Automatic'].nunique()"
   ]
  },
  {
   "cell_type": "markdown",
   "id": "1dfa23ef",
   "metadata": {},
   "source": [
    "# Statistics is beautiful when visulisation comes in"
   ]
  },
  {
   "cell_type": "code",
   "execution_count": 21,
   "id": "50c1e643",
   "metadata": {},
   "outputs": [
    {
     "data": {
      "text/plain": [
       "<AxesSubplot:ylabel='Frequency'>"
      ]
     },
     "execution_count": 21,
     "metadata": {},
     "output_type": "execute_result"
    },
    {
     "data": {
      "image/png": "[encoded data removed]",
      "text/plain": [
       "<Figure size 432x288 with 1 Axes>"
      ]
     },
     "metadata": {
      "needs_background": "light"
     },
     "output_type": "display_data"
    }
   ],
   "source": [
    "# checking the dispersion in the 'KM' data of a car datset with the help of hitsogram chart .flatter means dispersed.\n",
    "\n",
    "df['KM'].plot(kind='hist')"
   ]
  },
  {
   "cell_type": "code",
   "execution_count": 22,
   "id": "0b6d979f",
   "metadata": {},
   "outputs": [
    {
     "data": {
      "text/plain": [
       "<AxesSubplot:ylabel='Frequency'>"
      ]
     },
     "execution_count": 22,
     "metadata": {},
     "output_type": "execute_result"
    },
    {
     "data": {
      "image/png": "[encoded data removed]",
      "text/plain": [
       "<Figure size 432x288 with 1 Axes>"
      ]
     },
     "metadata": {
      "needs_background": "light"
     },
     "output_type": "display_data"
    }
   ],
   "source": [
    "# checking the dispersion in the 'HP' data of a car datset with the help of hitsogram chart .this data is not dispersed rather distorted\n",
    "df['HP'].plot(kind='hist')"
   ]
  },
  {
   "cell_type": "code",
   "execution_count": 23,
   "id": "82e3f3ea",
   "metadata": {},
   "outputs": [
    {
     "data": {
      "text/plain": [
       "<AxesSubplot:ylabel='Frequency'>"
      ]
     },
     "execution_count": 23,
     "metadata": {},
     "output_type": "execute_result"
    },
    {
     "data": {
      "image/png": "[encoded data removed]",
      "text/plain": [
       "<Figure size 432x288 with 1 Axes>"
      ]
     },
     "metadata": {
      "needs_background": "light"
     },
     "output_type": "display_data"
    }
   ],
   "source": [
    "# This says 'Metcolor' variable is categorical in nature as the data distribution are distinct .\n",
    "df['MetColor'].plot(kind='hist')"
   ]
  },
  {
   "cell_type": "code",
   "execution_count": 27,
   "id": "621928eb",
   "metadata": {},
   "outputs": [
    {
     "data": {
      "text/plain": [
       "<AxesSubplot:ylabel='Frequency'>"
      ]
     },
     "execution_count": 27,
     "metadata": {},
     "output_type": "execute_result"
    },
    {
     "data": {
      "image/png": "[encoded data removed]",
      "text/plain": [
       "<Figure size 432x288 with 1 Axes>"
      ]
     },
     "metadata": {
      "needs_background": "light"
     },
     "output_type": "display_data"
    }
   ],
   "source": [
    "# This also says the same 'Doors' variable is categorical in nature .\n",
    "df['Doors'].plot(kind='hist')"
   ]
  },
  {
   "cell_type": "code",
   "execution_count": null,
   "id": "7f48d181",
   "metadata": {},
   "outputs": [],
   "source": []
  },
  {
   "cell_type": "code",
   "execution_count": null,
   "id": "2412d5e5",
   "metadata": {},
   "outputs": [],
   "source": []
  },
  {
   "cell_type": "code",
   "execution_count": null,
   "id": "a139cea7",
   "metadata": {},
   "outputs": [],
   "source": []
  },
  {
   "cell_type": "code",
   "execution_count": null,
   "id": "45824be2",
   "metadata": {},
   "outputs": [],
   "source": []
  },
  {
   "cell_type": "code",
   "execution_count": null,
   "id": "b7f1f8da",
   "metadata": {},
   "outputs": [],
   "source": []
  },
  {
   "cell_type": "code",
   "execution_count": null,
   "id": "ecb41c39",
   "metadata": {},
   "outputs": [],
   "source": []
  }
 ],
 "metadata": {
  "kernelspec": {
   "display_name": "Python 3 (ipykernel)",
   "language": "python",
   "name": "python3"
  },
  "language_info": {
   "codemirror_mode": {
    "name": "ipython",
    "version": 3
   },
   "file_extension": ".py",
   "mimetype": "text/x-python",
   "name": "python",
   "nbconvert_exporter": "python",
   "pygments_lexer": "ipython3",
   "version": "3.9.12"
  }
 },
 "nbformat": 4,
 "nbformat_minor": 5
}
